{
 "cells": [
  {
   "cell_type": "code",
   "execution_count": 1,
   "metadata": {
    "colab": {
     "base_uri": "https://localhost:8080/"
    },
    "id": "Uf4-JGde2Xhb",
    "outputId": "3b213ee4-be3f-4b52-efe0-810caed335d3"
   },
   "outputs": [],
   "source": [
    "import os\n",
    "filename = 'AllPublicnew.sdf'\n",
    "filepath = f'/content/{filename}'\n",
    "\n",
    "download_url = f'https://zenodo.org/records/3540701/files/{filename}'\n",
    "\n",
    "if not os.path.exists(filepath):\n",
    "    !wget {download_url} -O {filepath}\n",
    "else:\n",
    "    print(\"File already exists:\", filepath)\n"
   ]
  },
  {
   "cell_type": "code",
   "execution_count": 35,
   "metadata": {
    "id": "xoFuWVTb88cZ"
   },
   "outputs": [],
   "source": [
    "# from google.colab import drive\n",
    "# drive.mount('/content/drive')"
   ]
  },
  {
   "cell_type": "code",
   "execution_count": 37,
   "metadata": {
    "colab": {
     "base_uri": "https://localhost:8080/"
    },
    "id": "3z_Y204jKLZ9",
    "outputId": "45269c1a-1c38-44d0-c122-48f6ecd0d21e"
   },
   "outputs": [],
   "source": [
    "!pip install jaqpotpy\n",
    "!pip install rdkit\n",
    "\n",
    "\n",
    "!pip install scikit-learn\n",
    "!pip install PyTDC\n"
   ]
  },
  {
   "cell_type": "code",
   "execution_count": 212,
   "metadata": {
    "id": "4jDg1B08WL0u"
   },
   "outputs": [],
   "source": [
    "from rdkit import Chem\n",
    "from rdkit.Chem import AllChem\n",
    "from pathlib import Path\n",
    "\n",
    "import pandas as pd\n",
    "import random\n",
    "import numpy as np\n",
    "\n",
    "seed = 42\n",
    "np.random.seed(seed)\n",
    "random.seed(seed)\n",
    "\n",
    "\n",
    "\n",
    "\n",
    "working_dir = Path.cwd()\n",
    "filename = 'AllPublicnew.sdf'\n",
    "\n",
    "dataset_filepath = working_dir/filename\n",
    "\n",
    "\n",
    "\n",
    "\n",
    "X, y = [], []\n",
    "sdf_supplier = Chem.SDMolSupplier(str(dataset_filepath))\n",
    "\n",
    "for mol in sdf_supplier:\n",
    "    if mol is not None:\n",
    "        smiles = mol.GetProp('SMILES')\n",
    "        # smiles = Chem.MolToSmiles(mol)\n",
    "        ready_biodegradability = int(mol.GetProp('ReadyBiodegradability'))\n",
    "\n",
    "        X.append(smiles)\n",
    "        y.append(ready_biodegradability)\n",
    "\n",
    "\n",
    "\n",
    "\n",
    "zipped = list(zip(X, y))\n",
    "random.shuffle(zipped)\n",
    "list1, list2 = zip(*zipped)\n",
    "\n",
    "\n",
    "X = pd.DataFrame(X, columns=['SMILES'])\n",
    "y = pd.DataFrame(y, columns=['Y'])\n",
    "\n",
    "\n",
    "# Shuffle data\n",
    "Xy = pd.concat([X, y], axis=1).sample(frac=1, random_state=seed).reset_index(drop=True)\n",
    "X = Xy[['SMILES']]\n",
    "y = Xy[['Y']]\n",
    "\n"
   ]
  },
  {
   "cell_type": "code",
   "execution_count": 213,
   "metadata": {
    "id": "wVAWqeiHCf1I"
   },
   "outputs": [],
   "source": [
    "from sklearn.model_selection import train_test_split\n",
    "import pandas as pd\n",
    "import numpy as np\n",
    "\n",
    "\n",
    "def class_balanced_random_split(X, y, seed=None, test_ratio_per_class=0.15):\n",
    "    \"\"\"\n",
    "    Class-balanced dataset split into train and test partitions.\n",
    "\n",
    "    Args:\n",
    "        X (array-like): array-like of data input data points\n",
    "        y (array-like): array-like of labels\n",
    "        seed (int, optional): Random seed (Default: None)\n",
    "        test_ratio_per_class (float, optional): Percentage of test samples per class (Default: 0.15)\n",
    "\n",
    "    Returns:\n",
    "        (tuple):\n",
    "            * X_train (array-like): array-list of train data points\n",
    "            * X_test (array-like): array-list of test data points\n",
    "            * y_train (array-like): array-like list of train labels\n",
    "            * y_test (array-like): array-like of test labels\n",
    "    \"\"\"\n",
    "\n",
    "\n",
    "    if isinstance(y, list):\n",
    "        idx2label = y\n",
    "    elif isinstance(y, pd.DataFrame):\n",
    "        idx2label = y.iloc[:, 0].tolist()\n",
    "    elif isinstance(y, np.ndarray):\n",
    "        idx2label = y\n",
    "    else:\n",
    "        raise TypeError(f\"Unsupported type for y: {type(y)}\")\n",
    "\n",
    "\n",
    "    class_indices = {}\n",
    "    for idx, label in enumerate(idx2label):\n",
    "        if label not in class_indices:\n",
    "            class_indices[label] = []\n",
    "        class_indices[label].append(idx)\n",
    "\n",
    "\n",
    "    train_indices = []\n",
    "    test_indices = []\n",
    "    for label, indices in class_indices.items():\n",
    "        if len(indices) > 1:\n",
    "            train_idx, test_idx = train_test_split(indices, test_size=test_ratio_per_class, random_state=seed)\n",
    "        else:\n",
    "            train_idx, test_idx = indices.copy(), []\n",
    "        train_indices.extend(train_idx)\n",
    "        test_indices.extend(test_idx)\n",
    "\n",
    "\n",
    "    if isinstance(X, list):\n",
    "        X_train = [X[i] for i in train_indices]\n",
    "        X_test = [X[i] for i in test_indices]\n",
    "    elif isinstance(X, pd.DataFrame):\n",
    "        X_train = X.iloc[train_indices]\n",
    "        X_test = X.iloc[test_indices]\n",
    "        X_train.reset_index(inplace=True, drop=True)\n",
    "        X_test.reset_index(inplace=True, drop=True)\n",
    "    elif isinstance(X, np.ndarray):\n",
    "        X_train = X[train_indices]\n",
    "        X_test = X[test_indices]\n",
    "    else:\n",
    "        raise TypeError(f\"Unsupported type for X: {type(X)}\")\n",
    "\n",
    "\n",
    "    if isinstance(y, list):\n",
    "        y_train = [y[i] for i in train_indices]\n",
    "        y_test = [y[i] for i in test_indices]\n",
    "    elif isinstance(y, pd.DataFrame):\n",
    "        y_train = y.iloc[train_indices]\n",
    "        y_test = y.iloc[test_indices]\n",
    "        y_train.reset_index(inplace=True, drop=True)\n",
    "        y_test.reset_index(inplace=True, drop=True)\n",
    "    elif isinstance(y, np.ndarray):\n",
    "        y_train = y[train_indices]\n",
    "        y_test = y[test_indices]\n",
    "    else:\n",
    "        raise TypeError(f\"Unsupported type for y: {type(y)}\")\n",
    "\n",
    "\n",
    "    return X_train, X_test, y_train, y_test\n"
   ]
  },
  {
   "cell_type": "code",
   "execution_count": 214,
   "metadata": {
    "colab": {
     "base_uri": "https://localhost:8080/"
    },
    "id": "eQhx5ZCfcpup",
    "outputId": "23271208-5ad4-4c22-e547-315be037ebe9",
    "scrolled": false
   },
   "outputs": [
    {
     "name": "stdout",
     "output_type": "stream",
     "text": [
      "Whole Dataset (35.5% positive):\n",
      "- Positive Samples: 1,133\n",
      "- Negative Samples: 2,059\n",
      "\n",
      "\n",
      "Train Split (35.5% positive):\n",
      "- Positive Train Samples: 818\n",
      "- Negative Train Samples: 1,487\n",
      "\n",
      "\n",
      "Train Split after Oversampling (50.0% positive):\n",
      "- Positive Train Samples: 1,487\n",
      "- Negative Train Samples: 1,487\n",
      "\n",
      "\n",
      "Validation Split (35.5% positive):\n",
      "- Positive Validation Samples: 145\n",
      "- Negative Validation Samples: 263\n",
      "\n",
      "\n",
      "Test Split (35.5% positive):\n",
      "- Positive Test Samples: 170\n",
      "- Negative Test Samples: 309\n",
      "\n",
      "\n"
     ]
    }
   ],
   "source": [
    "import numpy as np\n",
    "from imblearn.over_sampling import RandomOverSampler\n",
    "\n",
    "n_all = len(y)\n",
    "print(f\"Whole Dataset ({100*(np.array(y)==1).sum()/n_all:.1f}% positive):\")\n",
    "print(f\"- Positive Samples: {(np.array(y)==1).sum():,}\")\n",
    "print(f\"- Negative Samples: {(np.array(y)==0).sum():,}\")\n",
    "print('\\n')\n",
    "\n",
    "\n",
    "# Create test split\n",
    "X_train_val, X_test, y_train_val, y_test = class_balanced_random_split(X, y, seed=seed)\n",
    "\n",
    "# Create train and validation splits\n",
    "X_train, X_val, y_train, y_val = class_balanced_random_split(X_train_val, y_train_val, seed=seed)\n",
    "\n",
    "\n",
    "n_train = len(y_train)\n",
    "print(f\"Train Split ({100*(np.array(y_train)==1).sum()/n_train:.1f}% positive):\")\n",
    "print(f\"- Positive Train Samples: {(np.array(y_train)==1).sum():,}\")\n",
    "print(f\"- Negative Train Samples: {(np.array(y_train)==0).sum():,}\")\n",
    "print('\\n')\n",
    "\n",
    "\n",
    "\n",
    "X_train_oversampled, y_train_oversampled = RandomOverSampler(random_state=seed).fit_resample(X_train, y_train)\n",
    "\n",
    "n_train_oversampled = len(y_train_oversampled)\n",
    "print(f\"Train Split after Oversampling ({100*(np.array(y_train_oversampled)==1).sum()/n_train_oversampled:.1f}% positive):\")\n",
    "print(f\"- Positive Train Samples: {(np.array(y_train_oversampled)==1).sum():,}\")\n",
    "print(f\"- Negative Train Samples: {(np.array(y_train_oversampled)==0).sum():,}\")\n",
    "print('\\n')\n",
    "\n",
    "\n",
    "n_val = len(y_val)\n",
    "print(f\"Validation Split ({100*(np.array(y_val)==1).sum()/n_val:.1f}% positive):\")\n",
    "print(f\"- Positive Validation Samples: {(np.array(y_val)==1).sum():,}\")\n",
    "print(f\"- Negative Validation Samples: {(np.array(y_val)==0).sum():,}\")\n",
    "print('\\n')\n",
    "\n",
    "n_test = len(y_test)\n",
    "print(f\"Test Split ({100*(np.array(y_test)==1).sum()/n_test:.1f}% positive):\")\n",
    "print(f\"- Positive Test Samples: {(np.array(y_test)==1).sum():,}\")\n",
    "print(f\"- Negative Test Samples: {(np.array(y_test)==0).sum():,}\")\n",
    "print('\\n')\n",
    "\n"
   ]
  },
  {
   "cell_type": "code",
   "execution_count": 215,
   "metadata": {
    "scrolled": false
   },
   "outputs": [],
   "source": [
    "from sklearn.pipeline import Pipeline\n",
    "from sklearn.model_selection import GridSearchCV\n",
    "\n",
    "\n",
    "\n",
    "def sklearn_grid_search_cv_and_test(X,\n",
    "                                    y,\n",
    "                                    pipeline_functions_steps,\n",
    "                                    param_grid,\n",
    "                                    n_folds=5,\n",
    "                                    verbose=0,\n",
    "                                    scoring='f1',\n",
    "                                    seed=None):\n",
    "    \n",
    "    \n",
    "    X_train_val, X_test, y_train_val, y_test = class_balanced_random_split(X, y, seed=seed)\n",
    "    \n",
    "\n",
    "\n",
    "\n",
    "    pipeline_steps = [(module, module_function()) for module, module_function in pipeline_functions_steps]\n",
    "    pipeline = Pipeline(pipeline_steps)\n",
    "\n",
    "    \n",
    "\n",
    "    grid_search = GridSearchCV(pipeline, param_grid, cv=n_folds, scoring=scoring, verbose=verbose)\n",
    "    grid_search.fit(X_train_val, y_train_val)\n",
    "\n",
    "    # Hyperparameter Tuning\n",
    "    best_estimator = grid_search.best_estimator_\n",
    "    best_params = grid_search.best_params_\n",
    "    best_score = grid_search.best_score_\n",
    "    \n",
    "    if verbose >= 0.5:\n",
    "        print(\"Best Parameters:\", best_params)\n",
    "        print(f\"Best Validation Score ({scoring}): {best_score:.4f}\")\n",
    "\n",
    "\n",
    "    best_estimator = grid_search.best_estimator_\n",
    "\n",
    "\n",
    "    scorer = metrics.get_scorer(scoring)\n",
    "    scr = scorer(best_estimator, X_test, y_test)\n",
    "    \n",
    "    if verbose >= 0.5:\n",
    "        print(f\"{scoring}-score on test set: {scr:.4f}\")\n",
    "    \n",
    "    \n",
    "    \n",
    "#     best_params_dict = {}\n",
    "\n",
    "#     for param_name, param_value in best_params.items():\n",
    "#         module, internal_param_name = param_name.split('__')\n",
    "\n",
    "#         if module not in best_params_dict:\n",
    "#             best_params_dict[module] = {}\n",
    "\n",
    "#         best_params_dict[module][internal_param_name] = param_value\n",
    "    \n",
    "    \n",
    "#     final_pipeline_steps = [(module, module_function(**best_params_dict.get(module, {})))\n",
    "#                             for module, module_function in pipeline_function_steps]\n",
    "        \n",
    "        \n",
    "    \n",
    "#     final_pipeline = Pipeline(final_pipeline_steps)\n",
    "#     final_pipeline.fit(X_train_val, y_train_val)\n",
    "    \n",
    "#     f1 = f1_scorer(pipeline, X_test, y_test)\n",
    "#     print(\"F1-score on test set:\", f1)\n",
    "  \n",
    "    return_dict = {\n",
    "        'best_estimator': best_estimator,\n",
    "        'best_params': best_params,\n",
    "        'best_score': best_score\n",
    "    }\n",
    "    \n",
    "    return return_dict\n",
    "\n",
    "\n",
    "\n"
   ]
  },
  {
   "cell_type": "code",
   "execution_count": 216,
   "metadata": {},
   "outputs": [],
   "source": [
    "import copy\n",
    "from imblearn.over_sampling import RandomOverSampler\n",
    "import sklearn.metrics as metrics\n",
    "\n",
    "\n",
    "def score_after_oversampling(X, y, best_classifier, scoring='f1', oversampling=True, seed):\n",
    "    X_train, X_test, y_train, y_test = class_balanced_random_split(X, y, seed=seed)\n",
    "    \n",
    "    if oversampling:\n",
    "        # Oversampling to balance classes\n",
    "        print(\"Oversampling the Training set and then fit the optimal pipeline...\\n\")\n",
    "        X_train, y_train = RandomOverSampler().fit_resample(X_train, y_train)\n",
    "\n",
    "    \n",
    "    final_classifier = copy.deepcopy(best_classifier['best_estimator'])\n",
    "    final_classifier.fit(X_train, y_train)\n",
    "\n",
    "\n",
    "    scorer = metrics.get_scorer(scoring)\n",
    "    scr = scorer(final_classifier, X_test, y_test)\n",
    "\n",
    "    print(f\"{scoring}-score on test set after applying oversampling the training set: {scr:.4f}\")\n",
    "    \n",
    "    return final_classifier"
   ]
  },
  {
   "cell_type": "markdown",
   "metadata": {},
   "source": [
    "# Scikit-learn Pipeline Tuning with GridSearchCV "
   ]
  },
  {
   "cell_type": "markdown",
   "metadata": {},
   "source": [
    "## Circular (Morgan) Fingerprints - Topological Fingerprint"
   ]
  },
  {
   "cell_type": "code",
   "execution_count": 204,
   "metadata": {},
   "outputs": [
    {
     "name": "stderr",
     "output_type": "stream",
     "text": [
      "Creating descriptors: 100%|███████████████████████████████████████████████████████| 3192/3192 [00:04<00:00, 707.28it/s]\n"
     ]
    }
   ],
   "source": [
    "from jaqpotpy.datasets import SmilesDataset\n",
    "from jaqpotpy.descriptors.molecular import TopologicalFingerprint\n",
    "\n",
    "\n",
    "featurizer = TopologicalFingerprint()\n",
    "jaq_dataset = SmilesDataset(smiles=X['SMILES'],\n",
    "                            y=y['Y'].values,\n",
    "                            featurizer=featurizer,\n",
    "                            task='classification').create()\n",
    "\n",
    "\n",
    "X_topological, y_topological = jaq_dataset.df[jaq_dataset.X].to_numpy(), jaq_dataset.df[jaq_dataset.y].to_numpy().ravel()\n"
   ]
  },
  {
   "cell_type": "markdown",
   "metadata": {},
   "source": [
    "### Support Vector Machine (SVM)"
   ]
  },
  {
   "cell_type": "code",
   "execution_count": 39,
   "metadata": {
    "scrolled": true
   },
   "outputs": [
    {
     "name": "stdout",
     "output_type": "stream",
     "text": [
      "Fitting 5 folds for each of 80 candidates, totalling 400 fits\n",
      "Best Parameters: {'classifier__C': 10, 'classifier__kernel': 'rbf', 'classifier__random_state': 42, 'vt__threshold': 0.001}\n",
      "Best Validation Score (f1): 0.7568\n",
      "f1-score on test set: 0.7178\n"
     ]
    },
    {
     "data": {
      "text/html": [
       "<style>#sk-container-id-8 {color: black;background-color: white;}#sk-container-id-8 pre{padding: 0;}#sk-container-id-8 div.sk-toggleable {background-color: white;}#sk-container-id-8 label.sk-toggleable__label {cursor: pointer;display: block;width: 100%;margin-bottom: 0;padding: 0.3em;box-sizing: border-box;text-align: center;}#sk-container-id-8 label.sk-toggleable__label-arrow:before {content: \"▸\";float: left;margin-right: 0.25em;color: #696969;}#sk-container-id-8 label.sk-toggleable__label-arrow:hover:before {color: black;}#sk-container-id-8 div.sk-estimator:hover label.sk-toggleable__label-arrow:before {color: black;}#sk-container-id-8 div.sk-toggleable__content {max-height: 0;max-width: 0;overflow: hidden;text-align: left;background-color: #f0f8ff;}#sk-container-id-8 div.sk-toggleable__content pre {margin: 0.2em;color: black;border-radius: 0.25em;background-color: #f0f8ff;}#sk-container-id-8 input.sk-toggleable__control:checked~div.sk-toggleable__content {max-height: 200px;max-width: 100%;overflow: auto;}#sk-container-id-8 input.sk-toggleable__control:checked~label.sk-toggleable__label-arrow:before {content: \"▾\";}#sk-container-id-8 div.sk-estimator input.sk-toggleable__control:checked~label.sk-toggleable__label {background-color: #d4ebff;}#sk-container-id-8 div.sk-label input.sk-toggleable__control:checked~label.sk-toggleable__label {background-color: #d4ebff;}#sk-container-id-8 input.sk-hidden--visually {border: 0;clip: rect(1px 1px 1px 1px);clip: rect(1px, 1px, 1px, 1px);height: 1px;margin: -1px;overflow: hidden;padding: 0;position: absolute;width: 1px;}#sk-container-id-8 div.sk-estimator {font-family: monospace;background-color: #f0f8ff;border: 1px dotted black;border-radius: 0.25em;box-sizing: border-box;margin-bottom: 0.5em;}#sk-container-id-8 div.sk-estimator:hover {background-color: #d4ebff;}#sk-container-id-8 div.sk-parallel-item::after {content: \"\";width: 100%;border-bottom: 1px solid gray;flex-grow: 1;}#sk-container-id-8 div.sk-label:hover label.sk-toggleable__label {background-color: #d4ebff;}#sk-container-id-8 div.sk-serial::before {content: \"\";position: absolute;border-left: 1px solid gray;box-sizing: border-box;top: 0;bottom: 0;left: 50%;z-index: 0;}#sk-container-id-8 div.sk-serial {display: flex;flex-direction: column;align-items: center;background-color: white;padding-right: 0.2em;padding-left: 0.2em;position: relative;}#sk-container-id-8 div.sk-item {position: relative;z-index: 1;}#sk-container-id-8 div.sk-parallel {display: flex;align-items: stretch;justify-content: center;background-color: white;position: relative;}#sk-container-id-8 div.sk-item::before, #sk-container-id-8 div.sk-parallel-item::before {content: \"\";position: absolute;border-left: 1px solid gray;box-sizing: border-box;top: 0;bottom: 0;left: 50%;z-index: -1;}#sk-container-id-8 div.sk-parallel-item {display: flex;flex-direction: column;z-index: 1;position: relative;background-color: white;}#sk-container-id-8 div.sk-parallel-item:first-child::after {align-self: flex-end;width: 50%;}#sk-container-id-8 div.sk-parallel-item:last-child::after {align-self: flex-start;width: 50%;}#sk-container-id-8 div.sk-parallel-item:only-child::after {width: 0;}#sk-container-id-8 div.sk-dashed-wrapped {border: 1px dashed gray;margin: 0 0.4em 0.5em 0.4em;box-sizing: border-box;padding-bottom: 0.4em;background-color: white;}#sk-container-id-8 div.sk-label label {font-family: monospace;font-weight: bold;display: inline-block;line-height: 1.2em;}#sk-container-id-8 div.sk-label-container {text-align: center;}#sk-container-id-8 div.sk-container {/* jupyter's `normalize.less` sets `[hidden] { display: none; }` but bootstrap.min.css set `[hidden] { display: none !important; }` so we also need the `!important` here to be able to override the default hidden behavior on the sphinx rendered scikit-learn.org. See: https://github.com/scikit-learn/scikit-learn/issues/21755 */display: inline-block !important;position: relative;}#sk-container-id-8 div.sk-text-repr-fallback {display: none;}</style><div id=\"sk-container-id-8\" class=\"sk-top-container\"><div class=\"sk-text-repr-fallback\"><pre>Pipeline(steps=[(&#x27;vt&#x27;, VarianceThreshold(threshold=0.001)),\n",
       "                (&#x27;classifier&#x27;, SVC(C=10, random_state=42))])</pre><b>In a Jupyter environment, please rerun this cell to show the HTML representation or trust the notebook. <br />On GitHub, the HTML representation is unable to render, please try loading this page with nbviewer.org.</b></div><div class=\"sk-container\" hidden><div class=\"sk-item sk-dashed-wrapped\"><div class=\"sk-label-container\"><div class=\"sk-label sk-toggleable\"><input class=\"sk-toggleable__control sk-hidden--visually\" id=\"sk-estimator-id-18\" type=\"checkbox\" ><label for=\"sk-estimator-id-18\" class=\"sk-toggleable__label sk-toggleable__label-arrow\">Pipeline</label><div class=\"sk-toggleable__content\"><pre>Pipeline(steps=[(&#x27;vt&#x27;, VarianceThreshold(threshold=0.001)),\n",
       "                (&#x27;classifier&#x27;, SVC(C=10, random_state=42))])</pre></div></div></div><div class=\"sk-serial\"><div class=\"sk-item\"><div class=\"sk-estimator sk-toggleable\"><input class=\"sk-toggleable__control sk-hidden--visually\" id=\"sk-estimator-id-19\" type=\"checkbox\" ><label for=\"sk-estimator-id-19\" class=\"sk-toggleable__label sk-toggleable__label-arrow\">VarianceThreshold</label><div class=\"sk-toggleable__content\"><pre>VarianceThreshold(threshold=0.001)</pre></div></div></div><div class=\"sk-item\"><div class=\"sk-estimator sk-toggleable\"><input class=\"sk-toggleable__control sk-hidden--visually\" id=\"sk-estimator-id-20\" type=\"checkbox\" ><label for=\"sk-estimator-id-20\" class=\"sk-toggleable__label sk-toggleable__label-arrow\">SVC</label><div class=\"sk-toggleable__content\"><pre>SVC(C=10, random_state=42)</pre></div></div></div></div></div></div></div>"
      ],
      "text/plain": [
       "Pipeline(steps=[('vt', VarianceThreshold(threshold=0.001)),\n",
       "                ('classifier', SVC(C=10, random_state=42))])"
      ]
     },
     "execution_count": 39,
     "metadata": {},
     "output_type": "execute_result"
    }
   ],
   "source": [
    "from sklearn.preprocessing import StandardScaler\n",
    "from sklearn.decomposition import PCA\n",
    "from sklearn.ensemble import RandomForestClassifier\n",
    "from sklearn.svm import SVC\n",
    "import sklearn\n",
    "from sklearn import metrics\n",
    "import numpy as np\n",
    "\n",
    "from sklearn.feature_selection import VarianceThreshold\n",
    "\n",
    "\n",
    "\n",
    "n_features = X_topological.shape[1]\n",
    "\n",
    "\n",
    "pipeline_functions_steps = [\n",
    "#     ('pca', PCA),\n",
    "#     ('scaler', StandardScaler),\n",
    "    ('vt', VarianceThreshold),\n",
    "    ('classifier', SVC)\n",
    "]\n",
    "\n",
    "\n",
    "\n",
    "\n",
    "param_grid = {\n",
    "#     'pca__random_state': [seed],\n",
    "#     'pca__n_components': [0.75],\n",
    "    'vt__threshold': [0, 5e-4, 1e-3, 5e-3, 1e-2],\n",
    "    'classifier__C': [0.1, 1.0, 10, 100],\n",
    "    'classifier__kernel': ['linear','rbf', 'sigmoid', 'poly'],\n",
    "    'classifier__random_state': [seed],\n",
    "}\n",
    "\n",
    "\n",
    "\n",
    "\n",
    "\n",
    "best_svm_classifier = sklearn_grid_search_cv_and_test(X_topological, y_topological, pipeline_functions_steps, param_grid,\n",
    "                                                      n_folds=5, verbose=0.5, scoring='f1', seed=seed)\n",
    "\n",
    "# score_after_oversampling(X_topological, y_topological, best_svm_classifier, seed)"
   ]
  },
  {
   "cell_type": "markdown",
   "metadata": {},
   "source": [
    "### Random Forest"
   ]
  },
  {
   "cell_type": "code",
   "execution_count": 14,
   "metadata": {
    "scrolled": true
   },
   "outputs": [
    {
     "name": "stdout",
     "output_type": "stream",
     "text": [
      "Fitting 5 folds for each of 18 candidates, totalling 90 fits\n",
      "Best Parameters: {'classifier__criterion': 'entropy', 'classifier__n_estimators': 300, 'classifier__random_state': 42}\n",
      "Best Validation Score (f1): 0.7576\n",
      "f1-score on test set: 0.7160\n",
      "Oversampling the Training set and then fit the optimal pipeline...\n",
      "\n",
      "f1-score on test set after applying oversampling the training set: 0.7393\n"
     ]
    },
    {
     "data": {
      "text/html": [
       "<style>#sk-container-id-1 {color: black;background-color: white;}#sk-container-id-1 pre{padding: 0;}#sk-container-id-1 div.sk-toggleable {background-color: white;}#sk-container-id-1 label.sk-toggleable__label {cursor: pointer;display: block;width: 100%;margin-bottom: 0;padding: 0.3em;box-sizing: border-box;text-align: center;}#sk-container-id-1 label.sk-toggleable__label-arrow:before {content: \"▸\";float: left;margin-right: 0.25em;color: #696969;}#sk-container-id-1 label.sk-toggleable__label-arrow:hover:before {color: black;}#sk-container-id-1 div.sk-estimator:hover label.sk-toggleable__label-arrow:before {color: black;}#sk-container-id-1 div.sk-toggleable__content {max-height: 0;max-width: 0;overflow: hidden;text-align: left;background-color: #f0f8ff;}#sk-container-id-1 div.sk-toggleable__content pre {margin: 0.2em;color: black;border-radius: 0.25em;background-color: #f0f8ff;}#sk-container-id-1 input.sk-toggleable__control:checked~div.sk-toggleable__content {max-height: 200px;max-width: 100%;overflow: auto;}#sk-container-id-1 input.sk-toggleable__control:checked~label.sk-toggleable__label-arrow:before {content: \"▾\";}#sk-container-id-1 div.sk-estimator input.sk-toggleable__control:checked~label.sk-toggleable__label {background-color: #d4ebff;}#sk-container-id-1 div.sk-label input.sk-toggleable__control:checked~label.sk-toggleable__label {background-color: #d4ebff;}#sk-container-id-1 input.sk-hidden--visually {border: 0;clip: rect(1px 1px 1px 1px);clip: rect(1px, 1px, 1px, 1px);height: 1px;margin: -1px;overflow: hidden;padding: 0;position: absolute;width: 1px;}#sk-container-id-1 div.sk-estimator {font-family: monospace;background-color: #f0f8ff;border: 1px dotted black;border-radius: 0.25em;box-sizing: border-box;margin-bottom: 0.5em;}#sk-container-id-1 div.sk-estimator:hover {background-color: #d4ebff;}#sk-container-id-1 div.sk-parallel-item::after {content: \"\";width: 100%;border-bottom: 1px solid gray;flex-grow: 1;}#sk-container-id-1 div.sk-label:hover label.sk-toggleable__label {background-color: #d4ebff;}#sk-container-id-1 div.sk-serial::before {content: \"\";position: absolute;border-left: 1px solid gray;box-sizing: border-box;top: 0;bottom: 0;left: 50%;z-index: 0;}#sk-container-id-1 div.sk-serial {display: flex;flex-direction: column;align-items: center;background-color: white;padding-right: 0.2em;padding-left: 0.2em;position: relative;}#sk-container-id-1 div.sk-item {position: relative;z-index: 1;}#sk-container-id-1 div.sk-parallel {display: flex;align-items: stretch;justify-content: center;background-color: white;position: relative;}#sk-container-id-1 div.sk-item::before, #sk-container-id-1 div.sk-parallel-item::before {content: \"\";position: absolute;border-left: 1px solid gray;box-sizing: border-box;top: 0;bottom: 0;left: 50%;z-index: -1;}#sk-container-id-1 div.sk-parallel-item {display: flex;flex-direction: column;z-index: 1;position: relative;background-color: white;}#sk-container-id-1 div.sk-parallel-item:first-child::after {align-self: flex-end;width: 50%;}#sk-container-id-1 div.sk-parallel-item:last-child::after {align-self: flex-start;width: 50%;}#sk-container-id-1 div.sk-parallel-item:only-child::after {width: 0;}#sk-container-id-1 div.sk-dashed-wrapped {border: 1px dashed gray;margin: 0 0.4em 0.5em 0.4em;box-sizing: border-box;padding-bottom: 0.4em;background-color: white;}#sk-container-id-1 div.sk-label label {font-family: monospace;font-weight: bold;display: inline-block;line-height: 1.2em;}#sk-container-id-1 div.sk-label-container {text-align: center;}#sk-container-id-1 div.sk-container {/* jupyter's `normalize.less` sets `[hidden] { display: none; }` but bootstrap.min.css set `[hidden] { display: none !important; }` so we also need the `!important` here to be able to override the default hidden behavior on the sphinx rendered scikit-learn.org. See: https://github.com/scikit-learn/scikit-learn/issues/21755 */display: inline-block !important;position: relative;}#sk-container-id-1 div.sk-text-repr-fallback {display: none;}</style><div id=\"sk-container-id-1\" class=\"sk-top-container\"><div class=\"sk-text-repr-fallback\"><pre>Pipeline(steps=[(&#x27;classifier&#x27;,\n",
       "                 RandomForestClassifier(criterion=&#x27;entropy&#x27;, n_estimators=300,\n",
       "                                        random_state=42))])</pre><b>In a Jupyter environment, please rerun this cell to show the HTML representation or trust the notebook. <br />On GitHub, the HTML representation is unable to render, please try loading this page with nbviewer.org.</b></div><div class=\"sk-container\" hidden><div class=\"sk-item sk-dashed-wrapped\"><div class=\"sk-label-container\"><div class=\"sk-label sk-toggleable\"><input class=\"sk-toggleable__control sk-hidden--visually\" id=\"sk-estimator-id-1\" type=\"checkbox\" ><label for=\"sk-estimator-id-1\" class=\"sk-toggleable__label sk-toggleable__label-arrow\">Pipeline</label><div class=\"sk-toggleable__content\"><pre>Pipeline(steps=[(&#x27;classifier&#x27;,\n",
       "                 RandomForestClassifier(criterion=&#x27;entropy&#x27;, n_estimators=300,\n",
       "                                        random_state=42))])</pre></div></div></div><div class=\"sk-serial\"><div class=\"sk-item\"><div class=\"sk-estimator sk-toggleable\"><input class=\"sk-toggleable__control sk-hidden--visually\" id=\"sk-estimator-id-2\" type=\"checkbox\" ><label for=\"sk-estimator-id-2\" class=\"sk-toggleable__label sk-toggleable__label-arrow\">RandomForestClassifier</label><div class=\"sk-toggleable__content\"><pre>RandomForestClassifier(criterion=&#x27;entropy&#x27;, n_estimators=300, random_state=42)</pre></div></div></div></div></div></div></div>"
      ],
      "text/plain": [
       "Pipeline(steps=[('classifier',\n",
       "                 RandomForestClassifier(criterion='entropy', n_estimators=300,\n",
       "                                        random_state=42))])"
      ]
     },
     "execution_count": 14,
     "metadata": {},
     "output_type": "execute_result"
    }
   ],
   "source": [
    "from sklearn.ensemble import RandomForestClassifier\n",
    "\n",
    "\n",
    "\n",
    "n_features = X_topological.shape[1]\n",
    "\n",
    "pipeline_functions_steps = [\n",
    "    ('classifier', RandomForestClassifier)\n",
    "]\n",
    "\n",
    "\n",
    "param_grid = {\n",
    "    'classifier__n_estimators': [10, 50, 100, 200, 300, 500],\n",
    "    'classifier__criterion': ['gini', 'entropy', 'log_loss'],\n",
    "    'classifier__random_state': [seed],\n",
    "}\n",
    "\n",
    "\n",
    "\n",
    "best_rf_classifier = sklearn_grid_search_cv_and_test(X_topological, y_topological, pipeline_functions_steps, param_grid,\n",
    "                                                     n_folds=5, verbose=0.5, scoring='f1', seed=seed)\n",
    "\n",
    "\n",
    "\n",
    "score_after_oversampling(X_topological, y_topological, best_rf_classifier, seed)"
   ]
  },
  {
   "cell_type": "markdown",
   "metadata": {},
   "source": [
    "### K-Nearest Neighbors"
   ]
  },
  {
   "cell_type": "code",
   "execution_count": 15,
   "metadata": {},
   "outputs": [
    {
     "name": "stdout",
     "output_type": "stream",
     "text": [
      "Fitting 5 folds for each of 20 candidates, totalling 100 fits\n",
      "Best Parameters: {'classifier__n_neighbors': 1, 'classifier__weights': 'uniform'}\n",
      "Best Validation Score (f1): 0.7074\n",
      "f1-score on test set: 0.6915\n",
      "Oversampling the Training set and then fit the optimal pipeline...\n",
      "\n",
      "f1-score on test set after applying oversampling the training set: 0.6915\n"
     ]
    },
    {
     "data": {
      "text/html": [
       "<style>#sk-container-id-2 {color: black;background-color: white;}#sk-container-id-2 pre{padding: 0;}#sk-container-id-2 div.sk-toggleable {background-color: white;}#sk-container-id-2 label.sk-toggleable__label {cursor: pointer;display: block;width: 100%;margin-bottom: 0;padding: 0.3em;box-sizing: border-box;text-align: center;}#sk-container-id-2 label.sk-toggleable__label-arrow:before {content: \"▸\";float: left;margin-right: 0.25em;color: #696969;}#sk-container-id-2 label.sk-toggleable__label-arrow:hover:before {color: black;}#sk-container-id-2 div.sk-estimator:hover label.sk-toggleable__label-arrow:before {color: black;}#sk-container-id-2 div.sk-toggleable__content {max-height: 0;max-width: 0;overflow: hidden;text-align: left;background-color: #f0f8ff;}#sk-container-id-2 div.sk-toggleable__content pre {margin: 0.2em;color: black;border-radius: 0.25em;background-color: #f0f8ff;}#sk-container-id-2 input.sk-toggleable__control:checked~div.sk-toggleable__content {max-height: 200px;max-width: 100%;overflow: auto;}#sk-container-id-2 input.sk-toggleable__control:checked~label.sk-toggleable__label-arrow:before {content: \"▾\";}#sk-container-id-2 div.sk-estimator input.sk-toggleable__control:checked~label.sk-toggleable__label {background-color: #d4ebff;}#sk-container-id-2 div.sk-label input.sk-toggleable__control:checked~label.sk-toggleable__label {background-color: #d4ebff;}#sk-container-id-2 input.sk-hidden--visually {border: 0;clip: rect(1px 1px 1px 1px);clip: rect(1px, 1px, 1px, 1px);height: 1px;margin: -1px;overflow: hidden;padding: 0;position: absolute;width: 1px;}#sk-container-id-2 div.sk-estimator {font-family: monospace;background-color: #f0f8ff;border: 1px dotted black;border-radius: 0.25em;box-sizing: border-box;margin-bottom: 0.5em;}#sk-container-id-2 div.sk-estimator:hover {background-color: #d4ebff;}#sk-container-id-2 div.sk-parallel-item::after {content: \"\";width: 100%;border-bottom: 1px solid gray;flex-grow: 1;}#sk-container-id-2 div.sk-label:hover label.sk-toggleable__label {background-color: #d4ebff;}#sk-container-id-2 div.sk-serial::before {content: \"\";position: absolute;border-left: 1px solid gray;box-sizing: border-box;top: 0;bottom: 0;left: 50%;z-index: 0;}#sk-container-id-2 div.sk-serial {display: flex;flex-direction: column;align-items: center;background-color: white;padding-right: 0.2em;padding-left: 0.2em;position: relative;}#sk-container-id-2 div.sk-item {position: relative;z-index: 1;}#sk-container-id-2 div.sk-parallel {display: flex;align-items: stretch;justify-content: center;background-color: white;position: relative;}#sk-container-id-2 div.sk-item::before, #sk-container-id-2 div.sk-parallel-item::before {content: \"\";position: absolute;border-left: 1px solid gray;box-sizing: border-box;top: 0;bottom: 0;left: 50%;z-index: -1;}#sk-container-id-2 div.sk-parallel-item {display: flex;flex-direction: column;z-index: 1;position: relative;background-color: white;}#sk-container-id-2 div.sk-parallel-item:first-child::after {align-self: flex-end;width: 50%;}#sk-container-id-2 div.sk-parallel-item:last-child::after {align-self: flex-start;width: 50%;}#sk-container-id-2 div.sk-parallel-item:only-child::after {width: 0;}#sk-container-id-2 div.sk-dashed-wrapped {border: 1px dashed gray;margin: 0 0.4em 0.5em 0.4em;box-sizing: border-box;padding-bottom: 0.4em;background-color: white;}#sk-container-id-2 div.sk-label label {font-family: monospace;font-weight: bold;display: inline-block;line-height: 1.2em;}#sk-container-id-2 div.sk-label-container {text-align: center;}#sk-container-id-2 div.sk-container {/* jupyter's `normalize.less` sets `[hidden] { display: none; }` but bootstrap.min.css set `[hidden] { display: none !important; }` so we also need the `!important` here to be able to override the default hidden behavior on the sphinx rendered scikit-learn.org. See: https://github.com/scikit-learn/scikit-learn/issues/21755 */display: inline-block !important;position: relative;}#sk-container-id-2 div.sk-text-repr-fallback {display: none;}</style><div id=\"sk-container-id-2\" class=\"sk-top-container\"><div class=\"sk-text-repr-fallback\"><pre>Pipeline(steps=[(&#x27;classifier&#x27;, KNeighborsClassifier(n_neighbors=1))])</pre><b>In a Jupyter environment, please rerun this cell to show the HTML representation or trust the notebook. <br />On GitHub, the HTML representation is unable to render, please try loading this page with nbviewer.org.</b></div><div class=\"sk-container\" hidden><div class=\"sk-item sk-dashed-wrapped\"><div class=\"sk-label-container\"><div class=\"sk-label sk-toggleable\"><input class=\"sk-toggleable__control sk-hidden--visually\" id=\"sk-estimator-id-3\" type=\"checkbox\" ><label for=\"sk-estimator-id-3\" class=\"sk-toggleable__label sk-toggleable__label-arrow\">Pipeline</label><div class=\"sk-toggleable__content\"><pre>Pipeline(steps=[(&#x27;classifier&#x27;, KNeighborsClassifier(n_neighbors=1))])</pre></div></div></div><div class=\"sk-serial\"><div class=\"sk-item\"><div class=\"sk-estimator sk-toggleable\"><input class=\"sk-toggleable__control sk-hidden--visually\" id=\"sk-estimator-id-4\" type=\"checkbox\" ><label for=\"sk-estimator-id-4\" class=\"sk-toggleable__label sk-toggleable__label-arrow\">KNeighborsClassifier</label><div class=\"sk-toggleable__content\"><pre>KNeighborsClassifier(n_neighbors=1)</pre></div></div></div></div></div></div></div>"
      ],
      "text/plain": [
       "Pipeline(steps=[('classifier', KNeighborsClassifier(n_neighbors=1))])"
      ]
     },
     "execution_count": 15,
     "metadata": {},
     "output_type": "execute_result"
    }
   ],
   "source": [
    "from sklearn.preprocessing import StandardScaler\n",
    "from sklearn.neighbors import KNeighborsClassifier\n",
    "\n",
    "\n",
    "n_features = X_topological.shape[1]\n",
    "\n",
    "\n",
    "pipeline_functions_steps = [\n",
    "#     ('scaler', StandardScaler),\n",
    "    ('classifier', KNeighborsClassifier)\n",
    "]\n",
    "\n",
    "\n",
    "param_grid = {\n",
    "    'classifier__n_neighbors': [1, 3, 5, 7, 9, 11, 13, 15, 17, 19],\n",
    "    'classifier__weights': ['uniform', 'distance'],\n",
    "}\n",
    "\n",
    "\n",
    "\n",
    "best_knn_classifier = sklearn_grid_search_cv_and_test(X_topological, y_topological, pipeline_functions_steps, param_grid,\n",
    "                                                      n_folds=5, verbose=0.5, scoring='f1', seed=seed)\n",
    "\n",
    "score_after_oversampling(X_topological, y_topological, best_knn_classifier, seed)"
   ]
  },
  {
   "cell_type": "markdown",
   "metadata": {},
   "source": [
    "### Multilayer Perceptron (MLP)"
   ]
  },
  {
   "cell_type": "code",
   "execution_count": 16,
   "metadata": {},
   "outputs": [
    {
     "name": "stdout",
     "output_type": "stream",
     "text": [
      "Fitting 5 folds for each of 36 candidates, totalling 180 fits\n",
      "Best Parameters: {'classifier__hidden_layer_sizes': [128], 'classifier__learning_rate': 'constant', 'classifier__learning_rate_init': 0.005, 'classifier__max_iter': 500, 'classifier__solver': 'sgd'}\n",
      "Best Validation Score (f1): 0.7400\n",
      "f1-score on test set: 0.6994\n",
      "Oversampling the Training set and then fit the optimal pipeline...\n",
      "\n",
      "f1-score on test set after applying oversampling the training set: 0.6867\n"
     ]
    },
    {
     "data": {
      "text/html": [
       "<style>#sk-container-id-3 {color: black;background-color: white;}#sk-container-id-3 pre{padding: 0;}#sk-container-id-3 div.sk-toggleable {background-color: white;}#sk-container-id-3 label.sk-toggleable__label {cursor: pointer;display: block;width: 100%;margin-bottom: 0;padding: 0.3em;box-sizing: border-box;text-align: center;}#sk-container-id-3 label.sk-toggleable__label-arrow:before {content: \"▸\";float: left;margin-right: 0.25em;color: #696969;}#sk-container-id-3 label.sk-toggleable__label-arrow:hover:before {color: black;}#sk-container-id-3 div.sk-estimator:hover label.sk-toggleable__label-arrow:before {color: black;}#sk-container-id-3 div.sk-toggleable__content {max-height: 0;max-width: 0;overflow: hidden;text-align: left;background-color: #f0f8ff;}#sk-container-id-3 div.sk-toggleable__content pre {margin: 0.2em;color: black;border-radius: 0.25em;background-color: #f0f8ff;}#sk-container-id-3 input.sk-toggleable__control:checked~div.sk-toggleable__content {max-height: 200px;max-width: 100%;overflow: auto;}#sk-container-id-3 input.sk-toggleable__control:checked~label.sk-toggleable__label-arrow:before {content: \"▾\";}#sk-container-id-3 div.sk-estimator input.sk-toggleable__control:checked~label.sk-toggleable__label {background-color: #d4ebff;}#sk-container-id-3 div.sk-label input.sk-toggleable__control:checked~label.sk-toggleable__label {background-color: #d4ebff;}#sk-container-id-3 input.sk-hidden--visually {border: 0;clip: rect(1px 1px 1px 1px);clip: rect(1px, 1px, 1px, 1px);height: 1px;margin: -1px;overflow: hidden;padding: 0;position: absolute;width: 1px;}#sk-container-id-3 div.sk-estimator {font-family: monospace;background-color: #f0f8ff;border: 1px dotted black;border-radius: 0.25em;box-sizing: border-box;margin-bottom: 0.5em;}#sk-container-id-3 div.sk-estimator:hover {background-color: #d4ebff;}#sk-container-id-3 div.sk-parallel-item::after {content: \"\";width: 100%;border-bottom: 1px solid gray;flex-grow: 1;}#sk-container-id-3 div.sk-label:hover label.sk-toggleable__label {background-color: #d4ebff;}#sk-container-id-3 div.sk-serial::before {content: \"\";position: absolute;border-left: 1px solid gray;box-sizing: border-box;top: 0;bottom: 0;left: 50%;z-index: 0;}#sk-container-id-3 div.sk-serial {display: flex;flex-direction: column;align-items: center;background-color: white;padding-right: 0.2em;padding-left: 0.2em;position: relative;}#sk-container-id-3 div.sk-item {position: relative;z-index: 1;}#sk-container-id-3 div.sk-parallel {display: flex;align-items: stretch;justify-content: center;background-color: white;position: relative;}#sk-container-id-3 div.sk-item::before, #sk-container-id-3 div.sk-parallel-item::before {content: \"\";position: absolute;border-left: 1px solid gray;box-sizing: border-box;top: 0;bottom: 0;left: 50%;z-index: -1;}#sk-container-id-3 div.sk-parallel-item {display: flex;flex-direction: column;z-index: 1;position: relative;background-color: white;}#sk-container-id-3 div.sk-parallel-item:first-child::after {align-self: flex-end;width: 50%;}#sk-container-id-3 div.sk-parallel-item:last-child::after {align-self: flex-start;width: 50%;}#sk-container-id-3 div.sk-parallel-item:only-child::after {width: 0;}#sk-container-id-3 div.sk-dashed-wrapped {border: 1px dashed gray;margin: 0 0.4em 0.5em 0.4em;box-sizing: border-box;padding-bottom: 0.4em;background-color: white;}#sk-container-id-3 div.sk-label label {font-family: monospace;font-weight: bold;display: inline-block;line-height: 1.2em;}#sk-container-id-3 div.sk-label-container {text-align: center;}#sk-container-id-3 div.sk-container {/* jupyter's `normalize.less` sets `[hidden] { display: none; }` but bootstrap.min.css set `[hidden] { display: none !important; }` so we also need the `!important` here to be able to override the default hidden behavior on the sphinx rendered scikit-learn.org. See: https://github.com/scikit-learn/scikit-learn/issues/21755 */display: inline-block !important;position: relative;}#sk-container-id-3 div.sk-text-repr-fallback {display: none;}</style><div id=\"sk-container-id-3\" class=\"sk-top-container\"><div class=\"sk-text-repr-fallback\"><pre>Pipeline(steps=[(&#x27;scaler&#x27;, StandardScaler()),\n",
       "                (&#x27;classifier&#x27;,\n",
       "                 MLPClassifier(hidden_layer_sizes=[128],\n",
       "                               learning_rate_init=0.005, max_iter=500,\n",
       "                               solver=&#x27;sgd&#x27;))])</pre><b>In a Jupyter environment, please rerun this cell to show the HTML representation or trust the notebook. <br />On GitHub, the HTML representation is unable to render, please try loading this page with nbviewer.org.</b></div><div class=\"sk-container\" hidden><div class=\"sk-item sk-dashed-wrapped\"><div class=\"sk-label-container\"><div class=\"sk-label sk-toggleable\"><input class=\"sk-toggleable__control sk-hidden--visually\" id=\"sk-estimator-id-5\" type=\"checkbox\" ><label for=\"sk-estimator-id-5\" class=\"sk-toggleable__label sk-toggleable__label-arrow\">Pipeline</label><div class=\"sk-toggleable__content\"><pre>Pipeline(steps=[(&#x27;scaler&#x27;, StandardScaler()),\n",
       "                (&#x27;classifier&#x27;,\n",
       "                 MLPClassifier(hidden_layer_sizes=[128],\n",
       "                               learning_rate_init=0.005, max_iter=500,\n",
       "                               solver=&#x27;sgd&#x27;))])</pre></div></div></div><div class=\"sk-serial\"><div class=\"sk-item\"><div class=\"sk-estimator sk-toggleable\"><input class=\"sk-toggleable__control sk-hidden--visually\" id=\"sk-estimator-id-6\" type=\"checkbox\" ><label for=\"sk-estimator-id-6\" class=\"sk-toggleable__label sk-toggleable__label-arrow\">StandardScaler</label><div class=\"sk-toggleable__content\"><pre>StandardScaler()</pre></div></div></div><div class=\"sk-item\"><div class=\"sk-estimator sk-toggleable\"><input class=\"sk-toggleable__control sk-hidden--visually\" id=\"sk-estimator-id-7\" type=\"checkbox\" ><label for=\"sk-estimator-id-7\" class=\"sk-toggleable__label sk-toggleable__label-arrow\">MLPClassifier</label><div class=\"sk-toggleable__content\"><pre>MLPClassifier(hidden_layer_sizes=[128], learning_rate_init=0.005, max_iter=500,\n",
       "              solver=&#x27;sgd&#x27;)</pre></div></div></div></div></div></div></div>"
      ],
      "text/plain": [
       "Pipeline(steps=[('scaler', StandardScaler()),\n",
       "                ('classifier',\n",
       "                 MLPClassifier(hidden_layer_sizes=[128],\n",
       "                               learning_rate_init=0.005, max_iter=500,\n",
       "                               solver='sgd'))])"
      ]
     },
     "execution_count": 16,
     "metadata": {},
     "output_type": "execute_result"
    }
   ],
   "source": [
    "from sklearn.neural_network import MLPClassifier\n",
    "\n",
    "\n",
    "pipeline_functions_steps = [\n",
    "    ('scaler', StandardScaler),\n",
    "    ('classifier', MLPClassifier)\n",
    "]\n",
    "\n",
    "\n",
    "param_grid = {\n",
    "    'classifier__hidden_layer_sizes': [[64], [128], [128, 64]],\n",
    "    'classifier__solver': ['sgd', 'adam'],\n",
    "    'classifier__learning_rate': ['constant', 'adaptive'],\n",
    "    'classifier__learning_rate_init': [5e-4, 1e-3, 5e-3],\n",
    "    'classifier__max_iter': [500]\n",
    "}\n",
    "\n",
    "\n",
    "best_mlp_classifier = sklearn_grid_search_cv_and_test(X_topological, y_topological, pipeline_functions_steps, param_grid,\n",
    "                                                      n_folds=5, verbose=0.5, scoring='f1', seed=seed)\n",
    "\n",
    "score_after_oversampling(X_topological, y_topological, best_mlp_classifier, seed)"
   ]
  },
  {
   "cell_type": "code",
   "execution_count": 30,
   "metadata": {},
   "outputs": [
    {
     "data": {
      "image/png": "[encoded data removed]",
      "text/plain": [
       "<Figure size 800x600 with 1 Axes>"
      ]
     },
     "metadata": {},
     "output_type": "display_data"
    }
   ],
   "source": [
    "import matplotlib.pyplot as plt\n",
    "\n",
    "methods = ['SVM', 'Random Forest', 'KNN', 'MLP']\n",
    "\n",
    "f1_scores = [0.7178, 0.7393 ,0.6915 , 0.6867]\n",
    "\n",
    "plt.figure(figsize=(8, 6))\n",
    "bars = plt.bar(methods, f1_scores, width=0.4)\n",
    "\n",
    "plt.xlabel('sklearn Method')\n",
    "plt.ylabel('F1 Score')\n",
    "plt.title('Comparison of F1 Scores for Different Methods for Topological Fingerprint featurizer')\n",
    "plt.ylim([0,1])\n",
    "\n",
    "plt.axhline(max(f1_scores), color='red', linestyle='--')\n",
    "\n",
    "for bar, score in zip(bars, f1_scores):\n",
    "    plt.text(bar.get_x() + bar.get_width() / 2, bar.get_height() + 0.01, f'{score:.2f}', ha='center', va='bottom')\n",
    "\n",
    "\n",
    "\n",
    "plt.show()\n"
   ]
  },
  {
   "cell_type": "markdown",
   "metadata": {},
   "source": [
    "## MACCS Keys (Molecular ACCess System):"
   ]
  },
  {
   "cell_type": "code",
   "execution_count": 226,
   "metadata": {},
   "outputs": [
    {
     "name": "stderr",
     "output_type": "stream",
     "text": [
      "Creating descriptors: 100%|███████████████████████████████████████████████████████| 3192/3192 [00:04<00:00, 747.44it/s]\n"
     ]
    }
   ],
   "source": [
    "from jaqpotpy.datasets import SmilesDataset\n",
    "from jaqpotpy.descriptors.molecular import MACCSKeysFingerprint\n",
    "\n",
    "\n",
    "featurizer = MACCSKeysFingerprint()\n",
    "jaq_dataset = SmilesDataset(smiles=X['SMILES'],\n",
    "                            y=y['Y'].values,\n",
    "                            featurizer=featurizer,\n",
    "                            task='classification').create()\n",
    "\n",
    "\n",
    "X_MACCS, y_MACCS = jaq_dataset.df[jaq_dataset.X].to_numpy(), jaq_dataset.df[jaq_dataset.y].to_numpy().ravel()\n"
   ]
  },
  {
   "cell_type": "markdown",
   "metadata": {},
   "source": [
    "### Support Vector Machine "
   ]
  },
  {
   "cell_type": "code",
   "execution_count": 18,
   "metadata": {},
   "outputs": [
    {
     "name": "stdout",
     "output_type": "stream",
     "text": [
      "Fitting 5 folds for each of 80 candidates, totalling 400 fits\n",
      "Best Parameters: {'classifier__C': 1.0, 'classifier__kernel': 'rbf', 'classifier__random_state': 42, 'vt__threshold': 0.001}\n",
      "Best Validation Score (f1): 0.7797\n",
      "f1-score on test set: 0.7692\n",
      "Oversampling the Training set and then fit the optimal pipeline...\n",
      "\n",
      "f1-score on test set after applying oversampling the training set: 0.7933\n"
     ]
    },
    {
     "data": {
      "text/html": [
       "<style>#sk-container-id-4 {color: black;background-color: white;}#sk-container-id-4 pre{padding: 0;}#sk-container-id-4 div.sk-toggleable {background-color: white;}#sk-container-id-4 label.sk-toggleable__label {cursor: pointer;display: block;width: 100%;margin-bottom: 0;padding: 0.3em;box-sizing: border-box;text-align: center;}#sk-container-id-4 label.sk-toggleable__label-arrow:before {content: \"▸\";float: left;margin-right: 0.25em;color: #696969;}#sk-container-id-4 label.sk-toggleable__label-arrow:hover:before {color: black;}#sk-container-id-4 div.sk-estimator:hover label.sk-toggleable__label-arrow:before {color: black;}#sk-container-id-4 div.sk-toggleable__content {max-height: 0;max-width: 0;overflow: hidden;text-align: left;background-color: #f0f8ff;}#sk-container-id-4 div.sk-toggleable__content pre {margin: 0.2em;color: black;border-radius: 0.25em;background-color: #f0f8ff;}#sk-container-id-4 input.sk-toggleable__control:checked~div.sk-toggleable__content {max-height: 200px;max-width: 100%;overflow: auto;}#sk-container-id-4 input.sk-toggleable__control:checked~label.sk-toggleable__label-arrow:before {content: \"▾\";}#sk-container-id-4 div.sk-estimator input.sk-toggleable__control:checked~label.sk-toggleable__label {background-color: #d4ebff;}#sk-container-id-4 div.sk-label input.sk-toggleable__control:checked~label.sk-toggleable__label {background-color: #d4ebff;}#sk-container-id-4 input.sk-hidden--visually {border: 0;clip: rect(1px 1px 1px 1px);clip: rect(1px, 1px, 1px, 1px);height: 1px;margin: -1px;overflow: hidden;padding: 0;position: absolute;width: 1px;}#sk-container-id-4 div.sk-estimator {font-family: monospace;background-color: #f0f8ff;border: 1px dotted black;border-radius: 0.25em;box-sizing: border-box;margin-bottom: 0.5em;}#sk-container-id-4 div.sk-estimator:hover {background-color: #d4ebff;}#sk-container-id-4 div.sk-parallel-item::after {content: \"\";width: 100%;border-bottom: 1px solid gray;flex-grow: 1;}#sk-container-id-4 div.sk-label:hover label.sk-toggleable__label {background-color: #d4ebff;}#sk-container-id-4 div.sk-serial::before {content: \"\";position: absolute;border-left: 1px solid gray;box-sizing: border-box;top: 0;bottom: 0;left: 50%;z-index: 0;}#sk-container-id-4 div.sk-serial {display: flex;flex-direction: column;align-items: center;background-color: white;padding-right: 0.2em;padding-left: 0.2em;position: relative;}#sk-container-id-4 div.sk-item {position: relative;z-index: 1;}#sk-container-id-4 div.sk-parallel {display: flex;align-items: stretch;justify-content: center;background-color: white;position: relative;}#sk-container-id-4 div.sk-item::before, #sk-container-id-4 div.sk-parallel-item::before {content: \"\";position: absolute;border-left: 1px solid gray;box-sizing: border-box;top: 0;bottom: 0;left: 50%;z-index: -1;}#sk-container-id-4 div.sk-parallel-item {display: flex;flex-direction: column;z-index: 1;position: relative;background-color: white;}#sk-container-id-4 div.sk-parallel-item:first-child::after {align-self: flex-end;width: 50%;}#sk-container-id-4 div.sk-parallel-item:last-child::after {align-self: flex-start;width: 50%;}#sk-container-id-4 div.sk-parallel-item:only-child::after {width: 0;}#sk-container-id-4 div.sk-dashed-wrapped {border: 1px dashed gray;margin: 0 0.4em 0.5em 0.4em;box-sizing: border-box;padding-bottom: 0.4em;background-color: white;}#sk-container-id-4 div.sk-label label {font-family: monospace;font-weight: bold;display: inline-block;line-height: 1.2em;}#sk-container-id-4 div.sk-label-container {text-align: center;}#sk-container-id-4 div.sk-container {/* jupyter's `normalize.less` sets `[hidden] { display: none; }` but bootstrap.min.css set `[hidden] { display: none !important; }` so we also need the `!important` here to be able to override the default hidden behavior on the sphinx rendered scikit-learn.org. See: https://github.com/scikit-learn/scikit-learn/issues/21755 */display: inline-block !important;position: relative;}#sk-container-id-4 div.sk-text-repr-fallback {display: none;}</style><div id=\"sk-container-id-4\" class=\"sk-top-container\"><div class=\"sk-text-repr-fallback\"><pre>Pipeline(steps=[(&#x27;vt&#x27;, VarianceThreshold(threshold=0.001)),\n",
       "                (&#x27;classifier&#x27;, SVC(random_state=42))])</pre><b>In a Jupyter environment, please rerun this cell to show the HTML representation or trust the notebook. <br />On GitHub, the HTML representation is unable to render, please try loading this page with nbviewer.org.</b></div><div class=\"sk-container\" hidden><div class=\"sk-item sk-dashed-wrapped\"><div class=\"sk-label-container\"><div class=\"sk-label sk-toggleable\"><input class=\"sk-toggleable__control sk-hidden--visually\" id=\"sk-estimator-id-8\" type=\"checkbox\" ><label for=\"sk-estimator-id-8\" class=\"sk-toggleable__label sk-toggleable__label-arrow\">Pipeline</label><div class=\"sk-toggleable__content\"><pre>Pipeline(steps=[(&#x27;vt&#x27;, VarianceThreshold(threshold=0.001)),\n",
       "                (&#x27;classifier&#x27;, SVC(random_state=42))])</pre></div></div></div><div class=\"sk-serial\"><div class=\"sk-item\"><div class=\"sk-estimator sk-toggleable\"><input class=\"sk-toggleable__control sk-hidden--visually\" id=\"sk-estimator-id-9\" type=\"checkbox\" ><label for=\"sk-estimator-id-9\" class=\"sk-toggleable__label sk-toggleable__label-arrow\">VarianceThreshold</label><div class=\"sk-toggleable__content\"><pre>VarianceThreshold(threshold=0.001)</pre></div></div></div><div class=\"sk-item\"><div class=\"sk-estimator sk-toggleable\"><input class=\"sk-toggleable__control sk-hidden--visually\" id=\"sk-estimator-id-10\" type=\"checkbox\" ><label for=\"sk-estimator-id-10\" class=\"sk-toggleable__label sk-toggleable__label-arrow\">SVC</label><div class=\"sk-toggleable__content\"><pre>SVC(random_state=42)</pre></div></div></div></div></div></div></div>"
      ],
      "text/plain": [
       "Pipeline(steps=[('vt', VarianceThreshold(threshold=0.001)),\n",
       "                ('classifier', SVC(random_state=42))])"
      ]
     },
     "execution_count": 18,
     "metadata": {},
     "output_type": "execute_result"
    }
   ],
   "source": [
    "from sklearn.preprocessing import StandardScaler\n",
    "from sklearn.decomposition import PCA\n",
    "from sklearn.svm import SVC\n",
    "import sklearn\n",
    "from sklearn import metrics\n",
    "import numpy as np\n",
    "\n",
    "from sklearn.feature_selection import VarianceThreshold\n",
    "\n",
    "\n",
    "\n",
    "n_features = X_MACCS.shape[1]\n",
    "\n",
    "\n",
    "pipeline_functions_steps = [\n",
    "#     ('pca', PCA),\n",
    "#     ('scaler', StandardScaler),\n",
    "    ('vt', VarianceThreshold),\n",
    "    ('classifier', SVC)\n",
    "]\n",
    "\n",
    "\n",
    "\n",
    "\n",
    "param_grid = {\n",
    "#     'pca__random_state': [seed],\n",
    "#     'pca__n_components': [0.75],\n",
    "    'vt__threshold': [0, 5e-4, 1e-3, 5e-3, 1e-2],\n",
    "    'classifier__C': [0.1, 1.0, 10, 100],\n",
    "    'classifier__kernel': ['linear','rbf', 'sigmoid', 'poly'],\n",
    "    'classifier__random_state': [seed],\n",
    "}\n",
    "\n",
    "\n",
    "\n",
    "\n",
    "\n",
    "best_svm_classifier = sklearn_grid_search_cv_and_test(X_MACCS, y_MACCS, pipeline_functions_steps, param_grid,\n",
    "                                                      n_folds=5, verbose=0.5, scoring='f1', seed=seed)\n",
    "\n",
    "score_after_oversampling(X_MACCS, y_MACCS, best_svm_classifier, seed)\n"
   ]
  },
  {
   "cell_type": "markdown",
   "metadata": {},
   "source": [
    "### Random Forest"
   ]
  },
  {
   "cell_type": "code",
   "execution_count": 19,
   "metadata": {
    "scrolled": true
   },
   "outputs": [
    {
     "name": "stdout",
     "output_type": "stream",
     "text": [
      "Fitting 5 folds for each of 18 candidates, totalling 90 fits\n",
      "Best Parameters: {'classifier__criterion': 'entropy', 'classifier__n_estimators': 500, 'classifier__random_state': 42}\n",
      "Best Validation Score (f1): 0.7867\n",
      "f1-score on test set: 0.7882\n",
      "Oversampling the Training set and then fit the optimal pipeline...\n",
      "\n",
      "f1-score on test set after applying oversampling the training set: 0.7771\n"
     ]
    },
    {
     "data": {
      "text/html": [
       "<style>#sk-container-id-5 {color: black;background-color: white;}#sk-container-id-5 pre{padding: 0;}#sk-container-id-5 div.sk-toggleable {background-color: white;}#sk-container-id-5 label.sk-toggleable__label {cursor: pointer;display: block;width: 100%;margin-bottom: 0;padding: 0.3em;box-sizing: border-box;text-align: center;}#sk-container-id-5 label.sk-toggleable__label-arrow:before {content: \"▸\";float: left;margin-right: 0.25em;color: #696969;}#sk-container-id-5 label.sk-toggleable__label-arrow:hover:before {color: black;}#sk-container-id-5 div.sk-estimator:hover label.sk-toggleable__label-arrow:before {color: black;}#sk-container-id-5 div.sk-toggleable__content {max-height: 0;max-width: 0;overflow: hidden;text-align: left;background-color: #f0f8ff;}#sk-container-id-5 div.sk-toggleable__content pre {margin: 0.2em;color: black;border-radius: 0.25em;background-color: #f0f8ff;}#sk-container-id-5 input.sk-toggleable__control:checked~div.sk-toggleable__content {max-height: 200px;max-width: 100%;overflow: auto;}#sk-container-id-5 input.sk-toggleable__control:checked~label.sk-toggleable__label-arrow:before {content: \"▾\";}#sk-container-id-5 div.sk-estimator input.sk-toggleable__control:checked~label.sk-toggleable__label {background-color: #d4ebff;}#sk-container-id-5 div.sk-label input.sk-toggleable__control:checked~label.sk-toggleable__label {background-color: #d4ebff;}#sk-container-id-5 input.sk-hidden--visually {border: 0;clip: rect(1px 1px 1px 1px);clip: rect(1px, 1px, 1px, 1px);height: 1px;margin: -1px;overflow: hidden;padding: 0;position: absolute;width: 1px;}#sk-container-id-5 div.sk-estimator {font-family: monospace;background-color: #f0f8ff;border: 1px dotted black;border-radius: 0.25em;box-sizing: border-box;margin-bottom: 0.5em;}#sk-container-id-5 div.sk-estimator:hover {background-color: #d4ebff;}#sk-container-id-5 div.sk-parallel-item::after {content: \"\";width: 100%;border-bottom: 1px solid gray;flex-grow: 1;}#sk-container-id-5 div.sk-label:hover label.sk-toggleable__label {background-color: #d4ebff;}#sk-container-id-5 div.sk-serial::before {content: \"\";position: absolute;border-left: 1px solid gray;box-sizing: border-box;top: 0;bottom: 0;left: 50%;z-index: 0;}#sk-container-id-5 div.sk-serial {display: flex;flex-direction: column;align-items: center;background-color: white;padding-right: 0.2em;padding-left: 0.2em;position: relative;}#sk-container-id-5 div.sk-item {position: relative;z-index: 1;}#sk-container-id-5 div.sk-parallel {display: flex;align-items: stretch;justify-content: center;background-color: white;position: relative;}#sk-container-id-5 div.sk-item::before, #sk-container-id-5 div.sk-parallel-item::before {content: \"\";position: absolute;border-left: 1px solid gray;box-sizing: border-box;top: 0;bottom: 0;left: 50%;z-index: -1;}#sk-container-id-5 div.sk-parallel-item {display: flex;flex-direction: column;z-index: 1;position: relative;background-color: white;}#sk-container-id-5 div.sk-parallel-item:first-child::after {align-self: flex-end;width: 50%;}#sk-container-id-5 div.sk-parallel-item:last-child::after {align-self: flex-start;width: 50%;}#sk-container-id-5 div.sk-parallel-item:only-child::after {width: 0;}#sk-container-id-5 div.sk-dashed-wrapped {border: 1px dashed gray;margin: 0 0.4em 0.5em 0.4em;box-sizing: border-box;padding-bottom: 0.4em;background-color: white;}#sk-container-id-5 div.sk-label label {font-family: monospace;font-weight: bold;display: inline-block;line-height: 1.2em;}#sk-container-id-5 div.sk-label-container {text-align: center;}#sk-container-id-5 div.sk-container {/* jupyter's `normalize.less` sets `[hidden] { display: none; }` but bootstrap.min.css set `[hidden] { display: none !important; }` so we also need the `!important` here to be able to override the default hidden behavior on the sphinx rendered scikit-learn.org. See: https://github.com/scikit-learn/scikit-learn/issues/21755 */display: inline-block !important;position: relative;}#sk-container-id-5 div.sk-text-repr-fallback {display: none;}</style><div id=\"sk-container-id-5\" class=\"sk-top-container\"><div class=\"sk-text-repr-fallback\"><pre>Pipeline(steps=[(&#x27;classifier&#x27;,\n",
       "                 RandomForestClassifier(criterion=&#x27;entropy&#x27;, n_estimators=500,\n",
       "                                        random_state=42))])</pre><b>In a Jupyter environment, please rerun this cell to show the HTML representation or trust the notebook. <br />On GitHub, the HTML representation is unable to render, please try loading this page with nbviewer.org.</b></div><div class=\"sk-container\" hidden><div class=\"sk-item sk-dashed-wrapped\"><div class=\"sk-label-container\"><div class=\"sk-label sk-toggleable\"><input class=\"sk-toggleable__control sk-hidden--visually\" id=\"sk-estimator-id-11\" type=\"checkbox\" ><label for=\"sk-estimator-id-11\" class=\"sk-toggleable__label sk-toggleable__label-arrow\">Pipeline</label><div class=\"sk-toggleable__content\"><pre>Pipeline(steps=[(&#x27;classifier&#x27;,\n",
       "                 RandomForestClassifier(criterion=&#x27;entropy&#x27;, n_estimators=500,\n",
       "                                        random_state=42))])</pre></div></div></div><div class=\"sk-serial\"><div class=\"sk-item\"><div class=\"sk-estimator sk-toggleable\"><input class=\"sk-toggleable__control sk-hidden--visually\" id=\"sk-estimator-id-12\" type=\"checkbox\" ><label for=\"sk-estimator-id-12\" class=\"sk-toggleable__label sk-toggleable__label-arrow\">RandomForestClassifier</label><div class=\"sk-toggleable__content\"><pre>RandomForestClassifier(criterion=&#x27;entropy&#x27;, n_estimators=500, random_state=42)</pre></div></div></div></div></div></div></div>"
      ],
      "text/plain": [
       "Pipeline(steps=[('classifier',\n",
       "                 RandomForestClassifier(criterion='entropy', n_estimators=500,\n",
       "                                        random_state=42))])"
      ]
     },
     "execution_count": 19,
     "metadata": {},
     "output_type": "execute_result"
    }
   ],
   "source": [
    "from sklearn.ensemble import RandomForestClassifier\n",
    "\n",
    "\n",
    "\n",
    "n_features = X_MACCS.shape[1]\n",
    "\n",
    "pipeline_functions_steps = [\n",
    "    ('classifier', RandomForestClassifier)\n",
    "]\n",
    "\n",
    "\n",
    "param_grid = {\n",
    "    'classifier__n_estimators': [10, 50, 100, 200, 300, 500],\n",
    "    'classifier__criterion': ['gini', 'entropy', 'log_loss'],\n",
    "    'classifier__random_state': [seed],\n",
    "}\n",
    "\n",
    "\n",
    "\n",
    "best_rf_classifier = sklearn_grid_search_cv_and_test(X_MACCS, y_MACCS, pipeline_functions_steps, param_grid,\n",
    "                                                     n_folds=5, verbose=0.5, scoring='f1', seed=seed)\n",
    "\n",
    "\n",
    "\n",
    "score_after_oversampling(X_MACCS, y_MACCS, best_rf_classifier, seed)"
   ]
  },
  {
   "cell_type": "markdown",
   "metadata": {},
   "source": [
    "### K-Nearest Neighbors"
   ]
  },
  {
   "cell_type": "code",
   "execution_count": 20,
   "metadata": {},
   "outputs": [
    {
     "name": "stdout",
     "output_type": "stream",
     "text": [
      "Fitting 5 folds for each of 20 candidates, totalling 100 fits\n",
      "Best Parameters: {'classifier__n_neighbors': 13, 'classifier__weights': 'distance'}\n",
      "Best Validation Score (f1): 0.7657\n",
      "f1-score on test set: 0.7541\n",
      "Oversampling the Training set and then fit the optimal pipeline...\n",
      "\n",
      "f1-score on test set after applying oversampling the training set: 0.7463\n"
     ]
    },
    {
     "data": {
      "text/html": [
       "<style>#sk-container-id-6 {color: black;background-color: white;}#sk-container-id-6 pre{padding: 0;}#sk-container-id-6 div.sk-toggleable {background-color: white;}#sk-container-id-6 label.sk-toggleable__label {cursor: pointer;display: block;width: 100%;margin-bottom: 0;padding: 0.3em;box-sizing: border-box;text-align: center;}#sk-container-id-6 label.sk-toggleable__label-arrow:before {content: \"▸\";float: left;margin-right: 0.25em;color: #696969;}#sk-container-id-6 label.sk-toggleable__label-arrow:hover:before {color: black;}#sk-container-id-6 div.sk-estimator:hover label.sk-toggleable__label-arrow:before {color: black;}#sk-container-id-6 div.sk-toggleable__content {max-height: 0;max-width: 0;overflow: hidden;text-align: left;background-color: #f0f8ff;}#sk-container-id-6 div.sk-toggleable__content pre {margin: 0.2em;color: black;border-radius: 0.25em;background-color: #f0f8ff;}#sk-container-id-6 input.sk-toggleable__control:checked~div.sk-toggleable__content {max-height: 200px;max-width: 100%;overflow: auto;}#sk-container-id-6 input.sk-toggleable__control:checked~label.sk-toggleable__label-arrow:before {content: \"▾\";}#sk-container-id-6 div.sk-estimator input.sk-toggleable__control:checked~label.sk-toggleable__label {background-color: #d4ebff;}#sk-container-id-6 div.sk-label input.sk-toggleable__control:checked~label.sk-toggleable__label {background-color: #d4ebff;}#sk-container-id-6 input.sk-hidden--visually {border: 0;clip: rect(1px 1px 1px 1px);clip: rect(1px, 1px, 1px, 1px);height: 1px;margin: -1px;overflow: hidden;padding: 0;position: absolute;width: 1px;}#sk-container-id-6 div.sk-estimator {font-family: monospace;background-color: #f0f8ff;border: 1px dotted black;border-radius: 0.25em;box-sizing: border-box;margin-bottom: 0.5em;}#sk-container-id-6 div.sk-estimator:hover {background-color: #d4ebff;}#sk-container-id-6 div.sk-parallel-item::after {content: \"\";width: 100%;border-bottom: 1px solid gray;flex-grow: 1;}#sk-container-id-6 div.sk-label:hover label.sk-toggleable__label {background-color: #d4ebff;}#sk-container-id-6 div.sk-serial::before {content: \"\";position: absolute;border-left: 1px solid gray;box-sizing: border-box;top: 0;bottom: 0;left: 50%;z-index: 0;}#sk-container-id-6 div.sk-serial {display: flex;flex-direction: column;align-items: center;background-color: white;padding-right: 0.2em;padding-left: 0.2em;position: relative;}#sk-container-id-6 div.sk-item {position: relative;z-index: 1;}#sk-container-id-6 div.sk-parallel {display: flex;align-items: stretch;justify-content: center;background-color: white;position: relative;}#sk-container-id-6 div.sk-item::before, #sk-container-id-6 div.sk-parallel-item::before {content: \"\";position: absolute;border-left: 1px solid gray;box-sizing: border-box;top: 0;bottom: 0;left: 50%;z-index: -1;}#sk-container-id-6 div.sk-parallel-item {display: flex;flex-direction: column;z-index: 1;position: relative;background-color: white;}#sk-container-id-6 div.sk-parallel-item:first-child::after {align-self: flex-end;width: 50%;}#sk-container-id-6 div.sk-parallel-item:last-child::after {align-self: flex-start;width: 50%;}#sk-container-id-6 div.sk-parallel-item:only-child::after {width: 0;}#sk-container-id-6 div.sk-dashed-wrapped {border: 1px dashed gray;margin: 0 0.4em 0.5em 0.4em;box-sizing: border-box;padding-bottom: 0.4em;background-color: white;}#sk-container-id-6 div.sk-label label {font-family: monospace;font-weight: bold;display: inline-block;line-height: 1.2em;}#sk-container-id-6 div.sk-label-container {text-align: center;}#sk-container-id-6 div.sk-container {/* jupyter's `normalize.less` sets `[hidden] { display: none; }` but bootstrap.min.css set `[hidden] { display: none !important; }` so we also need the `!important` here to be able to override the default hidden behavior on the sphinx rendered scikit-learn.org. See: https://github.com/scikit-learn/scikit-learn/issues/21755 */display: inline-block !important;position: relative;}#sk-container-id-6 div.sk-text-repr-fallback {display: none;}</style><div id=\"sk-container-id-6\" class=\"sk-top-container\"><div class=\"sk-text-repr-fallback\"><pre>Pipeline(steps=[(&#x27;classifier&#x27;,\n",
       "                 KNeighborsClassifier(n_neighbors=13, weights=&#x27;distance&#x27;))])</pre><b>In a Jupyter environment, please rerun this cell to show the HTML representation or trust the notebook. <br />On GitHub, the HTML representation is unable to render, please try loading this page with nbviewer.org.</b></div><div class=\"sk-container\" hidden><div class=\"sk-item sk-dashed-wrapped\"><div class=\"sk-label-container\"><div class=\"sk-label sk-toggleable\"><input class=\"sk-toggleable__control sk-hidden--visually\" id=\"sk-estimator-id-13\" type=\"checkbox\" ><label for=\"sk-estimator-id-13\" class=\"sk-toggleable__label sk-toggleable__label-arrow\">Pipeline</label><div class=\"sk-toggleable__content\"><pre>Pipeline(steps=[(&#x27;classifier&#x27;,\n",
       "                 KNeighborsClassifier(n_neighbors=13, weights=&#x27;distance&#x27;))])</pre></div></div></div><div class=\"sk-serial\"><div class=\"sk-item\"><div class=\"sk-estimator sk-toggleable\"><input class=\"sk-toggleable__control sk-hidden--visually\" id=\"sk-estimator-id-14\" type=\"checkbox\" ><label for=\"sk-estimator-id-14\" class=\"sk-toggleable__label sk-toggleable__label-arrow\">KNeighborsClassifier</label><div class=\"sk-toggleable__content\"><pre>KNeighborsClassifier(n_neighbors=13, weights=&#x27;distance&#x27;)</pre></div></div></div></div></div></div></div>"
      ],
      "text/plain": [
       "Pipeline(steps=[('classifier',\n",
       "                 KNeighborsClassifier(n_neighbors=13, weights='distance'))])"
      ]
     },
     "execution_count": 20,
     "metadata": {},
     "output_type": "execute_result"
    }
   ],
   "source": [
    "from sklearn.preprocessing import StandardScaler\n",
    "from sklearn.neighbors import KNeighborsClassifier\n",
    "\n",
    "\n",
    "n_features = X_MACCS.shape[1]\n",
    "\n",
    "\n",
    "pipeline_functions_steps = [\n",
    "#     ('scaler', StandardScaler),\n",
    "    ('classifier', KNeighborsClassifier)\n",
    "]\n",
    "\n",
    "\n",
    "param_grid = {\n",
    "    'classifier__n_neighbors': [1, 3, 5, 7, 9, 11, 13, 15, 17, 19],\n",
    "    'classifier__weights': ['uniform', 'distance'],\n",
    "}\n",
    "\n",
    "\n",
    "\n",
    "best_knn_classifier = sklearn_grid_search_cv_and_test(X_MACCS, y_MACCS, pipeline_functions_steps, param_grid,\n",
    "                                                      n_folds=5, verbose=0.5, scoring='f1', seed=seed)\n",
    "\n",
    "score_after_oversampling(X_MACCS, y_MACCS, best_knn_classifier, seed)"
   ]
  },
  {
   "cell_type": "markdown",
   "metadata": {},
   "source": [
    "### Multilayer Perceptron"
   ]
  },
  {
   "cell_type": "code",
   "execution_count": 21,
   "metadata": {},
   "outputs": [
    {
     "name": "stdout",
     "output_type": "stream",
     "text": [
      "Fitting 5 folds for each of 36 candidates, totalling 180 fits\n"
     ]
    },
    {
     "name": "stderr",
     "output_type": "stream",
     "text": [
      "C:\\Users\\pitfl\\AppData\\Local\\Programs\\Python\\Python310\\lib\\site-packages\\sklearn\\neural_network\\_multilayer_perceptron.py:679: ConvergenceWarning: Stochastic Optimizer: Maximum iterations (500) reached and the optimization hasn't converged yet.\n",
      "  warnings.warn(\n",
      "C:\\Users\\pitfl\\AppData\\Local\\Programs\\Python\\Python310\\lib\\site-packages\\sklearn\\neural_network\\_multilayer_perceptron.py:679: ConvergenceWarning: Stochastic Optimizer: Maximum iterations (500) reached and the optimization hasn't converged yet.\n",
      "  warnings.warn(\n",
      "C:\\Users\\pitfl\\AppData\\Local\\Programs\\Python\\Python310\\lib\\site-packages\\sklearn\\neural_network\\_multilayer_perceptron.py:679: ConvergenceWarning: Stochastic Optimizer: Maximum iterations (500) reached and the optimization hasn't converged yet.\n",
      "  warnings.warn(\n",
      "C:\\Users\\pitfl\\AppData\\Local\\Programs\\Python\\Python310\\lib\\site-packages\\sklearn\\neural_network\\_multilayer_perceptron.py:679: ConvergenceWarning: Stochastic Optimizer: Maximum iterations (500) reached and the optimization hasn't converged yet.\n",
      "  warnings.warn(\n",
      "C:\\Users\\pitfl\\AppData\\Local\\Programs\\Python\\Python310\\lib\\site-packages\\sklearn\\neural_network\\_multilayer_perceptron.py:679: ConvergenceWarning: Stochastic Optimizer: Maximum iterations (500) reached and the optimization hasn't converged yet.\n",
      "  warnings.warn(\n",
      "C:\\Users\\pitfl\\AppData\\Local\\Programs\\Python\\Python310\\lib\\site-packages\\sklearn\\neural_network\\_multilayer_perceptron.py:679: ConvergenceWarning: Stochastic Optimizer: Maximum iterations (500) reached and the optimization hasn't converged yet.\n",
      "  warnings.warn(\n",
      "C:\\Users\\pitfl\\AppData\\Local\\Programs\\Python\\Python310\\lib\\site-packages\\sklearn\\neural_network\\_multilayer_perceptron.py:679: ConvergenceWarning: Stochastic Optimizer: Maximum iterations (500) reached and the optimization hasn't converged yet.\n",
      "  warnings.warn(\n",
      "C:\\Users\\pitfl\\AppData\\Local\\Programs\\Python\\Python310\\lib\\site-packages\\sklearn\\neural_network\\_multilayer_perceptron.py:679: ConvergenceWarning: Stochastic Optimizer: Maximum iterations (500) reached and the optimization hasn't converged yet.\n",
      "  warnings.warn(\n",
      "C:\\Users\\pitfl\\AppData\\Local\\Programs\\Python\\Python310\\lib\\site-packages\\sklearn\\neural_network\\_multilayer_perceptron.py:679: ConvergenceWarning: Stochastic Optimizer: Maximum iterations (500) reached and the optimization hasn't converged yet.\n",
      "  warnings.warn(\n",
      "C:\\Users\\pitfl\\AppData\\Local\\Programs\\Python\\Python310\\lib\\site-packages\\sklearn\\neural_network\\_multilayer_perceptron.py:679: ConvergenceWarning: Stochastic Optimizer: Maximum iterations (500) reached and the optimization hasn't converged yet.\n",
      "  warnings.warn(\n",
      "C:\\Users\\pitfl\\AppData\\Local\\Programs\\Python\\Python310\\lib\\site-packages\\sklearn\\neural_network\\_multilayer_perceptron.py:679: ConvergenceWarning: Stochastic Optimizer: Maximum iterations (500) reached and the optimization hasn't converged yet.\n",
      "  warnings.warn(\n",
      "C:\\Users\\pitfl\\AppData\\Local\\Programs\\Python\\Python310\\lib\\site-packages\\sklearn\\neural_network\\_multilayer_perceptron.py:679: ConvergenceWarning: Stochastic Optimizer: Maximum iterations (500) reached and the optimization hasn't converged yet.\n",
      "  warnings.warn(\n",
      "C:\\Users\\pitfl\\AppData\\Local\\Programs\\Python\\Python310\\lib\\site-packages\\sklearn\\neural_network\\_multilayer_perceptron.py:679: ConvergenceWarning: Stochastic Optimizer: Maximum iterations (500) reached and the optimization hasn't converged yet.\n",
      "  warnings.warn(\n",
      "C:\\Users\\pitfl\\AppData\\Local\\Programs\\Python\\Python310\\lib\\site-packages\\sklearn\\neural_network\\_multilayer_perceptron.py:679: ConvergenceWarning: Stochastic Optimizer: Maximum iterations (500) reached and the optimization hasn't converged yet.\n",
      "  warnings.warn(\n",
      "C:\\Users\\pitfl\\AppData\\Local\\Programs\\Python\\Python310\\lib\\site-packages\\sklearn\\neural_network\\_multilayer_perceptron.py:679: ConvergenceWarning: Stochastic Optimizer: Maximum iterations (500) reached and the optimization hasn't converged yet.\n",
      "  warnings.warn(\n",
      "C:\\Users\\pitfl\\AppData\\Local\\Programs\\Python\\Python310\\lib\\site-packages\\sklearn\\neural_network\\_multilayer_perceptron.py:679: ConvergenceWarning: Stochastic Optimizer: Maximum iterations (500) reached and the optimization hasn't converged yet.\n",
      "  warnings.warn(\n",
      "C:\\Users\\pitfl\\AppData\\Local\\Programs\\Python\\Python310\\lib\\site-packages\\sklearn\\neural_network\\_multilayer_perceptron.py:679: ConvergenceWarning: Stochastic Optimizer: Maximum iterations (500) reached and the optimization hasn't converged yet.\n",
      "  warnings.warn(\n",
      "C:\\Users\\pitfl\\AppData\\Local\\Programs\\Python\\Python310\\lib\\site-packages\\sklearn\\neural_network\\_multilayer_perceptron.py:679: ConvergenceWarning: Stochastic Optimizer: Maximum iterations (500) reached and the optimization hasn't converged yet.\n",
      "  warnings.warn(\n",
      "C:\\Users\\pitfl\\AppData\\Local\\Programs\\Python\\Python310\\lib\\site-packages\\sklearn\\neural_network\\_multilayer_perceptron.py:679: ConvergenceWarning: Stochastic Optimizer: Maximum iterations (500) reached and the optimization hasn't converged yet.\n",
      "  warnings.warn(\n",
      "C:\\Users\\pitfl\\AppData\\Local\\Programs\\Python\\Python310\\lib\\site-packages\\sklearn\\neural_network\\_multilayer_perceptron.py:679: ConvergenceWarning: Stochastic Optimizer: Maximum iterations (500) reached and the optimization hasn't converged yet.\n",
      "  warnings.warn(\n",
      "C:\\Users\\pitfl\\AppData\\Local\\Programs\\Python\\Python310\\lib\\site-packages\\sklearn\\neural_network\\_multilayer_perceptron.py:679: ConvergenceWarning: Stochastic Optimizer: Maximum iterations (500) reached and the optimization hasn't converged yet.\n",
      "  warnings.warn(\n",
      "C:\\Users\\pitfl\\AppData\\Local\\Programs\\Python\\Python310\\lib\\site-packages\\sklearn\\neural_network\\_multilayer_perceptron.py:679: ConvergenceWarning: Stochastic Optimizer: Maximum iterations (500) reached and the optimization hasn't converged yet.\n",
      "  warnings.warn(\n",
      "C:\\Users\\pitfl\\AppData\\Local\\Programs\\Python\\Python310\\lib\\site-packages\\sklearn\\neural_network\\_multilayer_perceptron.py:679: ConvergenceWarning: Stochastic Optimizer: Maximum iterations (500) reached and the optimization hasn't converged yet.\n",
      "  warnings.warn(\n",
      "C:\\Users\\pitfl\\AppData\\Local\\Programs\\Python\\Python310\\lib\\site-packages\\sklearn\\neural_network\\_multilayer_perceptron.py:679: ConvergenceWarning: Stochastic Optimizer: Maximum iterations (500) reached and the optimization hasn't converged yet.\n",
      "  warnings.warn(\n",
      "C:\\Users\\pitfl\\AppData\\Local\\Programs\\Python\\Python310\\lib\\site-packages\\sklearn\\neural_network\\_multilayer_perceptron.py:679: ConvergenceWarning: Stochastic Optimizer: Maximum iterations (500) reached and the optimization hasn't converged yet.\n",
      "  warnings.warn(\n",
      "C:\\Users\\pitfl\\AppData\\Local\\Programs\\Python\\Python310\\lib\\site-packages\\sklearn\\neural_network\\_multilayer_perceptron.py:679: ConvergenceWarning: Stochastic Optimizer: Maximum iterations (500) reached and the optimization hasn't converged yet.\n",
      "  warnings.warn(\n",
      "C:\\Users\\pitfl\\AppData\\Local\\Programs\\Python\\Python310\\lib\\site-packages\\sklearn\\neural_network\\_multilayer_perceptron.py:679: ConvergenceWarning: Stochastic Optimizer: Maximum iterations (500) reached and the optimization hasn't converged yet.\n",
      "  warnings.warn(\n",
      "C:\\Users\\pitfl\\AppData\\Local\\Programs\\Python\\Python310\\lib\\site-packages\\sklearn\\neural_network\\_multilayer_perceptron.py:679: ConvergenceWarning: Stochastic Optimizer: Maximum iterations (500) reached and the optimization hasn't converged yet.\n",
      "  warnings.warn(\n",
      "C:\\Users\\pitfl\\AppData\\Local\\Programs\\Python\\Python310\\lib\\site-packages\\sklearn\\neural_network\\_multilayer_perceptron.py:679: ConvergenceWarning: Stochastic Optimizer: Maximum iterations (500) reached and the optimization hasn't converged yet.\n",
      "  warnings.warn(\n",
      "C:\\Users\\pitfl\\AppData\\Local\\Programs\\Python\\Python310\\lib\\site-packages\\sklearn\\neural_network\\_multilayer_perceptron.py:679: ConvergenceWarning: Stochastic Optimizer: Maximum iterations (500) reached and the optimization hasn't converged yet.\n",
      "  warnings.warn(\n",
      "C:\\Users\\pitfl\\AppData\\Local\\Programs\\Python\\Python310\\lib\\site-packages\\sklearn\\neural_network\\_multilayer_perceptron.py:679: ConvergenceWarning: Stochastic Optimizer: Maximum iterations (500) reached and the optimization hasn't converged yet.\n",
      "  warnings.warn(\n",
      "C:\\Users\\pitfl\\AppData\\Local\\Programs\\Python\\Python310\\lib\\site-packages\\sklearn\\neural_network\\_multilayer_perceptron.py:679: ConvergenceWarning: Stochastic Optimizer: Maximum iterations (500) reached and the optimization hasn't converged yet.\n",
      "  warnings.warn(\n"
     ]
    },
    {
     "name": "stderr",
     "output_type": "stream",
     "text": [
      "C:\\Users\\pitfl\\AppData\\Local\\Programs\\Python\\Python310\\lib\\site-packages\\sklearn\\neural_network\\_multilayer_perceptron.py:679: ConvergenceWarning: Stochastic Optimizer: Maximum iterations (500) reached and the optimization hasn't converged yet.\n",
      "  warnings.warn(\n",
      "C:\\Users\\pitfl\\AppData\\Local\\Programs\\Python\\Python310\\lib\\site-packages\\sklearn\\neural_network\\_multilayer_perceptron.py:679: ConvergenceWarning: Stochastic Optimizer: Maximum iterations (500) reached and the optimization hasn't converged yet.\n",
      "  warnings.warn(\n",
      "C:\\Users\\pitfl\\AppData\\Local\\Programs\\Python\\Python310\\lib\\site-packages\\sklearn\\neural_network\\_multilayer_perceptron.py:679: ConvergenceWarning: Stochastic Optimizer: Maximum iterations (500) reached and the optimization hasn't converged yet.\n",
      "  warnings.warn(\n",
      "C:\\Users\\pitfl\\AppData\\Local\\Programs\\Python\\Python310\\lib\\site-packages\\sklearn\\neural_network\\_multilayer_perceptron.py:679: ConvergenceWarning: Stochastic Optimizer: Maximum iterations (500) reached and the optimization hasn't converged yet.\n",
      "  warnings.warn(\n",
      "C:\\Users\\pitfl\\AppData\\Local\\Programs\\Python\\Python310\\lib\\site-packages\\sklearn\\neural_network\\_multilayer_perceptron.py:679: ConvergenceWarning: Stochastic Optimizer: Maximum iterations (500) reached and the optimization hasn't converged yet.\n",
      "  warnings.warn(\n",
      "C:\\Users\\pitfl\\AppData\\Local\\Programs\\Python\\Python310\\lib\\site-packages\\sklearn\\neural_network\\_multilayer_perceptron.py:679: ConvergenceWarning: Stochastic Optimizer: Maximum iterations (500) reached and the optimization hasn't converged yet.\n",
      "  warnings.warn(\n",
      "C:\\Users\\pitfl\\AppData\\Local\\Programs\\Python\\Python310\\lib\\site-packages\\sklearn\\neural_network\\_multilayer_perceptron.py:679: ConvergenceWarning: Stochastic Optimizer: Maximum iterations (500) reached and the optimization hasn't converged yet.\n",
      "  warnings.warn(\n",
      "C:\\Users\\pitfl\\AppData\\Local\\Programs\\Python\\Python310\\lib\\site-packages\\sklearn\\neural_network\\_multilayer_perceptron.py:679: ConvergenceWarning: Stochastic Optimizer: Maximum iterations (500) reached and the optimization hasn't converged yet.\n",
      "  warnings.warn(\n",
      "C:\\Users\\pitfl\\AppData\\Local\\Programs\\Python\\Python310\\lib\\site-packages\\sklearn\\neural_network\\_multilayer_perceptron.py:679: ConvergenceWarning: Stochastic Optimizer: Maximum iterations (500) reached and the optimization hasn't converged yet.\n",
      "  warnings.warn(\n",
      "C:\\Users\\pitfl\\AppData\\Local\\Programs\\Python\\Python310\\lib\\site-packages\\sklearn\\neural_network\\_multilayer_perceptron.py:679: ConvergenceWarning: Stochastic Optimizer: Maximum iterations (500) reached and the optimization hasn't converged yet.\n",
      "  warnings.warn(\n",
      "C:\\Users\\pitfl\\AppData\\Local\\Programs\\Python\\Python310\\lib\\site-packages\\sklearn\\neural_network\\_multilayer_perceptron.py:679: ConvergenceWarning: Stochastic Optimizer: Maximum iterations (500) reached and the optimization hasn't converged yet.\n",
      "  warnings.warn(\n",
      "C:\\Users\\pitfl\\AppData\\Local\\Programs\\Python\\Python310\\lib\\site-packages\\sklearn\\neural_network\\_multilayer_perceptron.py:679: ConvergenceWarning: Stochastic Optimizer: Maximum iterations (500) reached and the optimization hasn't converged yet.\n",
      "  warnings.warn(\n",
      "C:\\Users\\pitfl\\AppData\\Local\\Programs\\Python\\Python310\\lib\\site-packages\\sklearn\\neural_network\\_multilayer_perceptron.py:679: ConvergenceWarning: Stochastic Optimizer: Maximum iterations (500) reached and the optimization hasn't converged yet.\n",
      "  warnings.warn(\n",
      "C:\\Users\\pitfl\\AppData\\Local\\Programs\\Python\\Python310\\lib\\site-packages\\sklearn\\neural_network\\_multilayer_perceptron.py:679: ConvergenceWarning: Stochastic Optimizer: Maximum iterations (500) reached and the optimization hasn't converged yet.\n",
      "  warnings.warn(\n",
      "C:\\Users\\pitfl\\AppData\\Local\\Programs\\Python\\Python310\\lib\\site-packages\\sklearn\\neural_network\\_multilayer_perceptron.py:679: ConvergenceWarning: Stochastic Optimizer: Maximum iterations (500) reached and the optimization hasn't converged yet.\n",
      "  warnings.warn(\n",
      "C:\\Users\\pitfl\\AppData\\Local\\Programs\\Python\\Python310\\lib\\site-packages\\sklearn\\neural_network\\_multilayer_perceptron.py:679: ConvergenceWarning: Stochastic Optimizer: Maximum iterations (500) reached and the optimization hasn't converged yet.\n",
      "  warnings.warn(\n",
      "C:\\Users\\pitfl\\AppData\\Local\\Programs\\Python\\Python310\\lib\\site-packages\\sklearn\\neural_network\\_multilayer_perceptron.py:679: ConvergenceWarning: Stochastic Optimizer: Maximum iterations (500) reached and the optimization hasn't converged yet.\n",
      "  warnings.warn(\n",
      "C:\\Users\\pitfl\\AppData\\Local\\Programs\\Python\\Python310\\lib\\site-packages\\sklearn\\neural_network\\_multilayer_perceptron.py:679: ConvergenceWarning: Stochastic Optimizer: Maximum iterations (500) reached and the optimization hasn't converged yet.\n",
      "  warnings.warn(\n",
      "C:\\Users\\pitfl\\AppData\\Local\\Programs\\Python\\Python310\\lib\\site-packages\\sklearn\\neural_network\\_multilayer_perceptron.py:679: ConvergenceWarning: Stochastic Optimizer: Maximum iterations (500) reached and the optimization hasn't converged yet.\n",
      "  warnings.warn(\n",
      "C:\\Users\\pitfl\\AppData\\Local\\Programs\\Python\\Python310\\lib\\site-packages\\sklearn\\neural_network\\_multilayer_perceptron.py:679: ConvergenceWarning: Stochastic Optimizer: Maximum iterations (500) reached and the optimization hasn't converged yet.\n",
      "  warnings.warn(\n",
      "C:\\Users\\pitfl\\AppData\\Local\\Programs\\Python\\Python310\\lib\\site-packages\\sklearn\\neural_network\\_multilayer_perceptron.py:679: ConvergenceWarning: Stochastic Optimizer: Maximum iterations (500) reached and the optimization hasn't converged yet.\n",
      "  warnings.warn(\n",
      "C:\\Users\\pitfl\\AppData\\Local\\Programs\\Python\\Python310\\lib\\site-packages\\sklearn\\neural_network\\_multilayer_perceptron.py:679: ConvergenceWarning: Stochastic Optimizer: Maximum iterations (500) reached and the optimization hasn't converged yet.\n",
      "  warnings.warn(\n",
      "C:\\Users\\pitfl\\AppData\\Local\\Programs\\Python\\Python310\\lib\\site-packages\\sklearn\\neural_network\\_multilayer_perceptron.py:679: ConvergenceWarning: Stochastic Optimizer: Maximum iterations (500) reached and the optimization hasn't converged yet.\n",
      "  warnings.warn(\n",
      "C:\\Users\\pitfl\\AppData\\Local\\Programs\\Python\\Python310\\lib\\site-packages\\sklearn\\neural_network\\_multilayer_perceptron.py:679: ConvergenceWarning: Stochastic Optimizer: Maximum iterations (500) reached and the optimization hasn't converged yet.\n",
      "  warnings.warn(\n",
      "C:\\Users\\pitfl\\AppData\\Local\\Programs\\Python\\Python310\\lib\\site-packages\\sklearn\\neural_network\\_multilayer_perceptron.py:679: ConvergenceWarning: Stochastic Optimizer: Maximum iterations (500) reached and the optimization hasn't converged yet.\n",
      "  warnings.warn(\n",
      "C:\\Users\\pitfl\\AppData\\Local\\Programs\\Python\\Python310\\lib\\site-packages\\sklearn\\neural_network\\_multilayer_perceptron.py:679: ConvergenceWarning: Stochastic Optimizer: Maximum iterations (500) reached and the optimization hasn't converged yet.\n",
      "  warnings.warn(\n",
      "C:\\Users\\pitfl\\AppData\\Local\\Programs\\Python\\Python310\\lib\\site-packages\\sklearn\\neural_network\\_multilayer_perceptron.py:679: ConvergenceWarning: Stochastic Optimizer: Maximum iterations (500) reached and the optimization hasn't converged yet.\n",
      "  warnings.warn(\n",
      "C:\\Users\\pitfl\\AppData\\Local\\Programs\\Python\\Python310\\lib\\site-packages\\sklearn\\neural_network\\_multilayer_perceptron.py:679: ConvergenceWarning: Stochastic Optimizer: Maximum iterations (500) reached and the optimization hasn't converged yet.\n",
      "  warnings.warn(\n",
      "C:\\Users\\pitfl\\AppData\\Local\\Programs\\Python\\Python310\\lib\\site-packages\\sklearn\\neural_network\\_multilayer_perceptron.py:679: ConvergenceWarning: Stochastic Optimizer: Maximum iterations (500) reached and the optimization hasn't converged yet.\n",
      "  warnings.warn(\n",
      "C:\\Users\\pitfl\\AppData\\Local\\Programs\\Python\\Python310\\lib\\site-packages\\sklearn\\neural_network\\_multilayer_perceptron.py:679: ConvergenceWarning: Stochastic Optimizer: Maximum iterations (500) reached and the optimization hasn't converged yet.\n",
      "  warnings.warn(\n",
      "C:\\Users\\pitfl\\AppData\\Local\\Programs\\Python\\Python310\\lib\\site-packages\\sklearn\\neural_network\\_multilayer_perceptron.py:679: ConvergenceWarning: Stochastic Optimizer: Maximum iterations (500) reached and the optimization hasn't converged yet.\n",
      "  warnings.warn(\n",
      "C:\\Users\\pitfl\\AppData\\Local\\Programs\\Python\\Python310\\lib\\site-packages\\sklearn\\neural_network\\_multilayer_perceptron.py:679: ConvergenceWarning: Stochastic Optimizer: Maximum iterations (500) reached and the optimization hasn't converged yet.\n",
      "  warnings.warn(\n"
     ]
    },
    {
     "name": "stderr",
     "output_type": "stream",
     "text": [
      "C:\\Users\\pitfl\\AppData\\Local\\Programs\\Python\\Python310\\lib\\site-packages\\sklearn\\neural_network\\_multilayer_perceptron.py:679: ConvergenceWarning: Stochastic Optimizer: Maximum iterations (500) reached and the optimization hasn't converged yet.\n",
      "  warnings.warn(\n",
      "C:\\Users\\pitfl\\AppData\\Local\\Programs\\Python\\Python310\\lib\\site-packages\\sklearn\\neural_network\\_multilayer_perceptron.py:679: ConvergenceWarning: Stochastic Optimizer: Maximum iterations (500) reached and the optimization hasn't converged yet.\n",
      "  warnings.warn(\n",
      "C:\\Users\\pitfl\\AppData\\Local\\Programs\\Python\\Python310\\lib\\site-packages\\sklearn\\neural_network\\_multilayer_perceptron.py:679: ConvergenceWarning: Stochastic Optimizer: Maximum iterations (500) reached and the optimization hasn't converged yet.\n",
      "  warnings.warn(\n",
      "C:\\Users\\pitfl\\AppData\\Local\\Programs\\Python\\Python310\\lib\\site-packages\\sklearn\\neural_network\\_multilayer_perceptron.py:679: ConvergenceWarning: Stochastic Optimizer: Maximum iterations (500) reached and the optimization hasn't converged yet.\n",
      "  warnings.warn(\n",
      "C:\\Users\\pitfl\\AppData\\Local\\Programs\\Python\\Python310\\lib\\site-packages\\sklearn\\neural_network\\_multilayer_perceptron.py:679: ConvergenceWarning: Stochastic Optimizer: Maximum iterations (500) reached and the optimization hasn't converged yet.\n",
      "  warnings.warn(\n",
      "C:\\Users\\pitfl\\AppData\\Local\\Programs\\Python\\Python310\\lib\\site-packages\\sklearn\\neural_network\\_multilayer_perceptron.py:679: ConvergenceWarning: Stochastic Optimizer: Maximum iterations (500) reached and the optimization hasn't converged yet.\n",
      "  warnings.warn(\n",
      "C:\\Users\\pitfl\\AppData\\Local\\Programs\\Python\\Python310\\lib\\site-packages\\sklearn\\neural_network\\_multilayer_perceptron.py:679: ConvergenceWarning: Stochastic Optimizer: Maximum iterations (500) reached and the optimization hasn't converged yet.\n",
      "  warnings.warn(\n",
      "C:\\Users\\pitfl\\AppData\\Local\\Programs\\Python\\Python310\\lib\\site-packages\\sklearn\\neural_network\\_multilayer_perceptron.py:679: ConvergenceWarning: Stochastic Optimizer: Maximum iterations (500) reached and the optimization hasn't converged yet.\n",
      "  warnings.warn(\n",
      "C:\\Users\\pitfl\\AppData\\Local\\Programs\\Python\\Python310\\lib\\site-packages\\sklearn\\neural_network\\_multilayer_perceptron.py:679: ConvergenceWarning: Stochastic Optimizer: Maximum iterations (500) reached and the optimization hasn't converged yet.\n",
      "  warnings.warn(\n",
      "C:\\Users\\pitfl\\AppData\\Local\\Programs\\Python\\Python310\\lib\\site-packages\\sklearn\\neural_network\\_multilayer_perceptron.py:679: ConvergenceWarning: Stochastic Optimizer: Maximum iterations (500) reached and the optimization hasn't converged yet.\n",
      "  warnings.warn(\n",
      "C:\\Users\\pitfl\\AppData\\Local\\Programs\\Python\\Python310\\lib\\site-packages\\sklearn\\neural_network\\_multilayer_perceptron.py:679: ConvergenceWarning: Stochastic Optimizer: Maximum iterations (500) reached and the optimization hasn't converged yet.\n",
      "  warnings.warn(\n",
      "C:\\Users\\pitfl\\AppData\\Local\\Programs\\Python\\Python310\\lib\\site-packages\\sklearn\\neural_network\\_multilayer_perceptron.py:679: ConvergenceWarning: Stochastic Optimizer: Maximum iterations (500) reached and the optimization hasn't converged yet.\n",
      "  warnings.warn(\n",
      "C:\\Users\\pitfl\\AppData\\Local\\Programs\\Python\\Python310\\lib\\site-packages\\sklearn\\neural_network\\_multilayer_perceptron.py:679: ConvergenceWarning: Stochastic Optimizer: Maximum iterations (500) reached and the optimization hasn't converged yet.\n",
      "  warnings.warn(\n",
      "C:\\Users\\pitfl\\AppData\\Local\\Programs\\Python\\Python310\\lib\\site-packages\\sklearn\\neural_network\\_multilayer_perceptron.py:679: ConvergenceWarning: Stochastic Optimizer: Maximum iterations (500) reached and the optimization hasn't converged yet.\n",
      "  warnings.warn(\n",
      "C:\\Users\\pitfl\\AppData\\Local\\Programs\\Python\\Python310\\lib\\site-packages\\sklearn\\neural_network\\_multilayer_perceptron.py:679: ConvergenceWarning: Stochastic Optimizer: Maximum iterations (500) reached and the optimization hasn't converged yet.\n",
      "  warnings.warn(\n",
      "C:\\Users\\pitfl\\AppData\\Local\\Programs\\Python\\Python310\\lib\\site-packages\\sklearn\\neural_network\\_multilayer_perceptron.py:679: ConvergenceWarning: Stochastic Optimizer: Maximum iterations (500) reached and the optimization hasn't converged yet.\n",
      "  warnings.warn(\n",
      "C:\\Users\\pitfl\\AppData\\Local\\Programs\\Python\\Python310\\lib\\site-packages\\sklearn\\neural_network\\_multilayer_perceptron.py:679: ConvergenceWarning: Stochastic Optimizer: Maximum iterations (500) reached and the optimization hasn't converged yet.\n",
      "  warnings.warn(\n",
      "C:\\Users\\pitfl\\AppData\\Local\\Programs\\Python\\Python310\\lib\\site-packages\\sklearn\\neural_network\\_multilayer_perceptron.py:679: ConvergenceWarning: Stochastic Optimizer: Maximum iterations (500) reached and the optimization hasn't converged yet.\n",
      "  warnings.warn(\n",
      "C:\\Users\\pitfl\\AppData\\Local\\Programs\\Python\\Python310\\lib\\site-packages\\sklearn\\neural_network\\_multilayer_perceptron.py:679: ConvergenceWarning: Stochastic Optimizer: Maximum iterations (500) reached and the optimization hasn't converged yet.\n",
      "  warnings.warn(\n",
      "C:\\Users\\pitfl\\AppData\\Local\\Programs\\Python\\Python310\\lib\\site-packages\\sklearn\\neural_network\\_multilayer_perceptron.py:679: ConvergenceWarning: Stochastic Optimizer: Maximum iterations (500) reached and the optimization hasn't converged yet.\n",
      "  warnings.warn(\n"
     ]
    },
    {
     "name": "stdout",
     "output_type": "stream",
     "text": [
      "Best Parameters: {'classifier__hidden_layer_sizes': [128], 'classifier__learning_rate': 'constant', 'classifier__learning_rate_init': 0.0005, 'classifier__max_iter': 500, 'classifier__solver': 'sgd'}\n",
      "Best Validation Score (f1): 0.7852\n",
      "f1-score on test set: 0.7560\n",
      "Oversampling the Training set and then fit the optimal pipeline...\n",
      "\n"
     ]
    },
    {
     "name": "stderr",
     "output_type": "stream",
     "text": [
      "C:\\Users\\pitfl\\AppData\\Local\\Programs\\Python\\Python310\\lib\\site-packages\\sklearn\\neural_network\\_multilayer_perceptron.py:679: ConvergenceWarning: Stochastic Optimizer: Maximum iterations (500) reached and the optimization hasn't converged yet.\n",
      "  warnings.warn(\n"
     ]
    },
    {
     "name": "stdout",
     "output_type": "stream",
     "text": [
      "f1-score on test set after applying oversampling the training set: 0.7556\n"
     ]
    },
    {
     "data": {
      "text/html": [
       "<style>#sk-container-id-7 {color: black;background-color: white;}#sk-container-id-7 pre{padding: 0;}#sk-container-id-7 div.sk-toggleable {background-color: white;}#sk-container-id-7 label.sk-toggleable__label {cursor: pointer;display: block;width: 100%;margin-bottom: 0;padding: 0.3em;box-sizing: border-box;text-align: center;}#sk-container-id-7 label.sk-toggleable__label-arrow:before {content: \"▸\";float: left;margin-right: 0.25em;color: #696969;}#sk-container-id-7 label.sk-toggleable__label-arrow:hover:before {color: black;}#sk-container-id-7 div.sk-estimator:hover label.sk-toggleable__label-arrow:before {color: black;}#sk-container-id-7 div.sk-toggleable__content {max-height: 0;max-width: 0;overflow: hidden;text-align: left;background-color: #f0f8ff;}#sk-container-id-7 div.sk-toggleable__content pre {margin: 0.2em;color: black;border-radius: 0.25em;background-color: #f0f8ff;}#sk-container-id-7 input.sk-toggleable__control:checked~div.sk-toggleable__content {max-height: 200px;max-width: 100%;overflow: auto;}#sk-container-id-7 input.sk-toggleable__control:checked~label.sk-toggleable__label-arrow:before {content: \"▾\";}#sk-container-id-7 div.sk-estimator input.sk-toggleable__control:checked~label.sk-toggleable__label {background-color: #d4ebff;}#sk-container-id-7 div.sk-label input.sk-toggleable__control:checked~label.sk-toggleable__label {background-color: #d4ebff;}#sk-container-id-7 input.sk-hidden--visually {border: 0;clip: rect(1px 1px 1px 1px);clip: rect(1px, 1px, 1px, 1px);height: 1px;margin: -1px;overflow: hidden;padding: 0;position: absolute;width: 1px;}#sk-container-id-7 div.sk-estimator {font-family: monospace;background-color: #f0f8ff;border: 1px dotted black;border-radius: 0.25em;box-sizing: border-box;margin-bottom: 0.5em;}#sk-container-id-7 div.sk-estimator:hover {background-color: #d4ebff;}#sk-container-id-7 div.sk-parallel-item::after {content: \"\";width: 100%;border-bottom: 1px solid gray;flex-grow: 1;}#sk-container-id-7 div.sk-label:hover label.sk-toggleable__label {background-color: #d4ebff;}#sk-container-id-7 div.sk-serial::before {content: \"\";position: absolute;border-left: 1px solid gray;box-sizing: border-box;top: 0;bottom: 0;left: 50%;z-index: 0;}#sk-container-id-7 div.sk-serial {display: flex;flex-direction: column;align-items: center;background-color: white;padding-right: 0.2em;padding-left: 0.2em;position: relative;}#sk-container-id-7 div.sk-item {position: relative;z-index: 1;}#sk-container-id-7 div.sk-parallel {display: flex;align-items: stretch;justify-content: center;background-color: white;position: relative;}#sk-container-id-7 div.sk-item::before, #sk-container-id-7 div.sk-parallel-item::before {content: \"\";position: absolute;border-left: 1px solid gray;box-sizing: border-box;top: 0;bottom: 0;left: 50%;z-index: -1;}#sk-container-id-7 div.sk-parallel-item {display: flex;flex-direction: column;z-index: 1;position: relative;background-color: white;}#sk-container-id-7 div.sk-parallel-item:first-child::after {align-self: flex-end;width: 50%;}#sk-container-id-7 div.sk-parallel-item:last-child::after {align-self: flex-start;width: 50%;}#sk-container-id-7 div.sk-parallel-item:only-child::after {width: 0;}#sk-container-id-7 div.sk-dashed-wrapped {border: 1px dashed gray;margin: 0 0.4em 0.5em 0.4em;box-sizing: border-box;padding-bottom: 0.4em;background-color: white;}#sk-container-id-7 div.sk-label label {font-family: monospace;font-weight: bold;display: inline-block;line-height: 1.2em;}#sk-container-id-7 div.sk-label-container {text-align: center;}#sk-container-id-7 div.sk-container {/* jupyter's `normalize.less` sets `[hidden] { display: none; }` but bootstrap.min.css set `[hidden] { display: none !important; }` so we also need the `!important` here to be able to override the default hidden behavior on the sphinx rendered scikit-learn.org. See: https://github.com/scikit-learn/scikit-learn/issues/21755 */display: inline-block !important;position: relative;}#sk-container-id-7 div.sk-text-repr-fallback {display: none;}</style><div id=\"sk-container-id-7\" class=\"sk-top-container\"><div class=\"sk-text-repr-fallback\"><pre>Pipeline(steps=[(&#x27;scaler&#x27;, StandardScaler()),\n",
       "                (&#x27;classifier&#x27;,\n",
       "                 MLPClassifier(hidden_layer_sizes=[128],\n",
       "                               learning_rate_init=0.0005, max_iter=500,\n",
       "                               solver=&#x27;sgd&#x27;))])</pre><b>In a Jupyter environment, please rerun this cell to show the HTML representation or trust the notebook. <br />On GitHub, the HTML representation is unable to render, please try loading this page with nbviewer.org.</b></div><div class=\"sk-container\" hidden><div class=\"sk-item sk-dashed-wrapped\"><div class=\"sk-label-container\"><div class=\"sk-label sk-toggleable\"><input class=\"sk-toggleable__control sk-hidden--visually\" id=\"sk-estimator-id-15\" type=\"checkbox\" ><label for=\"sk-estimator-id-15\" class=\"sk-toggleable__label sk-toggleable__label-arrow\">Pipeline</label><div class=\"sk-toggleable__content\"><pre>Pipeline(steps=[(&#x27;scaler&#x27;, StandardScaler()),\n",
       "                (&#x27;classifier&#x27;,\n",
       "                 MLPClassifier(hidden_layer_sizes=[128],\n",
       "                               learning_rate_init=0.0005, max_iter=500,\n",
       "                               solver=&#x27;sgd&#x27;))])</pre></div></div></div><div class=\"sk-serial\"><div class=\"sk-item\"><div class=\"sk-estimator sk-toggleable\"><input class=\"sk-toggleable__control sk-hidden--visually\" id=\"sk-estimator-id-16\" type=\"checkbox\" ><label for=\"sk-estimator-id-16\" class=\"sk-toggleable__label sk-toggleable__label-arrow\">StandardScaler</label><div class=\"sk-toggleable__content\"><pre>StandardScaler()</pre></div></div></div><div class=\"sk-item\"><div class=\"sk-estimator sk-toggleable\"><input class=\"sk-toggleable__control sk-hidden--visually\" id=\"sk-estimator-id-17\" type=\"checkbox\" ><label for=\"sk-estimator-id-17\" class=\"sk-toggleable__label sk-toggleable__label-arrow\">MLPClassifier</label><div class=\"sk-toggleable__content\"><pre>MLPClassifier(hidden_layer_sizes=[128], learning_rate_init=0.0005, max_iter=500,\n",
       "              solver=&#x27;sgd&#x27;)</pre></div></div></div></div></div></div></div>"
      ],
      "text/plain": [
       "Pipeline(steps=[('scaler', StandardScaler()),\n",
       "                ('classifier',\n",
       "                 MLPClassifier(hidden_layer_sizes=[128],\n",
       "                               learning_rate_init=0.0005, max_iter=500,\n",
       "                               solver='sgd'))])"
      ]
     },
     "execution_count": 21,
     "metadata": {},
     "output_type": "execute_result"
    }
   ],
   "source": [
    "from sklearn.neural_network import MLPClassifier\n",
    "\n",
    "\n",
    "pipeline_functions_steps = [\n",
    "    ('scaler', StandardScaler),\n",
    "    ('classifier', MLPClassifier)\n",
    "]\n",
    "\n",
    "\n",
    "param_grid = {\n",
    "    'classifier__hidden_layer_sizes': [[64], [128], [128, 64]],\n",
    "    'classifier__solver': ['sgd', 'adam'],\n",
    "    'classifier__learning_rate': ['constant', 'adaptive'],\n",
    "    'classifier__learning_rate_init': [5e-4, 1e-3, 5e-3],\n",
    "    'classifier__max_iter': [500]\n",
    "}\n",
    "\n",
    "\n",
    "best_mlp_classifier = sklearn_grid_search_cv_and_test(X_MACCS, y_MACCS, pipeline_functions_steps, param_grid,\n",
    "                                                      n_folds=5, verbose=0.5, scoring='f1', seed=seed)\n",
    "\n",
    "score_after_oversampling(X_MACCS, y_MACCS, best_mlp_classifier, seed)"
   ]
  },
  {
   "cell_type": "code",
   "execution_count": 236,
   "metadata": {},
   "outputs": [
    {
     "name": "stdout",
     "output_type": "stream",
     "text": [
      "Oversampling the Training set and then fit the optimal pipeline...\n",
      "\n",
      "f1-score on test set after applying oversampling the training set: 0.7781\n"
     ]
    },
    {
     "data": {
      "text/html": [
       "<style>#sk-container-id-10 {color: black;background-color: white;}#sk-container-id-10 pre{padding: 0;}#sk-container-id-10 div.sk-toggleable {background-color: white;}#sk-container-id-10 label.sk-toggleable__label {cursor: pointer;display: block;width: 100%;margin-bottom: 0;padding: 0.3em;box-sizing: border-box;text-align: center;}#sk-container-id-10 label.sk-toggleable__label-arrow:before {content: \"▸\";float: left;margin-right: 0.25em;color: #696969;}#sk-container-id-10 label.sk-toggleable__label-arrow:hover:before {color: black;}#sk-container-id-10 div.sk-estimator:hover label.sk-toggleable__label-arrow:before {color: black;}#sk-container-id-10 div.sk-toggleable__content {max-height: 0;max-width: 0;overflow: hidden;text-align: left;background-color: #f0f8ff;}#sk-container-id-10 div.sk-toggleable__content pre {margin: 0.2em;color: black;border-radius: 0.25em;background-color: #f0f8ff;}#sk-container-id-10 input.sk-toggleable__control:checked~div.sk-toggleable__content {max-height: 200px;max-width: 100%;overflow: auto;}#sk-container-id-10 input.sk-toggleable__control:checked~label.sk-toggleable__label-arrow:before {content: \"▾\";}#sk-container-id-10 div.sk-estimator input.sk-toggleable__control:checked~label.sk-toggleable__label {background-color: #d4ebff;}#sk-container-id-10 div.sk-label input.sk-toggleable__control:checked~label.sk-toggleable__label {background-color: #d4ebff;}#sk-container-id-10 input.sk-hidden--visually {border: 0;clip: rect(1px 1px 1px 1px);clip: rect(1px, 1px, 1px, 1px);height: 1px;margin: -1px;overflow: hidden;padding: 0;position: absolute;width: 1px;}#sk-container-id-10 div.sk-estimator {font-family: monospace;background-color: #f0f8ff;border: 1px dotted black;border-radius: 0.25em;box-sizing: border-box;margin-bottom: 0.5em;}#sk-container-id-10 div.sk-estimator:hover {background-color: #d4ebff;}#sk-container-id-10 div.sk-parallel-item::after {content: \"\";width: 100%;border-bottom: 1px solid gray;flex-grow: 1;}#sk-container-id-10 div.sk-label:hover label.sk-toggleable__label {background-color: #d4ebff;}#sk-container-id-10 div.sk-serial::before {content: \"\";position: absolute;border-left: 1px solid gray;box-sizing: border-box;top: 0;bottom: 0;left: 50%;z-index: 0;}#sk-container-id-10 div.sk-serial {display: flex;flex-direction: column;align-items: center;background-color: white;padding-right: 0.2em;padding-left: 0.2em;position: relative;}#sk-container-id-10 div.sk-item {position: relative;z-index: 1;}#sk-container-id-10 div.sk-parallel {display: flex;align-items: stretch;justify-content: center;background-color: white;position: relative;}#sk-container-id-10 div.sk-item::before, #sk-container-id-10 div.sk-parallel-item::before {content: \"\";position: absolute;border-left: 1px solid gray;box-sizing: border-box;top: 0;bottom: 0;left: 50%;z-index: -1;}#sk-container-id-10 div.sk-parallel-item {display: flex;flex-direction: column;z-index: 1;position: relative;background-color: white;}#sk-container-id-10 div.sk-parallel-item:first-child::after {align-self: flex-end;width: 50%;}#sk-container-id-10 div.sk-parallel-item:last-child::after {align-self: flex-start;width: 50%;}#sk-container-id-10 div.sk-parallel-item:only-child::after {width: 0;}#sk-container-id-10 div.sk-dashed-wrapped {border: 1px dashed gray;margin: 0 0.4em 0.5em 0.4em;box-sizing: border-box;padding-bottom: 0.4em;background-color: white;}#sk-container-id-10 div.sk-label label {font-family: monospace;font-weight: bold;display: inline-block;line-height: 1.2em;}#sk-container-id-10 div.sk-label-container {text-align: center;}#sk-container-id-10 div.sk-container {/* jupyter's `normalize.less` sets `[hidden] { display: none; }` but bootstrap.min.css set `[hidden] { display: none !important; }` so we also need the `!important` here to be able to override the default hidden behavior on the sphinx rendered scikit-learn.org. See: https://github.com/scikit-learn/scikit-learn/issues/21755 */display: inline-block !important;position: relative;}#sk-container-id-10 div.sk-text-repr-fallback {display: none;}</style><div id=\"sk-container-id-10\" class=\"sk-top-container\"><div class=\"sk-text-repr-fallback\"><pre>Pipeline(steps=[(&#x27;vt&#x27;, VarianceThreshold(threshold=0.001)),\n",
       "                (&#x27;classifier&#x27;,\n",
       "                 SVC(gamma=0.1, probability=True, random_state=42))])</pre><b>In a Jupyter environment, please rerun this cell to show the HTML representation or trust the notebook. <br />On GitHub, the HTML representation is unable to render, please try loading this page with nbviewer.org.</b></div><div class=\"sk-container\" hidden><div class=\"sk-item sk-dashed-wrapped\"><div class=\"sk-label-container\"><div class=\"sk-label sk-toggleable\"><input class=\"sk-toggleable__control sk-hidden--visually\" id=\"sk-estimator-id-34\" type=\"checkbox\" ><label for=\"sk-estimator-id-34\" class=\"sk-toggleable__label sk-toggleable__label-arrow\">Pipeline</label><div class=\"sk-toggleable__content\"><pre>Pipeline(steps=[(&#x27;vt&#x27;, VarianceThreshold(threshold=0.001)),\n",
       "                (&#x27;classifier&#x27;,\n",
       "                 SVC(gamma=0.1, probability=True, random_state=42))])</pre></div></div></div><div class=\"sk-serial\"><div class=\"sk-item\"><div class=\"sk-estimator sk-toggleable\"><input class=\"sk-toggleable__control sk-hidden--visually\" id=\"sk-estimator-id-35\" type=\"checkbox\" ><label for=\"sk-estimator-id-35\" class=\"sk-toggleable__label sk-toggleable__label-arrow\">VarianceThreshold</label><div class=\"sk-toggleable__content\"><pre>VarianceThreshold(threshold=0.001)</pre></div></div></div><div class=\"sk-item\"><div class=\"sk-estimator sk-toggleable\"><input class=\"sk-toggleable__control sk-hidden--visually\" id=\"sk-estimator-id-36\" type=\"checkbox\" ><label for=\"sk-estimator-id-36\" class=\"sk-toggleable__label sk-toggleable__label-arrow\">SVC</label><div class=\"sk-toggleable__content\"><pre>SVC(gamma=0.1, probability=True, random_state=42)</pre></div></div></div></div></div></div></div>"
      ],
      "text/plain": [
       "Pipeline(steps=[('vt', VarianceThreshold(threshold=0.001)),\n",
       "                ('classifier',\n",
       "                 SVC(gamma=0.1, probability=True, random_state=42))])"
      ]
     },
     "execution_count": 236,
     "metadata": {},
     "output_type": "execute_result"
    }
   ],
   "source": [
    "from sklearn.pipeline import Pipeline\n",
    "from sklearn.preprocessing import StandardScaler\n",
    "from sklearn.feature_selection import VarianceThreshold\n",
    "from sklearn.svm import SVC\n",
    "from sklearn.ensemble import RandomForestClassifier\n",
    "from sklearn.neighbors import KNeighborsClassifier\n",
    "from sklearn.neural_network import MLPClassifier\n",
    "from sklearn.ensemble import VotingClassifier\n",
    "\n",
    "svm_pipeline = Pipeline([\n",
    "    ('vt', VarianceThreshold(threshold=0.001)),\n",
    "    ('classifier', SVC(C=1.0, kernel='rbf', gamma=0.1, random_state=seed, probability=True)), \n",
    "])\n",
    "\n",
    "mlp_pipeline = Pipeline([\n",
    "    ('scaler', StandardScaler()),\n",
    "    ('classifier', MLPClassifier(hidden_layer_sizes=[128],\n",
    "                                 learning_rate_init=0.0005,\n",
    "                                 max_iter=500,\n",
    "                                 solver='sgd',\n",
    "                                 random_state=seed))\n",
    "])\n",
    "\n",
    "knn_pipeline = Pipeline([\n",
    "    ('scaler', StandardScaler()),\n",
    "    ('classifier', KNeighborsClassifier(n_neighbors=13, weights='distance'))\n",
    "])\n",
    "\n",
    "rf_pipeline = Pipeline([\n",
    "    ('classifier', RandomForestClassifier(criterion='entropy', n_estimators=500, random_state=seed))\n",
    "])\n",
    "\n",
    "estimators = [('svm', svm_pipeline),\n",
    "              ('mlp', mlp_pipeline),\n",
    "              ('knn', knn_pipeline),\n",
    "              ('rf', rf_pipeline)\n",
    "             ]\n",
    "\n",
    "\n",
    "\n",
    "\n",
    "# Define the Voting Classifier\n",
    "voting_clf = VotingClassifier(\n",
    "    estimators=estimators,\n",
    "    voting='soft'  \n",
    ")\n",
    "\n",
    "\n",
    "\n",
    "\n",
    "def eyo(X, y, best_classifier, seed):\n",
    "    X_train, X_test, y_train, y_test = class_balanced_random_split(X, y, seed=seed)\n",
    "\n",
    "    # Oversampling to balance classes\n",
    "    print(\"Oversampling the Training set and then fit the optimal pipeline...\\n\")\n",
    "    X_train_oversampled, y_train_oversampled = RandomOverSampler().fit_resample(X_train, y_train)\n",
    "\n",
    "    \n",
    "    final_classifier = copy.deepcopy(best_classifier)\n",
    "    final_classifier.fit(X_train_oversampled, y_train_oversampled)\n",
    "\n",
    "\n",
    "    scoring = 'f1'\n",
    "    f1_scorer = metrics.get_scorer(scoring)\n",
    "    f1 = f1_scorer(final_classifier, X_test, y_test)\n",
    "\n",
    "    print(f\"{scoring}-score on test set after applying oversampling the training set: {f1:.4f}\")\n",
    "    \n",
    "    return final_classifier\n",
    "\n",
    "\n",
    "eyo(X_MACCS, y_MACCS, svm_pipeline, seed)\n",
    "\n"
   ]
  },
  {
   "cell_type": "code",
   "execution_count": 239,
   "metadata": {
    "scrolled": false
   },
   "outputs": [
    {
     "name": "stderr",
     "output_type": "stream",
     "text": [
      "Creating descriptors: 100%|███████████████████████████████████████████████████████| 3500/3500 [00:03<00:00, 926.27it/s]\n",
      "Creating descriptors: 100%|█████████████████████████████████████████████████████████| 479/479 [00:00<00:00, 874.89it/s]\n",
      "C:\\Users\\pitfl\\AppData\\Local\\Programs\\Python\\Python310\\lib\\site-packages\\sklearn\\preprocessing\\_label.py:99: DataConversionWarning: A column-vector y was passed when a 1d array was expected. Please change the shape of y to (n_samples, ), for example using ravel().\n",
      "  y = column_or_1d(y, warn=True)\n",
      "C:\\Users\\pitfl\\AppData\\Local\\Programs\\Python\\Python310\\lib\\site-packages\\sklearn\\preprocessing\\_label.py:134: DataConversionWarning: A column-vector y was passed when a 1d array was expected. Please change the shape of y to (n_samples, ), for example using ravel().\n",
      "  y = column_or_1d(y, dtype=self.classes_.dtype, warn=True)\n",
      "C:\\Users\\pitfl\\AppData\\Local\\Programs\\Python\\Python310\\lib\\site-packages\\sklearn\\neural_network\\_multilayer_perceptron.py:679: ConvergenceWarning: Stochastic Optimizer: Maximum iterations (500) reached and the optimization hasn't converged yet.\n",
      "  warnings.warn(\n"
     ]
    },
    {
     "ename": "NotImplementedError",
     "evalue": "flatten_transform==True is not implemented yet. You may raise an issue at https://github.com/onnx/sklearn-onnx/issues.",
     "output_type": "error",
     "traceback": [
      "\u001b[1;31m---------------------------------------------------------------------------\u001b[0m",
      "\u001b[1;31mNotImplementedError\u001b[0m                       Traceback (most recent call last)",
      "Cell \u001b[1;32mIn[239], line 88\u001b[0m\n\u001b[0;32m     86\u001b[0m \u001b[38;5;66;03m# Train the model\u001b[39;00m\n\u001b[0;32m     87\u001b[0m model \u001b[38;5;241m=\u001b[39m MolecularSKLearn(jaq_train, doa\u001b[38;5;241m=\u001b[39mdoa, model\u001b[38;5;241m=\u001b[39mvoting_clf, \u001b[38;5;28meval\u001b[39m\u001b[38;5;241m=\u001b[39mevaluator)\n\u001b[1;32m---> 88\u001b[0m trained_model \u001b[38;5;241m=\u001b[39m \u001b[43mmodel\u001b[49m\u001b[38;5;241;43m.\u001b[39;49m\u001b[43mfit\u001b[49m\u001b[43m(\u001b[49m\u001b[43m)\u001b[49m\n",
      "File \u001b[1;32m~\\AppData\\Local\\Programs\\Python\\Python310\\lib\\site-packages\\jaqpotpy\\models\\sklearn.py:93\u001b[0m, in \u001b[0;36mMolecularSKLearn.fit\u001b[1;34m(self)\u001b[0m\n\u001b[0;32m     91\u001b[0m model\u001b[38;5;241m.\u001b[39mjaqpotpy_docker \u001b[38;5;241m=\u001b[39m config\u001b[38;5;241m.\u001b[39mjaqpotpy_docker\n\u001b[0;32m     92\u001b[0m model\u001b[38;5;241m.\u001b[39mexternal_feats \u001b[38;5;241m=\u001b[39m \u001b[38;5;28mself\u001b[39m\u001b[38;5;241m.\u001b[39mdataset\u001b[38;5;241m.\u001b[39mexternal\n\u001b[1;32m---> 93\u001b[0m model\u001b[38;5;241m.\u001b[39minference_model \u001b[38;5;241m=\u001b[39m \u001b[38;5;28;43mself\u001b[39;49m\u001b[38;5;241;43m.\u001b[39;49m\u001b[43m__convert_to_onnx__\u001b[49m\u001b[43m(\u001b[49m\u001b[43mX\u001b[49m\u001b[38;5;241;43m.\u001b[39;49m\u001b[43mshape\u001b[49m\u001b[43m[\u001b[49m\u001b[38;5;241;43m1\u001b[39;49m\u001b[43m]\u001b[49m\u001b[43m)\u001b[49m\n\u001b[0;32m     94\u001b[0m \u001b[38;5;28mself\u001b[39m\u001b[38;5;241m.\u001b[39minference_model \u001b[38;5;241m=\u001b[39m model\u001b[38;5;241m.\u001b[39minference_model\n\u001b[0;32m     95\u001b[0m \u001b[38;5;28;01mif\u001b[39;00m \u001b[38;5;28mself\u001b[39m\u001b[38;5;241m.\u001b[39mevaluator:\n",
      "File \u001b[1;32m~\\AppData\\Local\\Programs\\Python\\Python310\\lib\\site-packages\\jaqpotpy\\models\\sklearn.py:103\u001b[0m, in \u001b[0;36mMolecularSKLearn.__convert_to_onnx__\u001b[1;34m(self, num_columns)\u001b[0m\n\u001b[0;32m    101\u001b[0m name \u001b[38;5;241m=\u001b[39m \u001b[38;5;28mself\u001b[39m\u001b[38;5;241m.\u001b[39mmodel\u001b[38;5;241m.\u001b[39m\u001b[38;5;18m__class__\u001b[39m\u001b[38;5;241m.\u001b[39m\u001b[38;5;18m__name__\u001b[39m \u001b[38;5;241m+\u001b[39m \u001b[38;5;124m\"\u001b[39m\u001b[38;5;124m_ONNX\u001b[39m\u001b[38;5;124m\"\u001b[39m\n\u001b[0;32m    102\u001b[0m initial_types \u001b[38;5;241m=\u001b[39m [(\u001b[38;5;124m'\u001b[39m\u001b[38;5;124mfloat_input\u001b[39m\u001b[38;5;124m'\u001b[39m,FloatTensorType([\u001b[38;5;28;01mNone\u001b[39;00m, num_columns]))]\n\u001b[1;32m--> 103\u001b[0m res \u001b[38;5;241m=\u001b[39m \u001b[43mconvert_sklearn\u001b[49m\u001b[43m(\u001b[49m\u001b[38;5;28;43mself\u001b[39;49m\u001b[38;5;241;43m.\u001b[39;49m\u001b[43mmodel\u001b[49m\u001b[43m,\u001b[49m\u001b[43m \u001b[49m\u001b[43minitial_types\u001b[49m\u001b[38;5;241;43m=\u001b[39;49m\u001b[43minitial_types\u001b[49m\u001b[43m,\u001b[49m\u001b[43m \u001b[49m\u001b[43mname\u001b[49m\u001b[38;5;241;43m=\u001b[39;49m\u001b[43mname\u001b[49m\u001b[43m,\u001b[49m\u001b[43m \u001b[49m\u001b[43mtarget_opset\u001b[49m\u001b[38;5;241;43m=\u001b[39;49m\u001b[38;5;28;43;01mNone\u001b[39;49;00m\u001b[43m,\u001b[49m\n\u001b[0;32m    104\u001b[0m \u001b[43m                      \u001b[49m\u001b[43moptions\u001b[49m\u001b[38;5;241;43m=\u001b[39;49m\u001b[38;5;28;43;01mNone\u001b[39;49;00m\u001b[43m,\u001b[49m\u001b[43m \u001b[49m\u001b[43mblack_op\u001b[49m\u001b[38;5;241;43m=\u001b[39;49m\u001b[38;5;28;43;01mNone\u001b[39;49;00m\u001b[43m,\u001b[49m\u001b[43m \u001b[49m\u001b[43mwhite_op\u001b[49m\u001b[38;5;241;43m=\u001b[39;49m\u001b[38;5;28;43;01mNone\u001b[39;49;00m\u001b[43m,\u001b[49m\u001b[43m \u001b[49m\u001b[43mfinal_types\u001b[49m\u001b[38;5;241;43m=\u001b[39;49m\u001b[38;5;28;43;01mNone\u001b[39;49;00m\u001b[43m,\u001b[49m\n\u001b[0;32m    105\u001b[0m \u001b[43m                      \u001b[49m\u001b[43mverbose\u001b[49m\u001b[38;5;241;43m=\u001b[39;49m\u001b[38;5;241;43m0\u001b[39;49m\u001b[43m)\u001b[49m\n\u001b[0;32m    106\u001b[0m \u001b[38;5;28;01mreturn\u001b[39;00m res\n",
      "File \u001b[1;32m~\\AppData\\Local\\Programs\\Python\\Python310\\lib\\site-packages\\skl2onnx\\convert.py:208\u001b[0m, in \u001b[0;36mconvert_sklearn\u001b[1;34m(model, name, initial_types, doc_string, target_opset, custom_conversion_functions, custom_shape_calculators, custom_parsers, options, intermediate, white_op, black_op, final_types, dtype, naming, model_optim, verbose)\u001b[0m\n\u001b[0;32m    206\u001b[0m \u001b[38;5;28;01mif\u001b[39;00m verbose \u001b[38;5;241m>\u001b[39m\u001b[38;5;241m=\u001b[39m \u001b[38;5;241m1\u001b[39m:\n\u001b[0;32m    207\u001b[0m     \u001b[38;5;28mprint\u001b[39m(\u001b[38;5;124m\"\u001b[39m\u001b[38;5;124m[convert_sklearn] convert_topology\u001b[39m\u001b[38;5;124m\"\u001b[39m)\n\u001b[1;32m--> 208\u001b[0m onnx_model \u001b[38;5;241m=\u001b[39m \u001b[43mconvert_topology\u001b[49m\u001b[43m(\u001b[49m\n\u001b[0;32m    209\u001b[0m \u001b[43m    \u001b[49m\u001b[43mtopology\u001b[49m\u001b[43m,\u001b[49m\n\u001b[0;32m    210\u001b[0m \u001b[43m    \u001b[49m\u001b[43mname\u001b[49m\u001b[43m,\u001b[49m\n\u001b[0;32m    211\u001b[0m \u001b[43m    \u001b[49m\u001b[43mdoc_string\u001b[49m\u001b[43m,\u001b[49m\n\u001b[0;32m    212\u001b[0m \u001b[43m    \u001b[49m\u001b[43mtarget_opset\u001b[49m\u001b[43m,\u001b[49m\n\u001b[0;32m    213\u001b[0m \u001b[43m    \u001b[49m\u001b[43moptions\u001b[49m\u001b[38;5;241;43m=\u001b[39;49m\u001b[43moptions\u001b[49m\u001b[43m,\u001b[49m\n\u001b[0;32m    214\u001b[0m \u001b[43m    \u001b[49m\u001b[43mremove_identity\u001b[49m\u001b[38;5;241;43m=\u001b[39;49m\u001b[43mmodel_optim\u001b[49m\u001b[43m \u001b[49m\u001b[38;5;129;43;01mand\u001b[39;49;00m\u001b[43m \u001b[49m\u001b[38;5;129;43;01mnot\u001b[39;49;00m\u001b[43m \u001b[49m\u001b[43mintermediate\u001b[49m\u001b[43m,\u001b[49m\n\u001b[0;32m    215\u001b[0m \u001b[43m    \u001b[49m\u001b[43mverbose\u001b[49m\u001b[38;5;241;43m=\u001b[39;49m\u001b[43mverbose\u001b[49m\u001b[43m,\u001b[49m\n\u001b[0;32m    216\u001b[0m \u001b[43m\u001b[49m\u001b[43m)\u001b[49m\n\u001b[0;32m    217\u001b[0m \u001b[38;5;28;01mif\u001b[39;00m verbose \u001b[38;5;241m>\u001b[39m\u001b[38;5;241m=\u001b[39m \u001b[38;5;241m1\u001b[39m:\n\u001b[0;32m    218\u001b[0m     \u001b[38;5;28mprint\u001b[39m(\u001b[38;5;124m\"\u001b[39m\u001b[38;5;124m[convert_sklearn] end\u001b[39m\u001b[38;5;124m\"\u001b[39m)\n",
      "File \u001b[1;32m~\\AppData\\Local\\Programs\\Python\\Python310\\lib\\site-packages\\skl2onnx\\common\\_topology.py:1532\u001b[0m, in \u001b[0;36mconvert_topology\u001b[1;34m(topology, model_name, doc_string, target_opset, options, remove_identity, verbose)\u001b[0m\n\u001b[0;32m   1521\u001b[0m container \u001b[38;5;241m=\u001b[39m ModelComponentContainer(\n\u001b[0;32m   1522\u001b[0m     target_opset,\n\u001b[0;32m   1523\u001b[0m     options\u001b[38;5;241m=\u001b[39moptions,\n\u001b[1;32m   (...)\u001b[0m\n\u001b[0;32m   1527\u001b[0m     verbose\u001b[38;5;241m=\u001b[39mverbose,\n\u001b[0;32m   1528\u001b[0m )\n\u001b[0;32m   1530\u001b[0m \u001b[38;5;66;03m# Traverse the graph from roots to leaves\u001b[39;00m\n\u001b[0;32m   1531\u001b[0m \u001b[38;5;66;03m# This loop could eventually be parallelized.\u001b[39;00m\n\u001b[1;32m-> 1532\u001b[0m \u001b[43mtopology\u001b[49m\u001b[38;5;241;43m.\u001b[39;49m\u001b[43mconvert_operators\u001b[49m\u001b[43m(\u001b[49m\u001b[43mcontainer\u001b[49m\u001b[38;5;241;43m=\u001b[39;49m\u001b[43mcontainer\u001b[49m\u001b[43m,\u001b[49m\u001b[43m \u001b[49m\u001b[43mverbose\u001b[49m\u001b[38;5;241;43m=\u001b[39;49m\u001b[43mverbose\u001b[49m\u001b[43m)\u001b[49m\n\u001b[0;32m   1533\u001b[0m container\u001b[38;5;241m.\u001b[39mensure_topological_order()\n\u001b[0;32m   1535\u001b[0m \u001b[38;5;28;01mif\u001b[39;00m \u001b[38;5;28mlen\u001b[39m(container\u001b[38;5;241m.\u001b[39minputs) \u001b[38;5;241m==\u001b[39m \u001b[38;5;241m0\u001b[39m:\n",
      "File \u001b[1;32m~\\AppData\\Local\\Programs\\Python\\Python310\\lib\\site-packages\\skl2onnx\\common\\_topology.py:1350\u001b[0m, in \u001b[0;36mTopology.convert_operators\u001b[1;34m(self, container, verbose)\u001b[0m\n\u001b[0;32m   1347\u001b[0m     _check_variable_out_(variable, operator)\n\u001b[0;32m   1349\u001b[0m \u001b[38;5;28mself\u001b[39m\u001b[38;5;241m.\u001b[39mcall_shape_calculator(operator)\n\u001b[1;32m-> 1350\u001b[0m \u001b[38;5;28;43mself\u001b[39;49m\u001b[38;5;241;43m.\u001b[39;49m\u001b[43mcall_converter\u001b[49m\u001b[43m(\u001b[49m\u001b[43moperator\u001b[49m\u001b[43m,\u001b[49m\u001b[43m \u001b[49m\u001b[43mcontainer\u001b[49m\u001b[43m,\u001b[49m\u001b[43m \u001b[49m\u001b[43mverbose\u001b[49m\u001b[38;5;241;43m=\u001b[39;49m\u001b[43mverbose\u001b[49m\u001b[43m)\u001b[49m\n\u001b[0;32m   1352\u001b[0m \u001b[38;5;66;03m# If an operator contains a sequence of operators,\u001b[39;00m\n\u001b[0;32m   1353\u001b[0m \u001b[38;5;66;03m# output variables are not necessarily known at this stage.\u001b[39;00m\n\u001b[0;32m   1354\u001b[0m operator\u001b[38;5;241m.\u001b[39minit_status(is_evaluated\u001b[38;5;241m=\u001b[39m\u001b[38;5;28;01mTrue\u001b[39;00m)\n",
      "File \u001b[1;32m~\\AppData\\Local\\Programs\\Python\\Python310\\lib\\site-packages\\skl2onnx\\common\\_topology.py:1133\u001b[0m, in \u001b[0;36mTopology.call_converter\u001b[1;34m(self, operator, container, verbose)\u001b[0m\n\u001b[0;32m   1126\u001b[0m     \u001b[38;5;28mprint\u001b[39m(\u001b[38;5;124m\"\u001b[39m\u001b[38;5;124m[call_converter] call converter for \u001b[39m\u001b[38;5;132;01m%r\u001b[39;00m\u001b[38;5;124m.\u001b[39m\u001b[38;5;124m\"\u001b[39m \u001b[38;5;241m%\u001b[39m operator\u001b[38;5;241m.\u001b[39mtype)\n\u001b[0;32m   1127\u001b[0m logger\u001b[38;5;241m.\u001b[39mdebug(\n\u001b[0;32m   1128\u001b[0m     \u001b[38;5;124m\"\u001b[39m\u001b[38;5;124m[Conv] call \u001b[39m\u001b[38;5;132;01m%r\u001b[39;00m\u001b[38;5;124m fed \u001b[39m\u001b[38;5;132;01m%r\u001b[39;00m\u001b[38;5;124m - \u001b[39m\u001b[38;5;132;01m%r\u001b[39;00m\u001b[38;5;124m\"\u001b[39m,\n\u001b[0;32m   1129\u001b[0m     operator,\n\u001b[0;32m   1130\u001b[0m     \u001b[38;5;124m\"\u001b[39m\u001b[38;5;124m\"\u001b[39m\u001b[38;5;241m.\u001b[39mjoin(\u001b[38;5;28mstr\u001b[39m(i\u001b[38;5;241m.\u001b[39mis_fed) \u001b[38;5;28;01mfor\u001b[39;00m i \u001b[38;5;129;01min\u001b[39;00m operator\u001b[38;5;241m.\u001b[39minputs),\n\u001b[0;32m   1131\u001b[0m     \u001b[38;5;124m\"\u001b[39m\u001b[38;5;124m\"\u001b[39m\u001b[38;5;241m.\u001b[39mjoin(\u001b[38;5;28mstr\u001b[39m(i\u001b[38;5;241m.\u001b[39mis_fed) \u001b[38;5;28;01mfor\u001b[39;00m i \u001b[38;5;129;01min\u001b[39;00m operator\u001b[38;5;241m.\u001b[39moutputs),\n\u001b[0;32m   1132\u001b[0m )\n\u001b[1;32m-> 1133\u001b[0m \u001b[43mconv\u001b[49m\u001b[43m(\u001b[49m\u001b[38;5;28;43mself\u001b[39;49m\u001b[38;5;241;43m.\u001b[39;49m\u001b[43mscopes\u001b[49m\u001b[43m[\u001b[49m\u001b[38;5;241;43m0\u001b[39;49m\u001b[43m]\u001b[49m\u001b[43m,\u001b[49m\u001b[43m \u001b[49m\u001b[43moperator\u001b[49m\u001b[43m,\u001b[49m\u001b[43m \u001b[49m\u001b[43mcontainer\u001b[49m\u001b[43m)\u001b[49m\n\u001b[0;32m   1134\u001b[0m logger\u001b[38;5;241m.\u001b[39mdebug(\u001b[38;5;124m\"\u001b[39m\u001b[38;5;124m[Conv] end - \u001b[39m\u001b[38;5;132;01m%r\u001b[39;00m\u001b[38;5;124m\"\u001b[39m, operator)\n",
      "File \u001b[1;32m~\\AppData\\Local\\Programs\\Python\\Python310\\lib\\site-packages\\skl2onnx\\common\\_registration.py:27\u001b[0m, in \u001b[0;36mRegisteredConverter.__call__\u001b[1;34m(self, *args)\u001b[0m\n\u001b[0;32m     25\u001b[0m     \u001b[38;5;28;01mif\u001b[39;00m args[\u001b[38;5;241m1\u001b[39m]\u001b[38;5;241m.\u001b[39mraw_operator \u001b[38;5;129;01mis\u001b[39;00m \u001b[38;5;129;01mnot\u001b[39;00m \u001b[38;5;28;01mNone\u001b[39;00m:\n\u001b[0;32m     26\u001b[0m         args[\u001b[38;5;241m2\u001b[39m]\u001b[38;5;241m.\u001b[39m_get_allowed_options(args[\u001b[38;5;241m1\u001b[39m]\u001b[38;5;241m.\u001b[39mraw_operator)\n\u001b[1;32m---> 27\u001b[0m \u001b[38;5;28;01mreturn\u001b[39;00m \u001b[38;5;28;43mself\u001b[39;49m\u001b[38;5;241;43m.\u001b[39;49m\u001b[43m_fct\u001b[49m\u001b[43m(\u001b[49m\u001b[38;5;241;43m*\u001b[39;49m\u001b[43margs\u001b[49m\u001b[43m)\u001b[49m\n",
      "File \u001b[1;32m~\\AppData\\Local\\Programs\\Python\\Python310\\lib\\site-packages\\skl2onnx\\operator_converters\\voting_classifier.py:143\u001b[0m, in \u001b[0;36mconvert_voting_classifier\u001b[1;34m(scope, operator, container)\u001b[0m\n\u001b[0;32m    136\u001b[0m     container\u001b[38;5;241m.\u001b[39madd_node(\n\u001b[0;32m    137\u001b[0m         \u001b[38;5;124m\"\u001b[39m\u001b[38;5;124mSum\u001b[39m\u001b[38;5;124m\"\u001b[39m,\n\u001b[0;32m    138\u001b[0m         probs_names,\n\u001b[0;32m    139\u001b[0m         operator\u001b[38;5;241m.\u001b[39moutputs[\u001b[38;5;241m1\u001b[39m]\u001b[38;5;241m.\u001b[39mfull_name,\n\u001b[0;32m    140\u001b[0m         name\u001b[38;5;241m=\u001b[39mscope\u001b[38;5;241m.\u001b[39mget_unique_operator_name(\u001b[38;5;124m\"\u001b[39m\u001b[38;5;124mSum\u001b[39m\u001b[38;5;124m\"\u001b[39m),\n\u001b[0;32m    141\u001b[0m     )\n\u001b[0;32m    142\u001b[0m \u001b[38;5;28;01melse\u001b[39;00m:\n\u001b[1;32m--> 143\u001b[0m     \u001b[38;5;28;01mraise\u001b[39;00m \u001b[38;5;167;01mNotImplementedError\u001b[39;00m(\n\u001b[0;32m    144\u001b[0m         \u001b[38;5;124m\"\u001b[39m\u001b[38;5;124mflatten_transform==True is not implemented yet. \u001b[39m\u001b[38;5;124m\"\u001b[39m\n\u001b[0;32m    145\u001b[0m         \u001b[38;5;124m\"\u001b[39m\u001b[38;5;124mYou may raise an issue at \u001b[39m\u001b[38;5;124m\"\u001b[39m\n\u001b[0;32m    146\u001b[0m         \u001b[38;5;124m\"\u001b[39m\u001b[38;5;124mhttps://github.com/onnx/sklearn-onnx/issues.\u001b[39m\u001b[38;5;124m\"\u001b[39m\n\u001b[0;32m    147\u001b[0m     )\n\u001b[0;32m    149\u001b[0m \u001b[38;5;66;03m# labels\u001b[39;00m\n\u001b[0;32m    150\u001b[0m label_name \u001b[38;5;241m=\u001b[39m scope\u001b[38;5;241m.\u001b[39mget_unique_variable_name(\u001b[38;5;124m\"\u001b[39m\u001b[38;5;124mlabel_name\u001b[39m\u001b[38;5;124m\"\u001b[39m)\n",
      "\u001b[1;31mNotImplementedError\u001b[0m: flatten_transform==True is not implemented yet. You may raise an issue at https://github.com/onnx/sklearn-onnx/issues."
     ]
    }
   ],
   "source": [
    "from jaqpotpy.models.evaluator import Evaluator\n",
    "from jaqpotpy.models import MolecularSKLearn\n",
    "from jaqpotpy.datasets import SmilesDataset\n",
    "from jaqpotpy.descriptors.molecular import TopologicalFingerprint, MACCSKeysFingerprint\n",
    "from jaqpotpy import Jaqpot\n",
    "from jaqpotpy.doa.doa import Leverage, SmilesLeverage, MeanVar\n",
    "\n",
    "import numpy as np\n",
    "\n",
    "from sklearn.pipeline import Pipeline\n",
    "from sklearn.preprocessing import StandardScaler\n",
    "from sklearn.feature_selection import VarianceThreshold\n",
    "from sklearn.svm import SVC\n",
    "from sklearn.ensemble import RandomForestClassifier\n",
    "from sklearn.neighbors import KNeighborsClassifier\n",
    "from sklearn.neural_network import MLPClassifier\n",
    "from sklearn.ensemble import VotingClassifier\n",
    "\n",
    "from imblearn.over_sampling import RandomOverSampler\n",
    "\n",
    "\n",
    "pipeline = Pipeline([\n",
    "    ('vt', VarianceThreshold(threshold=0.001)),\n",
    "    ('classifier', SVC(C=1.0, kernel='rbf', gamma=0.1, random_state=seed, probability=True)), \n",
    "])\n",
    "\n",
    "# Declar Domain of Applicability\n",
    "doa = Leverage()\n",
    "\n",
    "\n",
    "# Declare the Featurizer\n",
    "featurizer = MACCSKeysFingerprint()\n",
    "\n",
    "# Initialize Evaluator\n",
    "evaluator = Evaluator()\n",
    "\n",
    "# Declare and Register Evaluator's metrics\n",
    "eval_metrics = {\n",
    "    'accuracy': metrics.accuracy_score,\n",
    "    'balanced_accuracy': metrics.balanced_accuracy_score,\n",
    "    'f1': metrics.f1_score,\n",
    "    'precision': metrics.precision_score,\n",
    "    'recall': metrics.recall_score,\n",
    "    'roc_auc': metrics.roc_auc_score,\n",
    "    'mcc': metrics.matthews_corrcoef\n",
    "}\n",
    "\n",
    "for metric_name, metric_func in eval_metrics.items():\n",
    "    evaluator.register_scoring_function(metric_name, metric_func)\n",
    "\n",
    "    \n",
    "    \n",
    "X_train, X_test, y_train, y_test = class_balanced_random_split(X, y, seed=seed, test_ratio_per_class=0.15)\n",
    "\n",
    "\n",
    "\n",
    "#  --- NOTE: Remove lines after bug fix of dataframe indices ---\n",
    "X_train.reset_index(inplace=True, drop=True)\n",
    "X_test.reset_index(inplace=True, drop=True)\n",
    "y_train.reset_index(inplace=True, drop=True)\n",
    "y_test.reset_index(inplace=True, drop=True)\n",
    "\n",
    "\n",
    "\n",
    "\n",
    "# Oversample minority class to tackle class imbalance\n",
    "X_train, y_train = RandomOverSampler(random_state=seed).fit_resample(X_train, y_train)\n",
    "\n",
    "\n",
    "# Train Smiles Dataset\n",
    "jaq_train = SmilesDataset(smiles=X_train['SMILES'],\n",
    "                          y=y_train['Y'].values,\n",
    "                          featurizer=featurizer,\n",
    "                          task='classification').create()\n",
    "\n",
    "# Validation Smiles Dataset\n",
    "jaq_test = SmilesDataset(smiles=X_test['SMILES'],\n",
    "                        y=y_test['Y'].values,\n",
    "                        featurizer=featurizer,\n",
    "                        task='classification').create()\n",
    "\n",
    "# Set val jaqpot dataset as Evaluator's dataset\n",
    "evaluator.dataset = jaq_test\n",
    "\n",
    "\n",
    "# Train the model\n",
    "model = MolecularSKLearn(jaq_train, doa=doa, model=voting_clf, eval=evaluator)\n",
    "trained_model = model.fit()\n",
    "\n"
   ]
  },
  {
   "cell_type": "code",
   "execution_count": 29,
   "metadata": {},
   "outputs": [
    {
     "data": {
      "image/png": "[encoded data removed]",
      "text/plain": [
       "<Figure size 800x600 with 1 Axes>"
      ]
     },
     "metadata": {},
     "output_type": "display_data"
    }
   ],
   "source": [
    "import matplotlib.pyplot as plt\n",
    "\n",
    "methods = ['SVM', 'Random Forest', 'KNN', 'MLP']\n",
    "\n",
    "f1_scores = [0.7933, 0.7771 ,0.7463 , 0.7556]\n",
    "\n",
    "plt.figure(figsize=(8, 6))\n",
    "bars = plt.bar(methods, f1_scores, width=0.4)\n",
    "\n",
    "plt.xlabel('sklearn Method')\n",
    "plt.ylabel('F1 Score')\n",
    "plt.title('Comparison of F1 Scores for Different Methods for MACCS Keys Fingerprint featurizer')\n",
    "plt.ylim([0,1])\n",
    "\n",
    "plt.axhline(max(f1_scores), color='red', linestyle='--')\n",
    "# plt.text(0.5, max(f1_scores)+0.02, f'{highest_score:.2f}', color='red', ha='center')\n",
    "\n",
    "\n",
    "for bar, score in zip(bars, f1_scores):\n",
    "    plt.text(bar.get_x() + bar.get_width() / 2, bar.get_height() + 0.01, f'{score:.2f}', ha='center', va='bottom')\n",
    "\n",
    "\n",
    "plt.show()\n"
   ]
  },
  {
   "cell_type": "markdown",
   "metadata": {},
   "source": [
    "# AutoML"
   ]
  },
  {
   "cell_type": "markdown",
   "metadata": {},
   "source": [
    "## Circular (Morgan) Fingerprints - Topological Fingerprint"
   ]
  },
  {
   "cell_type": "code",
   "execution_count": 43,
   "metadata": {},
   "outputs": [
    {
     "name": "stderr",
     "output_type": "stream",
     "text": [
      "Creating descriptors: 100%|███████████████████████████████████████████████████████| 3192/3192 [00:03<00:00, 832.18it/s]\n"
     ]
    },
    {
     "data": {
      "application/vnd.jupyter.widget-view+json": {
       "model_id": "",
       "version_major": 2,
       "version_minor": 0
      },
      "text/plain": [
       "Optimization Progress:   0%|          | 0/300 [00:00<?, ?pipeline/s]"
      ]
     },
     "metadata": {},
     "output_type": "display_data"
    },
    {
     "name": "stdout",
     "output_type": "stream",
     "text": [
      "\n",
      "Generation 1 - Current best internal CV score: 0.7444651208454076\n",
      "\n",
      "Generation 2 - Current best internal CV score: 0.7573016440549214\n",
      "\n",
      "Generation 3 - Current best internal CV score: 0.7573016440549214\n",
      "\n",
      "Generation 4 - Current best internal CV score: 0.7592466804125024\n",
      "\n",
      "Generation 5 - Current best internal CV score: 0.7592466804125024\n",
      "\n",
      "Best pipeline: LogisticRegression(input_matrix, C=0.5, dual=False, penalty=l2)\n",
      "f1-score on test set: 0.7215\n"
     ]
    }
   ],
   "source": [
    "from jaqpotpy.datasets import SmilesDataset\n",
    "from jaqpotpy.descriptors.molecular import TopologicalFingerprint\n",
    "from tpot import TPOTClassifier\n",
    "\n",
    "\n",
    "featurizer = TopologicalFingerprint()\n",
    "jaq_dataset_topological = SmilesDataset(smiles=X['SMILES'],\n",
    "                                y=y['Y'].values,\n",
    "                                featurizer=featurizer,\n",
    "                                task='classification').create()\n",
    "\n",
    "# Smiles Dataset to NumPy\n",
    "X_topological = jaq_dataset_topological.df[jaq_dataset_topological.X].to_numpy()\n",
    "y_topological = jaq_dataset_topological.df[jaq_dataset_topological.y].to_numpy().ravel()\n",
    "\n",
    "# Split to Train/Test\n",
    "X_train, X_test, y_train, y_test = class_balanced_random_split(X_topological, y_topological, seed=seed)\n",
    "\n",
    "# Initialize TPOTClassifier instance\n",
    "tpot_topological = TPOTClassifier(generations=5, population_size=50, scoring='f1', cv=5,\n",
    "                                      verbosity=2, random_state=seed)\n",
    "\n",
    "# Fit TPOTClassifier to train data\n",
    "tpot_topological.fit(X_train, y_train)\n",
    "\n",
    "# Fit TPOTClassifier to train data\n",
    "f1_tpot_topological = tpot_topological.score(X_test, y_test)\n",
    "\n",
    "print(f\"f1-score on test set: {f1_tpot_topological:.4f}\")"
   ]
  },
  {
   "cell_type": "markdown",
   "metadata": {},
   "source": [
    "## MACCS Keys (Molecular ACCess System):"
   ]
  },
  {
   "cell_type": "code",
   "execution_count": 38,
   "metadata": {},
   "outputs": [
    {
     "name": "stderr",
     "output_type": "stream",
     "text": [
      "Creating descriptors: 100%|███████████████████████████████████████████████████████| 3192/3192 [00:03<00:00, 801.51it/s]\n"
     ]
    },
    {
     "data": {
      "application/vnd.jupyter.widget-view+json": {
       "model_id": "",
       "version_major": 2,
       "version_minor": 0
      },
      "text/plain": [
       "Optimization Progress:   0%|          | 0/300 [00:00<?, ?pipeline/s]"
      ]
     },
     "metadata": {},
     "output_type": "display_data"
    },
    {
     "name": "stdout",
     "output_type": "stream",
     "text": [
      "\n",
      "Generation 1 - Current best internal CV score: 0.7793569326950849\n",
      "\n",
      "Generation 2 - Current best internal CV score: 0.7835409600358042\n",
      "\n",
      "Generation 3 - Current best internal CV score: 0.7835409600358042\n",
      "\n",
      "Generation 4 - Current best internal CV score: 0.7835409600358042\n",
      "\n",
      "Generation 5 - Current best internal CV score: 0.7835409600358042\n",
      "\n",
      "Best pipeline: MLPClassifier(input_matrix, alpha=0.001, learning_rate_init=0.001)\n",
      "f1-score on test set: 0.7742\n"
     ]
    }
   ],
   "source": [
    "from jaqpotpy.datasets import SmilesDataset\n",
    "from jaqpotpy.descriptors.molecular import MACCSKeysFingerprint\n",
    "from tpot import TPOTClassifier\n",
    "\n",
    "\n",
    "featurizer = MACCSKeysFingerprint()\n",
    "jaq_dataset_MACCS = SmilesDataset(smiles=X['SMILES'],\n",
    "                            y=y['Y'].values,\n",
    "                            featurizer=featurizer,\n",
    "                            task='classification').create()\n",
    "\n",
    "# Smiles Dataset to NumPy\n",
    "X_MACCS = jaq_dataset_MACCS.df[jaq_dataset_MACCS.X].to_numpy()\n",
    "y_MACCS = jaq_dataset_MACCS.df[jaq_dataset_MACCS.y].to_numpy().ravel()\n",
    "\n",
    "# Split to Train/Test\n",
    "X_train, X_test, y_train, y_test = class_balanced_random_split(X_MACCS, y_MACCS, seed=seed)\n",
    "\n",
    "# Initialize TPOTClassifier instance\n",
    "tpot_MACCS = TPOTClassifier(generations=5, population_size=50, scoring='f1', cv=5,\n",
    "                                    verbosity=2, random_state=seed)\n",
    "\n",
    "# Fit TPOTClassifier to train data\n",
    "tpot_MACCS.fit(X_train, y_train)\n",
    "\n",
    "# F1-score on test set\n",
    "f1_tpot_MACCS = tpot_MACCS.score(X_test, y_test)\n",
    "\n",
    "print(f\"f1-score on test set: {f1_tpot_MACCS:.4f}\")\n"
   ]
  },
  {
   "cell_type": "code",
   "execution_count": 42,
   "metadata": {},
   "outputs": [],
   "source": [
    "from sklearn.neural_network import MLPClassifier\n",
    "\n",
    "\n",
    "pipeline = Pipeline([\n",
    "    ('classifier', MLPClassifier(alpha=0.001, learning_rate_init=0.001, random_state=seed))\n",
    "])\n",
    "\n",
    "# MLPClassifier()\n",
    "\n",
    "\n",
    "\n"
   ]
  },
  {
   "cell_type": "markdown",
   "metadata": {},
   "source": [
    "# Compare Scikit-learn and AutoML"
   ]
  },
  {
   "cell_type": "markdown",
   "metadata": {},
   "source": [
    "## Circular (Morgan) Fingerprints - Topological Fingerprint\n"
   ]
  },
  {
   "cell_type": "code",
   "execution_count": 41,
   "metadata": {},
   "outputs": [
    {
     "data": {
      "image/png": "[encoded data removed]",
      "text/plain": [
       "<Figure size 800x600 with 1 Axes>"
      ]
     },
     "metadata": {},
     "output_type": "display_data"
    }
   ],
   "source": [
    "import matplotlib.pyplot as plt\n",
    "\n",
    "methods = ['GridSearchCV SVM', 'AutoML LogisticRegression']\n",
    "\n",
    "\n",
    "f1_scores = [0.7393 ,0.7592]\n",
    "\n",
    "plt.figure(figsize=(8, 6))\n",
    "bars = plt.bar(methods, f1_scores, width=0.2)\n",
    "\n",
    "# plt.xlabel('Method')\n",
    "plt.ylabel('F1 Score')\n",
    "plt.title('Scikit-learn GridSearchCV vs AutoML')\n",
    "plt.ylim([0,1])\n",
    "\n",
    "plt.axhline(max(f1_scores), color='red', linestyle='--')\n",
    "\n",
    "for bar, score in zip(bars, f1_scores):\n",
    "    plt.text(bar.get_x() + bar.get_width() / 2, bar.get_height() + 0.01, f'{score:.2f}', ha='center', va='bottom')\n",
    "\n",
    "\n",
    "plt.show()\n"
   ]
  },
  {
   "cell_type": "markdown",
   "metadata": {},
   "source": [
    "## MACCS Keys (Molecular ACCess System):"
   ]
  },
  {
   "cell_type": "code",
   "execution_count": null,
   "metadata": {},
   "outputs": [],
   "source": [
    "import matplotlib.pyplot as plt\n",
    "import numpy as np\n",
    "\n",
    "\n",
    "methods = ['GridSearchCV SVM', 'AutoML LogisticRegression']\n",
    "\n",
    "f1_scores = [0.7393 ,0.7592]\n",
    "\n",
    "plt.figure(figsize=(8, 6))\n",
    "bars = plt.bar(methods, f1_scores, width=0.4)\n",
    "\n",
    "# plt.xlabel('Method')\n",
    "plt.ylabel('F1 Score')\n",
    "plt.title('Scikit-learn GridSearchCV vs AutoML')\n",
    "plt.ylim([0,1])\n",
    "\n",
    "plt.axhline(max(f1_scores), color='red', linestyle='--')\n",
    "\n",
    "for bar, score in zip(bars, f1_scores):\n",
    "    plt.text(bar.get_x() + bar.get_width() / 2, bar.get_height() + 0.01, f'{score:.2f}', ha='center', va='bottom')\n",
    "\n",
    "\n",
    "plt.show()\n",
    "\n"
   ]
  },
  {
   "cell_type": "code",
   "execution_count": null,
   "metadata": {},
   "outputs": [],
   "source": [
    "pipeline = Pipeline([\n",
    "    ('vt', VarianceThreshold(threshold=0.001)),\n",
    "    ('classifier', SVC(C=1.0, kernel='rbf', random_state=seed)), \n",
    "])\n",
    "\n",
    "\n",
    "\n",
    "\n",
    "class_balanced_random_split(X_, y, seed=None, test_ratio_per_class=0.15)\n"
   ]
  },
  {
   "cell_type": "markdown",
   "metadata": {},
   "source": [
    "# Metrics on best models"
   ]
  },
  {
   "cell_type": "code",
   "execution_count": 6,
   "metadata": {},
   "outputs": [],
   "source": [
    "import matplotlib.pyplot as plt\n",
    "\n",
    "def plot_confusion_matrix(tp, fp, tn, fn):\n",
    "    confusion_matrix = [[tn, fp], [fn, tp]]\n",
    "    confusion_matrix_labels = [['TN', 'FP'], ['FN', 'TP']]\n",
    "\n",
    "    # Plotting the confusion matrix\n",
    "    plt.imshow(confusion_matrix, cmap='Blues', interpolation='nearest')\n",
    "    plt.colorbar()\n",
    "\n",
    "    plt.xlabel('Predicted Labels')\n",
    "    plt.ylabel('True Labels')\n",
    "    plt.title('Confusion Matrix')\n",
    "\n",
    "    plt.xticks([0, 1], ['Negative', 'Positive'])\n",
    "    plt.yticks([0, 1], ['Negative', 'Positive'])\n",
    "\n",
    "    # Annotate each cell with respective counts\n",
    "    for i in range(2):\n",
    "        for j in range(2):\n",
    "            plt.text(j, i, f'{confusion_matrix_labels[i][j]}: {confusion_matrix[i][j]}', horizontalalignment='center', verticalalignment='center', color='black')\n",
    "\n",
    "    plt.show()\n",
    "    \n"
   ]
  },
  {
   "cell_type": "code",
   "execution_count": 111,
   "metadata": {
    "scrolled": true
   },
   "outputs": [
    {
     "name": "stderr",
     "output_type": "stream",
     "text": [
      "Creating descriptors: 100%|███████████████████████████████████████████████████████| 3192/3192 [00:03<00:00, 877.78it/s]\n"
     ]
    },
    {
     "data": {
      "image/png": "[encoded data removed]",
      "text/plain": [
       "<Figure size 600x400 with 2 Axes>"
      ]
     },
     "metadata": {},
     "output_type": "display_data"
    },
    {
     "name": "stdout",
     "output_type": "stream",
     "text": [
      "- Accuracy: 0.8497\n",
      "- Balanced Accuracy: 0.8412\n",
      "- Precision: 0.7753\n",
      "- Recall: 0.8118\n",
      "- F1 Score: 0.7931\n",
      "- Matthews correlation coefficient (MCC): 0.6756\n"
     ]
    }
   ],
   "source": [
    "from jaqpotpy.datasets import SmilesDataset\n",
    "from jaqpotpy.descriptors.molecular import MACCSKeysFingerprint\n",
    "from imblearn.over_sampling import RandomOverSampler\n",
    "from sklearn.feature_selection import VarianceThreshold\n",
    "from sklearn.svm import SVC\n",
    "from sklearn import metrics\n",
    "import seaborn as sns\n",
    "\n",
    "from sklearn.metrics import accuracy_score, balanced_accuracy_score, precision_score, recall_score, f1_score, matthews_corrcoef\n",
    "\n",
    "\n",
    "\n",
    "\n",
    "featurizer = MACCSKeysFingerprint()\n",
    "jaq_dataset_MACCS = SmilesDataset(smiles=X['SMILES'],\n",
    "                            y=y['Y'].values,\n",
    "                            featurizer=featurizer,\n",
    "                            task='classification').create()\n",
    "\n",
    "# Smiles Dataset to NumPy\n",
    "X_MACCS = jaq_dataset_MACCS.df[jaq_dataset_MACCS.X].to_numpy()\n",
    "y_MACCS = jaq_dataset_MACCS.df[jaq_dataset_MACCS.y].to_numpy().ravel()\n",
    "# Split to Train/Test\n",
    "X_train, X_test, y_train, y_test = class_balanced_random_split(X_MACCS, y_MACCS, seed=seed)\n",
    "\n",
    "\n",
    "\n",
    "pipeline = Pipeline([\n",
    "    ('vt', VarianceThreshold(threshold=0.001)),\n",
    "    ('classifier', SVC(C=1.0, kernel='rbf', gamma=0.1, random_state=seed)), \n",
    "])\n",
    "\n",
    "\n",
    "X_train, y_train = RandomOverSampler(random_state=seed).fit_resample(X_train, y_train)\n",
    "pipeline.fit(X_train, y_train)\n",
    "\n",
    "\n",
    "\n",
    "y_pred = pipeline.predict(X_test)\n",
    "\n",
    "\n",
    "\n",
    "# Create confusion matrix\n",
    "cm = metrics.confusion_matrix(y_test, y_pred)\n",
    "\n",
    "# Plot confusion matrix\n",
    "plt.figure(figsize=(6, 4))\n",
    "sns.heatmap(cm, annot=True, cmap='Blues', fmt='d', annot_kws={\"size\": 14})\n",
    "\n",
    "# Add labels and title\n",
    "plt.xlabel('Predicted labels')\n",
    "plt.ylabel('True labels')\n",
    "plt.title('Confusion Matrix')\n",
    "\n",
    "plt.show()\n",
    "\n",
    "\n",
    "\n",
    "\n",
    "# Compute metrics\n",
    "accuracy = accuracy_score(y_test, y_pred)\n",
    "balanced_accuracy = balanced_accuracy_score(y_test, y_pred)\n",
    "precision = precision_score(y_test, y_pred)\n",
    "recall = recall_score(y_test, y_pred)\n",
    "f1 = f1_score(y_test, y_pred)\n",
    "mcc = matthews_corrcoef(y_test, y_pred)\n",
    "\n",
    "print(f'- Accuracy: {accuracy:.4f}')\n",
    "print(f'- Balanced Accuracy: {balanced_accuracy:.4f}')\n",
    "print(f'- Precision: {precision:.4f}')\n",
    "print(f'- Recall: {recall:.4f}')\n",
    "print(f'- F1 Score: {f1:.4f}')\n",
    "print(f'- Matthews correlation coefficient (MCC): {mcc:.4f}')\n",
    "\n",
    "\n"
   ]
  },
  {
   "cell_type": "markdown",
   "metadata": {},
   "source": [
    "# Jaqpot"
   ]
  },
  {
   "cell_type": "code",
   "execution_count": 217,
   "metadata": {
    "scrolled": true
   },
   "outputs": [
    {
     "name": "stderr",
     "output_type": "stream",
     "text": [
      "Creating descriptors: 100%|███████████████████████████████████████████████████████| 3500/3500 [00:03<00:00, 919.90it/s]\n",
      "Creating descriptors: 100%|█████████████████████████████████████████████████████████| 479/479 [00:00<00:00, 847.35it/s]\n",
      "C:\\Users\\pitfl\\AppData\\Local\\Programs\\Python\\Python310\\lib\\site-packages\\sklearn\\utils\\validation.py:1141: DataConversionWarning: A column-vector y was passed when a 1d array was expected. Please change the shape of y to (n_samples, ), for example using ravel().\n",
      "  y = column_or_1d(y, warn=True)\n"
     ]
    },
    {
     "name": "stdout",
     "output_type": "stream",
     "text": [
      "accuracy: 0.8496868475991649\n",
      "balanced_accuracy: 0.8411574338473253\n",
      "f1: 0.793103448275862\n",
      "precision: 0.7752808988764045\n",
      "recall: 0.8117647058823529\n",
      "roc_auc: 0.8411574338473253\n",
      "mcc: 0.6756087819499769\n"
     ]
    }
   ],
   "source": [
    "from jaqpotpy.models.evaluator import Evaluator\n",
    "from jaqpotpy.models import MolecularSKLearn\n",
    "from jaqpotpy.datasets import SmilesDataset\n",
    "from jaqpotpy.descriptors.molecular import TopologicalFingerprint, MACCSKeysFingerprint\n",
    "from jaqpotpy import Jaqpot\n",
    "from jaqpotpy.doa.doa import Leverage, SmilesLeverage, MeanVar\n",
    "# from tdc.benchmark_group import admet_group\n",
    "from sklearn.feature_selection import VarianceThreshold\n",
    "from sklearn.svm import SVC\n",
    "from imblearn.over_sampling import RandomOverSampler\n",
    "from sklearn.pipeline import Pipeline\n",
    "\n",
    "import numpy as np\n",
    "\n",
    "\n",
    "\n",
    "pipeline = Pipeline([\n",
    "    ('vt', VarianceThreshold(threshold=0.001)),\n",
    "    ('classifier', SVC(C=1.0, kernel='rbf', gamma=0.1, random_state=seed, probability=True)), \n",
    "])\n",
    "\n",
    "\n",
    "\n",
    "# doa = None\n",
    "doa = Leverage()\n",
    "# doa = SmilesLeverage()\n",
    "# doa = MeanVar()\n",
    "\n",
    "\n",
    "# XGBClassifier(input_matrix, learning_rate=0.1, max_depth=5, min_child_weight=2, n_estimators=100, n_jobs=1, subsample=0.8500000000000001, verbosity=0)\n",
    "\n",
    "# from sklearn.ensemble import GradientBoostingClassifier\n",
    "\n",
    "\n",
    "# Declare the Featurizer\n",
    "featurizer = MACCSKeysFingerprint()\n",
    "\n",
    "# Initialize Evaluator\n",
    "evaluator = Evaluator()\n",
    "\n",
    "# Declare and Register Evaluator's metrics\n",
    "eval_metrics = {\n",
    "    'accuracy': metrics.accuracy_score,\n",
    "    'balanced_accuracy': metrics.balanced_accuracy_score,\n",
    "    'f1': metrics.f1_score,\n",
    "    'precision': metrics.precision_score,\n",
    "    'recall': metrics.recall_score,\n",
    "    'roc_auc': metrics.roc_auc_score,\n",
    "    'mcc': metrics.matthews_corrcoef\n",
    "}\n",
    "\n",
    "for metric_name, metric_func in eval_metrics.items():\n",
    "    evaluator.register_scoring_function(metric_name, metric_func)\n",
    "\n",
    "    \n",
    "    \n",
    "X_train, X_test, y_train, y_test = class_balanced_random_split(X, y, seed=seed, test_ratio_per_class=0.15)\n",
    "\n",
    "\n",
    "\n",
    "#  --- NOTE: Remove lines after bug fix of dataframe indices ---\n",
    "X_train.reset_index(inplace=True, drop=True)\n",
    "X_test.reset_index(inplace=True, drop=True)\n",
    "y_train.reset_index(inplace=True, drop=True)\n",
    "y_test.reset_index(inplace=True, drop=True)\n",
    "\n",
    "\n",
    "\n",
    "\n",
    "# Oversample minority class to tackle class imbalance\n",
    "X_train, y_train = RandomOverSampler(random_state=seed).fit_resample(X_train, y_train)\n",
    "\n",
    "\n",
    "# Train Smiles Dataset\n",
    "jaq_train = SmilesDataset(smiles=X_train['SMILES'],\n",
    "                          y=y_train['Y'].values,\n",
    "                          featurizer=featurizer,\n",
    "                          task='classification').create()\n",
    "\n",
    "# Validation Smiles Dataset\n",
    "jaq_test = SmilesDataset(smiles=X_test['SMILES'],\n",
    "                        y=y_test['Y'].values,\n",
    "                        featurizer=featurizer,\n",
    "                        task='classification').create()\n",
    "\n",
    "# Set val jaqpot dataset as Evaluator's dataset\n",
    "evaluator.dataset = jaq_test\n",
    "\n",
    "\n",
    "# Train the model\n",
    "model = MolecularSKLearn(jaq_train, doa=doa, model=pipeline, eval=evaluator)\n",
    "trained_model = model.fit()\n",
    "\n"
   ]
  },
  {
   "cell_type": "code",
   "execution_count": 194,
   "metadata": {},
   "outputs": [
    {
     "data": {
      "text/plain": [
       "[True]"
      ]
     },
     "execution_count": 194,
     "metadata": {},
     "output_type": "execute_result"
    }
   ],
   "source": [
    "trained_model.doa.IN"
   ]
  },
  {
   "cell_type": "code",
   "execution_count": 197,
   "metadata": {},
   "outputs": [
    {
     "name": "stdout",
     "output_type": "stream",
     "text": [
      "[True, True]\n"
     ]
    },
    {
     "name": "stderr",
     "output_type": "stream",
     "text": [
      "Creating descriptors: 100%|█████████████████████████████████████████████████████████████| 1/1 [00:00<00:00, 499.74it/s]\n"
     ]
    },
    {
     "name": "stdout",
     "output_type": "stream",
     "text": [
      "[True]\n"
     ]
    }
   ],
   "source": [
    "print(trained_model.doa.IN)\n",
    "\n",
    "octocrylene = \"CCCCC(CC)COC(=O)C(=C(C1=CC=CC=C1)C2=CC=CC=C2)C#N\"\n",
    "\n",
    "trained_model([octocrylene])\n",
    "trained_model.prediction\n",
    "\n",
    "print(trained_model.doa.IN)\n",
    "\n",
    "# trained_model.doa.predict([octocrylene])\n"
   ]
  },
  {
   "cell_type": "code",
   "execution_count": 218,
   "metadata": {},
   "outputs": [
    {
     "name": "stderr",
     "output_type": "stream",
     "text": [
      "  2024-02-19 03:59:37,074 - INFO - api key is set\n",
      "100%|████████████████████████████████████████████████████████████████████████████████████| 4/4 [00:34<00:00,  8.63s/it]\n",
      "  2024-02-19 04:00:11,959 - INFO - Model with id: ijietkuQQ6ssxdIn1LKm created. Please visit the application to proceed\n"
     ]
    }
   ],
   "source": [
    "from jaqpotpy import Jaqpot\n",
    "\n",
    "\n",
    "jaqpot = Jaqpot()\n",
    "# api_key = \"eyJhbGciOiJSUzI1NiIsInR5cCIgOiAiSldUIiwia2lkIiA6ICJ3Ujh3X1lGOWpKWFRWQ2x2VHF1RkswZkctQXROQUJsb3FBd0N4MmlTTWQ4In0.eyJleHAiOjE3MDgxMjM1NzEsImlhdCI6MTcwNzk1MDc3MSwiYXV0aF90aW1lIjoxNzA3OTUwNzI4LCJqdGkiOiJhMmMyYWU2MS1iNTQ4LTRjN2UtOTY4Zi0yM2NiY2FjOWIwZGIiLCJpc3MiOiJodHRwczovL2xvZ2luLmphcXBvdC5vcmcvYXV0aC9yZWFsbXMvamFxcG90IiwiYXVkIjpbImJyb2tlciIsImFjY291bnQiXSwic3ViIjoiMzYxODhiNWYtYTk2MS00YTAwLWJjYTAtM2Y0ZTNkMDY4YTAxIiwidHlwIjoiQmVhcmVyIiwiYXpwIjoiamFxcG90LXVpLWNvZGUiLCJub25jZSI6IjIzZTczNzhiMjBmZmM1ODg0YmIyNDAxMmRmZDY4ZWJlMzA2UHh6WmNQIiwic2Vzc2lvbl9zdGF0ZSI6Ijg0ZjI2YmFlLTZiZjUtNDc0Yi1hMGRjLTYyN2IxZjdmNDk1YiIsImFjciI6IjAiLCJhbGxvd2VkLW9yaWdpbnMiOlsiJyonIiwiKiJdLCJyZWFsbV9hY2Nlc3MiOnsicm9sZXMiOlsib2ZmbGluZV9hY2Nlc3MiLCJkZWZhdWx0LXJvbGVzLWphcXBvdCIsInVtYV9hdXRob3JpemF0aW9uIl19LCJyZXNvdXJjZV9hY2Nlc3MiOnsiYnJva2VyIjp7InJvbGVzIjpbInJlYWQtdG9rZW4iXX0sImFjY291bnQiOnsicm9sZXMiOlsibWFuYWdlLWFjY291bnQiLCJtYW5hZ2UtYWNjb3VudC1saW5rcyIsInZpZXctcHJvZmlsZSJdfX0sInNjb3BlIjoib3BlbmlkIGphcXBvdC1hY2NvdW50cyBlbWFpbCBwcm9maWxlIHdyaXRlIHJlYWQiLCJzaWQiOiI4NGYyNmJhZS02YmY1LTQ3NGItYTBkYy02MjdiMWY3ZjQ5NWIiLCJlbWFpbF92ZXJpZmllZCI6ZmFsc2UsIm5hbWUiOiJHaWFubmlzIFBpdG9za2FzIiwicHJlZmVycmVkX3VzZXJuYW1lIjoianBpdG9za2FzQGdtYWlsLmNvbSIsImdpdmVuX25hbWUiOiJHaWFubmlzIiwiZmFtaWx5X25hbWUiOiJQaXRvc2thcyIsImVtYWlsIjoianBpdG9za2FzQGdtYWlsLmNvbSJ9.d2wwVdC-hik-KVo8RmaOBdHN9mKFFISb5IqTroElXEk-8rTNDCv4dLUgxdCp2ytowyYjdJANNIC3lONRYRukh4ISGSjAPo4tIsLGZD0aoFnPn_I5cZTH3hv7YIlBZGwY1bfgNfDWbsIiqK3xrhQ0Y3tmipbhcSWA0G2vIBf6EdDAGNp_U_AJfRhN6yf_TgDY2Px1b24dX44ZvSRupEXJt-dIObWCx8rFyzQp3eY7B7Lhhsz5RPtoNwqElON5mdNv5UkQaA23khyHSJPmAl28Q1BwlA0j3gHlNb7u_9aInNGPAT6PSekzmXkU9nwJ-kOakDewDlPOys-iHjYCZAyp6A\"\n",
    "api_key = \"eyJhbGciOiJSUzI1NiIsInR5cCIgOiAiSldUIiwia2lkIiA6ICJ3Ujh3X1lGOWpKWFRWQ2x2VHF1RkswZkctQXROQUJsb3FBd0N4MmlTTWQ4In0.eyJleHAiOjE3MDg0ODA2OTgsImlhdCI6MTcwODMwNzg5OCwiYXV0aF90aW1lIjoxNzA4MzA3ODk3LCJqdGkiOiJiZDJjYzAwYi05YTIwLTQwMWYtYWE1NS03Yzg3NmQxZTAxN2UiLCJpc3MiOiJodHRwczovL2xvZ2luLmphcXBvdC5vcmcvYXV0aC9yZWFsbXMvamFxcG90IiwiYXVkIjpbImJyb2tlciIsImFjY291bnQiXSwic3ViIjoiMzYxODhiNWYtYTk2MS00YTAwLWJjYTAtM2Y0ZTNkMDY4YTAxIiwidHlwIjoiQmVhcmVyIiwiYXpwIjoiamFxcG90LXVpLWNvZGUiLCJub25jZSI6IjM1OWYyMmZhMjI1ZDdjMzAyYWI0ZDc2MGJlOTQyMDZmYjUyb1Z6b3ZxIiwic2Vzc2lvbl9zdGF0ZSI6IjVmMTUyZjc4LTJkMWUtNDdkMi04MTA0LTU0YTg4ZTdjMzhmNyIsImFjciI6IjEiLCJhbGxvd2VkLW9yaWdpbnMiOlsiJyonIiwiKiJdLCJyZWFsbV9hY2Nlc3MiOnsicm9sZXMiOlsib2ZmbGluZV9hY2Nlc3MiLCJkZWZhdWx0LXJvbGVzLWphcXBvdCIsInVtYV9hdXRob3JpemF0aW9uIl19LCJyZXNvdXJjZV9hY2Nlc3MiOnsiYnJva2VyIjp7InJvbGVzIjpbInJlYWQtdG9rZW4iXX0sImFjY291bnQiOnsicm9sZXMiOlsibWFuYWdlLWFjY291bnQiLCJtYW5hZ2UtYWNjb3VudC1saW5rcyIsInZpZXctcHJvZmlsZSJdfX0sInNjb3BlIjoib3BlbmlkIGphcXBvdC1hY2NvdW50cyBlbWFpbCBwcm9maWxlIHdyaXRlIHJlYWQiLCJzaWQiOiI1ZjE1MmY3OC0yZDFlLTQ3ZDItODEwNC01NGE4OGU3YzM4ZjciLCJlbWFpbF92ZXJpZmllZCI6ZmFsc2UsIm5hbWUiOiJHaWFubmlzIFBpdG9za2FzIiwicHJlZmVycmVkX3VzZXJuYW1lIjoianBpdG9za2FzQGdtYWlsLmNvbSIsImdpdmVuX25hbWUiOiJHaWFubmlzIiwiZmFtaWx5X25hbWUiOiJQaXRvc2thcyIsImVtYWlsIjoianBpdG9za2FzQGdtYWlsLmNvbSJ9.XhiTK1Bye-57jkzewzPWWagFLvc8P_JidfIFHK72cWlvsyCVO6dV4CqehzaO5ppVElKV8BRsHfH5QlROO-4WJZ_DX8Mis7OpxcHjr8rEqKRPftRgbBFoXItzkG33OsRJqzdayfEaK4OvqrVICGNH1_oSnyYOSHrQy6ROTgHQjXCsQgpKM-35OXUW8xZaW2uC0d02JAPK4zwgriUJiVzh52wvPzI8Mg4Eu9PTy2E7eLGvOKAoZwr6vgndfqLtP9ShPQiU0ot4yKMdzbQ3Q8jq_dHr5D1bpoXxHCIG0JoVibVwOnWHPFI3txoc5SDtbsyZPPhRYI-3oqtQegAaUKngmg\"\n",
    "jaqpot.set_api_key(api_key)\n",
    "trained_model.deploy_on_jaqpot(jaqpot=jaqpot,\n",
    "                               description=\"An SVM model for the prediction of Ready Biodegradability property of a molecule given its SMILES representation\",\n",
    "                               model_title=\"Molecule Ready Biodegradability (RB) SVM Model\")\n",
    "\n"
   ]
  },
  {
   "cell_type": "code",
   "execution_count": 40,
   "metadata": {
    "colab": {
     "base_uri": "https://localhost:8080/"
    },
    "id": "XyO-nOpSFmtH",
    "outputId": "13c78f2b-92b2-45c6-ce35-a2046b3f77da"
   },
   "outputs": [
    {
     "name": "stderr",
     "output_type": "stream",
     "text": [
      "Creating descriptors: 100%|██████████| 2800/2800 [00:09<00:00, 294.69it/s]\n",
      "Creating descriptors: 100%|██████████| 543/543 [00:00<00:00, 605.52it/s]\n",
      "/usr/local/lib/python3.10/dist-packages/sklearn/utils/validation.py:1143: DataConversionWarning: A column-vector y was passed when a 1d array was expected. Please change the shape of y to (n_samples, ), for example using ravel().\n",
      "  y = column_or_1d(y, warn=True)\n"
     ]
    },
    {
     "name": "stdout",
     "output_type": "stream",
     "text": [
      "accuracy: 0.8453038674033149\n",
      "balanced_accuracy: 0.8323538119911177\n",
      "f1: 0.7835051546391752\n",
      "precision: 0.7794871794871795\n",
      "recall: 0.7875647668393783\n",
      "roc_auc: 0.8323538119911178\n"
     ]
    },
    {
     "name": "stderr",
     "output_type": "stream",
     "text": [
      "Creating descriptors: 100%|██████████| 2800/2800 [00:04<00:00, 612.58it/s]\n",
      "Creating descriptors: 100%|██████████| 543/543 [00:00<00:00, 566.10it/s]\n",
      "/usr/local/lib/python3.10/dist-packages/sklearn/utils/validation.py:1143: DataConversionWarning: A column-vector y was passed when a 1d array was expected. Please change the shape of y to (n_samples, ), for example using ravel().\n",
      "  y = column_or_1d(y, warn=True)\n"
     ]
    },
    {
     "name": "stdout",
     "output_type": "stream",
     "text": [
      "accuracy: 0.8232044198895028\n",
      "balanced_accuracy: 0.7989415247964471\n",
      "f1: 0.7419354838709677\n",
      "precision: 0.770949720670391\n",
      "recall: 0.7150259067357513\n",
      "roc_auc: 0.7989415247964471\n"
     ]
    },
    {
     "name": "stderr",
     "output_type": "stream",
     "text": [
      "Creating descriptors: 100%|██████████| 2800/2800 [00:05<00:00, 506.54it/s]\n",
      "Creating descriptors: 100%|██████████| 543/543 [00:00<00:00, 603.50it/s]\n",
      "/usr/local/lib/python3.10/dist-packages/sklearn/utils/validation.py:1143: DataConversionWarning: A column-vector y was passed when a 1d array was expected. Please change the shape of y to (n_samples, ), for example using ravel().\n",
      "  y = column_or_1d(y, warn=True)\n"
     ]
    },
    {
     "name": "stdout",
     "output_type": "stream",
     "text": [
      "accuracy: 0.8213627992633518\n",
      "balanced_accuracy: 0.8207549962990377\n",
      "f1: 0.7651331719128329\n",
      "precision: 0.7181818181818181\n",
      "recall: 0.8186528497409327\n",
      "roc_auc: 0.8207549962990377\n"
     ]
    },
    {
     "name": "stderr",
     "output_type": "stream",
     "text": [
      "Creating descriptors: 100%|██████████| 2800/2800 [00:05<00:00, 504.73it/s]\n",
      "Creating descriptors: 100%|██████████| 542/542 [00:00<00:00, 592.05it/s]\n",
      "/usr/local/lib/python3.10/dist-packages/sklearn/utils/validation.py:1143: DataConversionWarning: A column-vector y was passed when a 1d array was expected. Please change the shape of y to (n_samples, ), for example using ravel().\n",
      "  y = column_or_1d(y, warn=True)\n"
     ]
    },
    {
     "name": "stdout",
     "output_type": "stream",
     "text": [
      "accuracy: 0.8339483394833949\n",
      "balanced_accuracy: 0.8220535714285715\n",
      "f1: 0.7692307692307692\n",
      "precision: 0.7575757575757576\n",
      "recall: 0.78125\n",
      "roc_auc: 0.8220535714285715\n"
     ]
    },
    {
     "name": "stderr",
     "output_type": "stream",
     "text": [
      "Creating descriptors: 100%|██████████| 2800/2800 [00:05<00:00, 499.73it/s]\n",
      "Creating descriptors: 100%|██████████| 542/542 [00:00<00:00, 609.43it/s]\n",
      "/usr/local/lib/python3.10/dist-packages/sklearn/utils/validation.py:1143: DataConversionWarning: A column-vector y was passed when a 1d array was expected. Please change the shape of y to (n_samples, ), for example using ravel().\n",
      "  y = column_or_1d(y, warn=True)\n"
     ]
    },
    {
     "name": "stdout",
     "output_type": "stream",
     "text": [
      "accuracy: 0.8431734317343174\n",
      "balanced_accuracy: 0.8350744047619048\n",
      "f1: 0.7848101265822783\n",
      "precision: 0.7635467980295566\n",
      "recall: 0.8072916666666666\n",
      "roc_auc: 0.8350744047619048\n"
     ]
    }
   ],
   "source": [
    "from sklearn.model_selection import StratifiedKFold\n",
    "from imblearn.over_sampling import RandomOverSampler\n",
    "from jaqpotpy.models.evaluator import Evaluator\n",
    "from jaqpotpy.models import MolecularSKLearn\n",
    "from jaqpotpy.datasets import SmilesDataset\n",
    "from jaqpotpy.descriptors.molecular import TopologicalFingerprint\n",
    "# from jaqpotpy.doa.doa import Leverage\n",
    "import sklearn.metrics as metrics\n",
    "\n",
    "from sklearn.svm import SVC\n",
    "from sklearn.pipeline import Pipeline\n",
    "from sklearn.neighbors import KNeighborsClassifier\n",
    "\n",
    "\n",
    "\n",
    "from sklearn.model_selection import cross_val_score\n",
    "\n",
    "\n",
    "\n",
    "featurizer = TopologicalFingerprint()\n",
    "\n",
    "# Define the cross-validation strategy\n",
    "n_folds = 5\n",
    "cv = StratifiedKFold(n_splits=n_folds, shuffle=True, random_state=42)\n",
    "\n",
    "\n",
    "\n",
    "# Evaluator\n",
    "eval_metrics = {\n",
    "    'accuracy': metrics.accuracy_score,\n",
    "    'balanced_accuracy': metrics.balanced_accuracy_score,\n",
    "    'f1': metrics.f1_score,\n",
    "    'precision': metrics.precision_score,\n",
    "    'recall': metrics.recall_score,\n",
    "    'roc_auc': metrics.roc_auc_score,\n",
    "}\n",
    "\n",
    "evaluator = Evaluator()\n",
    "\n",
    "for metric_name, metric_func in eval_metrics.items():\n",
    "    evaluator.register_scoring_function(metric_name, metric_func)\n",
    "\n",
    "\n",
    "# Classifier\n",
    "clf_func = SVC\n",
    "\n",
    "\n",
    "\n",
    "\n",
    "\n",
    "\n",
    "clf_kwargs = {\n",
    "    'C': 10,\n",
    "    # 'kernel': 'rbf',\n",
    "    # 'gamma': 10,\n",
    "    # 'probability': True,\n",
    "    # 'random_state': seed\n",
    "}\n",
    "\n",
    "# Perform cross-validation with oversampling\n",
    "for train_index, val_index in cv.split(X_train_val, y_train_val):\n",
    "\n",
    "    X_train, X_val = X_train_val.iloc[train_index], X_train_val.iloc[val_index]\n",
    "    y_train, y_val = y_train_val.iloc[train_index], y_train_val.iloc[val_index]\n",
    "\n",
    "    #  --- NOTE: Remove line after bug fix of dataframe indices ---\n",
    "    X_train.reset_index(inplace=True, drop=True)\n",
    "    X_val.reset_index(inplace=True, drop=True)\n",
    "    y_train.reset_index(inplace=True, drop=True)\n",
    "    y_val.reset_index(inplace=True, drop=True)\n",
    "\n",
    "\n",
    "    # Oversample minority class to tackle class imbalance\n",
    "    X_train_oversampled, y_train_oversampled = RandomOverSampler(random_state=seed).fit_resample(X_train, y_train)\n",
    "    # Train Smiles Dataset\n",
    "    jaq_train = SmilesDataset(smiles=X_train_oversampled['SMILES'], y=y_train_oversampled['Y'].values, featurizer=featurizer, task='classification').create()\n",
    "    # Validation Smiles Dataset\n",
    "    jaq_val = SmilesDataset(smiles=X_val['SMILES'], y=y_val['Y'].values, featurizer=featurizer, task='classification').create()\n",
    "    evaluator.dataset = jaq_val\n",
    "    clf = clf_func(**clf_kwargs)\n",
    "    # Train the model\n",
    "    model = MolecularSKLearn(jaq_train, doa=None, model=clf, eval=evaluator)\n",
    "    trained_model = model.fit()\n",
    "\n"
   ]
  },
  {
   "cell_type": "code",
   "execution_count": 152,
   "metadata": {},
   "outputs": [
    {
     "name": "stderr",
     "output_type": "stream",
     "text": [
      "Creating descriptors: 100%|███████████████████████████████████████████████████████| 3192/3192 [00:03<00:00, 862.17it/s]\n"
     ]
    },
    {
     "data": {
      "application/vnd.jupyter.widget-view+json": {
       "model_id": "",
       "version_major": 2,
       "version_minor": 0
      },
      "text/plain": [
       "Optimization Progress:   0%|          | 0/1100 [00:00<?, ?pipeline/s]"
      ]
     },
     "metadata": {},
     "output_type": "display_data"
    },
    {
     "name": "stdout",
     "output_type": "stream",
     "text": [
      "\n",
      "Generation 1 - Current best internal CV score: 0.779716775757433\n",
      "\n",
      "Generation 2 - Current best internal CV score: 0.7812097394364331\n",
      "\n",
      "Generation 3 - Current best internal CV score: 0.7845239443108516\n",
      "\n",
      "Generation 4 - Current best internal CV score: 0.7845239443108516\n",
      "\n",
      "Generation 5 - Current best internal CV score: 0.7845239443108516\n",
      "\n",
      "Generation 6 - Current best internal CV score: 0.7845239443108516\n",
      "\n",
      "Generation 7 - Current best internal CV score: 0.7867762688135949\n",
      "\n",
      "Generation 8 - Current best internal CV score: 0.7867762688135949\n",
      "\n",
      "Generation 9 - Current best internal CV score: 0.7867762688135949\n",
      "\n",
      "Generation 10 - Current best internal CV score: 0.7867762688135949\n",
      "\n",
      "Best pipeline: XGBClassifier(input_matrix, learning_rate=0.1, max_depth=5, min_child_weight=2, n_estimators=100, n_jobs=1, subsample=0.8500000000000001, verbosity=0)\n"
     ]
    },
    {
     "data": {
      "text/html": [
       "<style>#sk-container-id-3 {color: black;background-color: white;}#sk-container-id-3 pre{padding: 0;}#sk-container-id-3 div.sk-toggleable {background-color: white;}#sk-container-id-3 label.sk-toggleable__label {cursor: pointer;display: block;width: 100%;margin-bottom: 0;padding: 0.3em;box-sizing: border-box;text-align: center;}#sk-container-id-3 label.sk-toggleable__label-arrow:before {content: \"▸\";float: left;margin-right: 0.25em;color: #696969;}#sk-container-id-3 label.sk-toggleable__label-arrow:hover:before {color: black;}#sk-container-id-3 div.sk-estimator:hover label.sk-toggleable__label-arrow:before {color: black;}#sk-container-id-3 div.sk-toggleable__content {max-height: 0;max-width: 0;overflow: hidden;text-align: left;background-color: #f0f8ff;}#sk-container-id-3 div.sk-toggleable__content pre {margin: 0.2em;color: black;border-radius: 0.25em;background-color: #f0f8ff;}#sk-container-id-3 input.sk-toggleable__control:checked~div.sk-toggleable__content {max-height: 200px;max-width: 100%;overflow: auto;}#sk-container-id-3 input.sk-toggleable__control:checked~label.sk-toggleable__label-arrow:before {content: \"▾\";}#sk-container-id-3 div.sk-estimator input.sk-toggleable__control:checked~label.sk-toggleable__label {background-color: #d4ebff;}#sk-container-id-3 div.sk-label input.sk-toggleable__control:checked~label.sk-toggleable__label {background-color: #d4ebff;}#sk-container-id-3 input.sk-hidden--visually {border: 0;clip: rect(1px 1px 1px 1px);clip: rect(1px, 1px, 1px, 1px);height: 1px;margin: -1px;overflow: hidden;padding: 0;position: absolute;width: 1px;}#sk-container-id-3 div.sk-estimator {font-family: monospace;background-color: #f0f8ff;border: 1px dotted black;border-radius: 0.25em;box-sizing: border-box;margin-bottom: 0.5em;}#sk-container-id-3 div.sk-estimator:hover {background-color: #d4ebff;}#sk-container-id-3 div.sk-parallel-item::after {content: \"\";width: 100%;border-bottom: 1px solid gray;flex-grow: 1;}#sk-container-id-3 div.sk-label:hover label.sk-toggleable__label {background-color: #d4ebff;}#sk-container-id-3 div.sk-serial::before {content: \"\";position: absolute;border-left: 1px solid gray;box-sizing: border-box;top: 0;bottom: 0;left: 50%;z-index: 0;}#sk-container-id-3 div.sk-serial {display: flex;flex-direction: column;align-items: center;background-color: white;padding-right: 0.2em;padding-left: 0.2em;position: relative;}#sk-container-id-3 div.sk-item {position: relative;z-index: 1;}#sk-container-id-3 div.sk-parallel {display: flex;align-items: stretch;justify-content: center;background-color: white;position: relative;}#sk-container-id-3 div.sk-item::before, #sk-container-id-3 div.sk-parallel-item::before {content: \"\";position: absolute;border-left: 1px solid gray;box-sizing: border-box;top: 0;bottom: 0;left: 50%;z-index: -1;}#sk-container-id-3 div.sk-parallel-item {display: flex;flex-direction: column;z-index: 1;position: relative;background-color: white;}#sk-container-id-3 div.sk-parallel-item:first-child::after {align-self: flex-end;width: 50%;}#sk-container-id-3 div.sk-parallel-item:last-child::after {align-self: flex-start;width: 50%;}#sk-container-id-3 div.sk-parallel-item:only-child::after {width: 0;}#sk-container-id-3 div.sk-dashed-wrapped {border: 1px dashed gray;margin: 0 0.4em 0.5em 0.4em;box-sizing: border-box;padding-bottom: 0.4em;background-color: white;}#sk-container-id-3 div.sk-label label {font-family: monospace;font-weight: bold;display: inline-block;line-height: 1.2em;}#sk-container-id-3 div.sk-label-container {text-align: center;}#sk-container-id-3 div.sk-container {/* jupyter's `normalize.less` sets `[hidden] { display: none; }` but bootstrap.min.css set `[hidden] { display: none !important; }` so we also need the `!important` here to be able to override the default hidden behavior on the sphinx rendered scikit-learn.org. See: https://github.com/scikit-learn/scikit-learn/issues/21755 */display: inline-block !important;position: relative;}#sk-container-id-3 div.sk-text-repr-fallback {display: none;}</style><div id=\"sk-container-id-3\" class=\"sk-top-container\"><div class=\"sk-text-repr-fallback\"><pre>TPOTClassifier(generations=10, random_state=42, scoring=&#x27;f1&#x27;, verbosity=2)</pre><b>In a Jupyter environment, please rerun this cell to show the HTML representation or trust the notebook. <br />On GitHub, the HTML representation is unable to render, please try loading this page with nbviewer.org.</b></div><div class=\"sk-container\" hidden><div class=\"sk-item\"><div class=\"sk-estimator sk-toggleable\"><input class=\"sk-toggleable__control sk-hidden--visually\" id=\"sk-estimator-id-6\" type=\"checkbox\" checked><label for=\"sk-estimator-id-6\" class=\"sk-toggleable__label sk-toggleable__label-arrow\">TPOTClassifier</label><div class=\"sk-toggleable__content\"><pre>TPOTClassifier(generations=10, random_state=42, scoring=&#x27;f1&#x27;, verbosity=2)</pre></div></div></div></div></div>"
      ],
      "text/plain": [
       "TPOTClassifier(generations=10, random_state=42, scoring='f1', verbosity=2)"
      ]
     },
     "execution_count": 152,
     "metadata": {},
     "output_type": "execute_result"
    }
   ],
   "source": [
    "from tpot import TPOTClassifier\n",
    "from sklearn.ensemble import VotingClassifier\n",
    "from sklearn.datasets import load_iris\n",
    "\n",
    "\n",
    "from jaqpotpy.datasets import SmilesDataset\n",
    "from jaqpotpy.descriptors.molecular import MACCSKeysFingerprint\n",
    "from tpot import TPOTClassifier\n",
    "\n",
    "\n",
    "featurizer = MACCSKeysFingerprint()\n",
    "jaq_dataset_MACCS = SmilesDataset(smiles=X['SMILES'],\n",
    "                            y=y['Y'].values,\n",
    "                            featurizer=featurizer,\n",
    "                            task='classification').create()\n",
    "\n",
    "# Smiles Dataset to NumPy\n",
    "X_MACCS = jaq_dataset_MACCS.df[jaq_dataset_MACCS.X].to_numpy()\n",
    "y_MACCS = jaq_dataset_MACCS.df[jaq_dataset_MACCS.y].to_numpy().ravel()\n",
    "\n",
    "# Split to Train/Test\n",
    "X_train, X_test, y_train, y_test = class_balanced_random_split(X_MACCS, y_MACCS, seed=seed)\n",
    "\n",
    "\n",
    "# Define the TPOT classifier\n",
    "tpot = TPOTClassifier(generations=10, population_size=100, verbosity=2, scoring='f1', random_state=seed)\n",
    "\n",
    "# Fit the TPOT classifier\n",
    "tpot.fit(X_train, y_train)\n",
    "\n",
    "# # Get the best pipeline from TPOT\n",
    "# best_pipeline = tpot.fitted_pipeline_\n",
    "\n",
    "\n"
   ]
  },
  {
   "cell_type": "code",
   "execution_count": 156,
   "metadata": {},
   "outputs": [
    {
     "data": {
      "text/plain": [
       "{'xgbclassifier': XGBClassifier(base_score=None, booster=None, callbacks=None,\n",
       "               colsample_bylevel=None, colsample_bynode=None,\n",
       "               colsample_bytree=None, device=None, early_stopping_rounds=None,\n",
       "               enable_categorical=False, eval_metric=None, feature_types=None,\n",
       "               gamma=None, grow_policy=None, importance_type=None,\n",
       "               interaction_constraints=None, learning_rate=0.1, max_bin=None,\n",
       "               max_cat_threshold=None, max_cat_to_onehot=None,\n",
       "               max_delta_step=None, max_depth=5, max_leaves=None,\n",
       "               min_child_weight=2, missing=nan, monotone_constraints=None,\n",
       "               multi_strategy=None, n_estimators=100, n_jobs=1,\n",
       "               num_parallel_tree=None, random_state=42, ...)}"
      ]
     },
     "execution_count": 156,
     "metadata": {},
     "output_type": "execute_result"
    }
   ],
   "source": [
    "tpot.fitted_pipeline_.named_steps"
   ]
  },
  {
   "cell_type": "code",
   "execution_count": 131,
   "metadata": {
    "scrolled": true
   },
   "outputs": [
    {
     "ename": "KeyError",
     "evalue": "'MLPClassifier(input_matrix, MLPClassifier__alpha=0.01, MLPClassifier__learning_rate_init=0.001)'",
     "output_type": "error",
     "traceback": [
      "\u001b[1;31m---------------------------------------------------------------------------\u001b[0m",
      "\u001b[1;31mKeyError\u001b[0m                                  Traceback (most recent call last)",
      "Cell \u001b[1;32mIn[131], line 5\u001b[0m\n\u001b[0;32m      2\u001b[0m top_10_classifiers \u001b[38;5;241m=\u001b[39m \u001b[38;5;28msorted\u001b[39m(tpot\u001b[38;5;241m.\u001b[39mevaluated_individuals_\u001b[38;5;241m.\u001b[39mitems(), key\u001b[38;5;241m=\u001b[39m\u001b[38;5;28;01mlambda\u001b[39;00m x: x[\u001b[38;5;241m1\u001b[39m][\u001b[38;5;124m'\u001b[39m\u001b[38;5;124minternal_cv_score\u001b[39m\u001b[38;5;124m'\u001b[39m], reverse\u001b[38;5;241m=\u001b[39m\u001b[38;5;28;01mTrue\u001b[39;00m)[:\u001b[38;5;241m11\u001b[39m]\n\u001b[0;32m      4\u001b[0m \u001b[38;5;66;03m# Extract the classifier objects from the TPOT pipeline\u001b[39;00m\n\u001b[1;32m----> 5\u001b[0m classifiers \u001b[38;5;241m=\u001b[39m [tpot\u001b[38;5;241m.\u001b[39mfitted_pipeline_\u001b[38;5;241m.\u001b[39mnamed_steps[name] \u001b[38;5;28;01mfor\u001b[39;00m name, _ \u001b[38;5;129;01min\u001b[39;00m top_10_classifiers]\n\u001b[0;32m      7\u001b[0m \u001b[38;5;66;03m# Create a voting ensemble classifier\u001b[39;00m\n\u001b[0;32m      8\u001b[0m voting_classifier \u001b[38;5;241m=\u001b[39m VotingClassifier(estimators\u001b[38;5;241m=\u001b[39m[(\u001b[38;5;124mf\u001b[39m\u001b[38;5;124m'\u001b[39m\u001b[38;5;124mclf_\u001b[39m\u001b[38;5;132;01m{\u001b[39;00mi\u001b[38;5;132;01m}\u001b[39;00m\u001b[38;5;124m'\u001b[39m, clf) \u001b[38;5;28;01mfor\u001b[39;00m i, clf \u001b[38;5;129;01min\u001b[39;00m \u001b[38;5;28menumerate\u001b[39m(classifiers)], voting\u001b[38;5;241m=\u001b[39m\u001b[38;5;124m'\u001b[39m\u001b[38;5;124mhard\u001b[39m\u001b[38;5;124m'\u001b[39m)\n",
      "Cell \u001b[1;32mIn[131], line 5\u001b[0m, in \u001b[0;36m<listcomp>\u001b[1;34m(.0)\u001b[0m\n\u001b[0;32m      2\u001b[0m top_10_classifiers \u001b[38;5;241m=\u001b[39m \u001b[38;5;28msorted\u001b[39m(tpot\u001b[38;5;241m.\u001b[39mevaluated_individuals_\u001b[38;5;241m.\u001b[39mitems(), key\u001b[38;5;241m=\u001b[39m\u001b[38;5;28;01mlambda\u001b[39;00m x: x[\u001b[38;5;241m1\u001b[39m][\u001b[38;5;124m'\u001b[39m\u001b[38;5;124minternal_cv_score\u001b[39m\u001b[38;5;124m'\u001b[39m], reverse\u001b[38;5;241m=\u001b[39m\u001b[38;5;28;01mTrue\u001b[39;00m)[:\u001b[38;5;241m11\u001b[39m]\n\u001b[0;32m      4\u001b[0m \u001b[38;5;66;03m# Extract the classifier objects from the TPOT pipeline\u001b[39;00m\n\u001b[1;32m----> 5\u001b[0m classifiers \u001b[38;5;241m=\u001b[39m [\u001b[43mtpot\u001b[49m\u001b[38;5;241;43m.\u001b[39;49m\u001b[43mfitted_pipeline_\u001b[49m\u001b[38;5;241;43m.\u001b[39;49m\u001b[43mnamed_steps\u001b[49m\u001b[43m[\u001b[49m\u001b[43mname\u001b[49m\u001b[43m]\u001b[49m \u001b[38;5;28;01mfor\u001b[39;00m name, _ \u001b[38;5;129;01min\u001b[39;00m top_10_classifiers]\n\u001b[0;32m      7\u001b[0m \u001b[38;5;66;03m# Create a voting ensemble classifier\u001b[39;00m\n\u001b[0;32m      8\u001b[0m voting_classifier \u001b[38;5;241m=\u001b[39m VotingClassifier(estimators\u001b[38;5;241m=\u001b[39m[(\u001b[38;5;124mf\u001b[39m\u001b[38;5;124m'\u001b[39m\u001b[38;5;124mclf_\u001b[39m\u001b[38;5;132;01m{\u001b[39;00mi\u001b[38;5;132;01m}\u001b[39;00m\u001b[38;5;124m'\u001b[39m, clf) \u001b[38;5;28;01mfor\u001b[39;00m i, clf \u001b[38;5;129;01min\u001b[39;00m \u001b[38;5;28menumerate\u001b[39m(classifiers)], voting\u001b[38;5;241m=\u001b[39m\u001b[38;5;124m'\u001b[39m\u001b[38;5;124mhard\u001b[39m\u001b[38;5;124m'\u001b[39m)\n",
      "\u001b[1;31mKeyError\u001b[0m: 'MLPClassifier(input_matrix, MLPClassifier__alpha=0.01, MLPClassifier__learning_rate_init=0.001)'"
     ]
    }
   ],
   "source": [
    "# Get top 10 classifiers\n",
    "top_10_classifiers = sorted(tpot.evaluated_individuals_.items(), key=lambda x: x[1]['internal_cv_score'], reverse=True)[:11]\n",
    "\n",
    "# Extract the classifier objects from the TPOT pipeline\n",
    "classifiers = [tpot.fitted_pipeline_.named_steps[name] for name, _ in top_10_classifiers]\n",
    "\n",
    "# Create a voting ensemble classifier\n",
    "voting_classifier = VotingClassifier(estimators=[(f'clf_{i}', clf) for i, clf in enumerate(classifiers)], voting='hard')\n",
    "\n",
    "# Fit the voting ensemble classifier\n",
    "voting_classifier.fit(X_train, y_train)\n",
    "\n",
    "from sklearn.metrics import f1_score\n",
    "\n",
    "# Get predictions from the voting ensemble classifier\n",
    "y_pred = voting_classifier.predict(X_test)\n",
    "\n",
    "# Compute the F1 score\n",
    "f1 = f1_score(y_test, y_pred)\n",
    "\n",
    "print(f'F1 Score of the voting ensemble classifier: {f1:.4f}')"
   ]
  },
  {
   "cell_type": "code",
   "execution_count": 151,
   "metadata": {
    "scrolled": true
   },
   "outputs": [
    {
     "data": {
      "text/plain": [
       "[('MLPClassifier(input_matrix, MLPClassifier__alpha=0.01, MLPClassifier__learning_rate_init=0.001)',\n",
       "  {'generation': 1,\n",
       "   'mutation_count': 1,\n",
       "   'crossover_count': 0,\n",
       "   'predecessor': ('LogisticRegression(input_matrix, LogisticRegression__C=15.0, LogisticRegression__dual=False, LogisticRegression__penalty=l2)',),\n",
       "   'operator_count': 1,\n",
       "   'internal_cv_score': 0.7793569326950849}),\n",
       " ('XGBClassifier(input_matrix, XGBClassifier__learning_rate=0.1, XGBClassifier__max_depth=7, XGBClassifier__min_child_weight=2, XGBClassifier__n_estimators=100, XGBClassifier__n_jobs=1, XGBClassifier__subsample=0.8500000000000001, XGBClassifier__verbosity=0)',\n",
       "  {'generation': 0,\n",
       "   'mutation_count': 0,\n",
       "   'crossover_count': 0,\n",
       "   'predecessor': ('ROOT',),\n",
       "   'operator_count': 1,\n",
       "   'internal_cv_score': 0.7761421654845837}),\n",
       " ('MLPClassifier(input_matrix, MLPClassifier__alpha=0.1, MLPClassifier__learning_rate_init=0.01)',\n",
       "  {'generation': 0,\n",
       "   'mutation_count': 0,\n",
       "   'crossover_count': 0,\n",
       "   'predecessor': ('ROOT',),\n",
       "   'operator_count': 1,\n",
       "   'internal_cv_score': 0.7757191563126886}),\n",
       " ('GradientBoostingClassifier(RandomForestClassifier(input_matrix, RandomForestClassifier__bootstrap=True, RandomForestClassifier__criterion=gini, RandomForestClassifier__max_features=0.9000000000000001, RandomForestClassifier__min_samples_leaf=5, RandomForestClassifier__min_samples_split=11, RandomForestClassifier__n_estimators=100), GradientBoostingClassifier__learning_rate=0.01, GradientBoostingClassifier__max_depth=1, GradientBoostingClassifier__max_features=0.55, GradientBoostingClassifier__min_samples_leaf=5, GradientBoostingClassifier__min_samples_split=7, GradientBoostingClassifier__n_estimators=100, GradientBoostingClassifier__subsample=0.7000000000000001)',\n",
       "  {'generation': 0,\n",
       "   'mutation_count': 0,\n",
       "   'crossover_count': 0,\n",
       "   'predecessor': ('ROOT',),\n",
       "   'operator_count': 2,\n",
       "   'internal_cv_score': 0.7728809734300246}),\n",
       " ('ExtraTreesClassifier(input_matrix, ExtraTreesClassifier__bootstrap=True, ExtraTreesClassifier__criterion=entropy, ExtraTreesClassifier__max_features=0.6500000000000001, ExtraTreesClassifier__min_samples_leaf=4, ExtraTreesClassifier__min_samples_split=17, ExtraTreesClassifier__n_estimators=100)',\n",
       "  {'generation': 1,\n",
       "   'mutation_count': 1,\n",
       "   'crossover_count': 0,\n",
       "   'predecessor': ('ExtraTreesClassifier(VarianceThreshold(input_matrix, VarianceThreshold__threshold=0.01), ExtraTreesClassifier__bootstrap=True, ExtraTreesClassifier__criterion=entropy, ExtraTreesClassifier__max_features=0.6500000000000001, ExtraTreesClassifier__min_samples_leaf=4, ExtraTreesClassifier__min_samples_split=17, ExtraTreesClassifier__n_estimators=100)',),\n",
       "   'operator_count': 1,\n",
       "   'internal_cv_score': 0.7710772871999808}),\n",
       " ('MLPClassifier(input_matrix, MLPClassifier__alpha=0.1, MLPClassifier__learning_rate_init=0.001)',\n",
       "  {'generation': 1,\n",
       "   'mutation_count': 1,\n",
       "   'crossover_count': 0,\n",
       "   'predecessor': ('MLPClassifier(input_matrix, MLPClassifier__alpha=0.1, MLPClassifier__learning_rate_init=0.01)',),\n",
       "   'operator_count': 1,\n",
       "   'internal_cv_score': 0.7708814668695757}),\n",
       " ('MLPClassifier(Binarizer(input_matrix, Binarizer__threshold=0.30000000000000004), MLPClassifier__alpha=0.1, MLPClassifier__learning_rate_init=0.001)',\n",
       "  {'generation': 1,\n",
       "   'mutation_count': 1,\n",
       "   'crossover_count': 0,\n",
       "   'predecessor': ('MLPClassifier(Binarizer(input_matrix, Binarizer__threshold=0.30000000000000004), MLPClassifier__alpha=0.1, MLPClassifier__learning_rate_init=0.5)',),\n",
       "   'operator_count': 2,\n",
       "   'internal_cv_score': 0.7708814668695757}),\n",
       " ('ExtraTreesClassifier(input_matrix, ExtraTreesClassifier__bootstrap=True, ExtraTreesClassifier__criterion=entropy, ExtraTreesClassifier__max_features=0.8, ExtraTreesClassifier__min_samples_leaf=6, ExtraTreesClassifier__min_samples_split=5, ExtraTreesClassifier__n_estimators=100)',\n",
       "  {'generation': 1,\n",
       "   'mutation_count': 1,\n",
       "   'crossover_count': 0,\n",
       "   'predecessor': ('ExtraTreesClassifier(input_matrix, ExtraTreesClassifier__bootstrap=True, ExtraTreesClassifier__criterion=entropy, ExtraTreesClassifier__max_features=0.8, ExtraTreesClassifier__min_samples_leaf=19, ExtraTreesClassifier__min_samples_split=5, ExtraTreesClassifier__n_estimators=100)',),\n",
       "   'operator_count': 1,\n",
       "   'internal_cv_score': 0.7707814250165587}),\n",
       " ('ExtraTreesClassifier(VarianceThreshold(input_matrix, VarianceThreshold__threshold=0.01), ExtraTreesClassifier__bootstrap=True, ExtraTreesClassifier__criterion=entropy, ExtraTreesClassifier__max_features=0.6500000000000001, ExtraTreesClassifier__min_samples_leaf=4, ExtraTreesClassifier__min_samples_split=17, ExtraTreesClassifier__n_estimators=100)',\n",
       "  {'generation': 0,\n",
       "   'mutation_count': 0,\n",
       "   'crossover_count': 0,\n",
       "   'predecessor': ('ROOT',),\n",
       "   'operator_count': 2,\n",
       "   'internal_cv_score': 0.7685887518143001}),\n",
       " ('RandomForestClassifier(input_matrix, RandomForestClassifier__bootstrap=False, RandomForestClassifier__criterion=entropy, RandomForestClassifier__max_features=0.6500000000000001, RandomForestClassifier__min_samples_leaf=2, RandomForestClassifier__min_samples_split=4, RandomForestClassifier__n_estimators=100)',\n",
       "  {'generation': 0,\n",
       "   'mutation_count': 0,\n",
       "   'crossover_count': 0,\n",
       "   'predecessor': ('ROOT',),\n",
       "   'operator_count': 1,\n",
       "   'internal_cv_score': 0.7673217077375233})]"
      ]
     },
     "execution_count": 151,
     "metadata": {},
     "output_type": "execute_result"
    }
   ],
   "source": [
    "# Get best 10 classifiers\n",
    "best_10_classifiers = sorted(tpot.evaluated_individuals_.items(), key=lambda x: x[1]['internal_cv_score'], reverse=True)[:10]\n",
    "\n",
    "# # Extract the classifier objects from the TPOT pipeline\n",
    "# classifiers = [tpot.fitted_pipeline_.named_steps[name] for name, _ in best_10_classifiers]\n",
    "best_10_classifiers"
   ]
  },
  {
   "cell_type": "markdown",
   "metadata": {
    "id": "fKTd8TuuZ6vi"
   },
   "source": [
    "Note: mol.GetProp('SMILES') and Chem.MolToSmiles(mol) not always the same?"
   ]
  }
 ],
 "metadata": {
  "colab": {
   "provenance": []
  },
  "kernelspec": {
   "display_name": "Python 3 (ipykernel)",
   "language": "python",
   "name": "python3"
  },
  "language_info": {
   "codemirror_mode": {
    "name": "ipython",
    "version": 3
   },
   "file_extension": ".py",
   "mimetype": "text/x-python",
   "name": "python",
   "nbconvert_exporter": "python",
   "pygments_lexer": "ipython3",
   "version": "3.10.9"
  }
 },
 "nbformat": 4,
 "nbformat_minor": 1
}

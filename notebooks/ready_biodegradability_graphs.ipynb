{
 "cells": [
  {
   "cell_type": "code",
   "execution_count": 1,
   "metadata": {},
   "outputs": [],
   "source": [
    "%load_ext autoreload\n",
    "%autoreload 2"
   ]
  },
  {
   "cell_type": "code",
   "execution_count": 2,
   "metadata": {
    "colab": {
     "base_uri": "https://localhost:8080/"
    },
    "id": "ka7gB7xeOjP9",
    "outputId": "71729be3-a9f3-44ec-9ce9-ad3679b0cd06"
   },
   "outputs": [
    {
     "name": "stderr",
     "output_type": "stream",
     "text": [
      "'wget' is not recognized as an internal or external command,\n",
      "operable program or batch file.\n"
     ]
    }
   ],
   "source": [
    "import os\n",
    "filename = 'AllPublicnew.sdf'\n",
    "filepath = f'{filename}'\n",
    "\n",
    "download_url = f'https://zenodo.org/records/3540701/files/{filename}'\n",
    "\n",
    "if not os.path.exists(filepath):\n",
    "    !wget {download_url} -O {filepath}\n",
    "else:\n",
    "    print(\"File already exists:\", filepath)"
   ]
  },
  {
   "cell_type": "code",
   "execution_count": 3,
   "metadata": {},
   "outputs": [],
   "source": [
    "def in_google_colab():\n",
    "    try:\n",
    "        import google.colab\n",
    "        return True\n",
    "    except ImportError:\n",
    "        return False\n"
   ]
  },
  {
   "cell_type": "code",
   "execution_count": 4,
   "metadata": {
    "colab": {
     "base_uri": "https://localhost:8080/",
     "height": 1000
    },
    "id": "sGrLM56RPnWh",
    "outputId": "3e37d478-811b-45c0-b78d-f7f8c4fa2da4"
   },
   "outputs": [],
   "source": [
    "# !pip install jaqpotpy\n",
    "# !pip install rdkit\n",
    "# !pip install torch-geometric\n",
    "# !pip install scikit-learn\n",
    "# !pip install torch"
   ]
  },
  {
   "cell_type": "code",
   "execution_count": 5,
   "metadata": {},
   "outputs": [
    {
     "name": "stdout",
     "output_type": "stream",
     "text": [
      "Device: \n",
      "- NVIDIA GeForce GTX 1050 Ti with Max-Q Design\n"
     ]
    }
   ],
   "source": [
    "import random\n",
    "import numpy as np\n",
    "import torch\n",
    "\n",
    "seed = 42\n",
    "\n",
    "random.seed(seed)\n",
    "np.random.seed(seed)\n",
    "\n",
    "# Device\n",
    "device = torch.device('cuda:0' if torch.cuda.is_available() else 'cpu')\n",
    "cuda = torch.cuda.is_available()\n",
    "\n",
    "torch.manual_seed(seed)\n",
    "\n",
    "if cuda:\n",
    "    print(f\"Device: \\n- {torch.cuda.get_device_name()}\")\n",
    "    torch.cuda.manual_seed(seed)\n",
    "else:\n",
    "    print(f\"Device: {'CPU'}\")\n"
   ]
  },
  {
   "cell_type": "code",
   "execution_count": 6,
   "metadata": {
    "id": "nO9JuNGQQV_C"
   },
   "outputs": [],
   "source": [
    "from rdkit import Chem\n",
    "from rdkit.Chem import AllChem\n",
    "from pathlib import Path\n",
    "\n",
    "import sys\n",
    "\n",
    "if '..' not in sys.path:\n",
    "    sys.path.append('..')\n",
    "    \n",
    "from utils.utils import class_balanced_random_split\n",
    "\n",
    "working_dir = Path.cwd()\n",
    "filename = 'AllPublicnew.sdf'\n",
    "\n",
    "\n",
    "if in_google_colab():\n",
    "    data_dir = working_dir\n",
    "else:\n",
    "    data_dir = working_dir.parent/'data'/'ready_biodegradability'\n",
    "    \n",
    "   \n",
    "    \n",
    "dataset_filepath = data_dir/filename\n",
    "\n",
    "\n",
    "X, y = [], []\n",
    "sdf_supplier = Chem.SDMolSupplier(str(dataset_filepath))\n",
    "\n",
    "for mol in sdf_supplier:\n",
    "    if mol is not None:\n",
    "        smiles = mol.GetProp('SMILES')\n",
    "        # smiles = Chem.MolToSmiles(mol)\n",
    "        ready_biodegradability = int(mol.GetProp('ReadyBiodegradability'))\n",
    "\n",
    "        X.append(smiles)\n",
    "        y.append(ready_biodegradability)\n",
    "\n"
   ]
  },
  {
   "cell_type": "code",
   "execution_count": 7,
   "metadata": {
    "colab": {
     "base_uri": "https://localhost:8080/"
    },
    "id": "X4yFJpPqQX7z",
    "outputId": "a5b4baf7-90b7-4f9e-9c32-b7a6d349f804"
   },
   "outputs": [
    {
     "name": "stdout",
     "output_type": "stream",
     "text": [
      "Whole Dataset (35.5% positive):\n",
      "- Positive Samples: 1,133\n",
      "- Negative Samples: 2,059\n",
      "\n",
      "\n"
     ]
    }
   ],
   "source": [
    "import numpy as np\n",
    "\n",
    "\n",
    "n_all = len(y)\n",
    "print(f\"Whole Dataset ({100*(np.array(y)==1).sum()/n_all:.1f}% positive):\")\n",
    "print(f\"- Positive Samples: {(np.array(y)==1).sum():,}\")\n",
    "print(f\"- Negative Samples: {(np.array(y)==0).sum():,}\")\n",
    "print('\\n')\n",
    "\n",
    "# TODO: Need oversampling on train data AFTER spliting on train-validtaion as well\n",
    "\n",
    "# Create test split\n",
    "X_train_val, X_test, y_train_val, y_test = class_balanced_random_split(X, y, seed=seed)\n",
    "\n",
    "# Create train and validation splits\n",
    "X_train, X_val, y_train, y_val = class_balanced_random_split(X_train_val, y_train_val, seed=seed)\n",
    "\n",
    "\n",
    "# n_train = len(y_train)\n",
    "# print(f\"Train Split ({100*(np.array(y_train)==1).sum()/n_train:.1f}% positive):\")\n",
    "# print(f\"- Positive Train Samples: {(np.array(y_train)==1).sum():,}\")\n",
    "# print(f\"- Negative Train Samples: {(np.array(y_train)==0).sum():,}\")\n",
    "# print('\\n')\n",
    "\n",
    "# n_val = len(y_val)\n",
    "# print(f\"Validation Split ({100*(np.array(y_val)==1).sum()/n_val:.1f}% positive):\")\n",
    "# print(f\"- Positive Validation Samples: {(np.array(y_val)==1).sum():,}\")\n",
    "# print(f\"- Negative Validation Samples: {(np.array(y_val)==0).sum():,}\")\n",
    "# print('\\n')\n",
    "\n",
    "\n",
    "\n",
    "# n_test = len(y_test)\n",
    "# print(f\"Test Split ({100*(np.array(y_test)==1).sum()/n_test:.1f}% positive):\")\n",
    "# print(f\"- Positive Test Samples: {(np.array(y_test)==1).sum():,}\")\n",
    "# print(f\"- Negative Test Samples: {(np.array(y_test)==0).sum():,}\")\n",
    "# print('\\n')"
   ]
  },
  {
   "cell_type": "markdown",
   "metadata": {
    "id": "wsRBGEovezxF"
   },
   "source": [
    "### Structural data of the dataset for graph node feature creation"
   ]
  },
  {
   "cell_type": "code",
   "execution_count": 8,
   "metadata": {
    "colab": {
     "base_uri": "https://localhost:8080/"
    },
    "id": "bgFP0gY7RWTC",
    "outputId": "53a645bb-48cd-4493-dc4c-d404116ccf86"
   },
   "outputs": [
    {
     "name": "stdout",
     "output_type": "stream",
     "text": [
      "Symb:  {'Sn', 'Bi', 'Si', 'C', 'Cl', 'Cu', 'F', 'O', 'S', 'I', 'B', 'N', 'P', 'Br'}\n",
      "Hs:  {0, 1, 2, 3, 4}\n",
      "Impv:  {0, 1, 2, 3, 4}\n",
      "Fc:  {0, 1, -1}\n",
      "Hb:  {rdkit.Chem.rdchem.HybridizationType.SP, rdkit.Chem.rdchem.HybridizationType.SP2, rdkit.Chem.rdchem.HybridizationType.SP3, rdkit.Chem.rdchem.HybridizationType.SP3D2}\n",
      "ExpV:  {0, 1, 2, 3, 4, 5, 6}\n",
      "Deg:  {0, 1, 2, 3, 4}\n",
      "Bond Types: {rdkit.Chem.rdchem.BondType.SINGLE, rdkit.Chem.rdchem.BondType.DOUBLE, rdkit.Chem.rdchem.BondType.TRIPLE, rdkit.Chem.rdchem.BondType.AROMATIC}\n",
      "Is_Conjugated: {False, True}\n"
     ]
    }
   ],
   "source": [
    "from rdkit import Chem\n",
    "Symb , Hs , Impv , Fc , Hb , ExpV , Deg = set() , set() , set() , set() , set() , set() , set()\n",
    "bond_type , conj = set() , set()\n",
    "\n",
    "for smile in X:\n",
    "    for atom in Chem.MolFromSmiles(smile).GetAtoms():\n",
    "        Symb.add(atom.GetSymbol())\n",
    "        Hs.add(atom.GetTotalNumHs())\n",
    "        Impv.add(atom.GetImplicitValence())\n",
    "        Fc.add(atom.GetFormalCharge())\n",
    "        Hb.add(atom.GetHybridization())\n",
    "        ExpV.add(atom.GetExplicitValence())\n",
    "        Deg.add(atom.GetDegree())\n",
    "        \n",
    "    for bond in Chem.MolFromSmiles(smile).GetBonds():\n",
    "        bond_type.add(bond.GetBondType())\n",
    "        conj.add(bond.GetIsConjugated())\n",
    "        \n",
    "print('Symb: ', Symb)\n",
    "print('Hs: ', Hs)\n",
    "print('Impv: ', Impv)\n",
    "print('Fc: ', Fc)\n",
    "print('Hb: ', Hb)\n",
    "print('ExpV: ', ExpV)\n",
    "print('Deg: ', Deg)\n",
    "\n",
    "\n",
    "print(\"Bond Types:\", bond_type)\n",
    "print(\"Is_Conjugated:\", conj)"
   ]
  },
  {
   "cell_type": "markdown",
   "metadata": {
    "id": "G7Mb60TIe-Fl"
   },
   "source": [
    "### Create the graph datasets"
   ]
  },
  {
   "cell_type": "code",
   "execution_count": 9,
   "metadata": {
    "id": "nMC0RoKkZI89"
   },
   "outputs": [],
   "source": [
    "from rdkit import Chem\n",
    "\n",
    "def one_of_k_encoding(x, allowable_set):\n",
    "    if x not in allowable_set:\n",
    "        raise Exception(f'input{x} not in allowable set{allowable_set}')\n",
    "    return list(map(lambda s: x == s , allowable_set))\n",
    "\n",
    "def one_of_k_encoding_unk(x, allowable_set):\n",
    "    if x not in allowable_set:\n",
    "        x = allowable_set[-1]\n",
    "    return list(map(lambda s: x==s, allowable_set))\n",
    "\n",
    "Symbols = list(Symb)\n",
    "\n",
    "Degree = list(Deg)\n",
    "Hs_Atoms = list(Hs)\n",
    "Implicit_Val = list(Impv)\n",
    "Formal_Charge = list(Fc)\n",
    "Explicit_Val = list(ExpV)\n",
    "Hybridization = list(Hb)\n",
    "\n",
    "def atom_feature(atom):\n",
    "    return torch.tensor(one_of_k_encoding_unk(atom.GetSymbol(), Symbols) +\n",
    "                        one_of_k_encoding(atom.GetTotalNumHs(), Hs_Atoms) +\n",
    "                        one_of_k_encoding(atom.GetDegree(), Degree) +\n",
    "                        one_of_k_encoding(atom.GetImplicitValence(), Implicit_Val) +\n",
    "                        one_of_k_encoding(atom.GetFormalCharge(), Formal_Charge) +\n",
    "                        one_of_k_encoding(atom.GetHybridization(), Hybridization) +\n",
    "                        one_of_k_encoding(atom.GetExplicitValence(), Explicit_Val) +\n",
    "                        [atom.GetIsAromatic()], dtype=torch.int16)"
   ]
  },
  {
   "cell_type": "code",
   "execution_count": 28,
   "metadata": {
    "id": "tym9w0smZhkI"
   },
   "outputs": [],
   "source": [
    "from torch_geometric.data import Data\n",
    "\n",
    "def nodes_and_adjacency(smile,y):\n",
    "\n",
    "    mol = Chem.MolFromSmiles(smile)\n",
    "    # Create node Features\n",
    "    feats = []\n",
    "    attr = []\n",
    "    for atom in mol.GetAtoms():\n",
    "        feats.append(atom_feature(atom)) # Get the 5 feats in a single atom of a mol\n",
    "    mol_node_features = torch.stack(feats).float() # Stack them in an array [num_nodes x atom_features]\n",
    "\n",
    "    # Create Adjacency Matrix\n",
    "    ix1, ix2 = [], []\n",
    "\n",
    "    for bond in mol.GetBonds():\n",
    "\n",
    "        start, end = bond.GetBeginAtomIdx(), bond.GetEndAtomIdx()\n",
    "        ix1 += [start, end]\n",
    "        ix2 += [end, start]\n",
    "\n",
    "    adj_norm = torch.asarray([ix1, ix2], dtype=torch.int64) # Needs to be in COO Format\n",
    "\n",
    "    return Data(x=mol_node_features,\n",
    "                edge_index=adj_norm,\n",
    "                y=y)"
   ]
  },
  {
   "cell_type": "code",
   "execution_count": 30,
   "metadata": {
    "id": "YQ54qBiHZlZq"
   },
   "outputs": [],
   "source": [
    "from torch.utils.data import Dataset\n",
    "from tqdm.notebook import tqdm\n",
    "import torch\n",
    "\n",
    "from torch_geometric.transforms import NormalizeScale\n",
    "\n",
    "\n",
    "class GraphDataset(Dataset):\n",
    "\n",
    "    def __init__(self, smiles, y, transform=None):\n",
    "        super(GraphDataset,self).__init__()\n",
    "        \n",
    "        self.transform = transform\n",
    "        dataset_info = [nodes_and_adjacency(smile, y) for smile, y in (zip(smiles, y))]\n",
    "\n",
    "        self.df = [info for info in dataset_info]\n",
    "\n",
    "    def __getitem__(self, idx):\n",
    "        \n",
    "        data = self.df[idx]\n",
    "        \n",
    "        if self.transform is not None:\n",
    "            data = self.transform(data)\n",
    "            \n",
    "        return data\n",
    "\n",
    "    def __len__(self):\n",
    "        return len(self.df)\n"
   ]
  },
  {
   "cell_type": "markdown",
   "metadata": {},
   "source": [
    "### Training function"
   ]
  },
  {
   "cell_type": "code",
   "execution_count": 31,
   "metadata": {},
   "outputs": [],
   "source": [
    "from tqdm import tqdm\n",
    "\n",
    "# Train function\n",
    "def train(epoch, n_epochs, loader, model, loss_fn, optimizer, device):\n",
    "    \n",
    "    running_loss = 0\n",
    "    total_samples = 0\n",
    "    tqdm_loader = tqdm(loader, desc=f'Epoch {epoch}/{n_epochs}')\n",
    "    \n",
    "    model.train()\n",
    "    for _, data in enumerate(tqdm_loader):\n",
    "        \n",
    "        data = data.to(device)\n",
    "        \n",
    "        optimizer.zero_grad()\n",
    "\n",
    "        outputs = model(x=data.x, edge_index=data.edge_index, batch=data.batch).squeeze(-1)\n",
    "         \n",
    "        loss = loss_fn(outputs.float(), data.y.float())\n",
    "    \n",
    "\n",
    "        running_loss += loss.item() * data.y.size(0)\n",
    "        total_samples += data.y.size(0)\n",
    "        \n",
    "        loss.backward()\n",
    "        optimizer.step()\n",
    "        \n",
    "        # Update tqdm description with additional information\n",
    "        tqdm_loader.set_postfix(loss=running_loss/total_samples)\n",
    "        \n",
    "    avg_loss = running_loss / len(loader.dataset)\n",
    "    \n",
    "    tqdm_loader.set_postfix(loss=running_loss)\n",
    "    tqdm_loader.close()\n",
    "            \n",
    "    return avg_loss\n",
    "\n",
    "\n",
    "# train_loss = train(epoch, n_epochs, train_loader, model, loss_fn, optimizer, device)\n",
    "    "
   ]
  },
  {
   "cell_type": "markdown",
   "metadata": {},
   "source": [
    "### Testing function"
   ]
  },
  {
   "cell_type": "code",
   "execution_count": 73,
   "metadata": {},
   "outputs": [],
   "source": [
    "import torch.nn.functional as F\n",
    "import sklearn.metrics as metrics\n",
    "\n",
    "def test(loader, model, loss_fn, device, decision_threshold=0.5):\n",
    "    \n",
    "    running_loss = 0\n",
    "    total_samples = 0\n",
    "    \n",
    "    all_preds = []\n",
    "    all_probs = []\n",
    "    all_labels = []\n",
    "    \n",
    "    model.eval()\n",
    "    with torch.no_grad():\n",
    "        for _, data in enumerate(loader):\n",
    "        \n",
    "            data = data.to(device)\n",
    "            \n",
    "            outputs = model(x=data.x, edge_index=data.edge_index, batch=data.batch).squeeze(-1)\n",
    "            \n",
    "            probs = F.sigmoid(outputs)\n",
    "            preds = (probs > decision_threshold).int()\n",
    "            \n",
    "            all_probs.extend(probs.tolist())\n",
    "            all_preds.extend(preds.tolist())\n",
    "            all_labels.extend(data.y.tolist())\n",
    "            \n",
    "            loss = loss_fn(outputs.float(), data.y.float())\n",
    "            \n",
    "            running_loss += loss.item() * data.y.size(0)\n",
    "            total_samples += data.y.size(0)\n",
    "        \n",
    "        avg_loss = running_loss / len(loader.dataset)\n",
    "    \n",
    "    metrics_dict = compute_metrics(all_labels, all_preds)\n",
    "    metrics_dict['roc_auc'] = metrics.roc_auc_score(all_labels, all_probs)\n",
    "    metrics_dict['loss'] = avg_loss\n",
    "    conf_mat = metrics.confusion_matrix(all_labels, all_preds).ravel()\n",
    "\n",
    "#     tn, fp, fn, tp = metrics.confusion_matrix(all_labels, all_preds).ravel()\n",
    "#     conf_mat = {'tn': tn, 'fp': fp, 'fn': fn, 'tp': tp}\n",
    "    \n",
    "        \n",
    "    return avg_loss, metrics_dict, conf_mat\n",
    "                                                                         \n",
    "\n",
    "\n",
    "def compute_metrics(y_true, y_pred):\n",
    "    \n",
    "    accuracy = metrics.accuracy_score(y_true, y_pred)\n",
    "    balanced_accuracy = metrics.balanced_accuracy_score(y_true, y_pred)\n",
    "    precision = metrics.precision_score(y_true, y_pred, zero_division=0)\n",
    "    recall = metrics.recall_score(y_true, y_pred)\n",
    "    f1 = metrics.f1_score(y_true, y_pred)\n",
    "    mcc = metrics.matthews_corrcoef(y_true, y_pred)\n",
    "    \n",
    "    metrics_dict = {\n",
    "        'accuracy': accuracy,\n",
    "        'balanced_accuracy': balanced_accuracy,\n",
    "        'precision': precision,\n",
    "        'recall': recall,\n",
    "        'f1': f1,\n",
    "        'mcc': mcc\n",
    "    }\n",
    "    \n",
    "    return metrics_dict\n"
   ]
  },
  {
   "cell_type": "markdown",
   "metadata": {},
   "source": [
    "### Create Dataloaders"
   ]
  },
  {
   "cell_type": "code",
   "execution_count": 74,
   "metadata": {},
   "outputs": [],
   "source": [
    "from torch_geometric.loader import DataLoader\n",
    "import random \n",
    "import numpy as np\n",
    "\n",
    "transform = None\n",
    "# transform = NormalizeScale()\n",
    "\n",
    "\n",
    "\n",
    "train_dataset = GraphDataset(X_train, y_train, transform=transform)\n",
    "val_dataset = GraphDataset(X_val, y_val, transform=transform)\n",
    "test_dataset = GraphDataset(X_test, y_test, transform=transform)\n",
    "\n",
    "\n",
    "kwargs = {'num_workers': 0, 'pin_memory': True} if cuda else {}\n",
    "\n",
    "train_loader = DataLoader(dataset=train_dataset, batch_size=784, shuffle=True, **kwargs)\n",
    "val_loader = DataLoader(dataset=val_dataset, batch_size=256, shuffle=False, **kwargs)\n",
    "test_loader = DataLoader(dataset=test_dataset, batch_size=256, shuffle=False, **kwargs)\n",
    "\n"
   ]
  },
  {
   "cell_type": "markdown",
   "metadata": {},
   "source": [
    "### Create BCE Loss Function with Label Smoothing"
   ]
  },
  {
   "cell_type": "code",
   "execution_count": 75,
   "metadata": {},
   "outputs": [],
   "source": [
    "import torch.nn as nn\n",
    "from torch.nn import BCEWithLogitsLoss\n",
    "\n",
    "class LabelSmoothingBCEWithLogitsLoss(nn.Module):\n",
    "    def __init__(self,\n",
    "                 smoothing=[0.0, 0.0],\n",
    "                 weight=None,\n",
    "                 size_average=None,\n",
    "                 reduce=None,\n",
    "                 reduction='mean',\n",
    "                 pos_weight=None,):\n",
    "        \n",
    "        super(LabelSmoothingBCEWithLogitsLoss, self).__init__()\n",
    "        \n",
    "        self.smoothing = smoothing\n",
    "        self.bce = BCEWithLogitsLoss(weight, size_average, reduce, reduction, pos_weight)\n",
    "        \n",
    "\n",
    "    def forward(self, outputs, targets):\n",
    "        \n",
    "        label_smoothing = [torch.tensor(self.smoothing[0]).float(), torch.tensor(1-self.smoothing[1]).float()]\n",
    "        smoothed_labels = torch.where(targets < 0.5, label_smoothing[0], label_smoothing[1])\n",
    "        loss = self.bce(outputs, smoothed_labels)\n",
    "        \n",
    "        return loss\n"
   ]
  },
  {
   "cell_type": "markdown",
   "metadata": {
    "id": "6fyl2fIefLLW"
   },
   "source": [
    "### Import classes of Graph Neural Networks"
   ]
  },
  {
   "cell_type": "markdown",
   "metadata": {},
   "source": [
    "#### Graph Convolutional Network"
   ]
  },
  {
   "cell_type": "code",
   "execution_count": 76,
   "metadata": {
    "id": "gpjNFPE0VRbX"
   },
   "outputs": [],
   "source": [
    "from models.graph_convolutional_network import GraphConvolutionalNetwork\n",
    "\n",
    "gcn_model = GraphConvolutionalNetwork(input_dim=44,\n",
    "                                      hidden_dims=[64, 64],\n",
    "                                      output_dim=1,\n",
    "                                      activation=nn.ReLU(),\n",
    "                                      dropout=0.3,\n",
    "                                      graph_norm=False,\n",
    "                                      pooling='mean'\n",
    "                                     ).to(device)\n",
    "\n",
    "\n"
   ]
  },
  {
   "cell_type": "markdown",
   "metadata": {},
   "source": [
    "#### Graph Attention Network"
   ]
  },
  {
   "cell_type": "code",
   "execution_count": 77,
   "metadata": {},
   "outputs": [],
   "source": [
    "from models.graph_attention_network import GraphAttentionNetwork\n",
    "\n",
    "\n",
    "gat_model = GraphAttentionNetwork(input_dim=44,\n",
    "                                  hidden_dims=[32, 32, 32],\n",
    "                                  heads=8,\n",
    "                                  output_dim=1,\n",
    "                                  activation=nn.ReLU(),\n",
    "                                  dropout=0.2,\n",
    "                                  graph_norm=False,\n",
    "                                  pooling='mean'\n",
    "                                 ).to(device)"
   ]
  },
  {
   "cell_type": "markdown",
   "metadata": {},
   "source": [
    "### Training Loop"
   ]
  },
  {
   "cell_type": "code",
   "execution_count": 94,
   "metadata": {
    "scrolled": true
   },
   "outputs": [
    {
     "name": "stderr",
     "output_type": "stream",
     "text": [
      "Epoch 1/100: 100%|███████████████████████████████████████████████████████████| 3/3 [00:00<00:00,  5.93it/s, loss=0.672]\n"
     ]
    },
    {
     "name": "stdout",
     "output_type": "stream",
     "text": [
      "Train Loss: 0.6716 | Val Loss: 0.6197 | Accuracy: 0.6446 | F1: 0.0000 | MCC: 0.0000 | ROC_AUC: 0.6971 | "
     ]
    },
    {
     "name": "stderr",
     "output_type": "stream",
     "text": [
      "Epoch 2/100: 100%|███████████████████████████████████████████████████████████| 3/3 [00:00<00:00,  9.04it/s, loss=0.606]\n"
     ]
    },
    {
     "name": "stdout",
     "output_type": "stream",
     "text": [
      "Train Loss: 0.6063 | Val Loss: 0.5860 | Accuracy: 0.6446 | F1: 0.0000 | MCC: 0.0000 | ROC_AUC: 0.7435 | "
     ]
    },
    {
     "name": "stderr",
     "output_type": "stream",
     "text": [
      "Epoch 3/100: 100%|███████████████████████████████████████████████████████████| 3/3 [00:00<00:00,  9.09it/s, loss=0.581]\n"
     ]
    },
    {
     "name": "stdout",
     "output_type": "stream",
     "text": [
      "Train Loss: 0.5810 | Val Loss: 0.5784 | Accuracy: 0.6446 | F1: 0.0000 | MCC: 0.0000 | ROC_AUC: 0.7327 | "
     ]
    },
    {
     "name": "stderr",
     "output_type": "stream",
     "text": [
      "Epoch 4/100: 100%|███████████████████████████████████████████████████████████| 3/3 [00:00<00:00,  9.38it/s, loss=0.569]\n"
     ]
    },
    {
     "name": "stdout",
     "output_type": "stream",
     "text": [
      "Train Loss: 0.5690 | Val Loss: 0.5683 | Accuracy: 0.6446 | F1: 0.0000 | MCC: 0.0000 | ROC_AUC: 0.7327 | "
     ]
    },
    {
     "name": "stderr",
     "output_type": "stream",
     "text": [
      "Epoch 5/100: 100%|███████████████████████████████████████████████████████████| 3/3 [00:00<00:00,  9.04it/s, loss=0.553]\n"
     ]
    },
    {
     "name": "stdout",
     "output_type": "stream",
     "text": [
      "Train Loss: 0.5529 | Val Loss: 0.5551 | Accuracy: 0.6446 | F1: 0.0000 | MCC: 0.0000 | ROC_AUC: 0.7341 | "
     ]
    },
    {
     "name": "stderr",
     "output_type": "stream",
     "text": [
      "Epoch 6/100: 100%|███████████████████████████████████████████████████████████| 3/3 [00:00<00:00,  9.23it/s, loss=0.538]\n"
     ]
    },
    {
     "name": "stdout",
     "output_type": "stream",
     "text": [
      "Train Loss: 0.5384 | Val Loss: 0.5478 | Accuracy: 0.6642 | F1: 0.1988 | MCC: 0.1627 | ROC_AUC: 0.7363 | "
     ]
    },
    {
     "name": "stderr",
     "output_type": "stream",
     "text": [
      "Epoch 7/100: 100%|███████████████████████████████████████████████████████████| 3/3 [00:00<00:00,  9.09it/s, loss=0.528]\n"
     ]
    },
    {
     "name": "stdout",
     "output_type": "stream",
     "text": [
      "Train Loss: 0.5284 | Val Loss: 0.5432 | Accuracy: 0.6765 | F1: 0.3265 | MCC: 0.2148 | ROC_AUC: 0.7401 | "
     ]
    },
    {
     "name": "stderr",
     "output_type": "stream",
     "text": [
      "Epoch 8/100: 100%|████████████████████████████████████████████████████████████| 3/3 [00:00<00:00,  9.04it/s, loss=0.52]\n"
     ]
    },
    {
     "name": "stdout",
     "output_type": "stream",
     "text": [
      "Train Loss: 0.5202 | Val Loss: 0.5407 | Accuracy: 0.6838 | F1: 0.3645 | MCC: 0.2403 | ROC_AUC: 0.7450 | "
     ]
    },
    {
     "name": "stderr",
     "output_type": "stream",
     "text": [
      "Epoch 9/100: 100%|███████████████████████████████████████████████████████████| 3/3 [00:00<00:00,  9.01it/s, loss=0.514]\n"
     ]
    },
    {
     "name": "stdout",
     "output_type": "stream",
     "text": [
      "Train Loss: 0.5140 | Val Loss: 0.5388 | Accuracy: 0.6838 | F1: 0.3645 | MCC: 0.2403 | ROC_AUC: 0.7534 | "
     ]
    },
    {
     "name": "stderr",
     "output_type": "stream",
     "text": [
      "Epoch 10/100: 100%|██████████████████████████████████████████████████████████| 3/3 [00:00<00:00,  9.09it/s, loss=0.507]\n"
     ]
    },
    {
     "name": "stdout",
     "output_type": "stream",
     "text": [
      "Train Loss: 0.5070 | Val Loss: 0.5298 | Accuracy: 0.7059 | F1: 0.4495 | MCC: 0.3080 | ROC_AUC: 0.7629 | "
     ]
    },
    {
     "name": "stderr",
     "output_type": "stream",
     "text": [
      "Epoch 11/100: 100%|██████████████████████████████████████████████████████████| 3/3 [00:00<00:00,  9.15it/s, loss=0.499]\n"
     ]
    },
    {
     "name": "stdout",
     "output_type": "stream",
     "text": [
      "Train Loss: 0.4990 | Val Loss: 0.5206 | Accuracy: 0.7108 | F1: 0.4779 | MCC: 0.3237 | ROC_AUC: 0.7765 | "
     ]
    },
    {
     "name": "stderr",
     "output_type": "stream",
     "text": [
      "Epoch 12/100: 100%|███████████████████████████████████████████████████████████| 3/3 [00:00<00:00,  8.88it/s, loss=0.49]\n"
     ]
    },
    {
     "name": "stdout",
     "output_type": "stream",
     "text": [
      "Train Loss: 0.4904 | Val Loss: 0.5129 | Accuracy: 0.7108 | F1: 0.4434 | MCC: 0.3205 | ROC_AUC: 0.7899 | "
     ]
    },
    {
     "name": "stderr",
     "output_type": "stream",
     "text": [
      "Epoch 13/100: 100%|██████████████████████████████████████████████████████████| 3/3 [00:00<00:00,  8.93it/s, loss=0.482]\n"
     ]
    },
    {
     "name": "stdout",
     "output_type": "stream",
     "text": [
      "Train Loss: 0.4815 | Val Loss: 0.5029 | Accuracy: 0.7279 | F1: 0.4739 | MCC: 0.3691 | ROC_AUC: 0.8046 | "
     ]
    },
    {
     "name": "stderr",
     "output_type": "stream",
     "text": [
      "Epoch 14/100: 100%|██████████████████████████████████████████████████████████| 3/3 [00:00<00:00,  9.01it/s, loss=0.474]\n"
     ]
    },
    {
     "name": "stdout",
     "output_type": "stream",
     "text": [
      "Train Loss: 0.4741 | Val Loss: 0.4927 | Accuracy: 0.7525 | F1: 0.5551 | MCC: 0.4327 | ROC_AUC: 0.8169 | "
     ]
    },
    {
     "name": "stderr",
     "output_type": "stream",
     "text": [
      "Epoch 15/100: 100%|██████████████████████████████████████████████████████████| 3/3 [00:00<00:00,  8.82it/s, loss=0.466]\n"
     ]
    },
    {
     "name": "stdout",
     "output_type": "stream",
     "text": [
      "Train Loss: 0.4660 | Val Loss: 0.4886 | Accuracy: 0.7549 | F1: 0.5238 | MCC: 0.4464 | ROC_AUC: 0.8262 | "
     ]
    },
    {
     "name": "stderr",
     "output_type": "stream",
     "text": [
      "Epoch 16/100: 100%|██████████████████████████████████████████████████████████| 3/3 [00:00<00:00,  9.01it/s, loss=0.459]\n"
     ]
    },
    {
     "name": "stdout",
     "output_type": "stream",
     "text": [
      "Train Loss: 0.4595 | Val Loss: 0.4784 | Accuracy: 0.7574 | F1: 0.5714 | MCC: 0.4449 | ROC_AUC: 0.8330 | "
     ]
    },
    {
     "name": "stderr",
     "output_type": "stream",
     "text": [
      "Epoch 17/100: 100%|██████████████████████████████████████████████████████████| 3/3 [00:00<00:00,  9.15it/s, loss=0.454]\n"
     ]
    },
    {
     "name": "stdout",
     "output_type": "stream",
     "text": [
      "Train Loss: 0.4538 | Val Loss: 0.4729 | Accuracy: 0.7598 | F1: 0.5847 | MCC: 0.4510 | ROC_AUC: 0.8387 | "
     ]
    },
    {
     "name": "stderr",
     "output_type": "stream",
     "text": [
      "Epoch 18/100: 100%|███████████████████████████████████████████████████████████| 3/3 [00:00<00:00,  8.98it/s, loss=0.45]\n"
     ]
    },
    {
     "name": "stdout",
     "output_type": "stream",
     "text": [
      "Train Loss: 0.4500 | Val Loss: 0.4719 | Accuracy: 0.7672 | F1: 0.5740 | MCC: 0.4724 | ROC_AUC: 0.8458 | "
     ]
    },
    {
     "name": "stderr",
     "output_type": "stream",
     "text": [
      "Epoch 19/100: 100%|██████████████████████████████████████████████████████████| 3/3 [00:00<00:00,  9.09it/s, loss=0.445]\n"
     ]
    },
    {
     "name": "stdout",
     "output_type": "stream",
     "text": [
      "Train Loss: 0.4451 | Val Loss: 0.4615 | Accuracy: 0.7696 | F1: 0.6050 | MCC: 0.4754 | ROC_AUC: 0.8514 | "
     ]
    },
    {
     "name": "stderr",
     "output_type": "stream",
     "text": [
      "Epoch 20/100: 100%|██████████████████████████████████████████████████████████| 3/3 [00:00<00:00,  9.12it/s, loss=0.441]\n"
     ]
    },
    {
     "name": "stdout",
     "output_type": "stream",
     "text": [
      "Train Loss: 0.4408 | Val Loss: 0.4623 | Accuracy: 0.7647 | F1: 0.5636 | MCC: 0.4673 | ROC_AUC: 0.8550 | "
     ]
    },
    {
     "name": "stderr",
     "output_type": "stream",
     "text": [
      "Epoch 21/100: 100%|██████████████████████████████████████████████████████████| 3/3 [00:00<00:00,  8.98it/s, loss=0.438]\n"
     ]
    },
    {
     "name": "stdout",
     "output_type": "stream",
     "text": [
      "Train Loss: 0.4381 | Val Loss: 0.4546 | Accuracy: 0.7672 | F1: 0.5852 | MCC: 0.4704 | ROC_AUC: 0.8598 | "
     ]
    },
    {
     "name": "stderr",
     "output_type": "stream",
     "text": [
      "Epoch 22/100: 100%|██████████████████████████████████████████████████████████| 3/3 [00:00<00:00,  9.23it/s, loss=0.435]\n"
     ]
    },
    {
     "name": "stdout",
     "output_type": "stream",
     "text": [
      "Train Loss: 0.4347 | Val Loss: 0.4522 | Accuracy: 0.7745 | F1: 0.5965 | MCC: 0.4898 | ROC_AUC: 0.8621 | "
     ]
    },
    {
     "name": "stderr",
     "output_type": "stream",
     "text": [
      "Epoch 23/100: 100%|██████████████████████████████████████████████████████████| 3/3 [00:00<00:00,  9.23it/s, loss=0.433]\n"
     ]
    },
    {
     "name": "stdout",
     "output_type": "stream",
     "text": [
      "Train Loss: 0.4327 | Val Loss: 0.4498 | Accuracy: 0.7770 | F1: 0.5991 | MCC: 0.4965 | ROC_AUC: 0.8655 | "
     ]
    },
    {
     "name": "stderr",
     "output_type": "stream",
     "text": [
      "Epoch 24/100: 100%|██████████████████████████████████████████████████████████| 3/3 [00:00<00:00,  8.98it/s, loss=0.431]\n"
     ]
    },
    {
     "name": "stdout",
     "output_type": "stream",
     "text": [
      "Train Loss: 0.4309 | Val Loss: 0.4447 | Accuracy: 0.7794 | F1: 0.6087 | MCC: 0.5017 | ROC_AUC: 0.8699 | "
     ]
    },
    {
     "name": "stderr",
     "output_type": "stream",
     "text": [
      "Epoch 25/100: 100%|██████████████████████████████████████████████████████████| 3/3 [00:00<00:00,  9.35it/s, loss=0.429]\n"
     ]
    },
    {
     "name": "stdout",
     "output_type": "stream",
     "text": [
      "Train Loss: 0.4294 | Val Loss: 0.4455 | Accuracy: 0.7843 | F1: 0.6036 | MCC: 0.5187 | ROC_AUC: 0.8724 | "
     ]
    },
    {
     "name": "stderr",
     "output_type": "stream",
     "text": [
      "Epoch 26/100: 100%|██████████████████████████████████████████████████████████| 3/3 [00:00<00:00,  9.20it/s, loss=0.425]\n"
     ]
    },
    {
     "name": "stdout",
     "output_type": "stream",
     "text": [
      "Train Loss: 0.4249 | Val Loss: 0.4382 | Accuracy: 0.7794 | F1: 0.6154 | MCC: 0.5006 | ROC_AUC: 0.8764 | "
     ]
    },
    {
     "name": "stderr",
     "output_type": "stream",
     "text": [
      "Epoch 27/100: 100%|██████████████████████████████████████████████████████████| 3/3 [00:00<00:00,  9.29it/s, loss=0.424]\n"
     ]
    },
    {
     "name": "stdout",
     "output_type": "stream",
     "text": [
      "Train Loss: 0.4240 | Val Loss: 0.4404 | Accuracy: 0.7819 | F1: 0.5973 | MCC: 0.5128 | ROC_AUC: 0.8780 | "
     ]
    },
    {
     "name": "stderr",
     "output_type": "stream",
     "text": [
      "Epoch 28/100: 100%|██████████████████████████████████████████████████████████| 3/3 [00:00<00:00,  9.04it/s, loss=0.421]\n"
     ]
    },
    {
     "name": "stdout",
     "output_type": "stream",
     "text": [
      "Train Loss: 0.4215 | Val Loss: 0.4358 | Accuracy: 0.7917 | F1: 0.6288 | MCC: 0.5338 | ROC_AUC: 0.8796 | "
     ]
    },
    {
     "name": "stderr",
     "output_type": "stream",
     "text": [
      "Epoch 29/100: 100%|██████████████████████████████████████████████████████████| 3/3 [00:00<00:00,  8.75it/s, loss=0.421]\n"
     ]
    },
    {
     "name": "stdout",
     "output_type": "stream",
     "text": [
      "Train Loss: 0.4210 | Val Loss: 0.4369 | Accuracy: 0.7892 | F1: 0.6228 | MCC: 0.5279 | ROC_AUC: 0.8800 | "
     ]
    },
    {
     "name": "stderr",
     "output_type": "stream",
     "text": [
      "Epoch 30/100: 100%|███████████████████████████████████████████████████████████| 3/3 [00:00<00:00,  9.12it/s, loss=0.42]\n"
     ]
    },
    {
     "name": "stdout",
     "output_type": "stream",
     "text": [
      "Train Loss: 0.4196 | Val Loss: 0.4362 | Accuracy: 0.7892 | F1: 0.6195 | MCC: 0.5291 | ROC_AUC: 0.8811 | "
     ]
    },
    {
     "name": "stderr",
     "output_type": "stream",
     "text": [
      "Epoch 31/100: 100%|██████████████████████████████████████████████████████████| 3/3 [00:00<00:00,  8.77it/s, loss=0.417]\n"
     ]
    },
    {
     "name": "stdout",
     "output_type": "stream",
     "text": [
      "Train Loss: 0.4172 | Val Loss: 0.4312 | Accuracy: 0.7843 | F1: 0.6271 | MCC: 0.5125 | ROC_AUC: 0.8831 | "
     ]
    },
    {
     "name": "stderr",
     "output_type": "stream",
     "text": [
      "Epoch 32/100: 100%|██████████████████████████████████████████████████████████| 3/3 [00:00<00:00,  8.80it/s, loss=0.415]\n"
     ]
    },
    {
     "name": "stdout",
     "output_type": "stream",
     "text": [
      "Train Loss: 0.4149 | Val Loss: 0.4395 | Accuracy: 0.7770 | F1: 0.5845 | MCC: 0.5010 | ROC_AUC: 0.8833 | "
     ]
    },
    {
     "name": "stderr",
     "output_type": "stream",
     "text": [
      "Epoch 33/100: 100%|██████████████████████████████████████████████████████████| 3/3 [00:00<00:00,  8.31it/s, loss=0.414]\n"
     ]
    },
    {
     "name": "stdout",
     "output_type": "stream",
     "text": [
      "Train Loss: 0.4145 | Val Loss: 0.4283 | Accuracy: 0.7941 | F1: 0.6500 | MCC: 0.5360 | ROC_AUC: 0.8850 | "
     ]
    },
    {
     "name": "stderr",
     "output_type": "stream",
     "text": [
      "Epoch 34/100: 100%|██████████████████████████████████████████████████████████| 3/3 [00:00<00:00,  8.85it/s, loss=0.412]\n"
     ]
    },
    {
     "name": "stdout",
     "output_type": "stream",
     "text": [
      "Train Loss: 0.4118 | Val Loss: 0.4342 | Accuracy: 0.7770 | F1: 0.5882 | MCC: 0.4997 | ROC_AUC: 0.8848 | "
     ]
    },
    {
     "name": "stderr",
     "output_type": "stream",
     "text": [
      "Epoch 35/100: 100%|██████████████████████████████████████████████████████████| 3/3 [00:00<00:00,  8.36it/s, loss=0.412]\n"
     ]
    },
    {
     "name": "stdout",
     "output_type": "stream",
     "text": [
      "Train Loss: 0.4118 | Val Loss: 0.4275 | Accuracy: 0.7892 | F1: 0.6293 | MCC: 0.5261 | ROC_AUC: 0.8870 | "
     ]
    },
    {
     "name": "stderr",
     "output_type": "stream",
     "text": [
      "Epoch 36/100: 100%|██████████████████████████████████████████████████████████| 3/3 [00:00<00:00,  8.38it/s, loss=0.408]\n"
     ]
    },
    {
     "name": "stdout",
     "output_type": "stream",
     "text": [
      "Train Loss: 0.4082 | Val Loss: 0.4259 | Accuracy: 0.7868 | F1: 0.6360 | MCC: 0.5180 | ROC_AUC: 0.8877 | "
     ]
    },
    {
     "name": "stderr",
     "output_type": "stream",
     "text": [
      "Epoch 37/100: 100%|██████████████████████████████████████████████████████████| 3/3 [00:00<00:00,  8.24it/s, loss=0.407]\n"
     ]
    },
    {
     "name": "stdout",
     "output_type": "stream",
     "text": [
      "Train Loss: 0.4072 | Val Loss: 0.4282 | Accuracy: 0.7892 | F1: 0.6228 | MCC: 0.5279 | ROC_AUC: 0.8887 | "
     ]
    },
    {
     "name": "stderr",
     "output_type": "stream",
     "text": [
      "Epoch 38/100: 100%|██████████████████████████████████████████████████████████| 3/3 [00:00<00:00,  7.37it/s, loss=0.405]\n"
     ]
    },
    {
     "name": "stdout",
     "output_type": "stream",
     "text": [
      "Train Loss: 0.4049 | Val Loss: 0.4238 | Accuracy: 0.7892 | F1: 0.6504 | MCC: 0.5233 | ROC_AUC: 0.8894 | "
     ]
    },
    {
     "name": "stderr",
     "output_type": "stream",
     "text": [
      "Epoch 39/100: 100%|██████████████████████████████████████████████████████████| 3/3 [00:00<00:00,  7.71it/s, loss=0.404]\n"
     ]
    },
    {
     "name": "stdout",
     "output_type": "stream",
     "text": [
      "Train Loss: 0.4045 | Val Loss: 0.4263 | Accuracy: 0.7941 | F1: 0.6410 | MCC: 0.5378 | ROC_AUC: 0.8897 | "
     ]
    },
    {
     "name": "stderr",
     "output_type": "stream",
     "text": [
      "Epoch 40/100: 100%|██████████████████████████████████████████████████████████| 3/3 [00:00<00:00,  7.75it/s, loss=0.405]\n"
     ]
    },
    {
     "name": "stdout",
     "output_type": "stream",
     "text": [
      "Train Loss: 0.4046 | Val Loss: 0.4244 | Accuracy: 0.7966 | F1: 0.6527 | MCC: 0.5423 | ROC_AUC: 0.8903 | "
     ]
    },
    {
     "name": "stderr",
     "output_type": "stream",
     "text": [
      "Epoch 41/100: 100%|██████████████████████████████████████████████████████████| 3/3 [00:00<00:00,  7.46it/s, loss=0.402]\n"
     ]
    },
    {
     "name": "stdout",
     "output_type": "stream",
     "text": [
      "Train Loss: 0.4025 | Val Loss: 0.4230 | Accuracy: 0.7966 | F1: 0.6584 | MCC: 0.5415 | ROC_AUC: 0.8903 | "
     ]
    },
    {
     "name": "stderr",
     "output_type": "stream",
     "text": [
      "Epoch 42/100: 100%|██████████████████████████████████████████████████████████| 3/3 [00:00<00:00,  6.98it/s, loss=0.402]\n"
     ]
    },
    {
     "name": "stdout",
     "output_type": "stream",
     "text": [
      "Train Loss: 0.4025 | Val Loss: 0.4259 | Accuracy: 0.7966 | F1: 0.6527 | MCC: 0.5423 | ROC_AUC: 0.8896 | "
     ]
    },
    {
     "name": "stderr",
     "output_type": "stream",
     "text": [
      "Epoch 43/100: 100%|████████████████████████████████████████████████████████████| 3/3 [00:00<00:00,  5.91it/s, loss=0.4]\n"
     ]
    },
    {
     "name": "stdout",
     "output_type": "stream",
     "text": [
      "Train Loss: 0.4004 | Val Loss: 0.4218 | Accuracy: 0.7990 | F1: 0.6694 | MCC: 0.5469 | ROC_AUC: 0.8907 | "
     ]
    },
    {
     "name": "stderr",
     "output_type": "stream",
     "text": [
      "Epoch 44/100: 100%|██████████████████████████████████████████████████████████| 3/3 [00:00<00:00,  4.85it/s, loss=0.399]\n"
     ]
    },
    {
     "name": "stdout",
     "output_type": "stream",
     "text": [
      "Train Loss: 0.3992 | Val Loss: 0.4255 | Accuracy: 0.7917 | F1: 0.6352 | MCC: 0.5319 | ROC_AUC: 0.8919 | "
     ]
    },
    {
     "name": "stderr",
     "output_type": "stream",
     "text": [
      "Epoch 45/100: 100%|██████████████████████████████████████████████████████████| 3/3 [00:00<00:00,  4.63it/s, loss=0.396]\n"
     ]
    },
    {
     "name": "stdout",
     "output_type": "stream",
     "text": [
      "Train Loss: 0.3963 | Val Loss: 0.4208 | Accuracy: 0.8064 | F1: 0.6853 | MCC: 0.5643 | ROC_AUC: 0.8916 | "
     ]
    },
    {
     "name": "stderr",
     "output_type": "stream",
     "text": [
      "Epoch 46/100: 100%|██████████████████████████████████████████████████████████| 3/3 [00:01<00:00,  2.80it/s, loss=0.397]\n"
     ]
    },
    {
     "name": "stdout",
     "output_type": "stream",
     "text": [
      "Train Loss: 0.3966 | Val Loss: 0.4244 | Accuracy: 0.7966 | F1: 0.6527 | MCC: 0.5423 | ROC_AUC: 0.8920 | "
     ]
    },
    {
     "name": "stderr",
     "output_type": "stream",
     "text": [
      "Epoch 47/100: 100%|██████████████████████████████████████████████████████████| 3/3 [00:01<00:00,  2.90it/s, loss=0.395]\n"
     ]
    },
    {
     "name": "stdout",
     "output_type": "stream",
     "text": [
      "Train Loss: 0.3951 | Val Loss: 0.4206 | Accuracy: 0.7966 | F1: 0.6612 | MCC: 0.5412 | ROC_AUC: 0.8925 | "
     ]
    },
    {
     "name": "stderr",
     "output_type": "stream",
     "text": [
      "Epoch 48/100: 100%|██████████████████████████████████████████████████████████| 3/3 [00:01<00:00,  2.87it/s, loss=0.393]\n"
     ]
    },
    {
     "name": "stdout",
     "output_type": "stream",
     "text": [
      "Train Loss: 0.3934 | Val Loss: 0.4198 | Accuracy: 0.7990 | F1: 0.6667 | MCC: 0.5470 | ROC_AUC: 0.8935 | "
     ]
    },
    {
     "name": "stderr",
     "output_type": "stream",
     "text": [
      "Epoch 49/100: 100%|██████████████████████████████████████████████████████████| 3/3 [00:01<00:00,  2.80it/s, loss=0.394]\n"
     ]
    },
    {
     "name": "stdout",
     "output_type": "stream",
     "text": [
      "Train Loss: 0.3941 | Val Loss: 0.4203 | Accuracy: 0.7941 | F1: 0.6557 | MCC: 0.5353 | ROC_AUC: 0.8942 | "
     ]
    },
    {
     "name": "stderr",
     "output_type": "stream",
     "text": [
      "Epoch 50/100: 100%|██████████████████████████████████████████████████████████| 3/3 [00:01<00:00,  2.83it/s, loss=0.394]\n"
     ]
    },
    {
     "name": "stdout",
     "output_type": "stream",
     "text": [
      "Train Loss: 0.3936 | Val Loss: 0.4188 | Accuracy: 0.8015 | F1: 0.6721 | MCC: 0.5529 | ROC_AUC: 0.8945 | "
     ]
    },
    {
     "name": "stderr",
     "output_type": "stream",
     "text": [
      "Epoch 51/100: 100%|██████████████████████████████████████████████████████████| 3/3 [00:01<00:00,  1.67it/s, loss=0.392]\n"
     ]
    },
    {
     "name": "stdout",
     "output_type": "stream",
     "text": [
      "Train Loss: 0.3916 | Val Loss: 0.4205 | Accuracy: 0.7892 | F1: 0.6446 | MCC: 0.5236 | ROC_AUC: 0.8942 | "
     ]
    },
    {
     "name": "stderr",
     "output_type": "stream",
     "text": [
      "Epoch 52/100: 100%|██████████████████████████████████████████████████████████| 3/3 [00:01<00:00,  1.52it/s, loss=0.395]\n"
     ]
    },
    {
     "name": "stdout",
     "output_type": "stream",
     "text": [
      "Train Loss: 0.3945 | Val Loss: 0.4195 | Accuracy: 0.8015 | F1: 0.6721 | MCC: 0.5529 | ROC_AUC: 0.8939 | "
     ]
    },
    {
     "name": "stderr",
     "output_type": "stream",
     "text": [
      "Epoch 53/100: 100%|██████████████████████████████████████████████████████████| 3/3 [00:00<00:00,  5.62it/s, loss=0.392]\n"
     ]
    },
    {
     "name": "stdout",
     "output_type": "stream",
     "text": [
      "Train Loss: 0.3918 | Val Loss: 0.4244 | Accuracy: 0.7892 | F1: 0.6446 | MCC: 0.5236 | ROC_AUC: 0.8942 | "
     ]
    },
    {
     "name": "stderr",
     "output_type": "stream",
     "text": [
      "Epoch 54/100: 100%|███████████████████████████████████████████████████████████| 3/3 [00:01<00:00,  2.78it/s, loss=0.39]\n"
     ]
    },
    {
     "name": "stdout",
     "output_type": "stream",
     "text": [
      "Train Loss: 0.3899 | Val Loss: 0.4182 | Accuracy: 0.8162 | F1: 0.7104 | MCC: 0.5876 | ROC_AUC: 0.8943 | "
     ]
    },
    {
     "name": "stderr",
     "output_type": "stream",
     "text": [
      "Epoch 55/100: 100%|███████████████████████████████████████████████████████████| 3/3 [00:00<00:00,  5.39it/s, loss=0.39]\n"
     ]
    },
    {
     "name": "stdout",
     "output_type": "stream",
     "text": [
      "Train Loss: 0.3902 | Val Loss: 0.4238 | Accuracy: 0.7941 | F1: 0.6500 | MCC: 0.5360 | ROC_AUC: 0.8945 | "
     ]
    },
    {
     "name": "stderr",
     "output_type": "stream",
     "text": [
      "Epoch 56/100: 100%|██████████████████████████████████████████████████████████| 3/3 [00:01<00:00,  2.85it/s, loss=0.387]\n"
     ]
    },
    {
     "name": "stdout",
     "output_type": "stream",
     "text": [
      "Train Loss: 0.3867 | Val Loss: 0.4176 | Accuracy: 0.8113 | F1: 0.7004 | MCC: 0.5760 | ROC_AUC: 0.8950 | "
     ]
    },
    {
     "name": "stderr",
     "output_type": "stream",
     "text": [
      "Epoch 57/100: 100%|██████████████████████████████████████████████████████████| 3/3 [00:01<00:00,  2.71it/s, loss=0.387]\n"
     ]
    },
    {
     "name": "stdout",
     "output_type": "stream",
     "text": [
      "Train Loss: 0.3874 | Val Loss: 0.4199 | Accuracy: 0.7917 | F1: 0.6502 | MCC: 0.5295 | ROC_AUC: 0.8959 | "
     ]
    },
    {
     "name": "stderr",
     "output_type": "stream",
     "text": [
      "Epoch 58/100: 100%|██████████████████████████████████████████████████████████| 3/3 [00:01<00:00,  2.66it/s, loss=0.385]\n"
     ]
    },
    {
     "name": "stdout",
     "output_type": "stream",
     "text": [
      "Train Loss: 0.3847 | Val Loss: 0.4167 | Accuracy: 0.8064 | F1: 0.6827 | MCC: 0.5645 | ROC_AUC: 0.8949 | "
     ]
    },
    {
     "name": "stderr",
     "output_type": "stream",
     "text": [
      "Epoch 59/100: 100%|██████████████████████████████████████████████████████████| 3/3 [00:01<00:00,  2.64it/s, loss=0.384]\n"
     ]
    },
    {
     "name": "stdout",
     "output_type": "stream",
     "text": [
      "Train Loss: 0.3842 | Val Loss: 0.4178 | Accuracy: 0.7990 | F1: 0.6667 | MCC: 0.5470 | ROC_AUC: 0.8949 | "
     ]
    },
    {
     "name": "stderr",
     "output_type": "stream",
     "text": [
      "Epoch 60/100: 100%|██████████████████████████████████████████████████████████| 3/3 [00:01<00:00,  2.64it/s, loss=0.383]\n"
     ]
    },
    {
     "name": "stdout",
     "output_type": "stream",
     "text": [
      "Train Loss: 0.3829 | Val Loss: 0.4160 | Accuracy: 0.8015 | F1: 0.6747 | MCC: 0.5527 | ROC_AUC: 0.8957 | "
     ]
    },
    {
     "name": "stderr",
     "output_type": "stream",
     "text": [
      "Epoch 61/100: 100%|██████████████████████████████████████████████████████████| 3/3 [00:01<00:00,  2.73it/s, loss=0.383]\n"
     ]
    },
    {
     "name": "stdout",
     "output_type": "stream",
     "text": [
      "Train Loss: 0.3827 | Val Loss: 0.4179 | Accuracy: 0.7917 | F1: 0.6502 | MCC: 0.5295 | ROC_AUC: 0.8961 | "
     ]
    },
    {
     "name": "stderr",
     "output_type": "stream",
     "text": [
      "Epoch 62/100: 100%|██████████████████████████████████████████████████████████| 3/3 [00:01<00:00,  2.78it/s, loss=0.383]\n"
     ]
    },
    {
     "name": "stdout",
     "output_type": "stream",
     "text": [
      "Train Loss: 0.3825 | Val Loss: 0.4152 | Accuracy: 0.8039 | F1: 0.6800 | MCC: 0.5585 | ROC_AUC: 0.8968 | "
     ]
    },
    {
     "name": "stderr",
     "output_type": "stream",
     "text": [
      "Epoch 63/100: 100%|██████████████████████████████████████████████████████████| 3/3 [00:01<00:00,  2.61it/s, loss=0.381]\n"
     ]
    },
    {
     "name": "stdout",
     "output_type": "stream",
     "text": [
      "Train Loss: 0.3806 | Val Loss: 0.4159 | Accuracy: 0.8039 | F1: 0.6800 | MCC: 0.5585 | ROC_AUC: 0.8961 | "
     ]
    },
    {
     "name": "stderr",
     "output_type": "stream",
     "text": [
      "Epoch 64/100: 100%|███████████████████████████████████████████████████████████| 3/3 [00:00<00:00,  6.06it/s, loss=0.38]\n"
     ]
    },
    {
     "name": "stdout",
     "output_type": "stream",
     "text": [
      "Train Loss: 0.3800 | Val Loss: 0.4188 | Accuracy: 0.7990 | F1: 0.6639 | MCC: 0.5473 | ROC_AUC: 0.8955 | "
     ]
    },
    {
     "name": "stderr",
     "output_type": "stream",
     "text": [
      "Epoch 65/100: 100%|██████████████████████████████████████████████████████████| 3/3 [00:00<00:00,  3.11it/s, loss=0.379]\n"
     ]
    },
    {
     "name": "stdout",
     "output_type": "stream",
     "text": [
      "Train Loss: 0.3793 | Val Loss: 0.4168 | Accuracy: 0.8088 | F1: 0.6929 | MCC: 0.5701 | ROC_AUC: 0.8956 | "
     ]
    },
    {
     "name": "stderr",
     "output_type": "stream",
     "text": [
      "Epoch 66/100: 100%|███████████████████████████████████████████████████████████| 3/3 [00:01<00:00,  2.74it/s, loss=0.38]\n"
     ]
    },
    {
     "name": "stdout",
     "output_type": "stream",
     "text": [
      "Train Loss: 0.3799 | Val Loss: 0.4192 | Accuracy: 0.8015 | F1: 0.6667 | MCC: 0.5535 | ROC_AUC: 0.8964 | "
     ]
    },
    {
     "name": "stderr",
     "output_type": "stream",
     "text": [
      "Epoch 67/100: 100%|███████████████████████████████████████████████████████████| 3/3 [00:01<00:00,  2.80it/s, loss=0.38]\n"
     ]
    },
    {
     "name": "stdout",
     "output_type": "stream",
     "text": [
      "Train Loss: 0.3798 | Val Loss: 0.4146 | Accuracy: 0.8088 | F1: 0.6953 | MCC: 0.5702 | ROC_AUC: 0.8970 | "
     ]
    },
    {
     "name": "stderr",
     "output_type": "stream",
     "text": [
      "Epoch 68/100: 100%|██████████████████████████████████████████████████████████| 3/3 [00:01<00:00,  2.75it/s, loss=0.379]\n"
     ]
    },
    {
     "name": "stdout",
     "output_type": "stream",
     "text": [
      "Train Loss: 0.3792 | Val Loss: 0.4155 | Accuracy: 0.8088 | F1: 0.6880 | MCC: 0.5703 | ROC_AUC: 0.8978 | "
     ]
    },
    {
     "name": "stderr",
     "output_type": "stream",
     "text": [
      "Epoch 69/100: 100%|██████████████████████████████████████████████████████████| 3/3 [00:01<00:00,  2.79it/s, loss=0.377]\n"
     ]
    },
    {
     "name": "stdout",
     "output_type": "stream",
     "text": [
      "Train Loss: 0.3771 | Val Loss: 0.4134 | Accuracy: 0.8113 | F1: 0.6980 | MCC: 0.5759 | ROC_AUC: 0.8985 | "
     ]
    },
    {
     "name": "stderr",
     "output_type": "stream",
     "text": [
      "Epoch 70/100: 100%|██████████████████████████████████████████████████████████| 3/3 [00:01<00:00,  2.76it/s, loss=0.376]\n"
     ]
    },
    {
     "name": "stdout",
     "output_type": "stream",
     "text": [
      "Train Loss: 0.3760 | Val Loss: 0.4155 | Accuracy: 0.8088 | F1: 0.6905 | MCC: 0.5701 | ROC_AUC: 0.8978 | "
     ]
    },
    {
     "name": "stderr",
     "output_type": "stream",
     "text": [
      "Epoch 71/100: 100%|██████████████████████████████████████████████████████████| 3/3 [00:01<00:00,  2.78it/s, loss=0.375]\n"
     ]
    },
    {
     "name": "stdout",
     "output_type": "stream",
     "text": [
      "Train Loss: 0.3750 | Val Loss: 0.4161 | Accuracy: 0.8113 | F1: 0.6980 | MCC: 0.5759 | ROC_AUC: 0.8967 | "
     ]
    },
    {
     "name": "stderr",
     "output_type": "stream",
     "text": [
      "Epoch 72/100: 100%|██████████████████████████████████████████████████████████| 3/3 [00:01<00:00,  2.81it/s, loss=0.374]\n"
     ]
    },
    {
     "name": "stdout",
     "output_type": "stream",
     "text": [
      "Train Loss: 0.3745 | Val Loss: 0.4168 | Accuracy: 0.8137 | F1: 0.6960 | MCC: 0.5820 | ROC_AUC: 0.8967 | "
     ]
    },
    {
     "name": "stderr",
     "output_type": "stream",
     "text": [
      "Epoch 73/100: 100%|██████████████████████████████████████████████████████████| 3/3 [00:01<00:00,  2.83it/s, loss=0.374]\n"
     ]
    },
    {
     "name": "stdout",
     "output_type": "stream",
     "text": [
      "Train Loss: 0.3736 | Val Loss: 0.4131 | Accuracy: 0.8113 | F1: 0.6980 | MCC: 0.5759 | ROC_AUC: 0.8989 | "
     ]
    },
    {
     "name": "stderr",
     "output_type": "stream",
     "text": [
      "Epoch 74/100: 100%|██████████████████████████████████████████████████████████| 3/3 [00:00<00:00,  3.72it/s, loss=0.373]\n"
     ]
    },
    {
     "name": "stdout",
     "output_type": "stream",
     "text": [
      "Train Loss: 0.3727 | Val Loss: 0.4133 | Accuracy: 0.8113 | F1: 0.6957 | MCC: 0.5759 | ROC_AUC: 0.9001 | "
     ]
    },
    {
     "name": "stderr",
     "output_type": "stream",
     "text": [
      "Epoch 75/100: 100%|██████████████████████████████████████████████████████████| 3/3 [00:00<00:00,  3.26it/s, loss=0.372]\n"
     ]
    },
    {
     "name": "stdout",
     "output_type": "stream",
     "text": [
      "Train Loss: 0.3721 | Val Loss: 0.4128 | Accuracy: 0.8162 | F1: 0.7036 | MCC: 0.5875 | ROC_AUC: 0.8996 | "
     ]
    },
    {
     "name": "stderr",
     "output_type": "stream",
     "text": [
      "Epoch 76/100: 100%|██████████████████████████████████████████████████████████| 3/3 [00:00<00:00,  3.26it/s, loss=0.372]\n"
     ]
    },
    {
     "name": "stdout",
     "output_type": "stream",
     "text": [
      "Train Loss: 0.3723 | Val Loss: 0.4151 | Accuracy: 0.8113 | F1: 0.6980 | MCC: 0.5759 | ROC_AUC: 0.8974 | "
     ]
    },
    {
     "name": "stderr",
     "output_type": "stream",
     "text": [
      "Epoch 77/100: 100%|██████████████████████████████████████████████████████████| 3/3 [00:01<00:00,  2.87it/s, loss=0.372]\n"
     ]
    },
    {
     "name": "stdout",
     "output_type": "stream",
     "text": [
      "Train Loss: 0.3718 | Val Loss: 0.4157 | Accuracy: 0.8113 | F1: 0.6980 | MCC: 0.5759 | ROC_AUC: 0.8973 | "
     ]
    },
    {
     "name": "stderr",
     "output_type": "stream",
     "text": [
      "Epoch 78/100: 100%|███████████████████████████████████████████████████████████| 3/3 [00:01<00:00,  2.83it/s, loss=0.37]\n"
     ]
    },
    {
     "name": "stdout",
     "output_type": "stream",
     "text": [
      "Train Loss: 0.3703 | Val Loss: 0.4129 | Accuracy: 0.8137 | F1: 0.7008 | MCC: 0.5817 | ROC_AUC: 0.8994 | "
     ]
    },
    {
     "name": "stderr",
     "output_type": "stream",
     "text": [
      "Epoch 79/100: 100%|██████████████████████████████████████████████████████████| 3/3 [00:01<00:00,  2.75it/s, loss=0.369]\n"
     ]
    },
    {
     "name": "stdout",
     "output_type": "stream",
     "text": [
      "Train Loss: 0.3689 | Val Loss: 0.4122 | Accuracy: 0.8186 | F1: 0.7063 | MCC: 0.5934 | ROC_AUC: 0.9004 | "
     ]
    },
    {
     "name": "stderr",
     "output_type": "stream",
     "text": [
      "Epoch 80/100: 100%|██████████████████████████████████████████████████████████| 3/3 [00:00<00:00,  6.15it/s, loss=0.369]\n"
     ]
    },
    {
     "name": "stdout",
     "output_type": "stream",
     "text": [
      "Train Loss: 0.3689 | Val Loss: 0.4133 | Accuracy: 0.8186 | F1: 0.7040 | MCC: 0.5937 | ROC_AUC: 0.8994 | "
     ]
    },
    {
     "name": "stderr",
     "output_type": "stream",
     "text": [
      "Epoch 81/100: 100%|██████████████████████████████████████████████████████████| 3/3 [00:01<00:00,  2.82it/s, loss=0.369]\n"
     ]
    },
    {
     "name": "stdout",
     "output_type": "stream",
     "text": [
      "Train Loss: 0.3690 | Val Loss: 0.4185 | Accuracy: 0.8137 | F1: 0.6911 | MCC: 0.5826 | ROC_AUC: 0.8983 | "
     ]
    },
    {
     "name": "stderr",
     "output_type": "stream",
     "text": [
      "Epoch 82/100: 100%|██████████████████████████████████████████████████████████| 3/3 [00:01<00:00,  2.85it/s, loss=0.368]\n"
     ]
    },
    {
     "name": "stdout",
     "output_type": "stream",
     "text": [
      "Train Loss: 0.3678 | Val Loss: 0.4131 | Accuracy: 0.8162 | F1: 0.7036 | MCC: 0.5875 | ROC_AUC: 0.8988 | "
     ]
    },
    {
     "name": "stderr",
     "output_type": "stream",
     "text": [
      "Epoch 83/100: 100%|██████████████████████████████████████████████████████████| 3/3 [00:00<00:00,  6.26it/s, loss=0.367]\n"
     ]
    },
    {
     "name": "stdout",
     "output_type": "stream",
     "text": [
      "Train Loss: 0.3666 | Val Loss: 0.4148 | Accuracy: 0.8162 | F1: 0.6939 | MCC: 0.5888 | ROC_AUC: 0.9007 | "
     ]
    },
    {
     "name": "stderr",
     "output_type": "stream",
     "text": [
      "Epoch 84/100: 100%|██████████████████████████████████████████████████████████| 3/3 [00:00<00:00,  6.24it/s, loss=0.366]\n"
     ]
    },
    {
     "name": "stdout",
     "output_type": "stream",
     "text": [
      "Train Loss: 0.3660 | Val Loss: 0.4110 | Accuracy: 0.8162 | F1: 0.7059 | MCC: 0.5874 | ROC_AUC: 0.9007 | "
     ]
    },
    {
     "name": "stderr",
     "output_type": "stream",
     "text": [
      "Epoch 85/100: 100%|██████████████████████████████████████████████████████████| 3/3 [00:01<00:00,  2.86it/s, loss=0.366]\n"
     ]
    },
    {
     "name": "stdout",
     "output_type": "stream",
     "text": [
      "Train Loss: 0.3656 | Val Loss: 0.4155 | Accuracy: 0.8186 | F1: 0.7040 | MCC: 0.5937 | ROC_AUC: 0.8985 | "
     ]
    },
    {
     "name": "stderr",
     "output_type": "stream",
     "text": [
      "Epoch 86/100: 100%|██████████████████████████████████████████████████████████| 3/3 [00:01<00:00,  2.80it/s, loss=0.364]\n"
     ]
    },
    {
     "name": "stdout",
     "output_type": "stream",
     "text": [
      "Train Loss: 0.3644 | Val Loss: 0.4141 | Accuracy: 0.8162 | F1: 0.7036 | MCC: 0.5875 | ROC_AUC: 0.8975 | "
     ]
    },
    {
     "name": "stderr",
     "output_type": "stream",
     "text": [
      "Epoch 87/100: 100%|██████████████████████████████████████████████████████████| 3/3 [00:01<00:00,  2.87it/s, loss=0.364]\n"
     ]
    },
    {
     "name": "stdout",
     "output_type": "stream",
     "text": [
      "Train Loss: 0.3639 | Val Loss: 0.4136 | Accuracy: 0.8186 | F1: 0.7040 | MCC: 0.5937 | ROC_AUC: 0.8999 | "
     ]
    },
    {
     "name": "stderr",
     "output_type": "stream",
     "text": [
      "Epoch 88/100: 100%|██████████████████████████████████████████████████████████| 3/3 [00:00<00:00,  6.11it/s, loss=0.363]\n"
     ]
    },
    {
     "name": "stdout",
     "output_type": "stream",
     "text": [
      "Train Loss: 0.3629 | Val Loss: 0.4121 | Accuracy: 0.8162 | F1: 0.7036 | MCC: 0.5875 | ROC_AUC: 0.9007 | "
     ]
    },
    {
     "name": "stderr",
     "output_type": "stream",
     "text": [
      "Epoch 89/100: 100%|██████████████████████████████████████████████████████████| 3/3 [00:00<00:00,  6.25it/s, loss=0.362]\n"
     ]
    },
    {
     "name": "stdout",
     "output_type": "stream",
     "text": [
      "Train Loss: 0.3623 | Val Loss: 0.4140 | Accuracy: 0.8186 | F1: 0.7040 | MCC: 0.5937 | ROC_AUC: 0.8999 | "
     ]
    },
    {
     "name": "stderr",
     "output_type": "stream",
     "text": [
      "Epoch 90/100: 100%|██████████████████████████████████████████████████████████| 3/3 [00:01<00:00,  2.69it/s, loss=0.361]\n"
     ]
    },
    {
     "name": "stdout",
     "output_type": "stream",
     "text": [
      "Train Loss: 0.3615 | Val Loss: 0.4134 | Accuracy: 0.8186 | F1: 0.7063 | MCC: 0.5934 | ROC_AUC: 0.8987 | "
     ]
    },
    {
     "name": "stderr",
     "output_type": "stream",
     "text": [
      "Epoch 91/100: 100%|██████████████████████████████████████████████████████████| 3/3 [00:01<00:00,  2.79it/s, loss=0.361]\n"
     ]
    },
    {
     "name": "stdout",
     "output_type": "stream",
     "text": [
      "Train Loss: 0.3609 | Val Loss: 0.4229 | Accuracy: 0.8088 | F1: 0.6723 | MCC: 0.5731 | ROC_AUC: 0.8993 | "
     ]
    },
    {
     "name": "stderr",
     "output_type": "stream",
     "text": [
      "Epoch 92/100: 100%|██████████████████████████████████████████████████████████| 3/3 [00:01<00:00,  2.69it/s, loss=0.367]\n"
     ]
    },
    {
     "name": "stdout",
     "output_type": "stream",
     "text": [
      "Train Loss: 0.3665 | Val Loss: 0.4137 | Accuracy: 0.8137 | F1: 0.7121 | MCC: 0.5826 | ROC_AUC: 0.9003 | "
     ]
    },
    {
     "name": "stderr",
     "output_type": "stream",
     "text": [
      "Epoch 93/100: 100%|██████████████████████████████████████████████████████████| 3/3 [00:01<00:00,  2.82it/s, loss=0.364]\n"
     ]
    },
    {
     "name": "stdout",
     "output_type": "stream",
     "text": [
      "Train Loss: 0.3644 | Val Loss: 0.4168 | Accuracy: 0.8088 | F1: 0.6777 | MCC: 0.5717 | ROC_AUC: 0.9003 | "
     ]
    },
    {
     "name": "stderr",
     "output_type": "stream",
     "text": [
      "Epoch 94/100: 100%|██████████████████████████████████████████████████████████| 3/3 [00:00<00:00,  6.05it/s, loss=0.367]\n"
     ]
    },
    {
     "name": "stdout",
     "output_type": "stream",
     "text": [
      "Train Loss: 0.3667 | Val Loss: 0.4177 | Accuracy: 0.8137 | F1: 0.6860 | MCC: 0.5837 | ROC_AUC: 0.8995 | "
     ]
    },
    {
     "name": "stderr",
     "output_type": "stream",
     "text": [
      "Epoch 95/100: 100%|██████████████████████████████████████████████████████████| 3/3 [00:01<00:00,  2.85it/s, loss=0.361]\n"
     ]
    },
    {
     "name": "stdout",
     "output_type": "stream",
     "text": [
      "Train Loss: 0.3607 | Val Loss: 0.4129 | Accuracy: 0.8162 | F1: 0.7036 | MCC: 0.5875 | ROC_AUC: 0.9004 | "
     ]
    },
    {
     "name": "stderr",
     "output_type": "stream",
     "text": [
      "Epoch 96/100: 100%|██████████████████████████████████████████████████████████| 3/3 [00:01<00:00,  2.69it/s, loss=0.359]\n"
     ]
    },
    {
     "name": "stdout",
     "output_type": "stream",
     "text": [
      "Train Loss: 0.3587 | Val Loss: 0.4122 | Accuracy: 0.8162 | F1: 0.7036 | MCC: 0.5875 | ROC_AUC: 0.9011 | "
     ]
    },
    {
     "name": "stderr",
     "output_type": "stream",
     "text": [
      "Epoch 97/100: 100%|██████████████████████████████████████████████████████████| 3/3 [00:01<00:00,  2.90it/s, loss=0.358]\n"
     ]
    },
    {
     "name": "stdout",
     "output_type": "stream",
     "text": [
      "Train Loss: 0.3582 | Val Loss: 0.4110 | Accuracy: 0.8211 | F1: 0.7115 | MCC: 0.5991 | ROC_AUC: 0.9006 | "
     ]
    },
    {
     "name": "stderr",
     "output_type": "stream",
     "text": [
      "Epoch 98/100: 100%|██████████████████████████████████████████████████████████| 3/3 [00:01<00:00,  2.74it/s, loss=0.359]\n"
     ]
    },
    {
     "name": "stdout",
     "output_type": "stream",
     "text": [
      "Train Loss: 0.3590 | Val Loss: 0.4183 | Accuracy: 0.8137 | F1: 0.6833 | MCC: 0.5845 | ROC_AUC: 0.9001 | "
     ]
    },
    {
     "name": "stderr",
     "output_type": "stream",
     "text": [
      "Epoch 99/100: 100%|██████████████████████████████████████████████████████████| 3/3 [00:01<00:00,  2.76it/s, loss=0.358]\n"
     ]
    },
    {
     "name": "stdout",
     "output_type": "stream",
     "text": [
      "Train Loss: 0.3576 | Val Loss: 0.4127 | Accuracy: 0.8162 | F1: 0.7126 | MCC: 0.5878 | ROC_AUC: 0.8999 | "
     ]
    },
    {
     "name": "stderr",
     "output_type": "stream",
     "text": [
      "Epoch 100/100: 100%|█████████████████████████████████████████████████████████| 3/3 [00:01<00:00,  2.80it/s, loss=0.357]\n"
     ]
    },
    {
     "name": "stdout",
     "output_type": "stream",
     "text": [
      "Train Loss: 0.3573 | Val Loss: 0.4173 | Accuracy: 0.8137 | F1: 0.6911 | MCC: 0.5826 | ROC_AUC: 0.8999 | \n",
      "\n",
      "Best model corresponding to validation f1 was found at epoch 99, with a validation f1 of 0.7126\n",
      "\n",
      "Performance on Test Set on Final epoch:\n",
      "- accuracy: 0.8434\n",
      "- balanced_accuracy: 0.8006\n",
      "- precision: 0.8740\n",
      "- recall: 0.6529\n",
      "- f1: 0.7475\n",
      "- mcc: 0.6517\n",
      "- roc_auc: 0.9218\n",
      "- loss: 0.3847\n",
      "\n",
      "Performance on Test Set on best epoch=99:\n",
      "- accuracy: 0.8664\n",
      "- balanced_accuracy: 0.8435\n",
      "- precision: 0.8442\n",
      "- recall: 0.7647\n",
      "- f1: 0.8025\n",
      "- mcc: 0.7039\n",
      "- roc_auc: 0.9209\n",
      "- loss: 0.3921\n"
     ]
    }
   ],
   "source": [
    "from torch.optim import lr_scheduler\n",
    "from torch.optim.lr_scheduler import StepLR\n",
    "import torch_geometric.nn.models\n",
    "import torch\n",
    "import copy\n",
    "\n",
    "smoothing = [0.0, 0.2]\n",
    "\n",
    "# pos_weight = torch.tensor(0.65/0.35).to(device)\n",
    "pos_weight = None\n",
    "\n",
    "n_epochs = 100\n",
    "\n",
    "\n",
    "# model = GraphConvolutionalNetwork(input_dim=44,\n",
    "#                                   hidden_dims=[32, 32, 32],\n",
    "#                                   output_dim=1,\n",
    "#                                   activation=nn.ReLU(),\n",
    "#                                   dropout=0.2,\n",
    "#                                   graph_norm=False,\n",
    "#                                   pooling='mean'\n",
    "#                                  ).to(device)\n",
    "\n",
    "\n",
    "model = GraphAttentionNetwork(input_dim=44,\n",
    "                              hidden_dims=[64, 64, 64],\n",
    "                              heads=8,\n",
    "                              output_dim=1,\n",
    "                              activation=nn.ReLU(),\n",
    "                              dropout=0.0,\n",
    "                              graph_norm=False,\n",
    "                              pooling='mean'\n",
    "                             ).to(device)\n",
    "\n",
    "\n",
    "\n",
    "\n",
    "\n",
    "optimizer = torch.optim.Adam(model.parameters(), lr=3e-4)\n",
    "scheduler = StepLR(optimizer, step_size=10, gamma=0.5)\n",
    "loss_fn = LabelSmoothingBCEWithLogitsLoss(smoothing=smoothing, pos_weight=pos_weight)\n",
    "# loss_fn = torch.nn.BCEWithLogitsLoss(pos_weight=pos_weight)\n",
    "\n",
    "\n",
    "train_losses = []\n",
    "val_losses = []\n",
    "val_metrics_all = []\n",
    "\n",
    "\n",
    "best_epoch = 1\n",
    "optimization_metric = 'f1'\n",
    "best_optimization_metric = float('inf') if optimization_metric=='loss' else -float('inf')\n",
    "best_model_params = None\n",
    "\n",
    "for epoch in range(1, n_epochs + 1):\n",
    "    train_loss = train(epoch, n_epochs, train_loader, model, loss_fn, optimizer, device)\n",
    "    val_loss, val_metrics, val_conf_mat = test(val_loader, model, loss_fn, device)\n",
    "    train_losses.append(train_loss)\n",
    "    val_losses.append(val_loss)\n",
    "    val_metrics_all.append(val_metrics)\n",
    "    print(f\"Train Loss: {train_loss:.4f}\", end=' | ')\n",
    "    print(f\"Val Loss: {val_loss:.4f}\", end=' | ')\n",
    "    print(f\"Accuracy: {val_metrics['accuracy']:.4f}\", end=' | ')\n",
    "    print(f\"F1: {val_metrics['f1']:.4f}\", end=' | ')\n",
    "    print(f\"MCC: {val_metrics['mcc']:.4f}\", end=' | ')\n",
    "    print(f\"ROC_AUC: {val_metrics['roc_auc']:.4f}\", end=' | ')\n",
    "    \n",
    "    if optimization_metric == 'loss':\n",
    "        if val_metrics['loss'] < best_optimization_metric:\n",
    "            best_optimization_metric = val_metrics['loss']\n",
    "            best_model_params = copy.deepcopy(model.state_dict())\n",
    "            best_epoch = epoch\n",
    "    else:  \n",
    "        if val_metrics[optimization_metric] > best_optimization_metric:\n",
    "            best_optimization_metric = val_metrics[optimization_metric]\n",
    "            best_model_params = copy.deepcopy(model.state_dict())\n",
    "            best_epoch = epoch\n",
    "        \n",
    "\n",
    "print(f\"\\n\\nBest model corresponding to validation {optimization_metric} was found at epoch {best_epoch}, with a validation {optimization_metric} of {best_optimization_metric:.4f}\")\n",
    "\n",
    "# model.load_state_dict(best_model_params)\n",
    "\n",
    "\n",
    "test_loss, test_metrics, test_conf_mat = test(test_loader, model, loss_fn, device)\n",
    "\n",
    "print(\"\\nPerformance on Test Set on Final epoch:\")\n",
    "for metric_name, metric in test_metrics.items():\n",
    "    print(f'- {metric_name}: {metric:.4f}')\n",
    "    \n",
    "\n",
    "model.load_state_dict(best_model_params)\n",
    "\n",
    "\n",
    "test_loss, test_metrics, test_conf_mat = test(test_loader, model, loss_fn, device)\n",
    "\n",
    "print(f\"\\nPerformance on Test Set on best epoch={best_epoch}:\")\n",
    "for metric_name, metric in test_metrics.items():\n",
    "    print(f'- {metric_name}: {metric:.4f}')"
   ]
  },
  {
   "cell_type": "markdown",
   "metadata": {},
   "source": [
    "### Compare Graph Convolutional Network with Graph Attention Network (baseline case)"
   ]
  },
  {
   "cell_type": "code",
   "execution_count": 169,
   "metadata": {},
   "outputs": [
    {
     "data": {
      "text/html": [
       "<style type=\"text/css\">\n",
       "#T_50152 table {\n",
       "  font-size: 12pt;\n",
       "  text-align: center;\n",
       "}\n",
       "#T_50152 th {\n",
       "  font-size: 12pt;\n",
       "  text-align: center;\n",
       "}\n",
       "#T_50152 td {\n",
       "  font-size: 12pt;\n",
       "  text-align: center;\n",
       "}\n",
       "</style>\n",
       "<table id=\"T_50152\">\n",
       "  <thead>\n",
       "    <tr>\n",
       "      <th class=\"blank level0\" >&nbsp;</th>\n",
       "      <th id=\"T_50152_level0_col0\" class=\"col_heading level0 col0\" >Network</th>\n",
       "      <th id=\"T_50152_level0_col1\" class=\"col_heading level0 col1\" >F1</th>\n",
       "      <th id=\"T_50152_level0_col2\" class=\"col_heading level0 col2\" >Accuracy (%)</th>\n",
       "    </tr>\n",
       "  </thead>\n",
       "  <tbody>\n",
       "    <tr>\n",
       "      <th id=\"T_50152_level0_row0\" class=\"row_heading level0 row0\" >0</th>\n",
       "      <td id=\"T_50152_row0_col0\" class=\"data row0 col0\" >Graph Convolutional Network</td>\n",
       "      <td id=\"T_50152_row0_col1\" class=\"data row0 col1\" >0.7251</td>\n",
       "      <td id=\"T_50152_row0_col2\" class=\"data row0 col2\" >81.0</td>\n",
       "    </tr>\n",
       "    <tr>\n",
       "      <th id=\"T_50152_level0_row1\" class=\"row_heading level0 row1\" >1</th>\n",
       "      <td id=\"T_50152_row1_col0\" class=\"data row1 col0\" >Graph Attention Network</td>\n",
       "      <td id=\"T_50152_row1_col1\" class=\"data row1 col1\" >0.7895</td>\n",
       "      <td id=\"T_50152_row1_col2\" class=\"data row1 col2\" >84.93</td>\n",
       "    </tr>\n",
       "  </tbody>\n",
       "</table>\n"
      ],
      "text/plain": [
       "<pandas.io.formats.style.Styler at 0x1d81becd270>"
      ]
     },
     "execution_count": 169,
     "metadata": {},
     "output_type": "execute_result"
    }
   ],
   "source": [
    "import pandas as pd\n",
    "\n",
    "data = {\n",
    "    'Network': ['Graph Convolutional Network', 'Graph Attention Network'],\n",
    "    'F1': np.array([0.7251, 0.7895]).astype(str).tolist(),\n",
    "    'Accuracy (%)': np.array([81.00, 84.93]).astype(str).tolist(),\n",
    "    \n",
    "}\n",
    "\n",
    "df = pd.DataFrame(data).reset_index(drop=True)\n",
    "\n",
    "\n",
    "styled_df = df.style.set_table_styles([\n",
    "    {'selector': 'table', 'props': [('font-size', '12pt'), ('text-align', 'center')]},\n",
    "    {'selector': 'th', 'props': [('font-size', '12pt'), ('text-align', 'center')]},\n",
    "    {'selector': 'td', 'props': [('font-size', '12pt'), ('text-align', 'center')]}\n",
    "])\n",
    "\n",
    "\n",
    "styled_df"
   ]
  },
  {
   "cell_type": "markdown",
   "metadata": {},
   "source": [
    "### Evaluate how (i) Label Smoothing and (ii) Weighted BCE contribute (using GAT baseline)"
   ]
  },
  {
   "cell_type": "code",
   "execution_count": 155,
   "metadata": {
    "scrolled": true
   },
   "outputs": [
    {
     "data": {
      "text/html": [
       "<style type=\"text/css\">\n",
       "#T_a4280 table {\n",
       "  font-size: 12pt;\n",
       "  text-align: center;\n",
       "}\n",
       "#T_a4280 th {\n",
       "  font-size: 12pt;\n",
       "  text-align: center;\n",
       "}\n",
       "#T_a4280 td {\n",
       "  font-size: 12pt;\n",
       "  text-align: center;\n",
       "}\n",
       "</style>\n",
       "<table id=\"T_a4280\">\n",
       "  <thead>\n",
       "    <tr>\n",
       "      <th class=\"blank level0\" >&nbsp;</th>\n",
       "      <th id=\"T_a4280_level0_col0\" class=\"col_heading level0 col0\" >Label Smoothing</th>\n",
       "      <th id=\"T_a4280_level0_col1\" class=\"col_heading level0 col1\" >Weighted BCE</th>\n",
       "      <th id=\"T_a4280_level0_col2\" class=\"col_heading level0 col2\" >F1</th>\n",
       "      <th id=\"T_a4280_level0_col3\" class=\"col_heading level0 col3\" >Accuracy (%)</th>\n",
       "    </tr>\n",
       "  </thead>\n",
       "  <tbody>\n",
       "    <tr>\n",
       "      <th id=\"T_a4280_level0_row0\" class=\"row_heading level0 row0\" >0</th>\n",
       "      <td id=\"T_a4280_row0_col0\" class=\"data row0 col0\" >(0.0, 0.0)</td>\n",
       "      <td id=\"T_a4280_row0_col1\" class=\"data row0 col1\" >No</td>\n",
       "      <td id=\"T_a4280_row0_col2\" class=\"data row0 col2\" >0.7895</td>\n",
       "      <td id=\"T_a4280_row0_col3\" class=\"data row0 col3\" >84.93</td>\n",
       "    </tr>\n",
       "    <tr>\n",
       "      <th id=\"T_a4280_level0_row1\" class=\"row_heading level0 row1\" >1</th>\n",
       "      <td id=\"T_a4280_row1_col0\" class=\"data row1 col0\" >(0.1, 0.1)</td>\n",
       "      <td id=\"T_a4280_row1_col1\" class=\"data row1 col1\" >No</td>\n",
       "      <td id=\"T_a4280_row1_col2\" class=\"data row1 col2\" >0.7849</td>\n",
       "      <td id=\"T_a4280_row1_col3\" class=\"data row1 col3\" >84.55</td>\n",
       "    </tr>\n",
       "    <tr>\n",
       "      <th id=\"T_a4280_level0_row2\" class=\"row_heading level0 row2\" >2</th>\n",
       "      <td id=\"T_a4280_row2_col0\" class=\"data row2 col0\" >(0.1, 0.0)</td>\n",
       "      <td id=\"T_a4280_row2_col1\" class=\"data row2 col1\" >No</td>\n",
       "      <td id=\"T_a4280_row2_col2\" class=\"data row2 col2\" >0.7954</td>\n",
       "      <td id=\"T_a4280_row2_col3\" class=\"data row2 col3\" >85.8</td>\n",
       "    </tr>\n",
       "    <tr>\n",
       "      <th id=\"T_a4280_level0_row3\" class=\"row_heading level0 row3\" >3</th>\n",
       "      <td id=\"T_a4280_row3_col0\" class=\"data row3 col0\" >(0.0, 0.1)</td>\n",
       "      <td id=\"T_a4280_row3_col1\" class=\"data row3 col1\" >No</td>\n",
       "      <td id=\"T_a4280_row3_col2\" class=\"data row3 col2\" >0.7838</td>\n",
       "      <td id=\"T_a4280_row3_col3\" class=\"data row3 col3\" >83.3</td>\n",
       "    </tr>\n",
       "    <tr>\n",
       "      <th id=\"T_a4280_level0_row4\" class=\"row_heading level0 row4\" >4</th>\n",
       "      <td id=\"T_a4280_row4_col0\" class=\"data row4 col0\" >(0.2, 0.2)</td>\n",
       "      <td id=\"T_a4280_row4_col1\" class=\"data row4 col1\" >No</td>\n",
       "      <td id=\"T_a4280_row4_col2\" class=\"data row4 col2\" >0.7964</td>\n",
       "      <td id=\"T_a4280_row4_col3\" class=\"data row4 col3\" >85.18</td>\n",
       "    </tr>\n",
       "    <tr>\n",
       "      <th id=\"T_a4280_level0_row5\" class=\"row_heading level0 row5\" >5</th>\n",
       "      <td id=\"T_a4280_row5_col0\" class=\"data row5 col0\" >(0.0, 0.2)</td>\n",
       "      <td id=\"T_a4280_row5_col1\" class=\"data row5 col1\" >No</td>\n",
       "      <td id=\"T_a4280_row5_col2\" class=\"data row5 col2\" >0.7975</td>\n",
       "      <td id=\"T_a4280_row5_col3\" class=\"data row5 col3\" >86.43</td>\n",
       "    </tr>\n",
       "    <tr>\n",
       "      <th id=\"T_a4280_level0_row6\" class=\"row_heading level0 row6\" >6</th>\n",
       "      <td id=\"T_a4280_row6_col0\" class=\"data row6 col0\" >(0.0, 0.2)</td>\n",
       "      <td id=\"T_a4280_row6_col1\" class=\"data row6 col1\" >Yes</td>\n",
       "      <td id=\"T_a4280_row6_col2\" class=\"data row6 col2\" >0.7845</td>\n",
       "      <td id=\"T_a4280_row6_col3\" class=\"data row6 col3\" >83.72</td>\n",
       "    </tr>\n",
       "    <tr>\n",
       "      <th id=\"T_a4280_level0_row7\" class=\"row_heading level0 row7\" >7</th>\n",
       "      <td id=\"T_a4280_row7_col0\" class=\"data row7 col0\" >(0.0, 0.0)</td>\n",
       "      <td id=\"T_a4280_row7_col1\" class=\"data row7 col1\" >Yes</td>\n",
       "      <td id=\"T_a4280_row7_col2\" class=\"data row7 col2\" >0.7646</td>\n",
       "      <td id=\"T_a4280_row7_col3\" class=\"data row7 col3\" >80.58</td>\n",
       "    </tr>\n",
       "  </tbody>\n",
       "</table>\n"
      ],
      "text/plain": [
       "<pandas.io.formats.style.Styler at 0x1d81b672dd0>"
      ]
     },
     "execution_count": 155,
     "metadata": {},
     "output_type": "execute_result"
    }
   ],
   "source": [
    "import pandas as pd\n",
    "\n",
    "# Create a DataFrame with your results\n",
    "data = {\n",
    "    'Label Smoothing': [(0.0, 0.0), (0.1, 0.1), (0.1, 0.0), (0.0, 0.1), (0.2, 0.2), (0.0, 0.2), (0.0, 0.2), (0.0,0.0)],\n",
    "    'Weighted BCE': ['No', 'No', 'No', 'No', 'No', 'No', 'Yes', 'Yes'],\n",
    "    'F1': np.array([0.7895, 0.7849, 0.7954, 0.7838, 0.7964, 0.7975, 0.7845, 0.7646]).astype(str).tolist(),\n",
    "    'Accuracy (%)': np.array([84.93, 84.55, 85.80, 83.30, 85.18, 86.43, 83.72, 80.58]).astype(str).tolist(),\n",
    "    \n",
    "}\n",
    "\n",
    "df = pd.DataFrame(data)\n",
    "\n",
    "styled_df = df.style.set_table_styles([\n",
    "    {'selector': 'table', 'props': [('font-size', '12pt'), ('text-align', 'center')]},\n",
    "    {'selector': 'th', 'props': [('font-size', '12pt'), ('text-align', 'center')]},\n",
    "    {'selector': 'td', 'props': [('font-size', '1pt'), ('text-align', 'center')]}\n",
    "])\n",
    "\n",
    "styled_df\n"
   ]
  },
  {
   "cell_type": "code",
   "execution_count": 95,
   "metadata": {},
   "outputs": [],
   "source": [
    "import numpy as np\n",
    "import matplotlib.pyplot as plt\n",
    "\n",
    "f1_scores_over_thresholds = []\n",
    "decision_thresholds = torch.linspace(0, 1, steps=21).tolist()\n",
    "\n",
    "for dth in decision_thresholds:\n",
    "    test_loss, test_metrics, _ = test(test_loader, model, loss_fn, device, decision_threshold=dth)\n",
    "    f1_scores_over_thresholds.append(test_metrics['f1'])\n"
   ]
  },
  {
   "cell_type": "code",
   "execution_count": 96,
   "metadata": {},
   "outputs": [
    {
     "data": {
      "image/png": "[encoded data removed]",
      "text/plain": [
       "<Figure size 640x480 with 1 Axes>"
      ]
     },
     "metadata": {},
     "output_type": "display_data"
    }
   ],
   "source": [
    "# Plot the array\n",
    "plt.plot(torch.linspace(0, 1, steps=21), f1_scores_over_thresholds)\n",
    "\n",
    "max_index = np.argmax(f1_scores_over_thresholds)\n",
    "max_value = f1_scores_over_thresholds[max_index]\n",
    "\n",
    "max_threshold = decision_thresholds[max_index]\n",
    "\n",
    "plt.scatter(max_threshold, max_value, color='red')\n",
    "plt.plot([max_threshold, max_threshold], [0, max_value], linestyle='--', color='red')\n",
    "plt.text(max_threshold, max_value+0.02, f'{max_value:.4f}', va='bottom', ha='center', color='red')\n",
    "\n",
    "\n",
    "\n",
    "# Add labels and title\n",
    "plt.xlabel('Decision Threshold')\n",
    "plt.ylabel('F1')\n",
    "plt.title('F1-Score over different Decision Thresholds')\n",
    "plt.ylim([-0.05, 1.05])\n",
    "plt.grid(True)\n",
    "\n",
    "# Show the plot\n",
    "plt.show()"
   ]
  },
  {
   "cell_type": "code",
   "execution_count": 92,
   "metadata": {
    "colab": {
     "base_uri": "https://localhost:8080/",
     "height": 564
    },
    "id": "xGaP1ydHX04G",
    "outputId": "a17a6f29-a228-4fba-ca95-fe899574d7e7",
    "scrolled": false
   },
   "outputs": [
    {
     "data": {
      "image/png": "[encoded data removed]",
      "text/plain": [
       "<Figure size 1000x600 with 1 Axes>"
      ]
     },
     "metadata": {},
     "output_type": "display_data"
    }
   ],
   "source": [
    "import matplotlib.pyplot as plt\n",
    "\n",
    "epochs = list(range(1, n_epochs + 1))\n",
    "\n",
    "# Plotting\n",
    "plt.figure(figsize=(10, 6))\n",
    "plt.plot(epochs, train_losses, label='Training Loss')\n",
    "plt.plot(epochs, val_losses, label='Validation Loss')\n",
    "plt.title('Training and Validation Loss per Epoch')\n",
    "plt.xlabel('Epoch')\n",
    "plt.ylabel('Loss')\n",
    "#plt.ylim(0.3,0.4)\n",
    "plt.legend()\n",
    "plt.grid(True)\n",
    "plt.show()"
   ]
  },
  {
   "cell_type": "code",
   "execution_count": 98,
   "metadata": {},
   "outputs": [
    {
     "data": {
      "image/png": "[encoded data removed]",
      "text/plain": [
       "<Figure size 640x480 with 2 Axes>"
      ]
     },
     "metadata": {},
     "output_type": "display_data"
    }
   ],
   "source": [
    "import matplotlib.pyplot as plt\n",
    "\n",
    "def plot_confusion_matrix(tn, fp, fn, tp):\n",
    "    confusion_matrix = [[tn, fp], [fn, tp]]\n",
    "    confusion_matrix_labels = [['TN', 'FP'], ['FN', 'TP']]\n",
    "\n",
    "    # Plotting the confusion matrix\n",
    "    plt.imshow(confusion_matrix, cmap='Blues', interpolation='nearest')\n",
    "    plt.colorbar()\n",
    "\n",
    "    plt.xlabel('Predicted Labels')\n",
    "    plt.ylabel('True Labels')\n",
    "    plt.title('Confusion Matrix')\n",
    "\n",
    "    plt.xticks([0, 1], ['Negative', 'Positive'])\n",
    "    plt.yticks([0, 1], ['Negative', 'Positive'])\n",
    "\n",
    "    # Annotate each cell with respective counts\n",
    "    for i in range(2):\n",
    "        for j in range(2):\n",
    "            plt.text(j, i, f'{confusion_matrix_labels[i][j]}: {confusion_matrix[i][j]}', horizontalalignment='center', verticalalignment='center', color='black')\n",
    "\n",
    "    plt.show()\n",
    "\n",
    "plot_confusion_matrix(*test_conf_mat)\n"
   ]
  },
  {
   "cell_type": "code",
   "execution_count": null,
   "metadata": {},
   "outputs": [],
   "source": []
  }
 ],
 "metadata": {
  "colab": {
   "provenance": [],
   "toc_visible": true
  },
  "kernelspec": {
   "display_name": "Python 3 (ipykernel)",
   "language": "python",
   "name": "python3"
  },
  "language_info": {
   "codemirror_mode": {
    "name": "ipython",
    "version": 3
   },
   "file_extension": ".py",
   "mimetype": "text/x-python",
   "name": "python",
   "nbconvert_exporter": "python",
   "pygments_lexer": "ipython3",
   "version": "3.10.9"
  }
 },
 "nbformat": 4,
 "nbformat_minor": 1
}

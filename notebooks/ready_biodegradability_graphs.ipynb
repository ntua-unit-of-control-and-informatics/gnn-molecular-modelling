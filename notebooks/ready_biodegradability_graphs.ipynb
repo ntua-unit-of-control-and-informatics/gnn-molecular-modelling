{
 "cells": [
  {
   "cell_type": "code",
   "execution_count": 1,
   "metadata": {},
   "outputs": [],
   "source": [
    "%load_ext autoreload\n",
    "%autoreload 2"
   ]
  },
  {
   "cell_type": "code",
   "execution_count": 2,
   "metadata": {
    "colab": {
     "base_uri": "https://localhost:8080/"
    },
    "id": "ka7gB7xeOjP9",
    "outputId": "71729be3-a9f3-44ec-9ce9-ad3679b0cd06"
   },
   "outputs": [
    {
     "name": "stderr",
     "output_type": "stream",
     "text": [
      "'wget' is not recognized as an internal or external command,\n",
      "operable program or batch file.\n"
     ]
    }
   ],
   "source": [
    "import os\n",
    "filename = 'AllPublicnew.sdf'\n",
    "filepath = f'{filename}'\n",
    "\n",
    "download_url = f'https://zenodo.org/records/3540701/files/{filename}'\n",
    "\n",
    "if not os.path.exists(filepath):\n",
    "    !wget {download_url} -O {filepath}\n",
    "else:\n",
    "    print(\"File already exists:\", filepath)"
   ]
  },
  {
   "cell_type": "code",
   "execution_count": 3,
   "metadata": {},
   "outputs": [],
   "source": [
    "def in_google_colab():\n",
    "    try:\n",
    "        import google.colab\n",
    "        return True\n",
    "    except ImportError:\n",
    "        return False\n"
   ]
  },
  {
   "cell_type": "code",
   "execution_count": 4,
   "metadata": {
    "colab": {
     "base_uri": "https://localhost:8080/",
     "height": 1000
    },
    "id": "sGrLM56RPnWh",
    "outputId": "3e37d478-811b-45c0-b78d-f7f8c4fa2da4"
   },
   "outputs": [
    {
     "name": "stdout",
     "output_type": "stream",
     "text": [
      "Requirement already satisfied: jaqpotpy in c:\\users\\pitfl\\appdata\\local\\programs\\python\\python310\\lib\\site-packages (1.0.104)\n",
      "Requirement already satisfied: pandas in c:\\users\\pitfl\\appdata\\local\\programs\\python\\python310\\lib\\site-packages (from jaqpotpy) (1.5.3)\n",
      "Requirement already satisfied: requests in c:\\users\\pitfl\\appdata\\local\\programs\\python\\python310\\lib\\site-packages (from jaqpotpy) (2.28.2)\n",
      "Requirement already satisfied: pydantic in c:\\users\\pitfl\\appdata\\local\\programs\\python\\python310\\lib\\site-packages (from jaqpotpy) (1.10.4)\n",
      "Requirement already satisfied: rdkit-pypi in c:\\users\\pitfl\\appdata\\local\\programs\\python\\python310\\lib\\site-packages (from jaqpotpy) (2022.9.5)\n",
      "Requirement already satisfied: mordred in c:\\users\\pitfl\\appdata\\local\\programs\\python\\python310\\lib\\site-packages (from jaqpotpy) (1.2.0)\n",
      "Requirement already satisfied: pyjwt in c:\\users\\pitfl\\appdata\\local\\programs\\python\\python310\\lib\\site-packages (from jaqpotpy) (2.8.0)\n",
      "Requirement already satisfied: scikit-learn in c:\\users\\pitfl\\appdata\\local\\programs\\python\\python310\\lib\\site-packages (from jaqpotpy) (1.2.0)\n",
      "Requirement already satisfied: tqdm in c:\\users\\pitfl\\appdata\\local\\programs\\python\\python310\\lib\\site-packages (from jaqpotpy) (4.64.1)\n",
      "Requirement already satisfied: skl2onnx in c:\\users\\pitfl\\appdata\\local\\programs\\python\\python310\\lib\\site-packages (from jaqpotpy) (1.16.0)\n",
      "Requirement already satisfied: onnxruntime in c:\\users\\pitfl\\appdata\\local\\programs\\python\\python310\\lib\\site-packages (from jaqpotpy) (1.17.0)\n",
      "Requirement already satisfied: torch-geometric in c:\\users\\pitfl\\appdata\\local\\programs\\python\\python310\\lib\\site-packages (from jaqpotpy) (2.4.0)\n",
      "Requirement already satisfied: six==1.* in c:\\users\\pitfl\\appdata\\local\\programs\\python\\python310\\lib\\site-packages (from mordred->jaqpotpy) (1.16.0)\n",
      "Requirement already satisfied: numpy==1.* in c:\\users\\pitfl\\appdata\\local\\programs\\python\\python310\\lib\\site-packages (from mordred->jaqpotpy) (1.24.1)\n",
      "Requirement already satisfied: networkx==2.* in c:\\users\\pitfl\\appdata\\local\\programs\\python\\python310\\lib\\site-packages (from mordred->jaqpotpy) (2.8.8)\n",
      "Requirement already satisfied: coloredlogs in c:\\users\\pitfl\\appdata\\local\\programs\\python\\python310\\lib\\site-packages (from onnxruntime->jaqpotpy) (15.0.1)\n",
      "Requirement already satisfied: flatbuffers in c:\\users\\pitfl\\appdata\\local\\programs\\python\\python310\\lib\\site-packages (from onnxruntime->jaqpotpy) (23.1.21)\n",
      "Requirement already satisfied: packaging in c:\\users\\pitfl\\appdata\\local\\programs\\python\\python310\\lib\\site-packages (from onnxruntime->jaqpotpy) (23.0)\n",
      "Requirement already satisfied: protobuf in c:\\users\\pitfl\\appdata\\local\\programs\\python\\python310\\lib\\site-packages (from onnxruntime->jaqpotpy) (3.20.2)\n",
      "Requirement already satisfied: sympy in c:\\users\\pitfl\\appdata\\local\\programs\\python\\python310\\lib\\site-packages (from onnxruntime->jaqpotpy) (1.12)\n",
      "Requirement already satisfied: python-dateutil>=2.8.1 in c:\\users\\pitfl\\appdata\\local\\programs\\python\\python310\\lib\\site-packages (from pandas->jaqpotpy) (2.8.2)\n",
      "Requirement already satisfied: pytz>=2020.1 in c:\\users\\pitfl\\appdata\\local\\programs\\python\\python310\\lib\\site-packages (from pandas->jaqpotpy) (2022.7.1)\n",
      "Requirement already satisfied: typing-extensions>=4.2.0 in c:\\users\\pitfl\\appdata\\local\\programs\\python\\python310\\lib\\site-packages (from pydantic->jaqpotpy) (4.4.0)\n",
      "Requirement already satisfied: Pillow in c:\\users\\pitfl\\appdata\\local\\programs\\python\\python310\\lib\\site-packages (from rdkit-pypi->jaqpotpy) (9.4.0)\n",
      "Requirement already satisfied: charset-normalizer<4,>=2 in c:\\users\\pitfl\\appdata\\local\\programs\\python\\python310\\lib\\site-packages (from requests->jaqpotpy) (3.0.1)\n",
      "Requirement already satisfied: idna<4,>=2.5 in c:\\users\\pitfl\\appdata\\local\\programs\\python\\python310\\lib\\site-packages (from requests->jaqpotpy) (3.4)\n",
      "Requirement already satisfied: urllib3<1.27,>=1.21.1 in c:\\users\\pitfl\\appdata\\local\\programs\\python\\python310\\lib\\site-packages (from requests->jaqpotpy) (1.26.14)\n",
      "Requirement already satisfied: certifi>=2017.4.17 in c:\\users\\pitfl\\appdata\\local\\programs\\python\\python310\\lib\\site-packages (from requests->jaqpotpy) (2022.12.7)\n",
      "Requirement already satisfied: scipy>=1.3.2 in c:\\users\\pitfl\\appdata\\local\\programs\\python\\python310\\lib\\site-packages (from scikit-learn->jaqpotpy) (1.10.0)\n",
      "Requirement already satisfied: joblib>=1.1.1 in c:\\users\\pitfl\\appdata\\local\\programs\\python\\python310\\lib\\site-packages (from scikit-learn->jaqpotpy) (1.2.0)\n",
      "Requirement already satisfied: threadpoolctl>=2.0.0 in c:\\users\\pitfl\\appdata\\local\\programs\\python\\python310\\lib\\site-packages (from scikit-learn->jaqpotpy) (3.1.0)\n",
      "Requirement already satisfied: onnx>=1.2.1 in c:\\users\\pitfl\\appdata\\local\\programs\\python\\python310\\lib\\site-packages (from skl2onnx->jaqpotpy) (1.15.0)\n",
      "Requirement already satisfied: onnxconverter-common>=1.7.0 in c:\\users\\pitfl\\appdata\\local\\programs\\python\\python310\\lib\\site-packages (from skl2onnx->jaqpotpy) (1.14.0)\n",
      "Requirement already satisfied: jinja2 in c:\\users\\pitfl\\appdata\\local\\programs\\python\\python310\\lib\\site-packages (from torch-geometric->jaqpotpy) (3.1.2)\n",
      "Requirement already satisfied: pyparsing in c:\\users\\pitfl\\appdata\\local\\programs\\python\\python310\\lib\\site-packages (from torch-geometric->jaqpotpy) (3.0.9)\n",
      "Requirement already satisfied: psutil>=5.8.0 in c:\\users\\pitfl\\appdata\\local\\programs\\python\\python310\\lib\\site-packages (from torch-geometric->jaqpotpy) (5.9.4)\n",
      "Requirement already satisfied: colorama in c:\\users\\pitfl\\appdata\\local\\programs\\python\\python310\\lib\\site-packages (from tqdm->jaqpotpy) (0.4.6)\n",
      "Requirement already satisfied: humanfriendly>=9.1 in c:\\users\\pitfl\\appdata\\local\\programs\\python\\python310\\lib\\site-packages (from coloredlogs->onnxruntime->jaqpotpy) (10.0)\n",
      "Requirement already satisfied: MarkupSafe>=2.0 in c:\\users\\pitfl\\appdata\\local\\programs\\python\\python310\\lib\\site-packages (from jinja2->torch-geometric->jaqpotpy) (2.1.2)\n",
      "Requirement already satisfied: mpmath>=0.19 in c:\\users\\pitfl\\appdata\\local\\programs\\python\\python310\\lib\\site-packages (from sympy->onnxruntime->jaqpotpy) (1.3.0)\n",
      "Requirement already satisfied: pyreadline3 in c:\\users\\pitfl\\appdata\\local\\programs\\python\\python310\\lib\\site-packages (from humanfriendly>=9.1->coloredlogs->onnxruntime->jaqpotpy) (3.4.1)\n",
      "Requirement already satisfied: rdkit in c:\\users\\pitfl\\appdata\\local\\programs\\python\\python310\\lib\\site-packages (2023.9.4)\n",
      "Requirement already satisfied: numpy in c:\\users\\pitfl\\appdata\\local\\programs\\python\\python310\\lib\\site-packages (from rdkit) (1.24.1)\n",
      "Requirement already satisfied: Pillow in c:\\users\\pitfl\\appdata\\local\\programs\\python\\python310\\lib\\site-packages (from rdkit) (9.4.0)\n",
      "Requirement already satisfied: torch-geometric in c:\\users\\pitfl\\appdata\\local\\programs\\python\\python310\\lib\\site-packages (2.4.0)\n",
      "Requirement already satisfied: tqdm in c:\\users\\pitfl\\appdata\\local\\programs\\python\\python310\\lib\\site-packages (from torch-geometric) (4.64.1)\n",
      "Requirement already satisfied: numpy in c:\\users\\pitfl\\appdata\\local\\programs\\python\\python310\\lib\\site-packages (from torch-geometric) (1.24.1)\n",
      "Requirement already satisfied: scipy in c:\\users\\pitfl\\appdata\\local\\programs\\python\\python310\\lib\\site-packages (from torch-geometric) (1.10.0)\n",
      "Requirement already satisfied: jinja2 in c:\\users\\pitfl\\appdata\\local\\programs\\python\\python310\\lib\\site-packages (from torch-geometric) (3.1.2)\n",
      "Requirement already satisfied: requests in c:\\users\\pitfl\\appdata\\local\\programs\\python\\python310\\lib\\site-packages (from torch-geometric) (2.28.2)\n",
      "Requirement already satisfied: pyparsing in c:\\users\\pitfl\\appdata\\local\\programs\\python\\python310\\lib\\site-packages (from torch-geometric) (3.0.9)\n",
      "Requirement already satisfied: scikit-learn in c:\\users\\pitfl\\appdata\\local\\programs\\python\\python310\\lib\\site-packages (from torch-geometric) (1.2.0)\n",
      "Requirement already satisfied: psutil>=5.8.0 in c:\\users\\pitfl\\appdata\\local\\programs\\python\\python310\\lib\\site-packages (from torch-geometric) (5.9.4)\n",
      "Requirement already satisfied: MarkupSafe>=2.0 in c:\\users\\pitfl\\appdata\\local\\programs\\python\\python310\\lib\\site-packages (from jinja2->torch-geometric) (2.1.2)\n",
      "Requirement already satisfied: charset-normalizer<4,>=2 in c:\\users\\pitfl\\appdata\\local\\programs\\python\\python310\\lib\\site-packages (from requests->torch-geometric) (3.0.1)\n",
      "Requirement already satisfied: idna<4,>=2.5 in c:\\users\\pitfl\\appdata\\local\\programs\\python\\python310\\lib\\site-packages (from requests->torch-geometric) (3.4)\n",
      "Requirement already satisfied: urllib3<1.27,>=1.21.1 in c:\\users\\pitfl\\appdata\\local\\programs\\python\\python310\\lib\\site-packages (from requests->torch-geometric) (1.26.14)\n",
      "Requirement already satisfied: certifi>=2017.4.17 in c:\\users\\pitfl\\appdata\\local\\programs\\python\\python310\\lib\\site-packages (from requests->torch-geometric) (2022.12.7)\n",
      "Requirement already satisfied: joblib>=1.1.1 in c:\\users\\pitfl\\appdata\\local\\programs\\python\\python310\\lib\\site-packages (from scikit-learn->torch-geometric) (1.2.0)\n",
      "Requirement already satisfied: threadpoolctl>=2.0.0 in c:\\users\\pitfl\\appdata\\local\\programs\\python\\python310\\lib\\site-packages (from scikit-learn->torch-geometric) (3.1.0)\n",
      "Requirement already satisfied: colorama in c:\\users\\pitfl\\appdata\\local\\programs\\python\\python310\\lib\\site-packages (from tqdm->torch-geometric) (0.4.6)\n"
     ]
    },
    {
     "name": "stdout",
     "output_type": "stream",
     "text": [
      "Requirement already satisfied: scikit-learn in c:\\users\\pitfl\\appdata\\local\\programs\\python\\python310\\lib\\site-packages (1.2.0)\n",
      "Requirement already satisfied: numpy>=1.17.3 in c:\\users\\pitfl\\appdata\\local\\programs\\python\\python310\\lib\\site-packages (from scikit-learn) (1.24.1)\n",
      "Requirement already satisfied: scipy>=1.3.2 in c:\\users\\pitfl\\appdata\\local\\programs\\python\\python310\\lib\\site-packages (from scikit-learn) (1.10.0)\n",
      "Requirement already satisfied: joblib>=1.1.1 in c:\\users\\pitfl\\appdata\\local\\programs\\python\\python310\\lib\\site-packages (from scikit-learn) (1.2.0)\n",
      "Requirement already satisfied: threadpoolctl>=2.0.0 in c:\\users\\pitfl\\appdata\\local\\programs\\python\\python310\\lib\\site-packages (from scikit-learn) (3.1.0)\n",
      "Requirement already satisfied: torch in c:\\users\\pitfl\\appdata\\local\\programs\\python\\python310\\lib\\site-packages (2.0.0+cu117)\n",
      "Requirement already satisfied: filelock in c:\\users\\pitfl\\appdata\\local\\programs\\python\\python310\\lib\\site-packages (from torch) (3.12.1)\n",
      "Requirement already satisfied: typing-extensions in c:\\users\\pitfl\\appdata\\local\\programs\\python\\python310\\lib\\site-packages (from torch) (4.4.0)\n",
      "Requirement already satisfied: sympy in c:\\users\\pitfl\\appdata\\local\\programs\\python\\python310\\lib\\site-packages (from torch) (1.12)\n",
      "Requirement already satisfied: networkx in c:\\users\\pitfl\\appdata\\local\\programs\\python\\python310\\lib\\site-packages (from torch) (2.8.8)\n",
      "Requirement already satisfied: jinja2 in c:\\users\\pitfl\\appdata\\local\\programs\\python\\python310\\lib\\site-packages (from torch) (3.1.2)\n",
      "Requirement already satisfied: MarkupSafe>=2.0 in c:\\users\\pitfl\\appdata\\local\\programs\\python\\python310\\lib\\site-packages (from jinja2->torch) (2.1.2)\n",
      "Requirement already satisfied: mpmath>=0.19 in c:\\users\\pitfl\\appdata\\local\\programs\\python\\python310\\lib\\site-packages (from sympy->torch) (1.3.0)\n"
     ]
    }
   ],
   "source": [
    "!pip install jaqpotpy\n",
    "!pip install rdkit\n",
    "!pip install torch-geometric\n",
    "\n",
    "# !pip install jaqpotpy\n",
    "# !pip install rdkit\n",
    "\n",
    "!pip install scikit-learn\n",
    "!pip install torch"
   ]
  },
  {
   "cell_type": "code",
   "execution_count": 28,
   "metadata": {},
   "outputs": [
    {
     "name": "stdout",
     "output_type": "stream",
     "text": [
      "Device: \n",
      "- NVIDIA GeForce GTX 1050 Ti with Max-Q Design\n"
     ]
    }
   ],
   "source": [
    "seed = 42\n",
    "\n",
    "random.seed(seed)\n",
    "np.random.seed(seed)\n",
    "\n",
    "# Device\n",
    "device = torch.device('cuda:0' if torch.cuda.is_available() else 'cpu')\n",
    "cuda = torch.cuda.is_available()\n",
    "\n",
    "torch.manual_seed(seed)\n",
    "\n",
    "if cuda:\n",
    "    print(f\"Device: \\n- {torch.cuda.get_device_name()}\")\n",
    "    torch.cuda.manual_seed(seed)\n",
    "else:\n",
    "    print(f\"Device: {'CPU'}\")\n"
   ]
  },
  {
   "cell_type": "code",
   "execution_count": 5,
   "metadata": {
    "id": "nO9JuNGQQV_C"
   },
   "outputs": [],
   "source": [
    "from rdkit import Chem\n",
    "from rdkit.Chem import AllChem\n",
    "from pathlib import Path\n",
    "\n",
    "import sys\n",
    "\n",
    "if '..' not in sys.path:\n",
    "    sys.path.append('..')\n",
    "    \n",
    "from utils.utils import class_balanced_random_split\n",
    "\n",
    "working_dir = Path.cwd()\n",
    "filename = 'AllPublicnew.sdf'\n",
    "\n",
    "\n",
    "if in_google_colab():\n",
    "    data_dir = working_dir\n",
    "else:\n",
    "    data_dir = working_dir.parent/'data'/'ready_biodegradability'\n",
    "    \n",
    "   \n",
    "    \n",
    "dataset_filepath = data_dir/filename\n",
    "\n",
    "\n",
    "X, y = [], []\n",
    "sdf_supplier = Chem.SDMolSupplier(str(dataset_filepath))\n",
    "\n",
    "for mol in sdf_supplier:\n",
    "    if mol is not None:\n",
    "        smiles = mol.GetProp('SMILES')\n",
    "        # smiles = Chem.MolToSmiles(mol)\n",
    "        ready_biodegradability = int(mol.GetProp('ReadyBiodegradability'))\n",
    "\n",
    "        X.append(smiles)\n",
    "        y.append(ready_biodegradability)"
   ]
  },
  {
   "cell_type": "code",
   "execution_count": 6,
   "metadata": {
    "colab": {
     "base_uri": "https://localhost:8080/"
    },
    "id": "X4yFJpPqQX7z",
    "outputId": "a5b4baf7-90b7-4f9e-9c32-b7a6d349f804"
   },
   "outputs": [
    {
     "name": "stdout",
     "output_type": "stream",
     "text": [
      "Whole Dataset (35.5% positive):\n",
      "- Positive Samples: 1,133\n",
      "- Negative Samples: 2,059\n",
      "\n",
      "\n"
     ]
    }
   ],
   "source": [
    "import numpy as np\n",
    "\n",
    "seed = 42\n",
    "\n",
    "n_all = len(y)\n",
    "print(f\"Whole Dataset ({100*(np.array(y)==1).sum()/n_all:.1f}% positive):\")\n",
    "print(f\"- Positive Samples: {(np.array(y)==1).sum():,}\")\n",
    "print(f\"- Negative Samples: {(np.array(y)==0).sum():,}\")\n",
    "print('\\n')\n",
    "\n",
    "# TODO: Need oversampling on train data AFTER spliting on train-validtaion as well\n",
    "\n",
    "# Create test split\n",
    "X_train_val, X_test, y_train_val, y_test = class_balanced_random_split(X, y, seed=seed)\n",
    "\n",
    "# Create train and validation splits\n",
    "X_train, X_val, y_train, y_val = class_balanced_random_split(X_train_val, y_train_val, seed=seed)\n",
    "\n",
    "\n",
    "# n_train = len(y_train)\n",
    "# print(f\"Train Split ({100*(np.array(y_train)==1).sum()/n_train:.1f}% positive):\")\n",
    "# print(f\"- Positive Train Samples: {(np.array(y_train)==1).sum():,}\")\n",
    "# print(f\"- Negative Train Samples: {(np.array(y_train)==0).sum():,}\")\n",
    "# print('\\n')\n",
    "\n",
    "# n_val = len(y_val)\n",
    "# print(f\"Validation Split ({100*(np.array(y_val)==1).sum()/n_val:.1f}% positive):\")\n",
    "# print(f\"- Positive Validation Samples: {(np.array(y_val)==1).sum():,}\")\n",
    "# print(f\"- Negative Validation Samples: {(np.array(y_val)==0).sum():,}\")\n",
    "# print('\\n')\n",
    "\n",
    "\n",
    "\n",
    "# n_test = len(y_test)\n",
    "# print(f\"Test Split ({100*(np.array(y_test)==1).sum()/n_test:.1f}% positive):\")\n",
    "# print(f\"- Positive Test Samples: {(np.array(y_test)==1).sum():,}\")\n",
    "# print(f\"- Negative Test Samples: {(np.array(y_test)==0).sum():,}\")\n",
    "# print('\\n')"
   ]
  },
  {
   "cell_type": "markdown",
   "metadata": {
    "id": "wsRBGEovezxF"
   },
   "source": [
    "### Structural data of the dataset for graph node feature creation"
   ]
  },
  {
   "cell_type": "code",
   "execution_count": 7,
   "metadata": {
    "colab": {
     "base_uri": "https://localhost:8080/"
    },
    "id": "bgFP0gY7RWTC",
    "outputId": "53a645bb-48cd-4493-dc4c-d404116ccf86"
   },
   "outputs": [
    {
     "name": "stdout",
     "output_type": "stream",
     "text": [
      "Symb:  {'Br', 'I', 'B', 'F', 'S', 'Si', 'C', 'N', 'Cl', 'Cu', 'Bi', 'Sn', 'P', 'O'}\n",
      "Hs:  {0, 1, 2, 3, 4}\n",
      "Impv:  {0, 1, 2, 3, 4}\n",
      "Fc:  {0, 1, -1}\n",
      "Hb:  {rdkit.Chem.rdchem.HybridizationType.SP, rdkit.Chem.rdchem.HybridizationType.SP2, rdkit.Chem.rdchem.HybridizationType.SP3, rdkit.Chem.rdchem.HybridizationType.SP3D2}\n",
      "ExpV:  {0, 1, 2, 3, 4, 5, 6}\n",
      "Deg:  {0, 1, 2, 3, 4}\n",
      "Bond Types: {rdkit.Chem.rdchem.BondType.SINGLE, rdkit.Chem.rdchem.BondType.DOUBLE, rdkit.Chem.rdchem.BondType.TRIPLE, rdkit.Chem.rdchem.BondType.AROMATIC}\n",
      "Is_Conjugated: {False, True}\n"
     ]
    }
   ],
   "source": [
    "from rdkit import Chem\n",
    "Symb , Hs , Impv , Fc , Hb , ExpV , Deg = set() , set() , set() , set() , set() , set() , set()\n",
    "bond_type , conj = set() , set()\n",
    "\n",
    "for smile in X:\n",
    "    for atom in Chem.MolFromSmiles(smile).GetAtoms():\n",
    "#         print('ELA')\n",
    "        Symb.add(atom.GetSymbol())\n",
    "#         print(atom.GetSymbol())\n",
    "        Hs.add(atom.GetTotalNumHs())\n",
    "#         print(atom.GetTotalNumHs())\n",
    "        Impv.add(atom.GetImplicitValence())\n",
    "#         print(atom.GetImplicitValence())\n",
    "        Fc.add(atom.GetFormalCharge())\n",
    "#         print(atom.GetFormalCharge())\n",
    "        Hb.add(atom.GetHybridization())\n",
    "#         print(atom.GetHybridization())\n",
    "        ExpV.add(atom.GetExplicitValence())\n",
    "#         print(atom.GetExplicitValence())\n",
    "        Deg.add(atom.GetDegree())\n",
    "#         print(atom.GetDegree())\n",
    "        \n",
    "    for bond in Chem.MolFromSmiles(smile).GetBonds():\n",
    "        bond_type.add(bond.GetBondType())\n",
    "        conj.add(bond.GetIsConjugated())\n",
    "        \n",
    "print('Symb: ', Symb)\n",
    "print('Hs: ', Hs)\n",
    "print('Impv: ', Impv)\n",
    "print('Fc: ', Fc)\n",
    "print('Hb: ', Hb)\n",
    "print('ExpV: ', ExpV)\n",
    "print('Deg: ', Deg)\n",
    "\n",
    "\n",
    "\n",
    "print(\"Bond Types:\", bond_type)\n",
    "print(\"Is_Conjugated:\", conj)"
   ]
  },
  {
   "cell_type": "markdown",
   "metadata": {
    "id": "G7Mb60TIe-Fl"
   },
   "source": [
    "### Create the graph datasets"
   ]
  },
  {
   "cell_type": "code",
   "execution_count": 8,
   "metadata": {
    "id": "nMC0RoKkZI89"
   },
   "outputs": [],
   "source": [
    "from rdkit import Chem\n",
    "\n",
    "def one_of_k_encoding(x, allowable_set):\n",
    "    if x not in allowable_set:\n",
    "        raise Exception(f'input{x} not in allowable set{allowable_set}')\n",
    "    return list(map(lambda s: x == s , allowable_set))\n",
    "\n",
    "def one_of_k_encoding_unk(x, allowable_set):\n",
    "    if x not in allowable_set:\n",
    "        x = allowable_set[-1]\n",
    "    return list(map(lambda s: x==s, allowable_set))\n",
    "\n",
    "Symbols = list(Symb)\n",
    "\n",
    "Degree = list(Deg)\n",
    "Hs_Atoms = list(Hs)\n",
    "Implicit_Val = list(Impv)\n",
    "Formal_Charge = list(Fc)\n",
    "Explicit_Val = list(ExpV)\n",
    "Hybridization = list(Hb)\n",
    "\n",
    "def atom_feature(atom):\n",
    "    return torch.tensor(one_of_k_encoding_unk(atom.GetSymbol(), Symbols) +\n",
    "                        one_of_k_encoding(atom.GetTotalNumHs(), Hs_Atoms) +\n",
    "                        one_of_k_encoding(atom.GetDegree(), Degree) +\n",
    "                        one_of_k_encoding(atom.GetImplicitValence(), Implicit_Val) +\n",
    "                        one_of_k_encoding(atom.GetFormalCharge(), Formal_Charge) +\n",
    "                        one_of_k_encoding(atom.GetHybridization(), Hybridization) +\n",
    "                        one_of_k_encoding(atom.GetExplicitValence(), Explicit_Val) +\n",
    "                        [atom.GetIsAromatic()], dtype=torch.int16)"
   ]
  },
  {
   "cell_type": "code",
   "execution_count": 9,
   "metadata": {
    "id": "tym9w0smZhkI"
   },
   "outputs": [],
   "source": [
    "from torch_geometric.data import Data\n",
    "\n",
    "def nodes_and_adjacency(smile,y):\n",
    "\n",
    "    mol = Chem.MolFromSmiles(smile)\n",
    "    # Create node Features\n",
    "    feats = []\n",
    "    attr = []\n",
    "    for atom in mol.GetAtoms():\n",
    "        feats.append(atom_feature(atom)) # Get the 5 feats in a single atom of a mol\n",
    "    mol_node_features = torch.stack(feats).float() # Stack them in an array [num_nodes x atom_features]\n",
    "\n",
    "    # Create Adjacency Matrix\n",
    "    ix1, ix2 = [], []\n",
    "\n",
    "    for bond in mol.GetBonds():\n",
    "\n",
    "        start, end = bond.GetBeginAtomIdx(), bond.GetEndAtomIdx()\n",
    "        ix1 += [start, end]\n",
    "        ix2 += [end, start]\n",
    "\n",
    "    adj_norm = torch.asarray([ix1, ix2], dtype=torch.int64) # Needs to be in COO Format\n",
    "\n",
    "    return Data(x=mol_node_features,\n",
    "                edge_index=adj_norm,\n",
    "                y=y)"
   ]
  },
  {
   "cell_type": "code",
   "execution_count": 10,
   "metadata": {
    "id": "YQ54qBiHZlZq"
   },
   "outputs": [],
   "source": [
    "from torch.utils.data import Dataset\n",
    "from tqdm.notebook import tqdm\n",
    "import torch\n",
    "\n",
    "class GraphDataset(Dataset):\n",
    "\n",
    "    def __init__(self, smiles, y):\n",
    "        super(GraphDataset,self).__init__()\n",
    "\n",
    "        dataset_info = [nodes_and_adjacency(smile, y) for smile, y in (zip(smiles, y))]\n",
    "\n",
    "        self.df = [info for info in dataset_info]\n",
    "\n",
    "    def __getitem__(self,idx):\n",
    "        return self.df[idx]\n",
    "\n",
    "    def __len__(self):\n",
    "        return len(self.df)\n",
    "\n",
    "train_dataset = GraphDataset(X_train, y_train).df\n",
    "val_dataset = GraphDataset(X_val, y_val).df\n",
    "test_dataset = GraphDataset(X_test, y_test).df"
   ]
  },
  {
   "cell_type": "markdown",
   "metadata": {
    "id": "6fyl2fIefLLW"
   },
   "source": [
    "### Create class of GCN Model"
   ]
  },
  {
   "cell_type": "code",
   "execution_count": 43,
   "metadata": {
    "id": "gpjNFPE0VRbX"
   },
   "outputs": [],
   "source": [
    "import torch.nn as nn\n",
    "import torch.nn.functional as F\n",
    "from torch_geometric.nn import GCNConv, GATConv, GraphNorm\n",
    "from torch_geometric.nn import global_add_pool, global_mean_pool, global_max_pool\n",
    "import torch.nn.init as init\n",
    "\n",
    "\n",
    "\n",
    "\n",
    "from typing import Optional, Iterable, Union\n",
    "\n",
    "\n",
    "class GCN(nn.Module):\n",
    "\n",
    "    def __init__(self,\n",
    "                 input_dim: int,\n",
    "                 hidden_dims: Iterable[int],\n",
    "                 output_dim: Optional[int] = 1,\n",
    "#                  final_activation: Optional[Union[str, None]] = None,\n",
    "                 dropout: Union[float, Iterable[float]] = 0.5,\n",
    "                 graph_norm: Optional[bool] = False,\n",
    "                 *args,\n",
    "                 **kwargs):\n",
    "        \n",
    "        super(GCN, self).__init__()\n",
    "        \n",
    "        # Input types check\n",
    "        if not isinstance(input_dim, int):\n",
    "            raise TypeError(\"input_dim must be of type int\")\n",
    "        \n",
    "        if not isinstance(hidden_dims, Iterable):\n",
    "            raise TypeError(\"hidden_dims must be an Iterable\")\n",
    "        if len(hidden_dims) == 0:\n",
    "            raise ValueError(\"hidden_dims must not be empty\")\n",
    "        if not all(isinstance(hidden_dim, int) for hidden_dim in hidden_dims):\n",
    "            raise TypeError(\"hidden_dims must only contain integers\")\n",
    "        \n",
    "        if not isinstance(output_dim, int):\n",
    "            raise TypeError(\"output_dim must be of type int\")\n",
    "            \n",
    "#         if not (final_activation is None or isinstance(final_activation, str)):\n",
    "#             raise TypeError(\"final_activation must be of type str or None\")            \n",
    "        \n",
    "        if not (isinstance(dropout, float) or isinstance(dropout, Iterable)):\n",
    "            raise TypeError(\"dropout must be either of type float or Iterable\")\n",
    "        if isinstance(dropout, float):\n",
    "            if not 0 <= dropout <= 1:\n",
    "                raise ValueError(\"dropout probability must be between 0 and 1\")\n",
    "        if isinstance(dropout, Iterable):\n",
    "            for item in dropout:\n",
    "                if not isinstance(value, float):\n",
    "                    raise TypeError(\"dropout list must only contain floats\")\n",
    "                if not 0 <= value <= 1:\n",
    "                    raise ValueError(\"Each element in the dropout list must be between 0 and 1\")\n",
    "            if len(dropout) != len(hidden_dims):\n",
    "                raise ValueError(\"hidden_dims and dropout must be of same size\")        \n",
    "        \n",
    "        if not isinstance(graph_norm, bool):\n",
    "            raise TypeError(\"graph_norm must be of type bool\")  \n",
    "        \n",
    "        \n",
    "        self.input_dim = input_dim\n",
    "        self.hidden_dims = hidden_dims\n",
    "        self.output_dim = output_dim\n",
    "#         self.final_activation = final_activation\n",
    "        self.dropout_probabilities = [dropout]*len(hidden_dims) if isinstance(dropout, float) else dropout\n",
    "        self.graph_norm = graph_norm\n",
    "        \n",
    "        \n",
    "        # Initialise GCNConv Layers\n",
    "        self.conv_layers = nn.ModuleList()\n",
    "        self.conv_layers.append(GCNConv(input_dim, hidden_dims[0]))\n",
    "            \n",
    "        for i in range(len(hidden_dims) - 1):\n",
    "            hidden_layer = GCNConv(hidden_dims[i], hidden_dims[i+1])\n",
    "            self.conv_layers.append(hidden_layer)\n",
    "        \n",
    "        \n",
    "        # Initialise Graph Norm Layers\n",
    "        if graph_norm:\n",
    "            self.gn_layers = nn.ModuleList()\n",
    "            for hidden_dim in hidden_dims:\n",
    "                gn_layer = GraphNorm(hidden_dim)\n",
    "                self.gn_layers.append(gn_layer)\n",
    "            \n",
    "        # Initialise Fully Connected Layer\n",
    "        self.fc = nn.Linear(hidden_dims[-1], output_dim)\n",
    "        \n",
    "        # Apply Xavier initialization to fc\n",
    "        init.xavier_uniform_(self.fc.weight)\n",
    "        init.zeros_(self.fc.bias)\n",
    "        \n",
    "        self.fc1 = nn.Linear(hidden_dims[-1], 128)\n",
    "        self.fc2 = nn.Linear(128, output_dim)\n",
    "        \n",
    "        \n",
    "        \n",
    "          \n",
    "        \n",
    "    def forward(self, x, edge_index, batch):\n",
    "\n",
    "        for i, conv_layer in enumerate(self.conv_layers):\n",
    "            x = conv_layer(x, edge_index)\n",
    "            if self.graph_norm:\n",
    "                x = self.gn_layers[i](x, batch)\n",
    "#             x = F.relu(x)\n",
    "            x = F.leaky_relu(x, 0.01)\n",
    "            x = F.dropout(x, p=self.dropout_probabilities[i], training=self.training)\n",
    "        \n",
    "        x = global_mean_pool(x, batch)\n",
    "        x = self.fc(x)\n",
    "        \n",
    "#         x = self.fc1(x)\n",
    "#         x = self.fc2(x)\n",
    "        \n",
    "        \n",
    "#         if self.final_activation is None:\n",
    "#             pass\n",
    "#         if self.final_activation=='sigmoid':\n",
    "#             x = F.sigmoid(x)\n",
    "#         elif self.final_activation=='softmax':\n",
    "#             x = F.softmax(x, dim=-1)\n",
    "#         else:\n",
    "#             raise NotImplementedError(f'\"{self.final_activation}\" is not supported as a final activation function.')\n",
    "        \n",
    "        return x\n",
    "    \n",
    "\n",
    "\n",
    "# gcn = GCN(input_dim=3, hidden_dims=[58], graph_norm=True)\n",
    "# gcn\n",
    "\n",
    "# class GAT(nn.Module):\n",
    "\n",
    "#     def __init__(self, in_neurons, hid_layers, neurons, heads):\n",
    "#         self.super(GAT).__init__()\n",
    "\n",
    "#         self.hid_layers = hid_layers\n",
    "#         self.layers = nn.ModuleList()\n",
    "#         self.heads = heads\n",
    "#         self.layers.append(GATConv(in_neurons, neurons, heads=self.heads))\n",
    "\n",
    "#         for i in range(1, hid_layers):\n",
    "#             gat_conv_layer = GATConv(neurons*self.heads, neurons, heads=self.heads)\n",
    "#             self.layers.append(gat_conv_layer)\n",
    "\n",
    "#         self.fc = nn.Linear(self.heads*neurons, 1)\n",
    "\n",
    "#     def forward(self, x, edge_index, batch):\n",
    "\n",
    "#         for layer in self.layers:\n",
    "#             x = layer(x, edge_index)\n",
    "#             x = F.relu(x)\n",
    "#             x = F.dropout(x, p=0.2, training=self.training)\n",
    "\n",
    "#         x = global_mean_pool(x, batch)\n",
    "#         x = self.fc(x)\n",
    "#         x = F.sigmoid(x)\n",
    "\n",
    "#         return x"
   ]
  },
  {
   "cell_type": "markdown",
   "metadata": {
    "id": "-31fItxDie3G"
   },
   "source": [
    "### Create Dataloaders"
   ]
  },
  {
   "cell_type": "markdown",
   "metadata": {
    "id": "ecwIUt8hijWG"
   },
   "source": [
    "### Select loss function and optimizer"
   ]
  },
  {
   "cell_type": "code",
   "execution_count": 101,
   "metadata": {},
   "outputs": [],
   "source": [
    "from tqdm import tqdm\n",
    "\n",
    "# Train function\n",
    "def train(epoch, n_epochs, loader, model, loss_fn, optimizer, device):\n",
    "    \n",
    "    running_loss = 0\n",
    "    total_samples = 0\n",
    "    tqdm_loader = tqdm(loader, desc=f'Epoch {epoch}/{n_epochs}')\n",
    "    \n",
    "    model.train()\n",
    "    for _, data in enumerate(tqdm_loader):\n",
    "        \n",
    "        data = data.to(device)\n",
    "        \n",
    "        optimizer.zero_grad()\n",
    "\n",
    "        outputs = model(x=data.x, edge_index=data.edge_index, batch=data.batch).squeeze(-1)\n",
    "        \n",
    "        epsilon = 0.2\n",
    "        smoothed_labels = data.y.clone().float()\n",
    "        smoothed_labels[data.y == 0] = (1 - epsilon) * data.y[data.y == 0] + epsilon / 2\n",
    "        smoothed_labels[data.y == 1] = (1 - epsilon) * data.y[data.y == 1] + epsilon / 2\n",
    " \n",
    "        loss = loss_fn(outputs.float(), smoothed_labels)\n",
    "        \n",
    "        \n",
    "\n",
    "        running_loss += loss.item() * data.y.size(0)\n",
    "        total_samples += data.y.size(0)\n",
    "        \n",
    "        loss.backward()\n",
    "        optimizer.step()\n",
    "        \n",
    "        # Update tqdm description with additional information\n",
    "        tqdm_loader.set_postfix(loss=running_loss/total_samples)\n",
    "        \n",
    "    avg_loss = running_loss / len(loader.dataset)\n",
    "    \n",
    "    tqdm_loader.set_postfix(loss=running_loss)\n",
    "    tqdm_loader.close()\n",
    "            \n",
    "    return avg_loss\n",
    "\n",
    "\n",
    "# train_loss = train(epoch, n_epochs, train_loader, model, loss_fn, optimizer, device)\n",
    "    "
   ]
  },
  {
   "cell_type": "code",
   "execution_count": 85,
   "metadata": {},
   "outputs": [],
   "source": [
    "import torch.nn.functional as F\n",
    "import sklearn.metrics as metrics\n",
    "\n",
    "def test(loader, model, loss_fn, device, decision_threshold=0.5):\n",
    "    \n",
    "    running_loss = 0\n",
    "    total_samples = 0\n",
    "    \n",
    "    all_preds = []\n",
    "    all_probs = []\n",
    "    all_labels = []\n",
    "    \n",
    "    model.eval()\n",
    "    with torch.no_grad():\n",
    "        for _, data in enumerate(loader):\n",
    "        \n",
    "            data = data.to(device)\n",
    "            \n",
    "            outputs = model(x=data.x, edge_index=data.edge_index, batch=data.batch).squeeze(-1)\n",
    "            \n",
    "            probs = F.sigmoid(outputs)\n",
    "            preds = (probs > decision_threshold).int()\n",
    "            \n",
    "            all_probs.extend(probs.tolist())\n",
    "            all_preds.extend(preds.tolist())\n",
    "            all_labels.extend(data.y.tolist())\n",
    "            \n",
    "            loss = loss_fn(outputs.float(), data.y.float())\n",
    "            \n",
    "            running_loss += loss.item() * data.y.size(0)\n",
    "            total_samples += data.y.size(0)\n",
    "        \n",
    "        avg_loss = running_loss / len(loader.dataset)\n",
    "    \n",
    "    metrics_dict = compute_metrics(all_labels, all_preds)\n",
    "    metrics_dict['roc_auc'] = metrics.roc_auc_score(all_labels, all_probs)\n",
    "    conf_mat = metrics.confusion_matrix(all_labels, all_preds).ravel()\n",
    "#     tn, fp, fn, tp = metrics.confusion_matrix(all_labels, all_preds).ravel()\n",
    "#     conf_mat = {'tn': tn, 'fp': fp, 'fn': fn, 'tp': tp}\n",
    "    \n",
    "        \n",
    "    return avg_loss, metrics_dict, conf_mat\n",
    "                                                                         \n",
    "\n",
    "\n",
    "def compute_metrics(y_true, y_pred):\n",
    "    \n",
    "    accuracy = metrics.accuracy_score(y_true, y_pred)\n",
    "    balanced_accuracy = metrics.balanced_accuracy_score(y_true, y_pred)\n",
    "    precision = metrics.precision_score(y_true, y_pred, zero_division=0)\n",
    "    recall = metrics.recall_score(y_true, y_pred)\n",
    "    f1 = metrics.f1_score(y_true, y_pred)\n",
    "    mcc = metrics.matthews_corrcoef(y_true, y_pred)\n",
    "    \n",
    "    metrics_dict = {\n",
    "        'accuracy': accuracy,\n",
    "        'balanced_accuracy': balanced_accuracy,\n",
    "        'precision': precision,\n",
    "        'recall': recall,\n",
    "        'f1': f1,\n",
    "        'mcc': mcc\n",
    "    }\n",
    "    \n",
    "    return metrics_dict\n"
   ]
  },
  {
   "cell_type": "code",
   "execution_count": 103,
   "metadata": {},
   "outputs": [],
   "source": [
    "from torch_geometric.loader import DataLoader\n",
    "import random \n",
    "import numpy as np\n",
    "\n",
    "\n",
    "train_dataset = GraphDataset(X_train, y_train)\n",
    "val_dataset = GraphDataset(X_val, y_val)\n",
    "test_dataset = GraphDataset(X_test, y_test)\n",
    "\n",
    "\n",
    "kwargs = {'num_workers': 0, 'pin_memory': True} if cuda else {}\n",
    "\n",
    "train_loader = DataLoader(dataset=train_dataset, batch_size=2305, shuffle=True, **kwargs)\n",
    "val_loader = DataLoader(dataset=val_dataset, batch_size=256, shuffle=False, **kwargs)\n",
    "test_loader = DataLoader(dataset=test_dataset, batch_size=256, shuffle=False, **kwargs)\n"
   ]
  },
  {
   "cell_type": "code",
   "execution_count": 104,
   "metadata": {
    "scrolled": true
   },
   "outputs": [
    {
     "name": "stderr",
     "output_type": "stream",
     "text": [
      "Epoch 1/200: 100%|███████████████████████████████████████████████████████████| 1/1 [00:00<00:00,  2.68it/s, loss=0.914]\n"
     ]
    },
    {
     "name": "stdout",
     "output_type": "stream",
     "text": [
      "Train Loss: 0.9135 | Val Loss: 0.8829\n",
      "Accuracy: 0.6054\n",
      "F1: 0.5774\n"
     ]
    },
    {
     "name": "stderr",
     "output_type": "stream",
     "text": [
      "Epoch 2/200: 100%|███████████████████████████████████████████████████████████| 1/1 [00:00<00:00,  2.54it/s, loss=0.901]\n"
     ]
    },
    {
     "name": "stdout",
     "output_type": "stream",
     "text": [
      "Train Loss: 0.9006 | Val Loss: 0.8736\n",
      "Accuracy: 0.5882\n",
      "F1: 0.5922\n"
     ]
    },
    {
     "name": "stderr",
     "output_type": "stream",
     "text": [
      "Epoch 3/200: 100%|███████████████████████████████████████████████████████████| 1/1 [00:00<00:00,  2.53it/s, loss=0.889]\n"
     ]
    },
    {
     "name": "stdout",
     "output_type": "stream",
     "text": [
      "Train Loss: 0.8890 | Val Loss: 0.8646\n",
      "Accuracy: 0.5858\n",
      "F1: 0.5908\n"
     ]
    },
    {
     "name": "stderr",
     "output_type": "stream",
     "text": [
      "Epoch 4/200: 100%|████████████████████████████████████████████████████████████| 1/1 [00:00<00:00,  2.50it/s, loss=0.88]\n"
     ]
    },
    {
     "name": "stdout",
     "output_type": "stream",
     "text": [
      "Train Loss: 0.8803 | Val Loss: 0.8555\n",
      "Accuracy: 0.5907\n",
      "F1: 0.5835\n"
     ]
    },
    {
     "name": "stderr",
     "output_type": "stream",
     "text": [
      "Epoch 5/200: 100%|███████████████████████████████████████████████████████████| 1/1 [00:00<00:00,  2.53it/s, loss=0.871]\n"
     ]
    },
    {
     "name": "stdout",
     "output_type": "stream",
     "text": [
      "Train Loss: 0.8714 | Val Loss: 0.8462\n",
      "Accuracy: 0.6127\n",
      "F1: 0.5864\n"
     ]
    },
    {
     "name": "stderr",
     "output_type": "stream",
     "text": [
      "Epoch 6/200: 100%|███████████████████████████████████████████████████████████| 1/1 [00:00<00:00,  2.52it/s, loss=0.863]\n"
     ]
    },
    {
     "name": "stdout",
     "output_type": "stream",
     "text": [
      "Train Loss: 0.8629 | Val Loss: 0.8370\n",
      "Accuracy: 0.6201\n",
      "F1: 0.5799\n"
     ]
    },
    {
     "name": "stderr",
     "output_type": "stream",
     "text": [
      "Epoch 7/200: 100%|███████████████████████████████████████████████████████████| 1/1 [00:00<00:00,  2.50it/s, loss=0.856]\n"
     ]
    },
    {
     "name": "stdout",
     "output_type": "stream",
     "text": [
      "Train Loss: 0.8559 | Val Loss: 0.8283\n",
      "Accuracy: 0.6422\n",
      "F1: 0.5899\n"
     ]
    },
    {
     "name": "stderr",
     "output_type": "stream",
     "text": [
      "Epoch 8/200: 100%|████████████████████████████████████████████████████████████| 1/1 [00:00<00:00,  2.48it/s, loss=0.85]\n"
     ]
    },
    {
     "name": "stdout",
     "output_type": "stream",
     "text": [
      "Train Loss: 0.8496 | Val Loss: 0.8204\n",
      "Accuracy: 0.6520\n",
      "F1: 0.5943\n"
     ]
    },
    {
     "name": "stderr",
     "output_type": "stream",
     "text": [
      "Epoch 9/200: 100%|███████████████████████████████████████████████████████████| 1/1 [00:00<00:00,  2.51it/s, loss=0.844]\n"
     ]
    },
    {
     "name": "stdout",
     "output_type": "stream",
     "text": [
      "Train Loss: 0.8438 | Val Loss: 0.8134\n",
      "Accuracy: 0.6569\n",
      "F1: 0.5930\n"
     ]
    },
    {
     "name": "stderr",
     "output_type": "stream",
     "text": [
      "Epoch 10/200: 100%|██████████████████████████████████████████████████████████| 1/1 [00:00<00:00,  2.53it/s, loss=0.839]\n"
     ]
    },
    {
     "name": "stdout",
     "output_type": "stream",
     "text": [
      "Train Loss: 0.8390 | Val Loss: 0.8075\n",
      "Accuracy: 0.6593\n",
      "F1: 0.5900\n"
     ]
    },
    {
     "name": "stderr",
     "output_type": "stream",
     "text": [
      "Epoch 11/200: 100%|██████████████████████████████████████████████████████████| 1/1 [00:00<00:00,  2.55it/s, loss=0.834]\n"
     ]
    },
    {
     "name": "stdout",
     "output_type": "stream",
     "text": [
      "Train Loss: 0.8342 | Val Loss: 0.8025\n",
      "Accuracy: 0.6618\n",
      "F1: 0.5917\n"
     ]
    },
    {
     "name": "stderr",
     "output_type": "stream",
     "text": [
      "Epoch 12/200: 100%|███████████████████████████████████████████████████████████| 1/1 [00:00<00:00,  2.51it/s, loss=0.83]\n"
     ]
    },
    {
     "name": "stdout",
     "output_type": "stream",
     "text": [
      "Train Loss: 0.8298 | Val Loss: 0.7982\n",
      "Accuracy: 0.6593\n",
      "F1: 0.5900\n"
     ]
    },
    {
     "name": "stderr",
     "output_type": "stream",
     "text": [
      "Epoch 13/200: 100%|██████████████████████████████████████████████████████████| 1/1 [00:00<00:00,  2.53it/s, loss=0.826]\n"
     ]
    },
    {
     "name": "stdout",
     "output_type": "stream",
     "text": [
      "Train Loss: 0.8256 | Val Loss: 0.7945\n",
      "Accuracy: 0.6593\n",
      "F1: 0.5900\n"
     ]
    },
    {
     "name": "stderr",
     "output_type": "stream",
     "text": [
      "Epoch 14/200: 100%|██████████████████████████████████████████████████████████| 1/1 [00:00<00:00,  2.57it/s, loss=0.823]\n"
     ]
    },
    {
     "name": "stdout",
     "output_type": "stream",
     "text": [
      "Train Loss: 0.8227 | Val Loss: 0.7911\n",
      "Accuracy: 0.6593\n",
      "F1: 0.5948\n"
     ]
    },
    {
     "name": "stderr",
     "output_type": "stream",
     "text": [
      "Epoch 15/200: 100%|██████████████████████████████████████████████████████████| 1/1 [00:00<00:00,  2.51it/s, loss=0.819]\n"
     ]
    },
    {
     "name": "stdout",
     "output_type": "stream",
     "text": [
      "Train Loss: 0.8195 | Val Loss: 0.7875\n",
      "Accuracy: 0.6593\n",
      "F1: 0.5948\n"
     ]
    },
    {
     "name": "stderr",
     "output_type": "stream",
     "text": [
      "Epoch 16/200: 100%|██████████████████████████████████████████████████████████| 1/1 [00:00<00:00,  2.53it/s, loss=0.817]\n"
     ]
    },
    {
     "name": "stdout",
     "output_type": "stream",
     "text": [
      "Train Loss: 0.8173 | Val Loss: 0.7835\n",
      "Accuracy: 0.6593\n",
      "F1: 0.5924\n"
     ]
    },
    {
     "name": "stderr",
     "output_type": "stream",
     "text": [
      "Epoch 17/200: 100%|██████████████████████████████████████████████████████████| 1/1 [00:00<00:00,  2.52it/s, loss=0.813]\n"
     ]
    },
    {
     "name": "stdout",
     "output_type": "stream",
     "text": [
      "Train Loss: 0.8132 | Val Loss: 0.7788\n",
      "Accuracy: 0.6618\n",
      "F1: 0.5917\n"
     ]
    },
    {
     "name": "stderr",
     "output_type": "stream",
     "text": [
      "Epoch 18/200: 100%|██████████████████████████████████████████████████████████| 1/1 [00:00<00:00,  2.42it/s, loss=0.811]\n"
     ]
    },
    {
     "name": "stdout",
     "output_type": "stream",
     "text": [
      "Train Loss: 0.8113 | Val Loss: 0.7736\n",
      "Accuracy: 0.6642\n",
      "F1: 0.5910\n"
     ]
    },
    {
     "name": "stderr",
     "output_type": "stream",
     "text": [
      "Epoch 19/200: 100%|██████████████████████████████████████████████████████████| 1/1 [00:00<00:00,  2.47it/s, loss=0.808]\n"
     ]
    },
    {
     "name": "stdout",
     "output_type": "stream",
     "text": [
      "Train Loss: 0.8081 | Val Loss: 0.7682\n",
      "Accuracy: 0.6691\n",
      "F1: 0.5946\n"
     ]
    },
    {
     "name": "stderr",
     "output_type": "stream",
     "text": [
      "Epoch 20/200: 100%|██████████████████████████████████████████████████████████| 1/1 [00:00<00:00,  2.50it/s, loss=0.804]\n"
     ]
    },
    {
     "name": "stdout",
     "output_type": "stream",
     "text": [
      "Train Loss: 0.8042 | Val Loss: 0.7627\n",
      "Accuracy: 0.6765\n",
      "F1: 0.6000\n"
     ]
    },
    {
     "name": "stderr",
     "output_type": "stream",
     "text": [
      "Epoch 21/200: 100%|██████████████████████████████████████████████████████████| 1/1 [00:00<00:00,  2.50it/s, loss=0.801]\n"
     ]
    },
    {
     "name": "stdout",
     "output_type": "stream",
     "text": [
      "Train Loss: 0.8007 | Val Loss: 0.7573\n",
      "Accuracy: 0.6838\n",
      "F1: 0.6055\n"
     ]
    },
    {
     "name": "stderr",
     "output_type": "stream",
     "text": [
      "Epoch 22/200: 100%|██████████████████████████████████████████████████████████| 1/1 [00:00<00:00,  2.51it/s, loss=0.797]\n"
     ]
    },
    {
     "name": "stdout",
     "output_type": "stream",
     "text": [
      "Train Loss: 0.7973 | Val Loss: 0.7521\n",
      "Accuracy: 0.6887\n",
      "F1: 0.6092\n"
     ]
    },
    {
     "name": "stderr",
     "output_type": "stream",
     "text": [
      "Epoch 23/200: 100%|██████████████████████████████████████████████████████████| 1/1 [00:00<00:00,  2.53it/s, loss=0.794]\n"
     ]
    },
    {
     "name": "stdout",
     "output_type": "stream",
     "text": [
      "Train Loss: 0.7938 | Val Loss: 0.7471\n",
      "Accuracy: 0.6887\n",
      "F1: 0.6116\n"
     ]
    },
    {
     "name": "stderr",
     "output_type": "stream",
     "text": [
      "Epoch 24/200: 100%|██████████████████████████████████████████████████████████| 1/1 [00:00<00:00,  1.75it/s, loss=0.792]\n"
     ]
    },
    {
     "name": "stdout",
     "output_type": "stream",
     "text": [
      "Train Loss: 0.7915 | Val Loss: 0.7423\n",
      "Accuracy: 0.7010\n",
      "F1: 0.6303\n"
     ]
    },
    {
     "name": "stderr",
     "output_type": "stream",
     "text": [
      "Epoch 25/200: 100%|██████████████████████████████████████████████████████████| 1/1 [00:00<00:00,  2.55it/s, loss=0.788]\n"
     ]
    },
    {
     "name": "stdout",
     "output_type": "stream",
     "text": [
      "Train Loss: 0.7882 | Val Loss: 0.7373\n",
      "Accuracy: 0.7132\n",
      "F1: 0.6465\n"
     ]
    },
    {
     "name": "stderr",
     "output_type": "stream",
     "text": [
      "Epoch 26/200: 100%|██████████████████████████████████████████████████████████| 1/1 [00:00<00:00,  2.51it/s, loss=0.785]\n"
     ]
    },
    {
     "name": "stdout",
     "output_type": "stream",
     "text": [
      "Train Loss: 0.7850 | Val Loss: 0.7319\n",
      "Accuracy: 0.7157\n",
      "F1: 0.6527\n"
     ]
    },
    {
     "name": "stderr",
     "output_type": "stream",
     "text": [
      "Epoch 27/200: 100%|██████████████████████████████████████████████████████████| 1/1 [00:00<00:00,  2.87it/s, loss=0.781]\n"
     ]
    },
    {
     "name": "stdout",
     "output_type": "stream",
     "text": [
      "Train Loss: 0.7813 | Val Loss: 0.7261\n",
      "Accuracy: 0.7255\n",
      "F1: 0.6667\n"
     ]
    },
    {
     "name": "stderr",
     "output_type": "stream",
     "text": [
      "Epoch 28/200: 100%|███████████████████████████████████████████████████████████| 1/1 [00:00<00:00,  2.36it/s, loss=0.78]\n"
     ]
    },
    {
     "name": "stdout",
     "output_type": "stream",
     "text": [
      "Train Loss: 0.7803 | Val Loss: 0.7203\n",
      "Accuracy: 0.7377\n",
      "F1: 0.6787\n"
     ]
    },
    {
     "name": "stderr",
     "output_type": "stream",
     "text": [
      "Epoch 29/200: 100%|██████████████████████████████████████████████████████████| 1/1 [00:00<00:00,  2.49it/s, loss=0.776]\n"
     ]
    },
    {
     "name": "stdout",
     "output_type": "stream",
     "text": [
      "Train Loss: 0.7759 | Val Loss: 0.7144\n",
      "Accuracy: 0.7377\n",
      "F1: 0.6767\n"
     ]
    },
    {
     "name": "stderr",
     "output_type": "stream",
     "text": [
      "Epoch 30/200: 100%|██████████████████████████████████████████████████████████| 1/1 [00:00<00:00,  2.51it/s, loss=0.774]\n"
     ]
    },
    {
     "name": "stdout",
     "output_type": "stream",
     "text": [
      "Train Loss: 0.7741 | Val Loss: 0.7089\n",
      "Accuracy: 0.7328\n",
      "F1: 0.6707\n"
     ]
    },
    {
     "name": "stderr",
     "output_type": "stream",
     "text": [
      "Epoch 31/200: 100%|██████████████████████████████████████████████████████████| 1/1 [00:00<00:00,  2.54it/s, loss=0.771]\n"
     ]
    },
    {
     "name": "stdout",
     "output_type": "stream",
     "text": [
      "Train Loss: 0.7708 | Val Loss: 0.7034\n",
      "Accuracy: 0.7328\n",
      "F1: 0.6727\n"
     ]
    },
    {
     "name": "stderr",
     "output_type": "stream",
     "text": [
      "Epoch 32/200: 100%|██████████████████████████████████████████████████████████| 1/1 [00:00<00:00,  2.46it/s, loss=0.769]\n"
     ]
    },
    {
     "name": "stdout",
     "output_type": "stream",
     "text": [
      "Train Loss: 0.7692 | Val Loss: 0.6980\n",
      "Accuracy: 0.7353\n",
      "F1: 0.6786\n"
     ]
    },
    {
     "name": "stderr",
     "output_type": "stream",
     "text": [
      "Epoch 33/200: 100%|██████████████████████████████████████████████████████████| 1/1 [00:00<00:00,  2.86it/s, loss=0.768]\n"
     ]
    },
    {
     "name": "stdout",
     "output_type": "stream",
     "text": [
      "Train Loss: 0.7685 | Val Loss: 0.6924\n",
      "Accuracy: 0.7328\n",
      "F1: 0.6766\n"
     ]
    },
    {
     "name": "stderr",
     "output_type": "stream",
     "text": [
      "Epoch 34/200: 100%|██████████████████████████████████████████████████████████| 1/1 [00:00<00:00,  2.66it/s, loss=0.763]\n"
     ]
    },
    {
     "name": "stdout",
     "output_type": "stream",
     "text": [
      "Train Loss: 0.7631 | Val Loss: 0.6863\n",
      "Accuracy: 0.7328\n",
      "F1: 0.6766\n"
     ]
    },
    {
     "name": "stderr",
     "output_type": "stream",
     "text": [
      "Epoch 35/200: 100%|██████████████████████████████████████████████████████████| 1/1 [00:00<00:00,  2.64it/s, loss=0.762]\n"
     ]
    },
    {
     "name": "stdout",
     "output_type": "stream",
     "text": [
      "Train Loss: 0.7621 | Val Loss: 0.6802\n",
      "Accuracy: 0.7328\n",
      "F1: 0.6746\n"
     ]
    },
    {
     "name": "stderr",
     "output_type": "stream",
     "text": [
      "Epoch 36/200: 100%|██████████████████████████████████████████████████████████| 1/1 [00:00<00:00,  2.69it/s, loss=0.762]\n"
     ]
    },
    {
     "name": "stdout",
     "output_type": "stream",
     "text": [
      "Train Loss: 0.7617 | Val Loss: 0.6745\n",
      "Accuracy: 0.7328\n",
      "F1: 0.6746\n"
     ]
    },
    {
     "name": "stderr",
     "output_type": "stream",
     "text": [
      "Epoch 37/200: 100%|██████████████████████████████████████████████████████████| 1/1 [00:00<00:00,  2.37it/s, loss=0.761]\n"
     ]
    },
    {
     "name": "stdout",
     "output_type": "stream",
     "text": [
      "Train Loss: 0.7612 | Val Loss: 0.6693\n",
      "Accuracy: 0.7328\n",
      "F1: 0.6746\n"
     ]
    },
    {
     "name": "stderr",
     "output_type": "stream",
     "text": [
      "Epoch 38/200: 100%|██████████████████████████████████████████████████████████| 1/1 [00:00<00:00,  2.46it/s, loss=0.758]\n"
     ]
    },
    {
     "name": "stdout",
     "output_type": "stream",
     "text": [
      "Train Loss: 0.7580 | Val Loss: 0.6646\n",
      "Accuracy: 0.7377\n",
      "F1: 0.6825\n"
     ]
    },
    {
     "name": "stderr",
     "output_type": "stream",
     "text": [
      "Epoch 39/200: 100%|██████████████████████████████████████████████████████████| 1/1 [00:00<00:00,  2.52it/s, loss=0.757]\n"
     ]
    },
    {
     "name": "stdout",
     "output_type": "stream",
     "text": [
      "Train Loss: 0.7574 | Val Loss: 0.6603\n",
      "Accuracy: 0.7402\n",
      "F1: 0.6864\n"
     ]
    },
    {
     "name": "stderr",
     "output_type": "stream",
     "text": [
      "Epoch 40/200: 100%|██████████████████████████████████████████████████████████| 1/1 [00:00<00:00,  2.49it/s, loss=0.757]\n"
     ]
    },
    {
     "name": "stdout",
     "output_type": "stream",
     "text": [
      "Train Loss: 0.7569 | Val Loss: 0.6561\n",
      "Accuracy: 0.7377\n",
      "F1: 0.6844\n"
     ]
    },
    {
     "name": "stderr",
     "output_type": "stream",
     "text": [
      "Epoch 41/200: 100%|██████████████████████████████████████████████████████████| 1/1 [00:00<00:00,  2.50it/s, loss=0.754]\n"
     ]
    },
    {
     "name": "stdout",
     "output_type": "stream",
     "text": [
      "Train Loss: 0.7541 | Val Loss: 0.6519\n",
      "Accuracy: 0.7451\n",
      "F1: 0.6941\n"
     ]
    },
    {
     "name": "stderr",
     "output_type": "stream",
     "text": [
      "Epoch 42/200: 100%|██████████████████████████████████████████████████████████| 1/1 [00:00<00:00,  2.47it/s, loss=0.755]\n"
     ]
    },
    {
     "name": "stdout",
     "output_type": "stream",
     "text": [
      "Train Loss: 0.7552 | Val Loss: 0.6479\n",
      "Accuracy: 0.7451\n",
      "F1: 0.6941\n"
     ]
    },
    {
     "name": "stderr",
     "output_type": "stream",
     "text": [
      "Epoch 43/200: 100%|██████████████████████████████████████████████████████████| 1/1 [00:00<00:00,  2.47it/s, loss=0.751]\n"
     ]
    },
    {
     "name": "stdout",
     "output_type": "stream",
     "text": [
      "Train Loss: 0.7513 | Val Loss: 0.6444\n",
      "Accuracy: 0.7451\n",
      "F1: 0.6941\n"
     ]
    },
    {
     "name": "stderr",
     "output_type": "stream",
     "text": [
      "Epoch 44/200: 100%|███████████████████████████████████████████████████████████| 1/1 [00:00<00:00,  2.46it/s, loss=0.75]\n"
     ]
    },
    {
     "name": "stdout",
     "output_type": "stream",
     "text": [
      "Train Loss: 0.7496 | Val Loss: 0.6416\n",
      "Accuracy: 0.7475\n",
      "F1: 0.6962\n"
     ]
    },
    {
     "name": "stderr",
     "output_type": "stream",
     "text": [
      "Epoch 45/200: 100%|██████████████████████████████████████████████████████████| 1/1 [00:00<00:00,  2.51it/s, loss=0.751]\n"
     ]
    },
    {
     "name": "stdout",
     "output_type": "stream",
     "text": [
      "Train Loss: 0.7510 | Val Loss: 0.6391\n",
      "Accuracy: 0.7549\n",
      "F1: 0.7059\n"
     ]
    },
    {
     "name": "stderr",
     "output_type": "stream",
     "text": [
      "Epoch 46/200: 100%|███████████████████████████████████████████████████████████| 1/1 [00:00<00:00,  2.53it/s, loss=0.75]\n"
     ]
    },
    {
     "name": "stdout",
     "output_type": "stream",
     "text": [
      "Train Loss: 0.7497 | Val Loss: 0.6368\n",
      "Accuracy: 0.7549\n",
      "F1: 0.7059\n"
     ]
    },
    {
     "name": "stderr",
     "output_type": "stream",
     "text": [
      "Epoch 47/200: 100%|██████████████████████████████████████████████████████████| 1/1 [00:00<00:00,  2.47it/s, loss=0.748]\n"
     ]
    },
    {
     "name": "stdout",
     "output_type": "stream",
     "text": [
      "Train Loss: 0.7479 | Val Loss: 0.6343\n",
      "Accuracy: 0.7598\n",
      "F1: 0.7101\n"
     ]
    },
    {
     "name": "stderr",
     "output_type": "stream",
     "text": [
      "Epoch 48/200: 100%|██████████████████████████████████████████████████████████| 1/1 [00:00<00:00,  2.47it/s, loss=0.747]\n"
     ]
    },
    {
     "name": "stdout",
     "output_type": "stream",
     "text": [
      "Train Loss: 0.7473 | Val Loss: 0.6315\n",
      "Accuracy: 0.7598\n",
      "F1: 0.7083\n"
     ]
    },
    {
     "name": "stderr",
     "output_type": "stream",
     "text": [
      "Epoch 49/200: 100%|██████████████████████████████████████████████████████████| 1/1 [00:00<00:00,  2.50it/s, loss=0.748]\n"
     ]
    },
    {
     "name": "stdout",
     "output_type": "stream",
     "text": [
      "Train Loss: 0.7477 | Val Loss: 0.6292\n",
      "Accuracy: 0.7623\n",
      "F1: 0.7104\n"
     ]
    },
    {
     "name": "stderr",
     "output_type": "stream",
     "text": [
      "Epoch 50/200: 100%|██████████████████████████████████████████████████████████| 1/1 [00:00<00:00,  2.50it/s, loss=0.745]\n"
     ]
    },
    {
     "name": "stdout",
     "output_type": "stream",
     "text": [
      "Train Loss: 0.7449 | Val Loss: 0.6277\n",
      "Accuracy: 0.7672\n",
      "F1: 0.7181\n"
     ]
    },
    {
     "name": "stderr",
     "output_type": "stream",
     "text": [
      "Epoch 51/200: 100%|██████████████████████████████████████████████████████████| 1/1 [00:00<00:00,  2.51it/s, loss=0.745]\n"
     ]
    },
    {
     "name": "stdout",
     "output_type": "stream",
     "text": [
      "Train Loss: 0.7453 | Val Loss: 0.6261\n",
      "Accuracy: 0.7696\n",
      "F1: 0.7219\n"
     ]
    },
    {
     "name": "stderr",
     "output_type": "stream",
     "text": [
      "Epoch 52/200: 100%|██████████████████████████████████████████████████████████| 1/1 [00:00<00:00,  2.50it/s, loss=0.744]\n"
     ]
    },
    {
     "name": "stdout",
     "output_type": "stream",
     "text": [
      "Train Loss: 0.7437 | Val Loss: 0.6241\n",
      "Accuracy: 0.7696\n",
      "F1: 0.7202\n"
     ]
    },
    {
     "name": "stderr",
     "output_type": "stream",
     "text": [
      "Epoch 53/200: 100%|██████████████████████████████████████████████████████████| 1/1 [00:00<00:00,  2.55it/s, loss=0.744]\n"
     ]
    },
    {
     "name": "stdout",
     "output_type": "stream",
     "text": [
      "Train Loss: 0.7438 | Val Loss: 0.6226\n",
      "Accuracy: 0.7721\n",
      "F1: 0.7240\n"
     ]
    },
    {
     "name": "stderr",
     "output_type": "stream",
     "text": [
      "Epoch 54/200: 100%|██████████████████████████████████████████████████████████| 1/1 [00:00<00:00,  2.51it/s, loss=0.741]\n"
     ]
    },
    {
     "name": "stdout",
     "output_type": "stream",
     "text": [
      "Train Loss: 0.7412 | Val Loss: 0.6214\n",
      "Accuracy: 0.7721\n",
      "F1: 0.7240\n"
     ]
    },
    {
     "name": "stderr",
     "output_type": "stream",
     "text": [
      "Epoch 55/200: 100%|██████████████████████████████████████████████████████████| 1/1 [00:00<00:00,  2.48it/s, loss=0.742]\n"
     ]
    },
    {
     "name": "stdout",
     "output_type": "stream",
     "text": [
      "Train Loss: 0.7421 | Val Loss: 0.6206\n",
      "Accuracy: 0.7745\n",
      "F1: 0.7262\n"
     ]
    },
    {
     "name": "stderr",
     "output_type": "stream",
     "text": [
      "Epoch 56/200: 100%|██████████████████████████████████████████████████████████| 1/1 [00:00<00:00,  2.50it/s, loss=0.742]\n"
     ]
    },
    {
     "name": "stdout",
     "output_type": "stream",
     "text": [
      "Train Loss: 0.7419 | Val Loss: 0.6199\n",
      "Accuracy: 0.7770\n",
      "F1: 0.7300\n"
     ]
    },
    {
     "name": "stderr",
     "output_type": "stream",
     "text": [
      "Epoch 57/200: 100%|██████████████████████████████████████████████████████████| 1/1 [00:00<00:00,  2.51it/s, loss=0.736]\n"
     ]
    },
    {
     "name": "stdout",
     "output_type": "stream",
     "text": [
      "Train Loss: 0.7364 | Val Loss: 0.6190\n",
      "Accuracy: 0.7770\n",
      "F1: 0.7300\n"
     ]
    },
    {
     "name": "stderr",
     "output_type": "stream",
     "text": [
      "Epoch 58/200: 100%|██████████████████████████████████████████████████████████| 1/1 [00:00<00:00,  2.50it/s, loss=0.741]\n"
     ]
    },
    {
     "name": "stdout",
     "output_type": "stream",
     "text": [
      "Train Loss: 0.7411 | Val Loss: 0.6179\n",
      "Accuracy: 0.7794\n",
      "F1: 0.7337\n"
     ]
    },
    {
     "name": "stderr",
     "output_type": "stream",
     "text": [
      "Epoch 59/200: 100%|██████████████████████████████████████████████████████████| 1/1 [00:00<00:00,  2.51it/s, loss=0.738]\n"
     ]
    },
    {
     "name": "stdout",
     "output_type": "stream",
     "text": [
      "Train Loss: 0.7383 | Val Loss: 0.6170\n",
      "Accuracy: 0.7843\n",
      "F1: 0.7381\n"
     ]
    },
    {
     "name": "stderr",
     "output_type": "stream",
     "text": [
      "Epoch 60/200: 100%|██████████████████████████████████████████████████████████| 1/1 [00:00<00:00,  2.46it/s, loss=0.736]\n"
     ]
    },
    {
     "name": "stdout",
     "output_type": "stream",
     "text": [
      "Train Loss: 0.7364 | Val Loss: 0.6163\n",
      "Accuracy: 0.7843\n",
      "F1: 0.7381\n"
     ]
    },
    {
     "name": "stderr",
     "output_type": "stream",
     "text": [
      "Epoch 61/200: 100%|██████████████████████████████████████████████████████████| 1/1 [00:00<00:00,  2.50it/s, loss=0.735]\n"
     ]
    },
    {
     "name": "stdout",
     "output_type": "stream",
     "text": [
      "Train Loss: 0.7346 | Val Loss: 0.6158\n",
      "Accuracy: 0.7868\n",
      "F1: 0.7418\n"
     ]
    },
    {
     "name": "stderr",
     "output_type": "stream",
     "text": [
      "Epoch 62/200: 100%|██████████████████████████████████████████████████████████| 1/1 [00:00<00:00,  2.48it/s, loss=0.734]\n"
     ]
    },
    {
     "name": "stdout",
     "output_type": "stream",
     "text": [
      "Train Loss: 0.7335 | Val Loss: 0.6150\n",
      "Accuracy: 0.7868\n",
      "F1: 0.7418\n"
     ]
    },
    {
     "name": "stderr",
     "output_type": "stream",
     "text": [
      "Epoch 63/200: 100%|██████████████████████████████████████████████████████████| 1/1 [00:00<00:00,  2.43it/s, loss=0.734]\n"
     ]
    },
    {
     "name": "stdout",
     "output_type": "stream",
     "text": [
      "Train Loss: 0.7341 | Val Loss: 0.6140\n",
      "Accuracy: 0.7917\n",
      "F1: 0.7463\n"
     ]
    },
    {
     "name": "stderr",
     "output_type": "stream",
     "text": [
      "Epoch 64/200: 100%|██████████████████████████████████████████████████████████| 1/1 [00:00<00:00,  2.54it/s, loss=0.733]\n"
     ]
    },
    {
     "name": "stdout",
     "output_type": "stream",
     "text": [
      "Train Loss: 0.7329 | Val Loss: 0.6130\n",
      "Accuracy: 0.7917\n",
      "F1: 0.7463\n"
     ]
    },
    {
     "name": "stderr",
     "output_type": "stream",
     "text": [
      "Epoch 65/200: 100%|██████████████████████████████████████████████████████████| 1/1 [00:00<00:00,  2.48it/s, loss=0.734]\n"
     ]
    },
    {
     "name": "stdout",
     "output_type": "stream",
     "text": [
      "Train Loss: 0.7343 | Val Loss: 0.6125\n",
      "Accuracy: 0.7917\n",
      "F1: 0.7478\n"
     ]
    },
    {
     "name": "stderr",
     "output_type": "stream",
     "text": [
      "Epoch 66/200: 100%|██████████████████████████████████████████████████████████| 1/1 [00:00<00:00,  2.49it/s, loss=0.734]\n"
     ]
    },
    {
     "name": "stdout",
     "output_type": "stream",
     "text": [
      "Train Loss: 0.7339 | Val Loss: 0.6116\n",
      "Accuracy: 0.7892\n",
      "F1: 0.7456\n"
     ]
    },
    {
     "name": "stderr",
     "output_type": "stream",
     "text": [
      "Epoch 67/200: 100%|███████████████████████████████████████████████████████████| 1/1 [00:00<00:00,  2.89it/s, loss=0.73]\n"
     ]
    },
    {
     "name": "stdout",
     "output_type": "stream",
     "text": [
      "Train Loss: 0.7303 | Val Loss: 0.6101\n",
      "Accuracy: 0.7966\n",
      "F1: 0.7508\n"
     ]
    },
    {
     "name": "stderr",
     "output_type": "stream",
     "text": [
      "Epoch 68/200: 100%|██████████████████████████████████████████████████████████| 1/1 [00:00<00:00,  2.32it/s, loss=0.731]\n"
     ]
    },
    {
     "name": "stdout",
     "output_type": "stream",
     "text": [
      "Train Loss: 0.7307 | Val Loss: 0.6091\n",
      "Accuracy: 0.8039\n",
      "F1: 0.7561\n"
     ]
    },
    {
     "name": "stderr",
     "output_type": "stream",
     "text": [
      "Epoch 69/200: 100%|███████████████████████████████████████████████████████████| 1/1 [00:00<00:00,  2.48it/s, loss=0.73]\n"
     ]
    },
    {
     "name": "stdout",
     "output_type": "stream",
     "text": [
      "Train Loss: 0.7298 | Val Loss: 0.6090\n",
      "Accuracy: 0.7966\n",
      "F1: 0.7522\n"
     ]
    },
    {
     "name": "stderr",
     "output_type": "stream",
     "text": [
      "Epoch 70/200: 100%|██████████████████████████████████████████████████████████| 1/1 [00:00<00:00,  2.46it/s, loss=0.728]\n"
     ]
    },
    {
     "name": "stdout",
     "output_type": "stream",
     "text": [
      "Train Loss: 0.7275 | Val Loss: 0.6085\n",
      "Accuracy: 0.7892\n",
      "F1: 0.7440\n"
     ]
    },
    {
     "name": "stderr",
     "output_type": "stream",
     "text": [
      "Epoch 71/200: 100%|██████████████████████████████████████████████████████████| 1/1 [00:00<00:00,  2.50it/s, loss=0.727]\n"
     ]
    },
    {
     "name": "stdout",
     "output_type": "stream",
     "text": [
      "Train Loss: 0.7273 | Val Loss: 0.6067\n",
      "Accuracy: 0.8064\n",
      "F1: 0.7599\n"
     ]
    },
    {
     "name": "stderr",
     "output_type": "stream",
     "text": [
      "Epoch 72/200: 100%|██████████████████████████████████████████████████████████| 1/1 [00:00<00:00,  2.50it/s, loss=0.727]\n"
     ]
    },
    {
     "name": "stdout",
     "output_type": "stream",
     "text": [
      "Train Loss: 0.7266 | Val Loss: 0.6054\n",
      "Accuracy: 0.8039\n",
      "F1: 0.7561\n"
     ]
    },
    {
     "name": "stderr",
     "output_type": "stream",
     "text": [
      "Epoch 73/200: 100%|███████████████████████████████████████████████████████████| 1/1 [00:00<00:00,  2.51it/s, loss=0.73]\n"
     ]
    },
    {
     "name": "stdout",
     "output_type": "stream",
     "text": [
      "Train Loss: 0.7296 | Val Loss: 0.6058\n",
      "Accuracy: 0.7892\n",
      "F1: 0.7440\n"
     ]
    },
    {
     "name": "stderr",
     "output_type": "stream",
     "text": [
      "Epoch 74/200: 100%|██████████████████████████████████████████████████████████| 1/1 [00:00<00:00,  2.48it/s, loss=0.728]\n"
     ]
    },
    {
     "name": "stdout",
     "output_type": "stream",
     "text": [
      "Train Loss: 0.7276 | Val Loss: 0.6049\n",
      "Accuracy: 0.7868\n",
      "F1: 0.7418\n"
     ]
    },
    {
     "name": "stderr",
     "output_type": "stream",
     "text": [
      "Epoch 75/200: 100%|██████████████████████████████████████████████████████████| 1/1 [00:00<00:00,  2.48it/s, loss=0.725]\n"
     ]
    },
    {
     "name": "stdout",
     "output_type": "stream",
     "text": [
      "Train Loss: 0.7247 | Val Loss: 0.6020\n",
      "Accuracy: 0.8039\n",
      "F1: 0.7561\n"
     ]
    },
    {
     "name": "stderr",
     "output_type": "stream",
     "text": [
      "Epoch 76/200: 100%|██████████████████████████████████████████████████████████| 1/1 [00:00<00:00,  2.48it/s, loss=0.725]\n"
     ]
    },
    {
     "name": "stdout",
     "output_type": "stream",
     "text": [
      "Train Loss: 0.7245 | Val Loss: 0.6006\n",
      "Accuracy: 0.8015\n",
      "F1: 0.7523\n"
     ]
    },
    {
     "name": "stderr",
     "output_type": "stream",
     "text": [
      "Epoch 77/200: 100%|██████████████████████████████████████████████████████████| 1/1 [00:00<00:00,  2.52it/s, loss=0.727]\n"
     ]
    },
    {
     "name": "stdout",
     "output_type": "stream",
     "text": [
      "Train Loss: 0.7270 | Val Loss: 0.6017\n",
      "Accuracy: 0.7941\n",
      "F1: 0.7500\n"
     ]
    },
    {
     "name": "stderr",
     "output_type": "stream",
     "text": [
      "Epoch 78/200:   0%|                                                                              | 0/1 [00:00<?, ?it/s]\n"
     ]
    },
    {
     "ename": "KeyboardInterrupt",
     "evalue": "",
     "output_type": "error",
     "traceback": [
      "\u001b[1;31m---------------------------------------------------------------------------\u001b[0m",
      "\u001b[1;31mKeyboardInterrupt\u001b[0m                         Traceback (most recent call last)",
      "Cell \u001b[1;32mIn[104], line 35\u001b[0m\n\u001b[0;32m     32\u001b[0m val_metrics_all \u001b[38;5;241m=\u001b[39m []\n\u001b[0;32m     34\u001b[0m \u001b[38;5;28;01mfor\u001b[39;00m epoch \u001b[38;5;129;01min\u001b[39;00m \u001b[38;5;28mrange\u001b[39m(\u001b[38;5;241m1\u001b[39m, n_epochs \u001b[38;5;241m+\u001b[39m \u001b[38;5;241m1\u001b[39m):\n\u001b[1;32m---> 35\u001b[0m     train_loss \u001b[38;5;241m=\u001b[39m \u001b[43mtrain\u001b[49m\u001b[43m(\u001b[49m\u001b[43mepoch\u001b[49m\u001b[43m,\u001b[49m\u001b[43m \u001b[49m\u001b[43mn_epochs\u001b[49m\u001b[43m,\u001b[49m\u001b[43m \u001b[49m\u001b[43mtrain_loader\u001b[49m\u001b[43m,\u001b[49m\u001b[43m \u001b[49m\u001b[43mmodel\u001b[49m\u001b[43m,\u001b[49m\u001b[43m \u001b[49m\u001b[43mloss_fn\u001b[49m\u001b[43m,\u001b[49m\u001b[43m \u001b[49m\u001b[43moptimizer\u001b[49m\u001b[43m,\u001b[49m\u001b[43m \u001b[49m\u001b[43mdevice\u001b[49m\u001b[43m)\u001b[49m\n\u001b[0;32m     36\u001b[0m     val_loss, val_metrics, val_conf_mat \u001b[38;5;241m=\u001b[39m test(val_loader, model, loss_fn, device)\n\u001b[0;32m     38\u001b[0m     train_losses\u001b[38;5;241m.\u001b[39mappend(train_loss)\n",
      "Cell \u001b[1;32mIn[101], line 17\u001b[0m, in \u001b[0;36mtrain\u001b[1;34m(epoch, n_epochs, loader, model, loss_fn, optimizer, device)\u001b[0m\n\u001b[0;32m     13\u001b[0m data \u001b[38;5;241m=\u001b[39m data\u001b[38;5;241m.\u001b[39mto(device)\n\u001b[0;32m     15\u001b[0m optimizer\u001b[38;5;241m.\u001b[39mzero_grad()\n\u001b[1;32m---> 17\u001b[0m outputs \u001b[38;5;241m=\u001b[39m \u001b[43mmodel\u001b[49m\u001b[43m(\u001b[49m\u001b[43mx\u001b[49m\u001b[38;5;241;43m=\u001b[39;49m\u001b[43mdata\u001b[49m\u001b[38;5;241;43m.\u001b[39;49m\u001b[43mx\u001b[49m\u001b[43m,\u001b[49m\u001b[43m \u001b[49m\u001b[43medge_index\u001b[49m\u001b[38;5;241;43m=\u001b[39;49m\u001b[43mdata\u001b[49m\u001b[38;5;241;43m.\u001b[39;49m\u001b[43medge_index\u001b[49m\u001b[43m,\u001b[49m\u001b[43m \u001b[49m\u001b[43mbatch\u001b[49m\u001b[38;5;241;43m=\u001b[39;49m\u001b[43mdata\u001b[49m\u001b[38;5;241;43m.\u001b[39;49m\u001b[43mbatch\u001b[49m\u001b[43m)\u001b[49m\u001b[38;5;241m.\u001b[39msqueeze(\u001b[38;5;241m-\u001b[39m\u001b[38;5;241m1\u001b[39m)\n\u001b[0;32m     19\u001b[0m epsilon \u001b[38;5;241m=\u001b[39m \u001b[38;5;241m0.2\u001b[39m\n\u001b[0;32m     20\u001b[0m smoothed_labels \u001b[38;5;241m=\u001b[39m data\u001b[38;5;241m.\u001b[39my\u001b[38;5;241m.\u001b[39mclone()\u001b[38;5;241m.\u001b[39mfloat()\n",
      "File \u001b[1;32m~\\AppData\\Local\\Programs\\Python\\Python310\\lib\\site-packages\\torch\\nn\\modules\\module.py:1501\u001b[0m, in \u001b[0;36mModule._call_impl\u001b[1;34m(self, *args, **kwargs)\u001b[0m\n\u001b[0;32m   1496\u001b[0m \u001b[38;5;66;03m# If we don't have any hooks, we want to skip the rest of the logic in\u001b[39;00m\n\u001b[0;32m   1497\u001b[0m \u001b[38;5;66;03m# this function, and just call forward.\u001b[39;00m\n\u001b[0;32m   1498\u001b[0m \u001b[38;5;28;01mif\u001b[39;00m \u001b[38;5;129;01mnot\u001b[39;00m (\u001b[38;5;28mself\u001b[39m\u001b[38;5;241m.\u001b[39m_backward_hooks \u001b[38;5;129;01mor\u001b[39;00m \u001b[38;5;28mself\u001b[39m\u001b[38;5;241m.\u001b[39m_backward_pre_hooks \u001b[38;5;129;01mor\u001b[39;00m \u001b[38;5;28mself\u001b[39m\u001b[38;5;241m.\u001b[39m_forward_hooks \u001b[38;5;129;01mor\u001b[39;00m \u001b[38;5;28mself\u001b[39m\u001b[38;5;241m.\u001b[39m_forward_pre_hooks\n\u001b[0;32m   1499\u001b[0m         \u001b[38;5;129;01mor\u001b[39;00m _global_backward_pre_hooks \u001b[38;5;129;01mor\u001b[39;00m _global_backward_hooks\n\u001b[0;32m   1500\u001b[0m         \u001b[38;5;129;01mor\u001b[39;00m _global_forward_hooks \u001b[38;5;129;01mor\u001b[39;00m _global_forward_pre_hooks):\n\u001b[1;32m-> 1501\u001b[0m     \u001b[38;5;28;01mreturn\u001b[39;00m forward_call(\u001b[38;5;241m*\u001b[39margs, \u001b[38;5;241m*\u001b[39m\u001b[38;5;241m*\u001b[39mkwargs)\n\u001b[0;32m   1502\u001b[0m \u001b[38;5;66;03m# Do not call functions when jit is used\u001b[39;00m\n\u001b[0;32m   1503\u001b[0m full_backward_hooks, non_full_backward_hooks \u001b[38;5;241m=\u001b[39m [], []\n",
      "Cell \u001b[1;32mIn[43], line 103\u001b[0m, in \u001b[0;36mGCN.forward\u001b[1;34m(self, x, edge_index, batch)\u001b[0m\n\u001b[0;32m    100\u001b[0m \u001b[38;5;28;01mdef\u001b[39;00m \u001b[38;5;21mforward\u001b[39m(\u001b[38;5;28mself\u001b[39m, x, edge_index, batch):\n\u001b[0;32m    102\u001b[0m     \u001b[38;5;28;01mfor\u001b[39;00m i, conv_layer \u001b[38;5;129;01min\u001b[39;00m \u001b[38;5;28menumerate\u001b[39m(\u001b[38;5;28mself\u001b[39m\u001b[38;5;241m.\u001b[39mconv_layers):\n\u001b[1;32m--> 103\u001b[0m         x \u001b[38;5;241m=\u001b[39m \u001b[43mconv_layer\u001b[49m\u001b[43m(\u001b[49m\u001b[43mx\u001b[49m\u001b[43m,\u001b[49m\u001b[43m \u001b[49m\u001b[43medge_index\u001b[49m\u001b[43m)\u001b[49m\n\u001b[0;32m    104\u001b[0m         \u001b[38;5;28;01mif\u001b[39;00m \u001b[38;5;28mself\u001b[39m\u001b[38;5;241m.\u001b[39mgraph_norm:\n\u001b[0;32m    105\u001b[0m             x \u001b[38;5;241m=\u001b[39m \u001b[38;5;28mself\u001b[39m\u001b[38;5;241m.\u001b[39mgn_layers[i](x, batch)\n",
      "File \u001b[1;32m~\\AppData\\Local\\Programs\\Python\\Python310\\lib\\site-packages\\torch\\nn\\modules\\module.py:1501\u001b[0m, in \u001b[0;36mModule._call_impl\u001b[1;34m(self, *args, **kwargs)\u001b[0m\n\u001b[0;32m   1496\u001b[0m \u001b[38;5;66;03m# If we don't have any hooks, we want to skip the rest of the logic in\u001b[39;00m\n\u001b[0;32m   1497\u001b[0m \u001b[38;5;66;03m# this function, and just call forward.\u001b[39;00m\n\u001b[0;32m   1498\u001b[0m \u001b[38;5;28;01mif\u001b[39;00m \u001b[38;5;129;01mnot\u001b[39;00m (\u001b[38;5;28mself\u001b[39m\u001b[38;5;241m.\u001b[39m_backward_hooks \u001b[38;5;129;01mor\u001b[39;00m \u001b[38;5;28mself\u001b[39m\u001b[38;5;241m.\u001b[39m_backward_pre_hooks \u001b[38;5;129;01mor\u001b[39;00m \u001b[38;5;28mself\u001b[39m\u001b[38;5;241m.\u001b[39m_forward_hooks \u001b[38;5;129;01mor\u001b[39;00m \u001b[38;5;28mself\u001b[39m\u001b[38;5;241m.\u001b[39m_forward_pre_hooks\n\u001b[0;32m   1499\u001b[0m         \u001b[38;5;129;01mor\u001b[39;00m _global_backward_pre_hooks \u001b[38;5;129;01mor\u001b[39;00m _global_backward_hooks\n\u001b[0;32m   1500\u001b[0m         \u001b[38;5;129;01mor\u001b[39;00m _global_forward_hooks \u001b[38;5;129;01mor\u001b[39;00m _global_forward_pre_hooks):\n\u001b[1;32m-> 1501\u001b[0m     \u001b[38;5;28;01mreturn\u001b[39;00m forward_call(\u001b[38;5;241m*\u001b[39margs, \u001b[38;5;241m*\u001b[39m\u001b[38;5;241m*\u001b[39mkwargs)\n\u001b[0;32m   1502\u001b[0m \u001b[38;5;66;03m# Do not call functions when jit is used\u001b[39;00m\n\u001b[0;32m   1503\u001b[0m full_backward_hooks, non_full_backward_hooks \u001b[38;5;241m=\u001b[39m [], []\n",
      "File \u001b[1;32m~\\AppData\\Local\\Programs\\Python\\Python310\\lib\\site-packages\\torch_geometric\\nn\\conv\\gcn_conv.py:222\u001b[0m, in \u001b[0;36mGCNConv.forward\u001b[1;34m(self, x, edge_index, edge_weight)\u001b[0m\n\u001b[0;32m    220\u001b[0m cache \u001b[38;5;241m=\u001b[39m \u001b[38;5;28mself\u001b[39m\u001b[38;5;241m.\u001b[39m_cached_edge_index\n\u001b[0;32m    221\u001b[0m \u001b[38;5;28;01mif\u001b[39;00m cache \u001b[38;5;129;01mis\u001b[39;00m \u001b[38;5;28;01mNone\u001b[39;00m:\n\u001b[1;32m--> 222\u001b[0m     edge_index, edge_weight \u001b[38;5;241m=\u001b[39m \u001b[43mgcn_norm\u001b[49m\u001b[43m(\u001b[49m\u001b[43m  \u001b[49m\u001b[38;5;66;43;03m# yapf: disable\u001b[39;49;00m\n\u001b[0;32m    223\u001b[0m \u001b[43m        \u001b[49m\u001b[43medge_index\u001b[49m\u001b[43m,\u001b[49m\u001b[43m \u001b[49m\u001b[43medge_weight\u001b[49m\u001b[43m,\u001b[49m\u001b[43m \u001b[49m\u001b[43mx\u001b[49m\u001b[38;5;241;43m.\u001b[39;49m\u001b[43msize\u001b[49m\u001b[43m(\u001b[49m\u001b[38;5;28;43mself\u001b[39;49m\u001b[38;5;241;43m.\u001b[39;49m\u001b[43mnode_dim\u001b[49m\u001b[43m)\u001b[49m\u001b[43m,\u001b[49m\n\u001b[0;32m    224\u001b[0m \u001b[43m        \u001b[49m\u001b[38;5;28;43mself\u001b[39;49m\u001b[38;5;241;43m.\u001b[39;49m\u001b[43mimproved\u001b[49m\u001b[43m,\u001b[49m\u001b[43m \u001b[49m\u001b[38;5;28;43mself\u001b[39;49m\u001b[38;5;241;43m.\u001b[39;49m\u001b[43madd_self_loops\u001b[49m\u001b[43m,\u001b[49m\u001b[43m \u001b[49m\u001b[38;5;28;43mself\u001b[39;49m\u001b[38;5;241;43m.\u001b[39;49m\u001b[43mflow\u001b[49m\u001b[43m,\u001b[49m\u001b[43m \u001b[49m\u001b[43mx\u001b[49m\u001b[38;5;241;43m.\u001b[39;49m\u001b[43mdtype\u001b[49m\u001b[43m)\u001b[49m\n\u001b[0;32m    225\u001b[0m     \u001b[38;5;28;01mif\u001b[39;00m \u001b[38;5;28mself\u001b[39m\u001b[38;5;241m.\u001b[39mcached:\n\u001b[0;32m    226\u001b[0m         \u001b[38;5;28mself\u001b[39m\u001b[38;5;241m.\u001b[39m_cached_edge_index \u001b[38;5;241m=\u001b[39m (edge_index, edge_weight)\n",
      "File \u001b[1;32m~\\AppData\\Local\\Programs\\Python\\Python310\\lib\\site-packages\\torch_geometric\\nn\\conv\\gcn_conv.py:91\u001b[0m, in \u001b[0;36mgcn_norm\u001b[1;34m(edge_index, edge_weight, num_nodes, improved, add_self_loops, flow, dtype)\u001b[0m\n\u001b[0;32m     88\u001b[0m num_nodes \u001b[38;5;241m=\u001b[39m maybe_num_nodes(edge_index, num_nodes)\n\u001b[0;32m     90\u001b[0m \u001b[38;5;28;01mif\u001b[39;00m add_self_loops:\n\u001b[1;32m---> 91\u001b[0m     edge_index, edge_weight \u001b[38;5;241m=\u001b[39m \u001b[43madd_remaining_self_loops\u001b[49m\u001b[43m(\u001b[49m\n\u001b[0;32m     92\u001b[0m \u001b[43m        \u001b[49m\u001b[43medge_index\u001b[49m\u001b[43m,\u001b[49m\u001b[43m \u001b[49m\u001b[43medge_weight\u001b[49m\u001b[43m,\u001b[49m\u001b[43m \u001b[49m\u001b[43mfill_value\u001b[49m\u001b[43m,\u001b[49m\u001b[43m \u001b[49m\u001b[43mnum_nodes\u001b[49m\u001b[43m)\u001b[49m\n\u001b[0;32m     94\u001b[0m \u001b[38;5;28;01mif\u001b[39;00m edge_weight \u001b[38;5;129;01mis\u001b[39;00m \u001b[38;5;28;01mNone\u001b[39;00m:\n\u001b[0;32m     95\u001b[0m     edge_weight \u001b[38;5;241m=\u001b[39m torch\u001b[38;5;241m.\u001b[39mones((edge_index\u001b[38;5;241m.\u001b[39msize(\u001b[38;5;241m1\u001b[39m), ), dtype\u001b[38;5;241m=\u001b[39mdtype,\n\u001b[0;32m     96\u001b[0m                              device\u001b[38;5;241m=\u001b[39medge_index\u001b[38;5;241m.\u001b[39mdevice)\n",
      "File \u001b[1;32m~\\AppData\\Local\\Programs\\Python\\Python310\\lib\\site-packages\\torch_geometric\\utils\\loop.py:370\u001b[0m, in \u001b[0;36madd_remaining_self_loops\u001b[1;34m(edge_index, edge_attr, fill_value, num_nodes)\u001b[0m\n\u001b[0;32m    366\u001b[0m     loop_attr[edge_index[\u001b[38;5;241m0\u001b[39m][inv_mask]] \u001b[38;5;241m=\u001b[39m edge_attr[inv_mask]\n\u001b[0;32m    368\u001b[0m     edge_attr \u001b[38;5;241m=\u001b[39m torch\u001b[38;5;241m.\u001b[39mcat([edge_attr[mask], loop_attr], dim\u001b[38;5;241m=\u001b[39m\u001b[38;5;241m0\u001b[39m)\n\u001b[1;32m--> 370\u001b[0m edge_index \u001b[38;5;241m=\u001b[39m \u001b[43mtorch\u001b[49m\u001b[38;5;241;43m.\u001b[39;49m\u001b[43mcat\u001b[49m\u001b[43m(\u001b[49m\u001b[43m[\u001b[49m\u001b[43medge_index\u001b[49m\u001b[43m[\u001b[49m\u001b[43m:\u001b[49m\u001b[43m,\u001b[49m\u001b[43m \u001b[49m\u001b[43mmask\u001b[49m\u001b[43m]\u001b[49m\u001b[43m,\u001b[49m\u001b[43m \u001b[49m\u001b[43mloop_index\u001b[49m\u001b[43m]\u001b[49m\u001b[43m,\u001b[49m\u001b[43m \u001b[49m\u001b[43mdim\u001b[49m\u001b[38;5;241;43m=\u001b[39;49m\u001b[38;5;241;43m1\u001b[39;49m\u001b[43m)\u001b[49m\n\u001b[0;32m    371\u001b[0m \u001b[38;5;28;01mreturn\u001b[39;00m edge_index, edge_attr\n",
      "\u001b[1;31mKeyboardInterrupt\u001b[0m: "
     ]
    }
   ],
   "source": [
    "from torch.optim import lr_scheduler\n",
    "import torch_geometric.nn.models\n",
    "\n",
    "\n",
    "# (in_channels: int,\n",
    "#  hidden_channels: int,\n",
    "#  num_layers: int,\n",
    "#  out_channels: Optional[int] = None,\n",
    "#  dropout: float = 0.0,\n",
    "#  act: Optional[Union[str, Callable]] = 'relu',\n",
    "#  act_first: bool = False,\n",
    "#  act_kwargs: Optional[Dict[str, Any]] = None,\n",
    "#  norm: Optional[Union[str, Callable]] = None,\n",
    "#  norm_kwargs: Optional[Dict[str, Any]] = None,\n",
    "#  jk: Optional[str] = None,\n",
    "#  **kwargs)\n",
    "\n",
    "pos_weight = torch.tensor(0.65/0.35).to(device)\n",
    "n_epochs = 200\n",
    "# model = torch_geometric.nn.models.GCN(in_channels=44, hidden_channels=64, num_layers=3,\n",
    "#                                       out_channels=1, dropout=0.0,\n",
    "#                                      act=nn.ReLU()\n",
    "#                                      ).to(device)\n",
    "model = GCN(input_dim=44, hidden_dims=[256, 512], dropout=0.3, graph_norm=False).to(device)\n",
    "optimizer = torch.optim.Adam(model.parameters(), lr=5e-4)\n",
    "loss_fn = torch.nn.BCEWithLogitsLoss(pos_weight=pos_weight)\n",
    "\n",
    "\n",
    "train_losses = []\n",
    "val_losses = []\n",
    "val_metrics_all = []\n",
    "\n",
    "for epoch in range(1, n_epochs + 1):\n",
    "    train_loss = train(epoch, n_epochs, train_loader, model, loss_fn, optimizer, device)\n",
    "    val_loss, val_metrics, val_conf_mat = test(val_loader, model, loss_fn, device)\n",
    "    \n",
    "    train_losses.append(train_loss)\n",
    "    print(f\"Train Loss: {train_loss:.4f} | Val Loss: {val_loss:.4f}\")\n",
    "    print(f\"Accuracy: {val_metrics['accuracy']:.4f}\")\n",
    "    print(f\"F1: {val_metrics['f1']:.4f}\")\n",
    "    \n",
    "    val_losses.append(val_loss)\n",
    "    val_metrics_all.append(val_metrics)\n",
    "    \n",
    "test_loss, test_metrics, test_conf_mat = test(test_loader, model, loss_fn, device)\n",
    "test_metrics"
   ]
  },
  {
   "cell_type": "code",
   "execution_count": 105,
   "metadata": {},
   "outputs": [
    {
     "name": "stdout",
     "output_type": "stream",
     "text": [
      "0.1 0.5329153605015674\n",
      "0.2 0.5714285714285715\n",
      "0.3 0.6423076923076922\n",
      "0.4 0.7043478260869566\n",
      "0.5 0.7345971563981043\n",
      "0.6 0.7624309392265194\n",
      "0.7 0.7344262295081967\n",
      "0.8 0.6220472440944882\n",
      "0.9 0.19148936170212766\n"
     ]
    }
   ],
   "source": [
    "for dth in [0.1, 0.2, 0.3, 0.4, 0.5, 0.6, 0.7, 0.8, 0.9]:\n",
    "    test_loss, test_metrics, test_conf_mat = test(test_loader, model, loss_fn, device, decision_threshold=dth)\n",
    "    print(dth, test_metrics['f1'])"
   ]
  },
  {
   "cell_type": "code",
   "execution_count": 20,
   "metadata": {
    "colab": {
     "base_uri": "https://localhost:8080/",
     "height": 790
    },
    "id": "0-ERZUo4TeZF",
    "outputId": "2f59d459-f2f3-485e-e007-ef91b207d45b"
   },
   "outputs": [
    {
     "name": "stdout",
     "output_type": "stream",
     "text": [
      "1.053036875217959    0.04603315100950353    1\n",
      "0.9524160714056383    0.04421746964548148    2\n"
     ]
    }
   ],
   "source": [
    "import torch\n",
    "\n",
    "# model = GAT(44,2,30,8)\n",
    "# model = GCN(input_dim=44, hidden_dims=[10, 10])\n",
    "\n",
    "optimizer = torch.optim.Adam(model.parameters(), lr=3e-4)\n",
    "loss_fn = torch.nn.BCEWithLogitsLoss()\n",
    "\n",
    "epochs = 2\n",
    "total_train_loss = []\n",
    "total_val_loss = []\n",
    "for epoch in range(1, epochs+1):\n",
    "    model.train()\n",
    "    loss1 = 0\n",
    "    loss2 = 0\n",
    "    for data in train_loader:\n",
    "        data = data.to(device)\n",
    "        x, edge_index, batch = data.x, data.edge_index, data.batch\n",
    "        pred = model(x, edge_index, batch)\n",
    "        optimizer.zero_grad()\n",
    "        train_loss = loss_fn(pred.float(),data.y.unsqueeze(dim=1).float())\n",
    "        train_loss.backward()\n",
    "        optimizer.step()\n",
    "        loss1 += train_loss.item() * 16\n",
    "    \n",
    "    \n",
    "    model.eval()\n",
    "\n",
    "    with torch.no_grad():\n",
    "\n",
    "        for data in val_loader:\n",
    "            data = data.to(device)\n",
    "            x, edge_index, batch = data.x, data.edge_index, data.batch\n",
    "            pred = model(x,edge_index,batch)\n",
    "            test_loss = loss_fn(pred.float(),data.y.unsqueeze(dim=1).float())\n",
    "\n",
    "            loss2 += test_loss.item()*16\n",
    "\n",
    "    print(loss1/(len(train_loader.dataset)), '  ', loss2/(len(val_loader.dataset)) ,'  ' ,  epoch)\n",
    "    total_train_loss.append(loss1/(len(train_loader.dataset)))\n",
    "    total_val_loss.append(loss2/(len(val_loader.dataset)))\n",
    "    #print(train_loss.item(), '  ', test_loss.item() ,'  ' ,  epoch)\n",
    "    \n",
    "    "
   ]
  },
  {
   "cell_type": "code",
   "execution_count": null,
   "metadata": {
    "colab": {
     "base_uri": "https://localhost:8080/",
     "height": 564
    },
    "id": "xGaP1ydHX04G",
    "outputId": "a17a6f29-a228-4fba-ca95-fe899574d7e7"
   },
   "outputs": [
    {
     "data": {
      "image/png": "[encoded data removed]",
      "text/plain": [
       "<Figure size 1000x600 with 1 Axes>"
      ]
     },
     "metadata": {},
     "output_type": "display_data"
    }
   ],
   "source": [
    "import matplotlib.pyplot as plt\n",
    "\n",
    "epochs = list(range(1, len(total_train_loss) + 1))\n",
    "\n",
    "# Plotting\n",
    "plt.figure(figsize=(10, 6))\n",
    "plt.plot(epochs, total_train_loss, label='Training Loss')\n",
    "plt.plot(epochs, total_val_loss, label='Validation Loss')\n",
    "plt.title('Training and Validation Loss per Epoch')\n",
    "plt.xlabel('Epoch')\n",
    "plt.ylabel('Loss')\n",
    "#plt.ylim(0.3,0.4)\n",
    "plt.legend()\n",
    "plt.grid(True)\n",
    "plt.show()"
   ]
  },
  {
   "cell_type": "code",
   "execution_count": null,
   "metadata": {
    "id": "fivdxTGoX6c4"
   },
   "outputs": [],
   "source": [
    "bio_preds = []\n",
    "for test in test_dataset:\n",
    "  pred = model(test.x,test.edge_index,test.batch)\n",
    "  bio_preds += pred"
   ]
  },
  {
   "cell_type": "code",
   "execution_count": null,
   "metadata": {
    "id": "AjTjzNpX61VQ"
   },
   "outputs": [],
   "source": [
    "predicts = []\n",
    "for bio in bio_preds:\n",
    "  if bio > 0.5:\n",
    "    predicts.append(1)\n",
    "  else:\n",
    "    predicts.append(0)"
   ]
  },
  {
   "cell_type": "code",
   "execution_count": null,
   "metadata": {
    "id": "kMRkICIymPu0"
   },
   "outputs": [],
   "source": [
    "true_values = []\n",
    "for t in test_dataset:\n",
    "  true_values.append(t.y)"
   ]
  },
  {
   "cell_type": "code",
   "execution_count": null,
   "metadata": {
    "colab": {
     "base_uri": "https://localhost:8080/"
    },
    "id": "FbLBrzdqE2d1",
    "outputId": "00d1430c-3065-4d6a-a53d-d8b9cf098754"
   },
   "outputs": [
    {
     "name": "stdout",
     "output_type": "stream",
     "text": [
      "Requirement already satisfied: scikit-learn in /usr/local/lib/python3.10/dist-packages (1.2.2)\n",
      "Requirement already satisfied: numpy>=1.17.3 in /usr/local/lib/python3.10/dist-packages (from scikit-learn) (1.23.5)\n",
      "Requirement already satisfied: scipy>=1.3.2 in /usr/local/lib/python3.10/dist-packages (from scikit-learn) (1.11.4)\n",
      "Requirement already satisfied: joblib>=1.1.1 in /usr/local/lib/python3.10/dist-packages (from scikit-learn) (1.3.2)\n",
      "Requirement already satisfied: threadpoolctl>=2.0.0 in /usr/local/lib/python3.10/dist-packages (from scikit-learn) (3.2.0)\n"
     ]
    }
   ],
   "source": [
    "!pip install scikit-learn"
   ]
  },
  {
   "cell_type": "code",
   "execution_count": null,
   "metadata": {
    "id": "4M7XY3dnFCkM"
   },
   "outputs": [],
   "source": [
    "from sklearn.metrics import confusion_matrix, f1_score, accuracy_score\n",
    "\n",
    "cf = confusion_matrix(true_values,predicts)\n",
    "f1 = f1_score(true_values,predicts)\n",
    "accuracy = accuracy_score(true_values,predicts)"
   ]
  },
  {
   "cell_type": "code",
   "execution_count": null,
   "metadata": {
    "colab": {
     "base_uri": "https://localhost:8080/"
    },
    "id": "Tlsecq11FJLP",
    "outputId": "c28404a5-ad75-4e34-b07c-f2abb7477987"
   },
   "outputs": [
    {
     "name": "stdout",
     "output_type": "stream",
     "text": [
      "0.8475991649269311\n",
      "[[288  21]\n",
      " [ 52 118]]\n"
     ]
    }
   ],
   "source": [
    "print(accuracy)\n",
    "print(cf)"
   ]
  }
 ],
 "metadata": {
  "colab": {
   "provenance": [],
   "toc_visible": true
  },
  "kernelspec": {
   "display_name": "Python 3 (ipykernel)",
   "language": "python",
   "name": "python3"
  },
  "language_info": {
   "codemirror_mode": {
    "name": "ipython",
    "version": 3
   },
   "file_extension": ".py",
   "mimetype": "text/x-python",
   "name": "python",
   "nbconvert_exporter": "python",
   "pygments_lexer": "ipython3",
   "version": "3.10.9"
  }
 },
 "nbformat": 4,
 "nbformat_minor": 1
}
